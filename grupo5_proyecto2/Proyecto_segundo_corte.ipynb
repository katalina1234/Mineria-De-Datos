{
  "nbformat": 4,
  "nbformat_minor": 0,
  "metadata": {
    "colab": {
      "provenance": [],
      "collapsed_sections": [
        "pFaA3mp9Z2YJ",
        "Qw8miWZPhB1s",
        "TRuRYQvfjCc7",
        "OZxsyrMJkU1Y",
        "1dfY64mRc9l_"
      ]
    },
    "kernelspec": {
      "name": "python3",
      "display_name": "Python 3"
    },
    "language_info": {
      "name": "python"
    }
  },
  "cells": [
    {
      "cell_type": "markdown",
      "source": [
        "## Breve explicación de la elección del dataset: características, número de atributos y  variables, área al que pertenecen los datos. \n",
        "\n",
        "Realizado por Kevin Steban Rodriguez y Katalina Morales Dueñas\n",
        "\n",
        "13 de Octubre del 2022\n",
        "\n",
        "La base de datos a utilizar será acerca de los pagos por defecto de los clientes en Taiwán de su tarjeta de crédito donde se busca ver su probabilidad de incumplimiento e identificar clientes creíbles y no creíbles, todo esto bajo el panorama de la crisis de creditos de Taiwan del 2005. “incumplimiento de los clientes de tarjetas de crédito” o su nombre en inglés: “default of credit card clients Data Set” cuenta con 24 atributos, 30,000 instancias y pertenece al área de negocios.\n",
        "\n",
        "Se encuentra un histórico de registros desde abril hasta septiembre del 2005. Y solamente se concluyó tomar el mes de septiembre, por ende, se puede decir que esta base de datos filtrada tiene 10 variables categóricas y 14 numéricas.\n",
        "\n",
        "La base cuenta con datos faltantes y malas digitaciones. Con el fin de un analisis mas llevadero, se usa el esquema de \"Datos disponibles\" removiendo estos mismos.\n",
        "\n",
        "### Variables cualitativas: \n",
        "\n",
        "- SEX: Género (1 = masculino; 2 = femenino).\n",
        "- EDUCATION: Educación (1 = posgrado; 2 = universidad; 3 = secundaria; 4 = otros).\n",
        "- MARRIAGE: Estado civil (1 = casado; 2 = soltero; 3 = otros).\n",
        "- PAY_0-PAY_6: Pago mensual de septiembre-abril de 2005. La escala de medición del estado de amortización es: -1 = pagar debidamente; 1 = retraso en el pago de un mes; 2 = retraso en el pago de dos meses; . . .; 8 = retraso en el pago de ocho meses; 9 = retraso en el pago de nueve meses o más.\n",
        "\n",
        "**Inconsistencias** \n",
        "\n",
        " -2 corresponde a que no hay crédito para pagar; y\n",
        "0 corresponde a un pago realizado a tiempo pero no el monto total para liquidar el saldo. (Otra forma de pensar en esto es que se cumple el pago mínimo).\n",
        "-2: Sin consumo; -1: Pagado en su totalidad; 0: El uso de crédito revolvente; 1 = retraso en el pago de un mes; 2 = retraso en el pago de dos meses; . . .; 8 = retraso en el pago de ocho meses; 9 = retraso en el pago de nueve meses o más. \n",
        "\n",
        "- DEFAULT PAYMENT NEXT MONTH: 1 hay un incumplimiento de pago para octubre de 2005. 0 quiere decir que no está incumpliendo.\n",
        "\n",
        "\n",
        "### Variables cuantitativas:\n",
        "\n",
        "- AGE: Edad (años).\n",
        "- LIMIT_BAL: Monto del crédito otorgado (Nuevo dólar taiwanés): incluye tanto el crédito de consumo individual como su crédito familiar (complementario).\n",
        "- BILL_AMT1-BILL_AMT6: Importe del estado de cuenta (Nuevo dólar taiwanés). Monto del estado de cuenta en septiembre-abril de 2005.\n",
        "\n",
        "**Inconsistencias**\n",
        "\n",
        "Por lo general, es posible que un cliente de tarjeta de crédito pague en exceso su factura y tenga temporalmente un saldo negativo. Por ejemplo, supongamos que mi factura de este mes es de 100 pero pago 250. Suponiendo que no tengo otras compras recientes, mi saldo será de -150.\n",
        "\n",
        "En cuanto a por qué un cliente podría hacer esto, tal vez su pago automático esté configurado para pagar la misma cantidad todos los meses, independientemente del saldo, tal vez se olvidó si pagó su factura un mes y accidentalmente pagó dos veces, o tal vez simplemente le gusta pagar algo compras futuras esperadas por adelantado. Es posible que este tipo de comportamiento de pago no siempre parezca racional, pero no es poco común.\n",
        "\n",
        "- PAY_AMT1-PAY_AMT6: Monto del pago anterior (Nuevo dólar taiwanés). Monto pagado en septiembre-abril de 2005\n",
        "\n",
        "\n",
        "## Escenario mineria de datos\n",
        "\n",
        "El fin de la base es el poder seleccionar individuos para saber si es viable entregarles entergarles una tarjeta de credito con un \"cupo\" alto. Para ello, se desea entrenar a la IA es un ambiente supervisado para obetenr los resultados mas optimos. Los creadores originales de la base recomendaban redes neuronales para la realización de este fin, pero una tarea de Clasificación sencilla tambien es viable dentro de este contexto."
      ],
      "metadata": {
        "id": "aCyEmD7PdCn5"
      }
    },
    {
      "cell_type": "markdown",
      "source": [
        "## Importar datos y librerias"
      ],
      "metadata": {
        "id": "pFaA3mp9Z2YJ"
      }
    },
    {
      "cell_type": "code",
      "execution_count": 1,
      "metadata": {
        "id": "vd8PMFpJYrXB"
      },
      "outputs": [],
      "source": [
        "import pandas as pd\n",
        "import matplotlib as plt\n",
        "import seaborn as sns\n",
        "import matplotlib.pyplot as plt\n",
        "import numpy as np"
      ]
    },
    {
      "cell_type": "code",
      "source": [
        "!pip install xlrd==1.1.0"
      ],
      "metadata": {
        "colab": {
          "base_uri": "https://localhost:8080/"
        },
        "id": "4uid_MXNag0T",
        "outputId": "8550e5a0-5e69-48f2-918d-4e2167f13ba3"
      },
      "execution_count": 2,
      "outputs": [
        {
          "output_type": "stream",
          "name": "stdout",
          "text": [
            "Looking in indexes: https://pypi.org/simple, https://us-python.pkg.dev/colab-wheels/public/simple/\n",
            "Requirement already satisfied: xlrd==1.1.0 in /usr/local/lib/python3.7/dist-packages (1.1.0)\n"
          ]
        }
      ]
    },
    {
      "cell_type": "code",
      "source": [
        "!pip install xlrd==1.2.0"
      ],
      "metadata": {
        "colab": {
          "base_uri": "https://localhost:8080/"
        },
        "id": "oqQ9d5m2Zw71",
        "outputId": "90a31a1c-2bb6-40f6-cbdf-adf759b805fa"
      },
      "execution_count": 3,
      "outputs": [
        {
          "output_type": "stream",
          "name": "stdout",
          "text": [
            "Looking in indexes: https://pypi.org/simple, https://us-python.pkg.dev/colab-wheels/public/simple/\n",
            "Collecting xlrd==1.2.0\n",
            "  Downloading xlrd-1.2.0-py2.py3-none-any.whl (103 kB)\n",
            "\u001b[K     |████████████████████████████████| 103 kB 5.2 MB/s \n",
            "\u001b[?25hInstalling collected packages: xlrd\n",
            "  Attempting uninstall: xlrd\n",
            "    Found existing installation: xlrd 1.1.0\n",
            "    Uninstalling xlrd-1.1.0:\n",
            "      Successfully uninstalled xlrd-1.1.0\n",
            "Successfully installed xlrd-1.2.0\n"
          ]
        }
      ]
    },
    {
      "cell_type": "code",
      "source": [
        "pip install --upgrade xlrd"
      ],
      "metadata": {
        "colab": {
          "base_uri": "https://localhost:8080/"
        },
        "id": "_lUPd-liawyS",
        "outputId": "80d6ba5d-59d7-441b-b52e-dc39911d8039"
      },
      "execution_count": 4,
      "outputs": [
        {
          "output_type": "stream",
          "name": "stdout",
          "text": [
            "Looking in indexes: https://pypi.org/simple, https://us-python.pkg.dev/colab-wheels/public/simple/\n",
            "Requirement already satisfied: xlrd in /usr/local/lib/python3.7/dist-packages (1.2.0)\n",
            "Collecting xlrd\n",
            "  Downloading xlrd-2.0.1-py2.py3-none-any.whl (96 kB)\n",
            "\u001b[K     |████████████████████████████████| 96 kB 3.1 MB/s \n",
            "\u001b[?25hInstalling collected packages: xlrd\n",
            "  Attempting uninstall: xlrd\n",
            "    Found existing installation: xlrd 1.2.0\n",
            "    Uninstalling xlrd-1.2.0:\n",
            "      Successfully uninstalled xlrd-1.2.0\n",
            "Successfully installed xlrd-2.0.1\n"
          ]
        }
      ]
    },
    {
      "cell_type": "code",
      "source": [
        "df = pd.read_excel(r\"/content/tarjeta_credito.xls\", \n",
        "                   dtype={\n",
        "                     'SEX': str, \n",
        "                     'PAY_0': str,\n",
        "                     'PAY_2': str,\n",
        "                     'PAY_3': str,\n",
        "                     'PAY_4': str,\n",
        "                     'PAY_5': str,\n",
        "                     'PAY_6': str,\n",
        "                     'default payment next month': str\n",
        "                 })"
      ],
      "metadata": {
        "id": "LPKc6_-jZt9i"
      },
      "execution_count": 5,
      "outputs": []
    },
    {
      "cell_type": "code",
      "source": [
        "df = df.drop(['ID'], axis = 1)"
      ],
      "metadata": {
        "id": "rFTSrvn7bD4Z"
      },
      "execution_count": 6,
      "outputs": []
    },
    {
      "cell_type": "code",
      "source": [
        "df=df.query('EDUCATION != [0,5,6] & MARRIAGE != [0] & BILL_AMT1 >= 0')"
      ],
      "metadata": {
        "id": "wLfSyeglbFwP"
      },
      "execution_count": 7,
      "outputs": []
    },
    {
      "cell_type": "code",
      "source": [
        "df"
      ],
      "metadata": {
        "colab": {
          "base_uri": "https://localhost:8080/",
          "height": 0
        },
        "id": "ay0YHMr8bGNO",
        "outputId": "01dda9b7-4576-4a7a-ec7c-699824523d4e"
      },
      "execution_count": 8,
      "outputs": [
        {
          "output_type": "execute_result",
          "data": {
            "text/plain": [
              "       LIMIT_BAL SEX  EDUCATION  MARRIAGE  AGE PAY_0 PAY_2 PAY_3 PAY_4 PAY_5  \\\n",
              "0          20000   2          2         1   24     2     2    -1    -1    -2   \n",
              "1         120000   2          2         2   26    -1     2     0     0     0   \n",
              "2          90000   2          2         2   34     0     0     0     0     0   \n",
              "3          50000   2          2         1   37     0     0     0     0     0   \n",
              "4          50000   1          2         1   57    -1     0    -1     0     0   \n",
              "...          ...  ..        ...       ...  ...   ...   ...   ...   ...   ...   \n",
              "29994      80000   1          2         2   34     2     2     2     2     2   \n",
              "29995     220000   1          3         1   39     0     0     0     0     0   \n",
              "29996     150000   1          3         2   43    -1    -1    -1    -1     0   \n",
              "29997      30000   1          2         2   37     4     3     2    -1     0   \n",
              "29999      50000   1          2         1   46     0     0     0     0     0   \n",
              "\n",
              "       ... BILL_AMT4  BILL_AMT5  BILL_AMT6  PAY_AMT1  PAY_AMT2  PAY_AMT3  \\\n",
              "0      ...         0          0          0         0       689         0   \n",
              "1      ...      3272       3455       3261         0      1000      1000   \n",
              "2      ...     14331      14948      15549      1518      1500      1000   \n",
              "3      ...     28314      28959      29547      2000      2019      1200   \n",
              "4      ...     20940      19146      19131      2000     36681     10000   \n",
              "...    ...       ...        ...        ...       ...       ...       ...   \n",
              "29994  ...     77519      82607      81158      7000      3500         0   \n",
              "29995  ...     88004      31237      15980      8500     20000      5003   \n",
              "29996  ...      8979       5190          0      1837      3526      8998   \n",
              "29997  ...     20878      20582      19357         0         0     22000   \n",
              "29999  ...     36535      32428      15313      2078      1800      1430   \n",
              "\n",
              "       PAY_AMT4  PAY_AMT5  PAY_AMT6  default payment next month  \n",
              "0             0         0         0                           1  \n",
              "1          1000         0      2000                           1  \n",
              "2          1000      1000      5000                           0  \n",
              "3          1100      1069      1000                           0  \n",
              "4          9000       689       679                           0  \n",
              "...         ...       ...       ...                         ...  \n",
              "29994      7000         0      4000                           1  \n",
              "29995      3047      5000      1000                           0  \n",
              "29996       129         0         0                           0  \n",
              "29997      4200      2000      3100                           1  \n",
              "29999      1000      1000      1000                           1  \n",
              "\n",
              "[29013 rows x 24 columns]"
            ],
            "text/html": [
              "\n",
              "  <div id=\"df-b596364e-5039-4005-89cd-c2373343f9c9\">\n",
              "    <div class=\"colab-df-container\">\n",
              "      <div>\n",
              "<style scoped>\n",
              "    .dataframe tbody tr th:only-of-type {\n",
              "        vertical-align: middle;\n",
              "    }\n",
              "\n",
              "    .dataframe tbody tr th {\n",
              "        vertical-align: top;\n",
              "    }\n",
              "\n",
              "    .dataframe thead th {\n",
              "        text-align: right;\n",
              "    }\n",
              "</style>\n",
              "<table border=\"1\" class=\"dataframe\">\n",
              "  <thead>\n",
              "    <tr style=\"text-align: right;\">\n",
              "      <th></th>\n",
              "      <th>LIMIT_BAL</th>\n",
              "      <th>SEX</th>\n",
              "      <th>EDUCATION</th>\n",
              "      <th>MARRIAGE</th>\n",
              "      <th>AGE</th>\n",
              "      <th>PAY_0</th>\n",
              "      <th>PAY_2</th>\n",
              "      <th>PAY_3</th>\n",
              "      <th>PAY_4</th>\n",
              "      <th>PAY_5</th>\n",
              "      <th>...</th>\n",
              "      <th>BILL_AMT4</th>\n",
              "      <th>BILL_AMT5</th>\n",
              "      <th>BILL_AMT6</th>\n",
              "      <th>PAY_AMT1</th>\n",
              "      <th>PAY_AMT2</th>\n",
              "      <th>PAY_AMT3</th>\n",
              "      <th>PAY_AMT4</th>\n",
              "      <th>PAY_AMT5</th>\n",
              "      <th>PAY_AMT6</th>\n",
              "      <th>default payment next month</th>\n",
              "    </tr>\n",
              "  </thead>\n",
              "  <tbody>\n",
              "    <tr>\n",
              "      <th>0</th>\n",
              "      <td>20000</td>\n",
              "      <td>2</td>\n",
              "      <td>2</td>\n",
              "      <td>1</td>\n",
              "      <td>24</td>\n",
              "      <td>2</td>\n",
              "      <td>2</td>\n",
              "      <td>-1</td>\n",
              "      <td>-1</td>\n",
              "      <td>-2</td>\n",
              "      <td>...</td>\n",
              "      <td>0</td>\n",
              "      <td>0</td>\n",
              "      <td>0</td>\n",
              "      <td>0</td>\n",
              "      <td>689</td>\n",
              "      <td>0</td>\n",
              "      <td>0</td>\n",
              "      <td>0</td>\n",
              "      <td>0</td>\n",
              "      <td>1</td>\n",
              "    </tr>\n",
              "    <tr>\n",
              "      <th>1</th>\n",
              "      <td>120000</td>\n",
              "      <td>2</td>\n",
              "      <td>2</td>\n",
              "      <td>2</td>\n",
              "      <td>26</td>\n",
              "      <td>-1</td>\n",
              "      <td>2</td>\n",
              "      <td>0</td>\n",
              "      <td>0</td>\n",
              "      <td>0</td>\n",
              "      <td>...</td>\n",
              "      <td>3272</td>\n",
              "      <td>3455</td>\n",
              "      <td>3261</td>\n",
              "      <td>0</td>\n",
              "      <td>1000</td>\n",
              "      <td>1000</td>\n",
              "      <td>1000</td>\n",
              "      <td>0</td>\n",
              "      <td>2000</td>\n",
              "      <td>1</td>\n",
              "    </tr>\n",
              "    <tr>\n",
              "      <th>2</th>\n",
              "      <td>90000</td>\n",
              "      <td>2</td>\n",
              "      <td>2</td>\n",
              "      <td>2</td>\n",
              "      <td>34</td>\n",
              "      <td>0</td>\n",
              "      <td>0</td>\n",
              "      <td>0</td>\n",
              "      <td>0</td>\n",
              "      <td>0</td>\n",
              "      <td>...</td>\n",
              "      <td>14331</td>\n",
              "      <td>14948</td>\n",
              "      <td>15549</td>\n",
              "      <td>1518</td>\n",
              "      <td>1500</td>\n",
              "      <td>1000</td>\n",
              "      <td>1000</td>\n",
              "      <td>1000</td>\n",
              "      <td>5000</td>\n",
              "      <td>0</td>\n",
              "    </tr>\n",
              "    <tr>\n",
              "      <th>3</th>\n",
              "      <td>50000</td>\n",
              "      <td>2</td>\n",
              "      <td>2</td>\n",
              "      <td>1</td>\n",
              "      <td>37</td>\n",
              "      <td>0</td>\n",
              "      <td>0</td>\n",
              "      <td>0</td>\n",
              "      <td>0</td>\n",
              "      <td>0</td>\n",
              "      <td>...</td>\n",
              "      <td>28314</td>\n",
              "      <td>28959</td>\n",
              "      <td>29547</td>\n",
              "      <td>2000</td>\n",
              "      <td>2019</td>\n",
              "      <td>1200</td>\n",
              "      <td>1100</td>\n",
              "      <td>1069</td>\n",
              "      <td>1000</td>\n",
              "      <td>0</td>\n",
              "    </tr>\n",
              "    <tr>\n",
              "      <th>4</th>\n",
              "      <td>50000</td>\n",
              "      <td>1</td>\n",
              "      <td>2</td>\n",
              "      <td>1</td>\n",
              "      <td>57</td>\n",
              "      <td>-1</td>\n",
              "      <td>0</td>\n",
              "      <td>-1</td>\n",
              "      <td>0</td>\n",
              "      <td>0</td>\n",
              "      <td>...</td>\n",
              "      <td>20940</td>\n",
              "      <td>19146</td>\n",
              "      <td>19131</td>\n",
              "      <td>2000</td>\n",
              "      <td>36681</td>\n",
              "      <td>10000</td>\n",
              "      <td>9000</td>\n",
              "      <td>689</td>\n",
              "      <td>679</td>\n",
              "      <td>0</td>\n",
              "    </tr>\n",
              "    <tr>\n",
              "      <th>...</th>\n",
              "      <td>...</td>\n",
              "      <td>...</td>\n",
              "      <td>...</td>\n",
              "      <td>...</td>\n",
              "      <td>...</td>\n",
              "      <td>...</td>\n",
              "      <td>...</td>\n",
              "      <td>...</td>\n",
              "      <td>...</td>\n",
              "      <td>...</td>\n",
              "      <td>...</td>\n",
              "      <td>...</td>\n",
              "      <td>...</td>\n",
              "      <td>...</td>\n",
              "      <td>...</td>\n",
              "      <td>...</td>\n",
              "      <td>...</td>\n",
              "      <td>...</td>\n",
              "      <td>...</td>\n",
              "      <td>...</td>\n",
              "      <td>...</td>\n",
              "    </tr>\n",
              "    <tr>\n",
              "      <th>29994</th>\n",
              "      <td>80000</td>\n",
              "      <td>1</td>\n",
              "      <td>2</td>\n",
              "      <td>2</td>\n",
              "      <td>34</td>\n",
              "      <td>2</td>\n",
              "      <td>2</td>\n",
              "      <td>2</td>\n",
              "      <td>2</td>\n",
              "      <td>2</td>\n",
              "      <td>...</td>\n",
              "      <td>77519</td>\n",
              "      <td>82607</td>\n",
              "      <td>81158</td>\n",
              "      <td>7000</td>\n",
              "      <td>3500</td>\n",
              "      <td>0</td>\n",
              "      <td>7000</td>\n",
              "      <td>0</td>\n",
              "      <td>4000</td>\n",
              "      <td>1</td>\n",
              "    </tr>\n",
              "    <tr>\n",
              "      <th>29995</th>\n",
              "      <td>220000</td>\n",
              "      <td>1</td>\n",
              "      <td>3</td>\n",
              "      <td>1</td>\n",
              "      <td>39</td>\n",
              "      <td>0</td>\n",
              "      <td>0</td>\n",
              "      <td>0</td>\n",
              "      <td>0</td>\n",
              "      <td>0</td>\n",
              "      <td>...</td>\n",
              "      <td>88004</td>\n",
              "      <td>31237</td>\n",
              "      <td>15980</td>\n",
              "      <td>8500</td>\n",
              "      <td>20000</td>\n",
              "      <td>5003</td>\n",
              "      <td>3047</td>\n",
              "      <td>5000</td>\n",
              "      <td>1000</td>\n",
              "      <td>0</td>\n",
              "    </tr>\n",
              "    <tr>\n",
              "      <th>29996</th>\n",
              "      <td>150000</td>\n",
              "      <td>1</td>\n",
              "      <td>3</td>\n",
              "      <td>2</td>\n",
              "      <td>43</td>\n",
              "      <td>-1</td>\n",
              "      <td>-1</td>\n",
              "      <td>-1</td>\n",
              "      <td>-1</td>\n",
              "      <td>0</td>\n",
              "      <td>...</td>\n",
              "      <td>8979</td>\n",
              "      <td>5190</td>\n",
              "      <td>0</td>\n",
              "      <td>1837</td>\n",
              "      <td>3526</td>\n",
              "      <td>8998</td>\n",
              "      <td>129</td>\n",
              "      <td>0</td>\n",
              "      <td>0</td>\n",
              "      <td>0</td>\n",
              "    </tr>\n",
              "    <tr>\n",
              "      <th>29997</th>\n",
              "      <td>30000</td>\n",
              "      <td>1</td>\n",
              "      <td>2</td>\n",
              "      <td>2</td>\n",
              "      <td>37</td>\n",
              "      <td>4</td>\n",
              "      <td>3</td>\n",
              "      <td>2</td>\n",
              "      <td>-1</td>\n",
              "      <td>0</td>\n",
              "      <td>...</td>\n",
              "      <td>20878</td>\n",
              "      <td>20582</td>\n",
              "      <td>19357</td>\n",
              "      <td>0</td>\n",
              "      <td>0</td>\n",
              "      <td>22000</td>\n",
              "      <td>4200</td>\n",
              "      <td>2000</td>\n",
              "      <td>3100</td>\n",
              "      <td>1</td>\n",
              "    </tr>\n",
              "    <tr>\n",
              "      <th>29999</th>\n",
              "      <td>50000</td>\n",
              "      <td>1</td>\n",
              "      <td>2</td>\n",
              "      <td>1</td>\n",
              "      <td>46</td>\n",
              "      <td>0</td>\n",
              "      <td>0</td>\n",
              "      <td>0</td>\n",
              "      <td>0</td>\n",
              "      <td>0</td>\n",
              "      <td>...</td>\n",
              "      <td>36535</td>\n",
              "      <td>32428</td>\n",
              "      <td>15313</td>\n",
              "      <td>2078</td>\n",
              "      <td>1800</td>\n",
              "      <td>1430</td>\n",
              "      <td>1000</td>\n",
              "      <td>1000</td>\n",
              "      <td>1000</td>\n",
              "      <td>1</td>\n",
              "    </tr>\n",
              "  </tbody>\n",
              "</table>\n",
              "<p>29013 rows × 24 columns</p>\n",
              "</div>\n",
              "      <button class=\"colab-df-convert\" onclick=\"convertToInteractive('df-b596364e-5039-4005-89cd-c2373343f9c9')\"\n",
              "              title=\"Convert this dataframe to an interactive table.\"\n",
              "              style=\"display:none;\">\n",
              "        \n",
              "  <svg xmlns=\"http://www.w3.org/2000/svg\" height=\"24px\"viewBox=\"0 0 24 24\"\n",
              "       width=\"24px\">\n",
              "    <path d=\"M0 0h24v24H0V0z\" fill=\"none\"/>\n",
              "    <path d=\"M18.56 5.44l.94 2.06.94-2.06 2.06-.94-2.06-.94-.94-2.06-.94 2.06-2.06.94zm-11 1L8.5 8.5l.94-2.06 2.06-.94-2.06-.94L8.5 2.5l-.94 2.06-2.06.94zm10 10l.94 2.06.94-2.06 2.06-.94-2.06-.94-.94-2.06-.94 2.06-2.06.94z\"/><path d=\"M17.41 7.96l-1.37-1.37c-.4-.4-.92-.59-1.43-.59-.52 0-1.04.2-1.43.59L10.3 9.45l-7.72 7.72c-.78.78-.78 2.05 0 2.83L4 21.41c.39.39.9.59 1.41.59.51 0 1.02-.2 1.41-.59l7.78-7.78 2.81-2.81c.8-.78.8-2.07 0-2.86zM5.41 20L4 18.59l7.72-7.72 1.47 1.35L5.41 20z\"/>\n",
              "  </svg>\n",
              "      </button>\n",
              "      \n",
              "  <style>\n",
              "    .colab-df-container {\n",
              "      display:flex;\n",
              "      flex-wrap:wrap;\n",
              "      gap: 12px;\n",
              "    }\n",
              "\n",
              "    .colab-df-convert {\n",
              "      background-color: #E8F0FE;\n",
              "      border: none;\n",
              "      border-radius: 50%;\n",
              "      cursor: pointer;\n",
              "      display: none;\n",
              "      fill: #1967D2;\n",
              "      height: 32px;\n",
              "      padding: 0 0 0 0;\n",
              "      width: 32px;\n",
              "    }\n",
              "\n",
              "    .colab-df-convert:hover {\n",
              "      background-color: #E2EBFA;\n",
              "      box-shadow: 0px 1px 2px rgba(60, 64, 67, 0.3), 0px 1px 3px 1px rgba(60, 64, 67, 0.15);\n",
              "      fill: #174EA6;\n",
              "    }\n",
              "\n",
              "    [theme=dark] .colab-df-convert {\n",
              "      background-color: #3B4455;\n",
              "      fill: #D2E3FC;\n",
              "    }\n",
              "\n",
              "    [theme=dark] .colab-df-convert:hover {\n",
              "      background-color: #434B5C;\n",
              "      box-shadow: 0px 1px 3px 1px rgba(0, 0, 0, 0.15);\n",
              "      filter: drop-shadow(0px 1px 2px rgba(0, 0, 0, 0.3));\n",
              "      fill: #FFFFFF;\n",
              "    }\n",
              "  </style>\n",
              "\n",
              "      <script>\n",
              "        const buttonEl =\n",
              "          document.querySelector('#df-b596364e-5039-4005-89cd-c2373343f9c9 button.colab-df-convert');\n",
              "        buttonEl.style.display =\n",
              "          google.colab.kernel.accessAllowed ? 'block' : 'none';\n",
              "\n",
              "        async function convertToInteractive(key) {\n",
              "          const element = document.querySelector('#df-b596364e-5039-4005-89cd-c2373343f9c9');\n",
              "          const dataTable =\n",
              "            await google.colab.kernel.invokeFunction('convertToInteractive',\n",
              "                                                     [key], {});\n",
              "          if (!dataTable) return;\n",
              "\n",
              "          const docLinkHtml = 'Like what you see? Visit the ' +\n",
              "            '<a target=\"_blank\" href=https://colab.research.google.com/notebooks/data_table.ipynb>data table notebook</a>'\n",
              "            + ' to learn more about interactive tables.';\n",
              "          element.innerHTML = '';\n",
              "          dataTable['output_type'] = 'display_data';\n",
              "          await google.colab.output.renderOutput(dataTable, element);\n",
              "          const docLink = document.createElement('div');\n",
              "          docLink.innerHTML = docLinkHtml;\n",
              "          element.appendChild(docLink);\n",
              "        }\n",
              "      </script>\n",
              "    </div>\n",
              "  </div>\n",
              "  "
            ]
          },
          "metadata": {},
          "execution_count": 8
        }
      ]
    },
    {
      "cell_type": "markdown",
      "source": [
        "Dimensión de los datos"
      ],
      "metadata": {
        "id": "LCyZ34xYcPJZ"
      }
    },
    {
      "cell_type": "code",
      "source": [
        "print('Incumplimientos de pago en tarjetas de crédito')\n",
        "print('Filas: ', df.shape[0])\n",
        "print('Columnas: ', df.shape[1])"
      ],
      "metadata": {
        "colab": {
          "base_uri": "https://localhost:8080/"
        },
        "id": "-NTXwABycQhc",
        "outputId": "87e25498-bf37-4b16-8f91-ebf68a8bd67b"
      },
      "execution_count": 9,
      "outputs": [
        {
          "output_type": "stream",
          "name": "stdout",
          "text": [
            "Incumplimientos de pago en tarjetas de crédito\n",
            "Filas:  29013\n",
            "Columnas:  24\n"
          ]
        }
      ]
    },
    {
      "cell_type": "markdown",
      "source": [
        "Atributo y tipo de atributo"
      ],
      "metadata": {
        "id": "xy48454wciTd"
      }
    },
    {
      "cell_type": "code",
      "source": [
        "df['EDUCATION'] = df['EDUCATION'].astype('object')\n",
        "df['MARRIAGE'] = df['MARRIAGE'].astype('object')"
      ],
      "metadata": {
        "id": "Vz5j2p86fi1Q"
      },
      "execution_count": 10,
      "outputs": []
    },
    {
      "cell_type": "code",
      "source": [
        "df.dtypes"
      ],
      "metadata": {
        "colab": {
          "base_uri": "https://localhost:8080/"
        },
        "id": "fWWCqlAxcL5A",
        "outputId": "e8d8b866-af7b-4ffd-b301-6403ede06b5f"
      },
      "execution_count": 11,
      "outputs": [
        {
          "output_type": "execute_result",
          "data": {
            "text/plain": [
              "LIMIT_BAL                      int64\n",
              "SEX                           object\n",
              "EDUCATION                     object\n",
              "MARRIAGE                      object\n",
              "AGE                            int64\n",
              "PAY_0                         object\n",
              "PAY_2                         object\n",
              "PAY_3                         object\n",
              "PAY_4                         object\n",
              "PAY_5                         object\n",
              "PAY_6                         object\n",
              "BILL_AMT1                      int64\n",
              "BILL_AMT2                      int64\n",
              "BILL_AMT3                      int64\n",
              "BILL_AMT4                      int64\n",
              "BILL_AMT5                      int64\n",
              "BILL_AMT6                      int64\n",
              "PAY_AMT1                       int64\n",
              "PAY_AMT2                       int64\n",
              "PAY_AMT3                       int64\n",
              "PAY_AMT4                       int64\n",
              "PAY_AMT5                       int64\n",
              "PAY_AMT6                       int64\n",
              "default payment next month    object\n",
              "dtype: object"
            ]
          },
          "metadata": {},
          "execution_count": 11
        }
      ]
    },
    {
      "cell_type": "markdown",
      "source": [
        "## Análisis de datos faltantes"
      ],
      "metadata": {
        "id": "Qw8miWZPhB1s"
      }
    },
    {
      "cell_type": "code",
      "source": [
        "for col in df.columns:\n",
        "    num_missing = df[col].isnull().sum()\n",
        "    pct_missing = np.mean(df[col].isnull())\n",
        "    #print(col,\" - \",round(pct_missing*100, 2),\"% - \",num_missing)\n",
        "    print('{} - {}% - {}'.format(col,round(pct_missing*100, 2),num_missing))"
      ],
      "metadata": {
        "colab": {
          "base_uri": "https://localhost:8080/"
        },
        "id": "5Jd5MhC7fzsV",
        "outputId": "3530bb4a-750c-433c-8602-137aae317d9b"
      },
      "execution_count": 12,
      "outputs": [
        {
          "output_type": "stream",
          "name": "stdout",
          "text": [
            "LIMIT_BAL - 0.0% - 0\n",
            "SEX - 0.0% - 0\n",
            "EDUCATION - 0.0% - 0\n",
            "MARRIAGE - 0.0% - 0\n",
            "AGE - 0.0% - 0\n",
            "PAY_0 - 0.0% - 0\n",
            "PAY_2 - 0.0% - 0\n",
            "PAY_3 - 0.0% - 0\n",
            "PAY_4 - 0.0% - 0\n",
            "PAY_5 - 0.0% - 0\n",
            "PAY_6 - 0.0% - 0\n",
            "BILL_AMT1 - 0.0% - 0\n",
            "BILL_AMT2 - 0.0% - 0\n",
            "BILL_AMT3 - 0.0% - 0\n",
            "BILL_AMT4 - 0.0% - 0\n",
            "BILL_AMT5 - 0.0% - 0\n",
            "BILL_AMT6 - 0.0% - 0\n",
            "PAY_AMT1 - 0.0% - 0\n",
            "PAY_AMT2 - 0.0% - 0\n",
            "PAY_AMT3 - 0.0% - 0\n",
            "PAY_AMT4 - 0.0% - 0\n",
            "PAY_AMT5 - 0.0% - 0\n",
            "PAY_AMT6 - 0.0% - 0\n",
            "default payment next month - 0.0% - 0\n"
          ]
        }
      ]
    },
    {
      "cell_type": "markdown",
      "source": [
        "No hay presencia de datos faltantes en ninguna de las variables."
      ],
      "metadata": {
        "id": "VwhZZo-dg68K"
      }
    },
    {
      "cell_type": "markdown",
      "source": [
        "## Datos duplicados"
      ],
      "metadata": {
        "id": "TRuRYQvfjCc7"
      }
    },
    {
      "cell_type": "code",
      "source": [
        "df[df.duplicated()]"
      ],
      "metadata": {
        "colab": {
          "base_uri": "https://localhost:8080/",
          "height": 0
        },
        "id": "43WwzRj8jHbp",
        "outputId": "6073327f-9d6a-41b3-deff-fbca0955e6e6"
      },
      "execution_count": 13,
      "outputs": [
        {
          "output_type": "execute_result",
          "data": {
            "text/plain": [
              "       LIMIT_BAL SEX EDUCATION MARRIAGE  AGE PAY_0 PAY_2 PAY_3 PAY_4 PAY_5  \\\n",
              "1980      150000   2         1        1   38     1    -2    -2    -2    -2   \n",
              "4585      150000   2         1        1   31     1    -2    -2    -2    -2   \n",
              "6022      210000   2         1        2   39     1    -2    -2    -2    -2   \n",
              "6466      210000   2         2        1   49     1    -2    -2    -2    -2   \n",
              "7319      500000   1         1        1   43     1    -2    -2    -2    -2   \n",
              "8320      360000   1         2        1   41     1    -2    -2    -2    -2   \n",
              "10250      50000   1         2        2   26     1    -2    -2    -2    -2   \n",
              "13106     360000   2         1        1   49     1    -2    -2    -2    -2   \n",
              "14294      20000   1         2        2   24     2     2     4     4     4   \n",
              "15458     160000   1         2        2   28    -2    -2    -2    -2    -2   \n",
              "15617     200000   2         2        2   26    -2    -2    -2    -2    -2   \n",
              "15685     360000   1         1        2   29     1    -2    -2    -2    -2   \n",
              "17032      50000   2         1        2   23     1    -2    -2    -2    -2   \n",
              "19114      80000   2         2        1   31    -2    -2    -2    -2    -2   \n",
              "19487     180000   2         1        2   28     1    -2    -2    -2    -2   \n",
              "19604     110000   2         1        2   31     1    -2    -2    -2    -2   \n",
              "19897     100000   2         2        1   49     1    -2    -2    -2    -2   \n",
              "20875     230000   1         1        1   39    -1    -1    -1    -1    -1   \n",
              "21881     160000   2         3        2   26    -1    -1    -1    -1    -1   \n",
              "22162     360000   2         1        2   29     1    -2    -2    -2    -2   \n",
              "23877     200000   1         1        2   30    -2    -2    -2    -2    -2   \n",
              "24122     140000   1         1        2   29     1    -2    -2    -2    -2   \n",
              "25608     360000   2         1        1   41    -2    -2    -2    -2    -2   \n",
              "26249      90000   2         1        2   31     1    -2    -2    -2    -2   \n",
              "26805     300000   1         1        2   27    -2    -2    -2    -2    -2   \n",
              "27351     210000   1         2        1   39    -1    -1    -1    -1    -1   \n",
              "27765      80000   2         2        2   25    -2    -2    -2    -2    -2   \n",
              "27928     150000   2         1        2   28     1    -2    -2    -2    -2   \n",
              "27966     360000   2         1        2   27     1    -2    -2    -2    -2   \n",
              "28228     200000   2         1        1   34     1    -2    -2    -2    -2   \n",
              "28779     200000   2         1        1   36     1    -2    -2    -2    -2   \n",
              "28983      80000   2         3        1   42    -2    -2    -2    -2    -2   \n",
              "29265     180000   1         2        1   26    -1    -1    -1    -1    -1   \n",
              "29823     220000   1         1        1   42     1    -2    -2    -2    -2   \n",
              "29909     360000   1         1        2   32    -2    -2    -2    -2    -2   \n",
              "\n",
              "       ... BILL_AMT4  BILL_AMT5  BILL_AMT6  PAY_AMT1  PAY_AMT2  PAY_AMT3  \\\n",
              "1980   ...         0          0          0         0         0         0   \n",
              "4585   ...         0          0          0         0         0         0   \n",
              "6022   ...         0          0          0         0         0         0   \n",
              "6466   ...         0          0          0         0         0         0   \n",
              "7319   ...         0          0          0         0         0         0   \n",
              "8320   ...         0          0          0         0         0         0   \n",
              "10250  ...         0          0          0         0         0         0   \n",
              "13106  ...         0          0          0         0         0         0   \n",
              "14294  ...      1650       1650       1650         0         0         0   \n",
              "15458  ...         0          0          0         0         0         0   \n",
              "15617  ...         0          0          0         0         0         0   \n",
              "15685  ...         0          0          0         0         0         0   \n",
              "17032  ...         0          0          0         0         0         0   \n",
              "19114  ...         0          0          0         0         0         0   \n",
              "19487  ...         0          0          0         0         0         0   \n",
              "19604  ...         0          0          0         0         0         0   \n",
              "19897  ...         0          0          0         0         0         0   \n",
              "20875  ...       660        660        660       660       660       660   \n",
              "21881  ...       390        390        390       390       390       390   \n",
              "22162  ...         0          0          0         0         0         0   \n",
              "23877  ...         0          0          0         0         0         0   \n",
              "24122  ...         0          0          0         0         0         0   \n",
              "25608  ...         0          0          0         0         0         0   \n",
              "26249  ...         0          0          0         0         0         0   \n",
              "26805  ...         0          0          0         0         0         0   \n",
              "27351  ...      1443       1443       1443      1443      1443      1443   \n",
              "27765  ...         0          0          0         0         0         0   \n",
              "27928  ...         0          0          0         0         0         0   \n",
              "27966  ...         0          0          0         0         0         0   \n",
              "28228  ...         0          0          0         0         0         0   \n",
              "28779  ...         0          0          0         0         0         0   \n",
              "28983  ...         0          0          0         0         0         0   \n",
              "29265  ...       396        396        396       396       396       396   \n",
              "29823  ...         0          0          0         0         0         0   \n",
              "29909  ...         0          0          0         0         0         0   \n",
              "\n",
              "       PAY_AMT4  PAY_AMT5  PAY_AMT6  default payment next month  \n",
              "1980          0         0         0                           1  \n",
              "4585          0         0         0                           0  \n",
              "6022          0         0         0                           0  \n",
              "6466          0         0         0                           0  \n",
              "7319          0         0         0                           1  \n",
              "8320          0         0         0                           1  \n",
              "10250         0         0         0                           0  \n",
              "13106         0         0         0                           0  \n",
              "14294         0         0         0                           1  \n",
              "15458         0         0         0                           0  \n",
              "15617         0         0         0                           0  \n",
              "15685         0         0         0                           0  \n",
              "17032         0         0         0                           0  \n",
              "19114         0         0         0                           0  \n",
              "19487         0         0         0                           0  \n",
              "19604         0         0         0                           0  \n",
              "19897         0         0         0                           0  \n",
              "20875       660       660       660                           0  \n",
              "21881       390       390       390                           0  \n",
              "22162         0         0         0                           0  \n",
              "23877         0         0         0                           0  \n",
              "24122         0         0         0                           0  \n",
              "25608         0         0         0                           1  \n",
              "26249         0         0         0                           0  \n",
              "26805         0         0         0                           0  \n",
              "27351      1443      1443      1443                           0  \n",
              "27765         0         0         0                           0  \n",
              "27928         0         0         0                           0  \n",
              "27966         0         0         0                           0  \n",
              "28228         0         0         0                           0  \n",
              "28779         0         0         0                           0  \n",
              "28983         0         0         0                           0  \n",
              "29265       396       396       396                           0  \n",
              "29823         0         0         0                           1  \n",
              "29909         0         0         0                           0  \n",
              "\n",
              "[35 rows x 24 columns]"
            ],
            "text/html": [
              "\n",
              "  <div id=\"df-a9e2e510-3c60-4e5d-9d7e-56c531ae3119\">\n",
              "    <div class=\"colab-df-container\">\n",
              "      <div>\n",
              "<style scoped>\n",
              "    .dataframe tbody tr th:only-of-type {\n",
              "        vertical-align: middle;\n",
              "    }\n",
              "\n",
              "    .dataframe tbody tr th {\n",
              "        vertical-align: top;\n",
              "    }\n",
              "\n",
              "    .dataframe thead th {\n",
              "        text-align: right;\n",
              "    }\n",
              "</style>\n",
              "<table border=\"1\" class=\"dataframe\">\n",
              "  <thead>\n",
              "    <tr style=\"text-align: right;\">\n",
              "      <th></th>\n",
              "      <th>LIMIT_BAL</th>\n",
              "      <th>SEX</th>\n",
              "      <th>EDUCATION</th>\n",
              "      <th>MARRIAGE</th>\n",
              "      <th>AGE</th>\n",
              "      <th>PAY_0</th>\n",
              "      <th>PAY_2</th>\n",
              "      <th>PAY_3</th>\n",
              "      <th>PAY_4</th>\n",
              "      <th>PAY_5</th>\n",
              "      <th>...</th>\n",
              "      <th>BILL_AMT4</th>\n",
              "      <th>BILL_AMT5</th>\n",
              "      <th>BILL_AMT6</th>\n",
              "      <th>PAY_AMT1</th>\n",
              "      <th>PAY_AMT2</th>\n",
              "      <th>PAY_AMT3</th>\n",
              "      <th>PAY_AMT4</th>\n",
              "      <th>PAY_AMT5</th>\n",
              "      <th>PAY_AMT6</th>\n",
              "      <th>default payment next month</th>\n",
              "    </tr>\n",
              "  </thead>\n",
              "  <tbody>\n",
              "    <tr>\n",
              "      <th>1980</th>\n",
              "      <td>150000</td>\n",
              "      <td>2</td>\n",
              "      <td>1</td>\n",
              "      <td>1</td>\n",
              "      <td>38</td>\n",
              "      <td>1</td>\n",
              "      <td>-2</td>\n",
              "      <td>-2</td>\n",
              "      <td>-2</td>\n",
              "      <td>-2</td>\n",
              "      <td>...</td>\n",
              "      <td>0</td>\n",
              "      <td>0</td>\n",
              "      <td>0</td>\n",
              "      <td>0</td>\n",
              "      <td>0</td>\n",
              "      <td>0</td>\n",
              "      <td>0</td>\n",
              "      <td>0</td>\n",
              "      <td>0</td>\n",
              "      <td>1</td>\n",
              "    </tr>\n",
              "    <tr>\n",
              "      <th>4585</th>\n",
              "      <td>150000</td>\n",
              "      <td>2</td>\n",
              "      <td>1</td>\n",
              "      <td>1</td>\n",
              "      <td>31</td>\n",
              "      <td>1</td>\n",
              "      <td>-2</td>\n",
              "      <td>-2</td>\n",
              "      <td>-2</td>\n",
              "      <td>-2</td>\n",
              "      <td>...</td>\n",
              "      <td>0</td>\n",
              "      <td>0</td>\n",
              "      <td>0</td>\n",
              "      <td>0</td>\n",
              "      <td>0</td>\n",
              "      <td>0</td>\n",
              "      <td>0</td>\n",
              "      <td>0</td>\n",
              "      <td>0</td>\n",
              "      <td>0</td>\n",
              "    </tr>\n",
              "    <tr>\n",
              "      <th>6022</th>\n",
              "      <td>210000</td>\n",
              "      <td>2</td>\n",
              "      <td>1</td>\n",
              "      <td>2</td>\n",
              "      <td>39</td>\n",
              "      <td>1</td>\n",
              "      <td>-2</td>\n",
              "      <td>-2</td>\n",
              "      <td>-2</td>\n",
              "      <td>-2</td>\n",
              "      <td>...</td>\n",
              "      <td>0</td>\n",
              "      <td>0</td>\n",
              "      <td>0</td>\n",
              "      <td>0</td>\n",
              "      <td>0</td>\n",
              "      <td>0</td>\n",
              "      <td>0</td>\n",
              "      <td>0</td>\n",
              "      <td>0</td>\n",
              "      <td>0</td>\n",
              "    </tr>\n",
              "    <tr>\n",
              "      <th>6466</th>\n",
              "      <td>210000</td>\n",
              "      <td>2</td>\n",
              "      <td>2</td>\n",
              "      <td>1</td>\n",
              "      <td>49</td>\n",
              "      <td>1</td>\n",
              "      <td>-2</td>\n",
              "      <td>-2</td>\n",
              "      <td>-2</td>\n",
              "      <td>-2</td>\n",
              "      <td>...</td>\n",
              "      <td>0</td>\n",
              "      <td>0</td>\n",
              "      <td>0</td>\n",
              "      <td>0</td>\n",
              "      <td>0</td>\n",
              "      <td>0</td>\n",
              "      <td>0</td>\n",
              "      <td>0</td>\n",
              "      <td>0</td>\n",
              "      <td>0</td>\n",
              "    </tr>\n",
              "    <tr>\n",
              "      <th>7319</th>\n",
              "      <td>500000</td>\n",
              "      <td>1</td>\n",
              "      <td>1</td>\n",
              "      <td>1</td>\n",
              "      <td>43</td>\n",
              "      <td>1</td>\n",
              "      <td>-2</td>\n",
              "      <td>-2</td>\n",
              "      <td>-2</td>\n",
              "      <td>-2</td>\n",
              "      <td>...</td>\n",
              "      <td>0</td>\n",
              "      <td>0</td>\n",
              "      <td>0</td>\n",
              "      <td>0</td>\n",
              "      <td>0</td>\n",
              "      <td>0</td>\n",
              "      <td>0</td>\n",
              "      <td>0</td>\n",
              "      <td>0</td>\n",
              "      <td>1</td>\n",
              "    </tr>\n",
              "    <tr>\n",
              "      <th>8320</th>\n",
              "      <td>360000</td>\n",
              "      <td>1</td>\n",
              "      <td>2</td>\n",
              "      <td>1</td>\n",
              "      <td>41</td>\n",
              "      <td>1</td>\n",
              "      <td>-2</td>\n",
              "      <td>-2</td>\n",
              "      <td>-2</td>\n",
              "      <td>-2</td>\n",
              "      <td>...</td>\n",
              "      <td>0</td>\n",
              "      <td>0</td>\n",
              "      <td>0</td>\n",
              "      <td>0</td>\n",
              "      <td>0</td>\n",
              "      <td>0</td>\n",
              "      <td>0</td>\n",
              "      <td>0</td>\n",
              "      <td>0</td>\n",
              "      <td>1</td>\n",
              "    </tr>\n",
              "    <tr>\n",
              "      <th>10250</th>\n",
              "      <td>50000</td>\n",
              "      <td>1</td>\n",
              "      <td>2</td>\n",
              "      <td>2</td>\n",
              "      <td>26</td>\n",
              "      <td>1</td>\n",
              "      <td>-2</td>\n",
              "      <td>-2</td>\n",
              "      <td>-2</td>\n",
              "      <td>-2</td>\n",
              "      <td>...</td>\n",
              "      <td>0</td>\n",
              "      <td>0</td>\n",
              "      <td>0</td>\n",
              "      <td>0</td>\n",
              "      <td>0</td>\n",
              "      <td>0</td>\n",
              "      <td>0</td>\n",
              "      <td>0</td>\n",
              "      <td>0</td>\n",
              "      <td>0</td>\n",
              "    </tr>\n",
              "    <tr>\n",
              "      <th>13106</th>\n",
              "      <td>360000</td>\n",
              "      <td>2</td>\n",
              "      <td>1</td>\n",
              "      <td>1</td>\n",
              "      <td>49</td>\n",
              "      <td>1</td>\n",
              "      <td>-2</td>\n",
              "      <td>-2</td>\n",
              "      <td>-2</td>\n",
              "      <td>-2</td>\n",
              "      <td>...</td>\n",
              "      <td>0</td>\n",
              "      <td>0</td>\n",
              "      <td>0</td>\n",
              "      <td>0</td>\n",
              "      <td>0</td>\n",
              "      <td>0</td>\n",
              "      <td>0</td>\n",
              "      <td>0</td>\n",
              "      <td>0</td>\n",
              "      <td>0</td>\n",
              "    </tr>\n",
              "    <tr>\n",
              "      <th>14294</th>\n",
              "      <td>20000</td>\n",
              "      <td>1</td>\n",
              "      <td>2</td>\n",
              "      <td>2</td>\n",
              "      <td>24</td>\n",
              "      <td>2</td>\n",
              "      <td>2</td>\n",
              "      <td>4</td>\n",
              "      <td>4</td>\n",
              "      <td>4</td>\n",
              "      <td>...</td>\n",
              "      <td>1650</td>\n",
              "      <td>1650</td>\n",
              "      <td>1650</td>\n",
              "      <td>0</td>\n",
              "      <td>0</td>\n",
              "      <td>0</td>\n",
              "      <td>0</td>\n",
              "      <td>0</td>\n",
              "      <td>0</td>\n",
              "      <td>1</td>\n",
              "    </tr>\n",
              "    <tr>\n",
              "      <th>15458</th>\n",
              "      <td>160000</td>\n",
              "      <td>1</td>\n",
              "      <td>2</td>\n",
              "      <td>2</td>\n",
              "      <td>28</td>\n",
              "      <td>-2</td>\n",
              "      <td>-2</td>\n",
              "      <td>-2</td>\n",
              "      <td>-2</td>\n",
              "      <td>-2</td>\n",
              "      <td>...</td>\n",
              "      <td>0</td>\n",
              "      <td>0</td>\n",
              "      <td>0</td>\n",
              "      <td>0</td>\n",
              "      <td>0</td>\n",
              "      <td>0</td>\n",
              "      <td>0</td>\n",
              "      <td>0</td>\n",
              "      <td>0</td>\n",
              "      <td>0</td>\n",
              "    </tr>\n",
              "    <tr>\n",
              "      <th>15617</th>\n",
              "      <td>200000</td>\n",
              "      <td>2</td>\n",
              "      <td>2</td>\n",
              "      <td>2</td>\n",
              "      <td>26</td>\n",
              "      <td>-2</td>\n",
              "      <td>-2</td>\n",
              "      <td>-2</td>\n",
              "      <td>-2</td>\n",
              "      <td>-2</td>\n",
              "      <td>...</td>\n",
              "      <td>0</td>\n",
              "      <td>0</td>\n",
              "      <td>0</td>\n",
              "      <td>0</td>\n",
              "      <td>0</td>\n",
              "      <td>0</td>\n",
              "      <td>0</td>\n",
              "      <td>0</td>\n",
              "      <td>0</td>\n",
              "      <td>0</td>\n",
              "    </tr>\n",
              "    <tr>\n",
              "      <th>15685</th>\n",
              "      <td>360000</td>\n",
              "      <td>1</td>\n",
              "      <td>1</td>\n",
              "      <td>2</td>\n",
              "      <td>29</td>\n",
              "      <td>1</td>\n",
              "      <td>-2</td>\n",
              "      <td>-2</td>\n",
              "      <td>-2</td>\n",
              "      <td>-2</td>\n",
              "      <td>...</td>\n",
              "      <td>0</td>\n",
              "      <td>0</td>\n",
              "      <td>0</td>\n",
              "      <td>0</td>\n",
              "      <td>0</td>\n",
              "      <td>0</td>\n",
              "      <td>0</td>\n",
              "      <td>0</td>\n",
              "      <td>0</td>\n",
              "      <td>0</td>\n",
              "    </tr>\n",
              "    <tr>\n",
              "      <th>17032</th>\n",
              "      <td>50000</td>\n",
              "      <td>2</td>\n",
              "      <td>1</td>\n",
              "      <td>2</td>\n",
              "      <td>23</td>\n",
              "      <td>1</td>\n",
              "      <td>-2</td>\n",
              "      <td>-2</td>\n",
              "      <td>-2</td>\n",
              "      <td>-2</td>\n",
              "      <td>...</td>\n",
              "      <td>0</td>\n",
              "      <td>0</td>\n",
              "      <td>0</td>\n",
              "      <td>0</td>\n",
              "      <td>0</td>\n",
              "      <td>0</td>\n",
              "      <td>0</td>\n",
              "      <td>0</td>\n",
              "      <td>0</td>\n",
              "      <td>0</td>\n",
              "    </tr>\n",
              "    <tr>\n",
              "      <th>19114</th>\n",
              "      <td>80000</td>\n",
              "      <td>2</td>\n",
              "      <td>2</td>\n",
              "      <td>1</td>\n",
              "      <td>31</td>\n",
              "      <td>-2</td>\n",
              "      <td>-2</td>\n",
              "      <td>-2</td>\n",
              "      <td>-2</td>\n",
              "      <td>-2</td>\n",
              "      <td>...</td>\n",
              "      <td>0</td>\n",
              "      <td>0</td>\n",
              "      <td>0</td>\n",
              "      <td>0</td>\n",
              "      <td>0</td>\n",
              "      <td>0</td>\n",
              "      <td>0</td>\n",
              "      <td>0</td>\n",
              "      <td>0</td>\n",
              "      <td>0</td>\n",
              "    </tr>\n",
              "    <tr>\n",
              "      <th>19487</th>\n",
              "      <td>180000</td>\n",
              "      <td>2</td>\n",
              "      <td>1</td>\n",
              "      <td>2</td>\n",
              "      <td>28</td>\n",
              "      <td>1</td>\n",
              "      <td>-2</td>\n",
              "      <td>-2</td>\n",
              "      <td>-2</td>\n",
              "      <td>-2</td>\n",
              "      <td>...</td>\n",
              "      <td>0</td>\n",
              "      <td>0</td>\n",
              "      <td>0</td>\n",
              "      <td>0</td>\n",
              "      <td>0</td>\n",
              "      <td>0</td>\n",
              "      <td>0</td>\n",
              "      <td>0</td>\n",
              "      <td>0</td>\n",
              "      <td>0</td>\n",
              "    </tr>\n",
              "    <tr>\n",
              "      <th>19604</th>\n",
              "      <td>110000</td>\n",
              "      <td>2</td>\n",
              "      <td>1</td>\n",
              "      <td>2</td>\n",
              "      <td>31</td>\n",
              "      <td>1</td>\n",
              "      <td>-2</td>\n",
              "      <td>-2</td>\n",
              "      <td>-2</td>\n",
              "      <td>-2</td>\n",
              "      <td>...</td>\n",
              "      <td>0</td>\n",
              "      <td>0</td>\n",
              "      <td>0</td>\n",
              "      <td>0</td>\n",
              "      <td>0</td>\n",
              "      <td>0</td>\n",
              "      <td>0</td>\n",
              "      <td>0</td>\n",
              "      <td>0</td>\n",
              "      <td>0</td>\n",
              "    </tr>\n",
              "    <tr>\n",
              "      <th>19897</th>\n",
              "      <td>100000</td>\n",
              "      <td>2</td>\n",
              "      <td>2</td>\n",
              "      <td>1</td>\n",
              "      <td>49</td>\n",
              "      <td>1</td>\n",
              "      <td>-2</td>\n",
              "      <td>-2</td>\n",
              "      <td>-2</td>\n",
              "      <td>-2</td>\n",
              "      <td>...</td>\n",
              "      <td>0</td>\n",
              "      <td>0</td>\n",
              "      <td>0</td>\n",
              "      <td>0</td>\n",
              "      <td>0</td>\n",
              "      <td>0</td>\n",
              "      <td>0</td>\n",
              "      <td>0</td>\n",
              "      <td>0</td>\n",
              "      <td>0</td>\n",
              "    </tr>\n",
              "    <tr>\n",
              "      <th>20875</th>\n",
              "      <td>230000</td>\n",
              "      <td>1</td>\n",
              "      <td>1</td>\n",
              "      <td>1</td>\n",
              "      <td>39</td>\n",
              "      <td>-1</td>\n",
              "      <td>-1</td>\n",
              "      <td>-1</td>\n",
              "      <td>-1</td>\n",
              "      <td>-1</td>\n",
              "      <td>...</td>\n",
              "      <td>660</td>\n",
              "      <td>660</td>\n",
              "      <td>660</td>\n",
              "      <td>660</td>\n",
              "      <td>660</td>\n",
              "      <td>660</td>\n",
              "      <td>660</td>\n",
              "      <td>660</td>\n",
              "      <td>660</td>\n",
              "      <td>0</td>\n",
              "    </tr>\n",
              "    <tr>\n",
              "      <th>21881</th>\n",
              "      <td>160000</td>\n",
              "      <td>2</td>\n",
              "      <td>3</td>\n",
              "      <td>2</td>\n",
              "      <td>26</td>\n",
              "      <td>-1</td>\n",
              "      <td>-1</td>\n",
              "      <td>-1</td>\n",
              "      <td>-1</td>\n",
              "      <td>-1</td>\n",
              "      <td>...</td>\n",
              "      <td>390</td>\n",
              "      <td>390</td>\n",
              "      <td>390</td>\n",
              "      <td>390</td>\n",
              "      <td>390</td>\n",
              "      <td>390</td>\n",
              "      <td>390</td>\n",
              "      <td>390</td>\n",
              "      <td>390</td>\n",
              "      <td>0</td>\n",
              "    </tr>\n",
              "    <tr>\n",
              "      <th>22162</th>\n",
              "      <td>360000</td>\n",
              "      <td>2</td>\n",
              "      <td>1</td>\n",
              "      <td>2</td>\n",
              "      <td>29</td>\n",
              "      <td>1</td>\n",
              "      <td>-2</td>\n",
              "      <td>-2</td>\n",
              "      <td>-2</td>\n",
              "      <td>-2</td>\n",
              "      <td>...</td>\n",
              "      <td>0</td>\n",
              "      <td>0</td>\n",
              "      <td>0</td>\n",
              "      <td>0</td>\n",
              "      <td>0</td>\n",
              "      <td>0</td>\n",
              "      <td>0</td>\n",
              "      <td>0</td>\n",
              "      <td>0</td>\n",
              "      <td>0</td>\n",
              "    </tr>\n",
              "    <tr>\n",
              "      <th>23877</th>\n",
              "      <td>200000</td>\n",
              "      <td>1</td>\n",
              "      <td>1</td>\n",
              "      <td>2</td>\n",
              "      <td>30</td>\n",
              "      <td>-2</td>\n",
              "      <td>-2</td>\n",
              "      <td>-2</td>\n",
              "      <td>-2</td>\n",
              "      <td>-2</td>\n",
              "      <td>...</td>\n",
              "      <td>0</td>\n",
              "      <td>0</td>\n",
              "      <td>0</td>\n",
              "      <td>0</td>\n",
              "      <td>0</td>\n",
              "      <td>0</td>\n",
              "      <td>0</td>\n",
              "      <td>0</td>\n",
              "      <td>0</td>\n",
              "      <td>0</td>\n",
              "    </tr>\n",
              "    <tr>\n",
              "      <th>24122</th>\n",
              "      <td>140000</td>\n",
              "      <td>1</td>\n",
              "      <td>1</td>\n",
              "      <td>2</td>\n",
              "      <td>29</td>\n",
              "      <td>1</td>\n",
              "      <td>-2</td>\n",
              "      <td>-2</td>\n",
              "      <td>-2</td>\n",
              "      <td>-2</td>\n",
              "      <td>...</td>\n",
              "      <td>0</td>\n",
              "      <td>0</td>\n",
              "      <td>0</td>\n",
              "      <td>0</td>\n",
              "      <td>0</td>\n",
              "      <td>0</td>\n",
              "      <td>0</td>\n",
              "      <td>0</td>\n",
              "      <td>0</td>\n",
              "      <td>0</td>\n",
              "    </tr>\n",
              "    <tr>\n",
              "      <th>25608</th>\n",
              "      <td>360000</td>\n",
              "      <td>2</td>\n",
              "      <td>1</td>\n",
              "      <td>1</td>\n",
              "      <td>41</td>\n",
              "      <td>-2</td>\n",
              "      <td>-2</td>\n",
              "      <td>-2</td>\n",
              "      <td>-2</td>\n",
              "      <td>-2</td>\n",
              "      <td>...</td>\n",
              "      <td>0</td>\n",
              "      <td>0</td>\n",
              "      <td>0</td>\n",
              "      <td>0</td>\n",
              "      <td>0</td>\n",
              "      <td>0</td>\n",
              "      <td>0</td>\n",
              "      <td>0</td>\n",
              "      <td>0</td>\n",
              "      <td>1</td>\n",
              "    </tr>\n",
              "    <tr>\n",
              "      <th>26249</th>\n",
              "      <td>90000</td>\n",
              "      <td>2</td>\n",
              "      <td>1</td>\n",
              "      <td>2</td>\n",
              "      <td>31</td>\n",
              "      <td>1</td>\n",
              "      <td>-2</td>\n",
              "      <td>-2</td>\n",
              "      <td>-2</td>\n",
              "      <td>-2</td>\n",
              "      <td>...</td>\n",
              "      <td>0</td>\n",
              "      <td>0</td>\n",
              "      <td>0</td>\n",
              "      <td>0</td>\n",
              "      <td>0</td>\n",
              "      <td>0</td>\n",
              "      <td>0</td>\n",
              "      <td>0</td>\n",
              "      <td>0</td>\n",
              "      <td>0</td>\n",
              "    </tr>\n",
              "    <tr>\n",
              "      <th>26805</th>\n",
              "      <td>300000</td>\n",
              "      <td>1</td>\n",
              "      <td>1</td>\n",
              "      <td>2</td>\n",
              "      <td>27</td>\n",
              "      <td>-2</td>\n",
              "      <td>-2</td>\n",
              "      <td>-2</td>\n",
              "      <td>-2</td>\n",
              "      <td>-2</td>\n",
              "      <td>...</td>\n",
              "      <td>0</td>\n",
              "      <td>0</td>\n",
              "      <td>0</td>\n",
              "      <td>0</td>\n",
              "      <td>0</td>\n",
              "      <td>0</td>\n",
              "      <td>0</td>\n",
              "      <td>0</td>\n",
              "      <td>0</td>\n",
              "      <td>0</td>\n",
              "    </tr>\n",
              "    <tr>\n",
              "      <th>27351</th>\n",
              "      <td>210000</td>\n",
              "      <td>1</td>\n",
              "      <td>2</td>\n",
              "      <td>1</td>\n",
              "      <td>39</td>\n",
              "      <td>-1</td>\n",
              "      <td>-1</td>\n",
              "      <td>-1</td>\n",
              "      <td>-1</td>\n",
              "      <td>-1</td>\n",
              "      <td>...</td>\n",
              "      <td>1443</td>\n",
              "      <td>1443</td>\n",
              "      <td>1443</td>\n",
              "      <td>1443</td>\n",
              "      <td>1443</td>\n",
              "      <td>1443</td>\n",
              "      <td>1443</td>\n",
              "      <td>1443</td>\n",
              "      <td>1443</td>\n",
              "      <td>0</td>\n",
              "    </tr>\n",
              "    <tr>\n",
              "      <th>27765</th>\n",
              "      <td>80000</td>\n",
              "      <td>2</td>\n",
              "      <td>2</td>\n",
              "      <td>2</td>\n",
              "      <td>25</td>\n",
              "      <td>-2</td>\n",
              "      <td>-2</td>\n",
              "      <td>-2</td>\n",
              "      <td>-2</td>\n",
              "      <td>-2</td>\n",
              "      <td>...</td>\n",
              "      <td>0</td>\n",
              "      <td>0</td>\n",
              "      <td>0</td>\n",
              "      <td>0</td>\n",
              "      <td>0</td>\n",
              "      <td>0</td>\n",
              "      <td>0</td>\n",
              "      <td>0</td>\n",
              "      <td>0</td>\n",
              "      <td>0</td>\n",
              "    </tr>\n",
              "    <tr>\n",
              "      <th>27928</th>\n",
              "      <td>150000</td>\n",
              "      <td>2</td>\n",
              "      <td>1</td>\n",
              "      <td>2</td>\n",
              "      <td>28</td>\n",
              "      <td>1</td>\n",
              "      <td>-2</td>\n",
              "      <td>-2</td>\n",
              "      <td>-2</td>\n",
              "      <td>-2</td>\n",
              "      <td>...</td>\n",
              "      <td>0</td>\n",
              "      <td>0</td>\n",
              "      <td>0</td>\n",
              "      <td>0</td>\n",
              "      <td>0</td>\n",
              "      <td>0</td>\n",
              "      <td>0</td>\n",
              "      <td>0</td>\n",
              "      <td>0</td>\n",
              "      <td>0</td>\n",
              "    </tr>\n",
              "    <tr>\n",
              "      <th>27966</th>\n",
              "      <td>360000</td>\n",
              "      <td>2</td>\n",
              "      <td>1</td>\n",
              "      <td>2</td>\n",
              "      <td>27</td>\n",
              "      <td>1</td>\n",
              "      <td>-2</td>\n",
              "      <td>-2</td>\n",
              "      <td>-2</td>\n",
              "      <td>-2</td>\n",
              "      <td>...</td>\n",
              "      <td>0</td>\n",
              "      <td>0</td>\n",
              "      <td>0</td>\n",
              "      <td>0</td>\n",
              "      <td>0</td>\n",
              "      <td>0</td>\n",
              "      <td>0</td>\n",
              "      <td>0</td>\n",
              "      <td>0</td>\n",
              "      <td>0</td>\n",
              "    </tr>\n",
              "    <tr>\n",
              "      <th>28228</th>\n",
              "      <td>200000</td>\n",
              "      <td>2</td>\n",
              "      <td>1</td>\n",
              "      <td>1</td>\n",
              "      <td>34</td>\n",
              "      <td>1</td>\n",
              "      <td>-2</td>\n",
              "      <td>-2</td>\n",
              "      <td>-2</td>\n",
              "      <td>-2</td>\n",
              "      <td>...</td>\n",
              "      <td>0</td>\n",
              "      <td>0</td>\n",
              "      <td>0</td>\n",
              "      <td>0</td>\n",
              "      <td>0</td>\n",
              "      <td>0</td>\n",
              "      <td>0</td>\n",
              "      <td>0</td>\n",
              "      <td>0</td>\n",
              "      <td>0</td>\n",
              "    </tr>\n",
              "    <tr>\n",
              "      <th>28779</th>\n",
              "      <td>200000</td>\n",
              "      <td>2</td>\n",
              "      <td>1</td>\n",
              "      <td>1</td>\n",
              "      <td>36</td>\n",
              "      <td>1</td>\n",
              "      <td>-2</td>\n",
              "      <td>-2</td>\n",
              "      <td>-2</td>\n",
              "      <td>-2</td>\n",
              "      <td>...</td>\n",
              "      <td>0</td>\n",
              "      <td>0</td>\n",
              "      <td>0</td>\n",
              "      <td>0</td>\n",
              "      <td>0</td>\n",
              "      <td>0</td>\n",
              "      <td>0</td>\n",
              "      <td>0</td>\n",
              "      <td>0</td>\n",
              "      <td>0</td>\n",
              "    </tr>\n",
              "    <tr>\n",
              "      <th>28983</th>\n",
              "      <td>80000</td>\n",
              "      <td>2</td>\n",
              "      <td>3</td>\n",
              "      <td>1</td>\n",
              "      <td>42</td>\n",
              "      <td>-2</td>\n",
              "      <td>-2</td>\n",
              "      <td>-2</td>\n",
              "      <td>-2</td>\n",
              "      <td>-2</td>\n",
              "      <td>...</td>\n",
              "      <td>0</td>\n",
              "      <td>0</td>\n",
              "      <td>0</td>\n",
              "      <td>0</td>\n",
              "      <td>0</td>\n",
              "      <td>0</td>\n",
              "      <td>0</td>\n",
              "      <td>0</td>\n",
              "      <td>0</td>\n",
              "      <td>0</td>\n",
              "    </tr>\n",
              "    <tr>\n",
              "      <th>29265</th>\n",
              "      <td>180000</td>\n",
              "      <td>1</td>\n",
              "      <td>2</td>\n",
              "      <td>1</td>\n",
              "      <td>26</td>\n",
              "      <td>-1</td>\n",
              "      <td>-1</td>\n",
              "      <td>-1</td>\n",
              "      <td>-1</td>\n",
              "      <td>-1</td>\n",
              "      <td>...</td>\n",
              "      <td>396</td>\n",
              "      <td>396</td>\n",
              "      <td>396</td>\n",
              "      <td>396</td>\n",
              "      <td>396</td>\n",
              "      <td>396</td>\n",
              "      <td>396</td>\n",
              "      <td>396</td>\n",
              "      <td>396</td>\n",
              "      <td>0</td>\n",
              "    </tr>\n",
              "    <tr>\n",
              "      <th>29823</th>\n",
              "      <td>220000</td>\n",
              "      <td>1</td>\n",
              "      <td>1</td>\n",
              "      <td>1</td>\n",
              "      <td>42</td>\n",
              "      <td>1</td>\n",
              "      <td>-2</td>\n",
              "      <td>-2</td>\n",
              "      <td>-2</td>\n",
              "      <td>-2</td>\n",
              "      <td>...</td>\n",
              "      <td>0</td>\n",
              "      <td>0</td>\n",
              "      <td>0</td>\n",
              "      <td>0</td>\n",
              "      <td>0</td>\n",
              "      <td>0</td>\n",
              "      <td>0</td>\n",
              "      <td>0</td>\n",
              "      <td>0</td>\n",
              "      <td>1</td>\n",
              "    </tr>\n",
              "    <tr>\n",
              "      <th>29909</th>\n",
              "      <td>360000</td>\n",
              "      <td>1</td>\n",
              "      <td>1</td>\n",
              "      <td>2</td>\n",
              "      <td>32</td>\n",
              "      <td>-2</td>\n",
              "      <td>-2</td>\n",
              "      <td>-2</td>\n",
              "      <td>-2</td>\n",
              "      <td>-2</td>\n",
              "      <td>...</td>\n",
              "      <td>0</td>\n",
              "      <td>0</td>\n",
              "      <td>0</td>\n",
              "      <td>0</td>\n",
              "      <td>0</td>\n",
              "      <td>0</td>\n",
              "      <td>0</td>\n",
              "      <td>0</td>\n",
              "      <td>0</td>\n",
              "      <td>0</td>\n",
              "    </tr>\n",
              "  </tbody>\n",
              "</table>\n",
              "<p>35 rows × 24 columns</p>\n",
              "</div>\n",
              "      <button class=\"colab-df-convert\" onclick=\"convertToInteractive('df-a9e2e510-3c60-4e5d-9d7e-56c531ae3119')\"\n",
              "              title=\"Convert this dataframe to an interactive table.\"\n",
              "              style=\"display:none;\">\n",
              "        \n",
              "  <svg xmlns=\"http://www.w3.org/2000/svg\" height=\"24px\"viewBox=\"0 0 24 24\"\n",
              "       width=\"24px\">\n",
              "    <path d=\"M0 0h24v24H0V0z\" fill=\"none\"/>\n",
              "    <path d=\"M18.56 5.44l.94 2.06.94-2.06 2.06-.94-2.06-.94-.94-2.06-.94 2.06-2.06.94zm-11 1L8.5 8.5l.94-2.06 2.06-.94-2.06-.94L8.5 2.5l-.94 2.06-2.06.94zm10 10l.94 2.06.94-2.06 2.06-.94-2.06-.94-.94-2.06-.94 2.06-2.06.94z\"/><path d=\"M17.41 7.96l-1.37-1.37c-.4-.4-.92-.59-1.43-.59-.52 0-1.04.2-1.43.59L10.3 9.45l-7.72 7.72c-.78.78-.78 2.05 0 2.83L4 21.41c.39.39.9.59 1.41.59.51 0 1.02-.2 1.41-.59l7.78-7.78 2.81-2.81c.8-.78.8-2.07 0-2.86zM5.41 20L4 18.59l7.72-7.72 1.47 1.35L5.41 20z\"/>\n",
              "  </svg>\n",
              "      </button>\n",
              "      \n",
              "  <style>\n",
              "    .colab-df-container {\n",
              "      display:flex;\n",
              "      flex-wrap:wrap;\n",
              "      gap: 12px;\n",
              "    }\n",
              "\n",
              "    .colab-df-convert {\n",
              "      background-color: #E8F0FE;\n",
              "      border: none;\n",
              "      border-radius: 50%;\n",
              "      cursor: pointer;\n",
              "      display: none;\n",
              "      fill: #1967D2;\n",
              "      height: 32px;\n",
              "      padding: 0 0 0 0;\n",
              "      width: 32px;\n",
              "    }\n",
              "\n",
              "    .colab-df-convert:hover {\n",
              "      background-color: #E2EBFA;\n",
              "      box-shadow: 0px 1px 2px rgba(60, 64, 67, 0.3), 0px 1px 3px 1px rgba(60, 64, 67, 0.15);\n",
              "      fill: #174EA6;\n",
              "    }\n",
              "\n",
              "    [theme=dark] .colab-df-convert {\n",
              "      background-color: #3B4455;\n",
              "      fill: #D2E3FC;\n",
              "    }\n",
              "\n",
              "    [theme=dark] .colab-df-convert:hover {\n",
              "      background-color: #434B5C;\n",
              "      box-shadow: 0px 1px 3px 1px rgba(0, 0, 0, 0.15);\n",
              "      filter: drop-shadow(0px 1px 2px rgba(0, 0, 0, 0.3));\n",
              "      fill: #FFFFFF;\n",
              "    }\n",
              "  </style>\n",
              "\n",
              "      <script>\n",
              "        const buttonEl =\n",
              "          document.querySelector('#df-a9e2e510-3c60-4e5d-9d7e-56c531ae3119 button.colab-df-convert');\n",
              "        buttonEl.style.display =\n",
              "          google.colab.kernel.accessAllowed ? 'block' : 'none';\n",
              "\n",
              "        async function convertToInteractive(key) {\n",
              "          const element = document.querySelector('#df-a9e2e510-3c60-4e5d-9d7e-56c531ae3119');\n",
              "          const dataTable =\n",
              "            await google.colab.kernel.invokeFunction('convertToInteractive',\n",
              "                                                     [key], {});\n",
              "          if (!dataTable) return;\n",
              "\n",
              "          const docLinkHtml = 'Like what you see? Visit the ' +\n",
              "            '<a target=\"_blank\" href=https://colab.research.google.com/notebooks/data_table.ipynb>data table notebook</a>'\n",
              "            + ' to learn more about interactive tables.';\n",
              "          element.innerHTML = '';\n",
              "          dataTable['output_type'] = 'display_data';\n",
              "          await google.colab.output.renderOutput(dataTable, element);\n",
              "          const docLink = document.createElement('div');\n",
              "          docLink.innerHTML = docLinkHtml;\n",
              "          element.appendChild(docLink);\n",
              "        }\n",
              "      </script>\n",
              "    </div>\n",
              "  </div>\n",
              "  "
            ]
          },
          "metadata": {},
          "execution_count": 13
        }
      ]
    },
    {
      "cell_type": "code",
      "source": [
        "df_dedupped = df.drop_duplicates()\n",
        "print(df.shape)\n",
        "print(df_dedupped.shape)"
      ],
      "metadata": {
        "colab": {
          "base_uri": "https://localhost:8080/"
        },
        "id": "VQH673eFjURx",
        "outputId": "c8b9d7d4-bd26-4901-ba70-d25e02ce1676"
      },
      "execution_count": 14,
      "outputs": [
        {
          "output_type": "stream",
          "name": "stdout",
          "text": [
            "(29013, 24)\n",
            "(28978, 24)\n"
          ]
        }
      ]
    },
    {
      "cell_type": "code",
      "source": [
        "df_dedupped.head()"
      ],
      "metadata": {
        "colab": {
          "base_uri": "https://localhost:8080/",
          "height": 0
        },
        "id": "fKEFY0cakDQR",
        "outputId": "a961a39d-b8e0-42ba-db63-ab37128a2368"
      },
      "execution_count": 15,
      "outputs": [
        {
          "output_type": "execute_result",
          "data": {
            "text/plain": [
              "   LIMIT_BAL SEX EDUCATION MARRIAGE  AGE PAY_0 PAY_2 PAY_3 PAY_4 PAY_5  ...  \\\n",
              "0      20000   2         2        1   24     2     2    -1    -1    -2  ...   \n",
              "1     120000   2         2        2   26    -1     2     0     0     0  ...   \n",
              "2      90000   2         2        2   34     0     0     0     0     0  ...   \n",
              "3      50000   2         2        1   37     0     0     0     0     0  ...   \n",
              "4      50000   1         2        1   57    -1     0    -1     0     0  ...   \n",
              "\n",
              "  BILL_AMT4  BILL_AMT5  BILL_AMT6  PAY_AMT1  PAY_AMT2  PAY_AMT3  PAY_AMT4  \\\n",
              "0         0          0          0         0       689         0         0   \n",
              "1      3272       3455       3261         0      1000      1000      1000   \n",
              "2     14331      14948      15549      1518      1500      1000      1000   \n",
              "3     28314      28959      29547      2000      2019      1200      1100   \n",
              "4     20940      19146      19131      2000     36681     10000      9000   \n",
              "\n",
              "   PAY_AMT5  PAY_AMT6  default payment next month  \n",
              "0         0         0                           1  \n",
              "1         0      2000                           1  \n",
              "2      1000      5000                           0  \n",
              "3      1069      1000                           0  \n",
              "4       689       679                           0  \n",
              "\n",
              "[5 rows x 24 columns]"
            ],
            "text/html": [
              "\n",
              "  <div id=\"df-4bfd0b59-ceb1-4bd5-9a21-28750d77e8c6\">\n",
              "    <div class=\"colab-df-container\">\n",
              "      <div>\n",
              "<style scoped>\n",
              "    .dataframe tbody tr th:only-of-type {\n",
              "        vertical-align: middle;\n",
              "    }\n",
              "\n",
              "    .dataframe tbody tr th {\n",
              "        vertical-align: top;\n",
              "    }\n",
              "\n",
              "    .dataframe thead th {\n",
              "        text-align: right;\n",
              "    }\n",
              "</style>\n",
              "<table border=\"1\" class=\"dataframe\">\n",
              "  <thead>\n",
              "    <tr style=\"text-align: right;\">\n",
              "      <th></th>\n",
              "      <th>LIMIT_BAL</th>\n",
              "      <th>SEX</th>\n",
              "      <th>EDUCATION</th>\n",
              "      <th>MARRIAGE</th>\n",
              "      <th>AGE</th>\n",
              "      <th>PAY_0</th>\n",
              "      <th>PAY_2</th>\n",
              "      <th>PAY_3</th>\n",
              "      <th>PAY_4</th>\n",
              "      <th>PAY_5</th>\n",
              "      <th>...</th>\n",
              "      <th>BILL_AMT4</th>\n",
              "      <th>BILL_AMT5</th>\n",
              "      <th>BILL_AMT6</th>\n",
              "      <th>PAY_AMT1</th>\n",
              "      <th>PAY_AMT2</th>\n",
              "      <th>PAY_AMT3</th>\n",
              "      <th>PAY_AMT4</th>\n",
              "      <th>PAY_AMT5</th>\n",
              "      <th>PAY_AMT6</th>\n",
              "      <th>default payment next month</th>\n",
              "    </tr>\n",
              "  </thead>\n",
              "  <tbody>\n",
              "    <tr>\n",
              "      <th>0</th>\n",
              "      <td>20000</td>\n",
              "      <td>2</td>\n",
              "      <td>2</td>\n",
              "      <td>1</td>\n",
              "      <td>24</td>\n",
              "      <td>2</td>\n",
              "      <td>2</td>\n",
              "      <td>-1</td>\n",
              "      <td>-1</td>\n",
              "      <td>-2</td>\n",
              "      <td>...</td>\n",
              "      <td>0</td>\n",
              "      <td>0</td>\n",
              "      <td>0</td>\n",
              "      <td>0</td>\n",
              "      <td>689</td>\n",
              "      <td>0</td>\n",
              "      <td>0</td>\n",
              "      <td>0</td>\n",
              "      <td>0</td>\n",
              "      <td>1</td>\n",
              "    </tr>\n",
              "    <tr>\n",
              "      <th>1</th>\n",
              "      <td>120000</td>\n",
              "      <td>2</td>\n",
              "      <td>2</td>\n",
              "      <td>2</td>\n",
              "      <td>26</td>\n",
              "      <td>-1</td>\n",
              "      <td>2</td>\n",
              "      <td>0</td>\n",
              "      <td>0</td>\n",
              "      <td>0</td>\n",
              "      <td>...</td>\n",
              "      <td>3272</td>\n",
              "      <td>3455</td>\n",
              "      <td>3261</td>\n",
              "      <td>0</td>\n",
              "      <td>1000</td>\n",
              "      <td>1000</td>\n",
              "      <td>1000</td>\n",
              "      <td>0</td>\n",
              "      <td>2000</td>\n",
              "      <td>1</td>\n",
              "    </tr>\n",
              "    <tr>\n",
              "      <th>2</th>\n",
              "      <td>90000</td>\n",
              "      <td>2</td>\n",
              "      <td>2</td>\n",
              "      <td>2</td>\n",
              "      <td>34</td>\n",
              "      <td>0</td>\n",
              "      <td>0</td>\n",
              "      <td>0</td>\n",
              "      <td>0</td>\n",
              "      <td>0</td>\n",
              "      <td>...</td>\n",
              "      <td>14331</td>\n",
              "      <td>14948</td>\n",
              "      <td>15549</td>\n",
              "      <td>1518</td>\n",
              "      <td>1500</td>\n",
              "      <td>1000</td>\n",
              "      <td>1000</td>\n",
              "      <td>1000</td>\n",
              "      <td>5000</td>\n",
              "      <td>0</td>\n",
              "    </tr>\n",
              "    <tr>\n",
              "      <th>3</th>\n",
              "      <td>50000</td>\n",
              "      <td>2</td>\n",
              "      <td>2</td>\n",
              "      <td>1</td>\n",
              "      <td>37</td>\n",
              "      <td>0</td>\n",
              "      <td>0</td>\n",
              "      <td>0</td>\n",
              "      <td>0</td>\n",
              "      <td>0</td>\n",
              "      <td>...</td>\n",
              "      <td>28314</td>\n",
              "      <td>28959</td>\n",
              "      <td>29547</td>\n",
              "      <td>2000</td>\n",
              "      <td>2019</td>\n",
              "      <td>1200</td>\n",
              "      <td>1100</td>\n",
              "      <td>1069</td>\n",
              "      <td>1000</td>\n",
              "      <td>0</td>\n",
              "    </tr>\n",
              "    <tr>\n",
              "      <th>4</th>\n",
              "      <td>50000</td>\n",
              "      <td>1</td>\n",
              "      <td>2</td>\n",
              "      <td>1</td>\n",
              "      <td>57</td>\n",
              "      <td>-1</td>\n",
              "      <td>0</td>\n",
              "      <td>-1</td>\n",
              "      <td>0</td>\n",
              "      <td>0</td>\n",
              "      <td>...</td>\n",
              "      <td>20940</td>\n",
              "      <td>19146</td>\n",
              "      <td>19131</td>\n",
              "      <td>2000</td>\n",
              "      <td>36681</td>\n",
              "      <td>10000</td>\n",
              "      <td>9000</td>\n",
              "      <td>689</td>\n",
              "      <td>679</td>\n",
              "      <td>0</td>\n",
              "    </tr>\n",
              "  </tbody>\n",
              "</table>\n",
              "<p>5 rows × 24 columns</p>\n",
              "</div>\n",
              "      <button class=\"colab-df-convert\" onclick=\"convertToInteractive('df-4bfd0b59-ceb1-4bd5-9a21-28750d77e8c6')\"\n",
              "              title=\"Convert this dataframe to an interactive table.\"\n",
              "              style=\"display:none;\">\n",
              "        \n",
              "  <svg xmlns=\"http://www.w3.org/2000/svg\" height=\"24px\"viewBox=\"0 0 24 24\"\n",
              "       width=\"24px\">\n",
              "    <path d=\"M0 0h24v24H0V0z\" fill=\"none\"/>\n",
              "    <path d=\"M18.56 5.44l.94 2.06.94-2.06 2.06-.94-2.06-.94-.94-2.06-.94 2.06-2.06.94zm-11 1L8.5 8.5l.94-2.06 2.06-.94-2.06-.94L8.5 2.5l-.94 2.06-2.06.94zm10 10l.94 2.06.94-2.06 2.06-.94-2.06-.94-.94-2.06-.94 2.06-2.06.94z\"/><path d=\"M17.41 7.96l-1.37-1.37c-.4-.4-.92-.59-1.43-.59-.52 0-1.04.2-1.43.59L10.3 9.45l-7.72 7.72c-.78.78-.78 2.05 0 2.83L4 21.41c.39.39.9.59 1.41.59.51 0 1.02-.2 1.41-.59l7.78-7.78 2.81-2.81c.8-.78.8-2.07 0-2.86zM5.41 20L4 18.59l7.72-7.72 1.47 1.35L5.41 20z\"/>\n",
              "  </svg>\n",
              "      </button>\n",
              "      \n",
              "  <style>\n",
              "    .colab-df-container {\n",
              "      display:flex;\n",
              "      flex-wrap:wrap;\n",
              "      gap: 12px;\n",
              "    }\n",
              "\n",
              "    .colab-df-convert {\n",
              "      background-color: #E8F0FE;\n",
              "      border: none;\n",
              "      border-radius: 50%;\n",
              "      cursor: pointer;\n",
              "      display: none;\n",
              "      fill: #1967D2;\n",
              "      height: 32px;\n",
              "      padding: 0 0 0 0;\n",
              "      width: 32px;\n",
              "    }\n",
              "\n",
              "    .colab-df-convert:hover {\n",
              "      background-color: #E2EBFA;\n",
              "      box-shadow: 0px 1px 2px rgba(60, 64, 67, 0.3), 0px 1px 3px 1px rgba(60, 64, 67, 0.15);\n",
              "      fill: #174EA6;\n",
              "    }\n",
              "\n",
              "    [theme=dark] .colab-df-convert {\n",
              "      background-color: #3B4455;\n",
              "      fill: #D2E3FC;\n",
              "    }\n",
              "\n",
              "    [theme=dark] .colab-df-convert:hover {\n",
              "      background-color: #434B5C;\n",
              "      box-shadow: 0px 1px 3px 1px rgba(0, 0, 0, 0.15);\n",
              "      filter: drop-shadow(0px 1px 2px rgba(0, 0, 0, 0.3));\n",
              "      fill: #FFFFFF;\n",
              "    }\n",
              "  </style>\n",
              "\n",
              "      <script>\n",
              "        const buttonEl =\n",
              "          document.querySelector('#df-4bfd0b59-ceb1-4bd5-9a21-28750d77e8c6 button.colab-df-convert');\n",
              "        buttonEl.style.display =\n",
              "          google.colab.kernel.accessAllowed ? 'block' : 'none';\n",
              "\n",
              "        async function convertToInteractive(key) {\n",
              "          const element = document.querySelector('#df-4bfd0b59-ceb1-4bd5-9a21-28750d77e8c6');\n",
              "          const dataTable =\n",
              "            await google.colab.kernel.invokeFunction('convertToInteractive',\n",
              "                                                     [key], {});\n",
              "          if (!dataTable) return;\n",
              "\n",
              "          const docLinkHtml = 'Like what you see? Visit the ' +\n",
              "            '<a target=\"_blank\" href=https://colab.research.google.com/notebooks/data_table.ipynb>data table notebook</a>'\n",
              "            + ' to learn more about interactive tables.';\n",
              "          element.innerHTML = '';\n",
              "          dataTable['output_type'] = 'display_data';\n",
              "          await google.colab.output.renderOutput(dataTable, element);\n",
              "          const docLink = document.createElement('div');\n",
              "          docLink.innerHTML = docLinkHtml;\n",
              "          element.appendChild(docLink);\n",
              "        }\n",
              "      </script>\n",
              "    </div>\n",
              "  </div>\n",
              "  "
            ]
          },
          "metadata": {},
          "execution_count": 15
        }
      ]
    },
    {
      "cell_type": "markdown",
      "source": [
        "## Consistencia de datos"
      ],
      "metadata": {
        "id": "OZxsyrMJkU1Y"
      }
    },
    {
      "cell_type": "markdown",
      "source": [
        "Variables categóricas:"
      ],
      "metadata": {
        "id": "zkGB5rtokuNt"
      }
    },
    {
      "cell_type": "code",
      "source": [
        "df_dedupped.dtypes"
      ],
      "metadata": {
        "colab": {
          "base_uri": "https://localhost:8080/"
        },
        "id": "Vp8PXCXEkjya",
        "outputId": "b0dd968b-a1e5-475b-f628-2e5e0f6a8778"
      },
      "execution_count": 16,
      "outputs": [
        {
          "output_type": "execute_result",
          "data": {
            "text/plain": [
              "LIMIT_BAL                      int64\n",
              "SEX                           object\n",
              "EDUCATION                     object\n",
              "MARRIAGE                      object\n",
              "AGE                            int64\n",
              "PAY_0                         object\n",
              "PAY_2                         object\n",
              "PAY_3                         object\n",
              "PAY_4                         object\n",
              "PAY_5                         object\n",
              "PAY_6                         object\n",
              "BILL_AMT1                      int64\n",
              "BILL_AMT2                      int64\n",
              "BILL_AMT3                      int64\n",
              "BILL_AMT4                      int64\n",
              "BILL_AMT5                      int64\n",
              "BILL_AMT6                      int64\n",
              "PAY_AMT1                       int64\n",
              "PAY_AMT2                       int64\n",
              "PAY_AMT3                       int64\n",
              "PAY_AMT4                       int64\n",
              "PAY_AMT5                       int64\n",
              "PAY_AMT6                       int64\n",
              "default payment next month    object\n",
              "dtype: object"
            ]
          },
          "metadata": {},
          "execution_count": 16
        }
      ]
    },
    {
      "cell_type": "code",
      "source": [
        "df_dedupped['SEX'].value_counts()"
      ],
      "metadata": {
        "colab": {
          "base_uri": "https://localhost:8080/"
        },
        "id": "KLERTfVNkGqp",
        "outputId": "f9e17ac3-2ba8-4b91-cf44-271bb6875c51"
      },
      "execution_count": 17,
      "outputs": [
        {
          "output_type": "execute_result",
          "data": {
            "text/plain": [
              "2    17477\n",
              "1    11501\n",
              "Name: SEX, dtype: int64"
            ]
          },
          "metadata": {},
          "execution_count": 17
        }
      ]
    },
    {
      "cell_type": "code",
      "source": [
        "df_dedupped['EDUCATION'].value_counts()"
      ],
      "metadata": {
        "colab": {
          "base_uri": "https://localhost:8080/"
        },
        "id": "MIspOk6Uk3VW",
        "outputId": "240ac021-29ad-448d-bb22-ac839e6b8b6e"
      },
      "execution_count": 18,
      "outputs": [
        {
          "output_type": "execute_result",
          "data": {
            "text/plain": [
              "2    13798\n",
              "1    10275\n",
              "3     4789\n",
              "4      116\n",
              "Name: EDUCATION, dtype: int64"
            ]
          },
          "metadata": {},
          "execution_count": 18
        }
      ]
    },
    {
      "cell_type": "code",
      "source": [
        "df_dedupped['MARRIAGE'].value_counts()"
      ],
      "metadata": {
        "colab": {
          "base_uri": "https://localhost:8080/"
        },
        "id": "M6bMGzr8k-ms",
        "outputId": "8f4fc82e-1391-4e18-af59-9c619d896548"
      },
      "execution_count": 19,
      "outputs": [
        {
          "output_type": "execute_result",
          "data": {
            "text/plain": [
              "2    15486\n",
              "1    13179\n",
              "3      313\n",
              "Name: MARRIAGE, dtype: int64"
            ]
          },
          "metadata": {},
          "execution_count": 19
        }
      ]
    },
    {
      "cell_type": "markdown",
      "source": [
        "No aparece en el diccionario que significa el valor 0 ni -2. Esto fue aclarado en la sección de inconsistencias la cual se encuentra en la descripción inicial de la base."
      ],
      "metadata": {
        "id": "ymdfjFeimI-z"
      }
    },
    {
      "cell_type": "code",
      "source": [
        "df_dedupped['PAY_0'].value_counts() "
      ],
      "metadata": {
        "colab": {
          "base_uri": "https://localhost:8080/"
        },
        "id": "GNxmvVpBlL7M",
        "outputId": "8d56b46e-b8a7-4537-b7b3-c5ebf6ccad05"
      },
      "execution_count": 20,
      "outputs": [
        {
          "output_type": "execute_result",
          "data": {
            "text/plain": [
              "0     14499\n",
              "-1     5625\n",
              "1      3264\n",
              "2      2639\n",
              "-2     2492\n",
              "3       320\n",
              "4        76\n",
              "5        24\n",
              "8        19\n",
              "6        11\n",
              "7         9\n",
              "Name: PAY_0, dtype: int64"
            ]
          },
          "metadata": {},
          "execution_count": 20
        }
      ]
    },
    {
      "cell_type": "code",
      "source": [
        "df_dedupped['PAY_2'].value_counts()"
      ],
      "metadata": {
        "colab": {
          "base_uri": "https://localhost:8080/"
        },
        "id": "or41B22Yl7lt",
        "outputId": "1040fe3d-006a-458d-e8b8-b1a122bcd415"
      },
      "execution_count": 21,
      "outputs": [
        {
          "output_type": "execute_result",
          "data": {
            "text/plain": [
              "0     15476\n",
              "-1     5787\n",
              "2      3903\n",
              "-2     3304\n",
              "3       325\n",
              "4        97\n",
              "1        28\n",
              "5        25\n",
              "7        20\n",
              "6        12\n",
              "8         1\n",
              "Name: PAY_2, dtype: int64"
            ]
          },
          "metadata": {},
          "execution_count": 21
        }
      ]
    },
    {
      "cell_type": "code",
      "source": [
        "df_dedupped['PAY_3'].value_counts()"
      ],
      "metadata": {
        "colab": {
          "base_uri": "https://localhost:8080/"
        },
        "id": "-deqXIc8mQBn",
        "outputId": "27b4a6fd-5b00-4905-c6a8-88d1e5bc7d6e"
      },
      "execution_count": 22,
      "outputs": [
        {
          "output_type": "execute_result",
          "data": {
            "text/plain": [
              "0     15478\n",
              "-1     5651\n",
              "2      3765\n",
              "-2     3695\n",
              "3       236\n",
              "4        75\n",
              "7        27\n",
              "6        23\n",
              "5        21\n",
              "1         4\n",
              "8         3\n",
              "Name: PAY_3, dtype: int64"
            ]
          },
          "metadata": {},
          "execution_count": 22
        }
      ]
    },
    {
      "cell_type": "code",
      "source": [
        "df_dedupped['PAY_4'].value_counts()"
      ],
      "metadata": {
        "colab": {
          "base_uri": "https://localhost:8080/"
        },
        "id": "2tWdv_qXmTyh",
        "outputId": "cac89bbb-ef9a-464f-e1d7-c47085c9074a"
      },
      "execution_count": 23,
      "outputs": [
        {
          "output_type": "execute_result",
          "data": {
            "text/plain": [
              "0     16115\n",
              "-1     5412\n",
              "-2     3986\n",
              "2      3116\n",
              "3       179\n",
              "4        68\n",
              "7        58\n",
              "5        35\n",
              "6         5\n",
              "1         2\n",
              "8         2\n",
              "Name: PAY_4, dtype: int64"
            ]
          },
          "metadata": {},
          "execution_count": 23
        }
      ]
    },
    {
      "cell_type": "code",
      "source": [
        "df_dedupped['PAY_5'].value_counts()"
      ],
      "metadata": {
        "colab": {
          "base_uri": "https://localhost:8080/"
        },
        "id": "Ciy9uL_OmXEQ",
        "outputId": "3d1d6ed1-303b-4aa9-c97e-e07d1a5b3ed5"
      },
      "execution_count": 24,
      "outputs": [
        {
          "output_type": "execute_result",
          "data": {
            "text/plain": [
              "0     16556\n",
              "-1     5299\n",
              "-2     4185\n",
              "2      2599\n",
              "3       176\n",
              "4        83\n",
              "7        58\n",
              "5        17\n",
              "6         4\n",
              "8         1\n",
              "Name: PAY_5, dtype: int64"
            ]
          },
          "metadata": {},
          "execution_count": 24
        }
      ]
    },
    {
      "cell_type": "code",
      "source": [
        "df_dedupped['PAY_6'].value_counts()"
      ],
      "metadata": {
        "colab": {
          "base_uri": "https://localhost:8080/"
        },
        "id": "bYcIWn8WmcMi",
        "outputId": "34190153-6f7c-4a60-bf38-c589819d682d"
      },
      "execution_count": 25,
      "outputs": [
        {
          "output_type": "execute_result",
          "data": {
            "text/plain": [
              "0     15924\n",
              "-1     5490\n",
              "-2     4515\n",
              "2      2739\n",
              "3       182\n",
              "4        48\n",
              "7        46\n",
              "6        19\n",
              "5        13\n",
              "8         2\n",
              "Name: PAY_6, dtype: int64"
            ]
          },
          "metadata": {},
          "execution_count": 25
        }
      ]
    },
    {
      "cell_type": "code",
      "source": [
        "df_dedupped['default payment next month'].value_counts()\n"
      ],
      "metadata": {
        "colab": {
          "base_uri": "https://localhost:8080/"
        },
        "id": "vZJqhWtdm2HM",
        "outputId": "c130cdd9-a34b-4c71-d0f1-0e72395bc8b4"
      },
      "execution_count": 26,
      "outputs": [
        {
          "output_type": "execute_result",
          "data": {
            "text/plain": [
              "0    22488\n",
              "1     6490\n",
              "Name: default payment next month, dtype: int64"
            ]
          },
          "metadata": {},
          "execution_count": 26
        }
      ]
    },
    {
      "cell_type": "markdown",
      "source": [
        "Variables cuantitativas:"
      ],
      "metadata": {
        "id": "4N2VbPCTnDrL"
      }
    },
    {
      "cell_type": "code",
      "source": [
        "df_dedupped['LIMIT_BAL'].describe()"
      ],
      "metadata": {
        "colab": {
          "base_uri": "https://localhost:8080/"
        },
        "id": "gc4kgf9XnFYo",
        "outputId": "8b1d2e6c-22ed-4024-8d67-5b627f1d146b"
      },
      "execution_count": 27,
      "outputs": [
        {
          "output_type": "execute_result",
          "data": {
            "text/plain": [
              "count      28978.000000\n",
              "mean      166466.411761\n",
              "std       129809.238372\n",
              "min        10000.000000\n",
              "25%        50000.000000\n",
              "50%       140000.000000\n",
              "75%       240000.000000\n",
              "max      1000000.000000\n",
              "Name: LIMIT_BAL, dtype: float64"
            ]
          },
          "metadata": {},
          "execution_count": 27
        }
      ]
    },
    {
      "cell_type": "code",
      "source": [
        "df_dedupped['AGE'].describe()"
      ],
      "metadata": {
        "colab": {
          "base_uri": "https://localhost:8080/"
        },
        "id": "tQ0vNT9OnuDQ",
        "outputId": "d50c8935-2a1d-48ee-c242-1a5da687101d"
      },
      "execution_count": 28,
      "outputs": [
        {
          "output_type": "execute_result",
          "data": {
            "text/plain": [
              "count    28978.000000\n",
              "mean        35.443543\n",
              "std          9.216877\n",
              "min         21.000000\n",
              "25%         28.000000\n",
              "50%         34.000000\n",
              "75%         41.000000\n",
              "max         79.000000\n",
              "Name: AGE, dtype: float64"
            ]
          },
          "metadata": {},
          "execution_count": 28
        }
      ]
    },
    {
      "cell_type": "code",
      "source": [
        "#Dinero que deben desde abril hasta septiembre del 2005:"
      ],
      "metadata": {
        "id": "ZUfvAdHlowGA"
      },
      "execution_count": 29,
      "outputs": []
    },
    {
      "cell_type": "code",
      "source": [
        "df_dedupped['BILL_AMT1'].describe()"
      ],
      "metadata": {
        "colab": {
          "base_uri": "https://localhost:8080/"
        },
        "id": "md7s5u_soVUb",
        "outputId": "4392c753-b43e-4e19-f079-d8941ffc6532"
      },
      "execution_count": 30,
      "outputs": [
        {
          "output_type": "execute_result",
          "data": {
            "text/plain": [
              "count     28978.000000\n",
              "mean      52076.273621\n",
              "std       73740.369257\n",
              "min           0.000000\n",
              "25%        4236.500000\n",
              "50%       23741.500000\n",
              "75%       68250.000000\n",
              "max      964511.000000\n",
              "Name: BILL_AMT1, dtype: float64"
            ]
          },
          "metadata": {},
          "execution_count": 30
        }
      ]
    },
    {
      "cell_type": "markdown",
      "source": [
        "De acuerdo a la variable BILL_AMT se presentan valores negativos en los montos que deben esto está aclarado en la sección de inconsistencias en la parte inicial en la descripción de la base."
      ],
      "metadata": {
        "id": "7f01tv04cSYX"
      }
    },
    {
      "cell_type": "code",
      "source": [
        "df_dedupped['BILL_AMT2'].describe() "
      ],
      "metadata": {
        "colab": {
          "base_uri": "https://localhost:8080/"
        },
        "id": "3afMkfJvo_jw",
        "outputId": "bd53410c-e41e-4cd1-c12d-634f32fb87fa"
      },
      "execution_count": 31,
      "outputs": [
        {
          "output_type": "execute_result",
          "data": {
            "text/plain": [
              "count     28978.000000\n",
              "mean      49853.684105\n",
              "std       71311.645079\n",
              "min      -69777.000000\n",
              "25%        3469.000000\n",
              "50%       22300.500000\n",
              "75%       65067.250000\n",
              "max      983931.000000\n",
              "Name: BILL_AMT2, dtype: float64"
            ]
          },
          "metadata": {},
          "execution_count": 31
        }
      ]
    },
    {
      "cell_type": "code",
      "source": [
        "df_dedupped['BILL_AMT3'].describe() #Mas pasa el tiempo más deben"
      ],
      "metadata": {
        "colab": {
          "base_uri": "https://localhost:8080/"
        },
        "id": "igJl_WzLpO8I",
        "outputId": "e9b66731-b8ee-424f-8fe0-8392ccbb9b98"
      },
      "execution_count": 32,
      "outputs": [
        {
          "output_type": "execute_result",
          "data": {
            "text/plain": [
              "count    2.897800e+04\n",
              "mean     4.760700e+04\n",
              "std      6.946401e+04\n",
              "min     -1.572640e+05\n",
              "25%      3.125250e+03\n",
              "50%      2.071800e+04\n",
              "75%      6.110925e+04\n",
              "max      1.664089e+06\n",
              "Name: BILL_AMT3, dtype: float64"
            ]
          },
          "metadata": {},
          "execution_count": 32
        }
      ]
    },
    {
      "cell_type": "code",
      "source": [
        "df_dedupped['BILL_AMT4'].describe()"
      ],
      "metadata": {
        "colab": {
          "base_uri": "https://localhost:8080/"
        },
        "id": "FcZEV2qipblJ",
        "outputId": "fdb94b08-0d1b-4696-a337-611e076fef8e"
      },
      "execution_count": 33,
      "outputs": [
        {
          "output_type": "execute_result",
          "data": {
            "text/plain": [
              "count     28978.000000\n",
              "mean      43851.809062\n",
              "std       64547.161262\n",
              "min     -170000.000000\n",
              "25%        2589.000000\n",
              "50%       19407.500000\n",
              "75%       55627.250000\n",
              "max      891586.000000\n",
              "Name: BILL_AMT4, dtype: float64"
            ]
          },
          "metadata": {},
          "execution_count": 33
        }
      ]
    },
    {
      "cell_type": "code",
      "source": [
        "df_dedupped['BILL_AMT5'].describe()"
      ],
      "metadata": {
        "colab": {
          "base_uri": "https://localhost:8080/"
        },
        "id": "VzaThCI0p6zv",
        "outputId": "f59c0862-81fa-467f-8350-535ef06dca9f"
      },
      "execution_count": 34,
      "outputs": [
        {
          "output_type": "execute_result",
          "data": {
            "text/plain": [
              "count     28978.000000\n",
              "mean      40894.253227\n",
              "std       61022.037811\n",
              "min      -81334.000000\n",
              "25%        2026.000000\n",
              "50%       18524.500000\n",
              "75%       50776.250000\n",
              "max      927171.000000\n",
              "Name: BILL_AMT5, dtype: float64"
            ]
          },
          "metadata": {},
          "execution_count": 34
        }
      ]
    },
    {
      "cell_type": "code",
      "source": [
        "df_dedupped['BILL_AMT6'].describe()                                 "
      ],
      "metadata": {
        "colab": {
          "base_uri": "https://localhost:8080/"
        },
        "id": "xS3btSrMn0tx",
        "outputId": "a0767f66-dde8-4e37-ac74-ce71431bb385"
      },
      "execution_count": 35,
      "outputs": [
        {
          "output_type": "execute_result",
          "data": {
            "text/plain": [
              "count     28978.000000\n",
              "mean      39493.847160\n",
              "std       59842.995365\n",
              "min     -339603.000000\n",
              "25%        1450.000000\n",
              "50%       17670.000000\n",
              "75%       49735.750000\n",
              "max      961664.000000\n",
              "Name: BILL_AMT6, dtype: float64"
            ]
          },
          "metadata": {},
          "execution_count": 35
        }
      ]
    },
    {
      "cell_type": "code",
      "source": [
        "#Dinero que ya se pagó"
      ],
      "metadata": {
        "id": "bvQqqleuqSoz"
      },
      "execution_count": 36,
      "outputs": []
    },
    {
      "cell_type": "code",
      "source": [
        "df_dedupped[['PAY_AMT1','PAY_AMT2','PAY_AMT3', 'PAY_AMT4', 'PAY_AMT5', 'PAY_AMT6']].describe()"
      ],
      "metadata": {
        "colab": {
          "base_uri": "https://localhost:8080/",
          "height": 0
        },
        "id": "HUe8PpuzrYxg",
        "outputId": "6ca946d7-7763-4033-d990-ff0bc5aa8341"
      },
      "execution_count": 37,
      "outputs": [
        {
          "output_type": "execute_result",
          "data": {
            "text/plain": [
              "            PAY_AMT1      PAY_AMT2       PAY_AMT3       PAY_AMT4  \\\n",
              "count   28978.000000  2.897800e+04   28978.000000   28978.000000   \n",
              "mean     5592.748326  5.857845e+03    5210.288460    4837.219097   \n",
              "std     16105.550809  2.288608e+04   17611.263646   15694.812867   \n",
              "min         0.000000  0.000000e+00       0.000000       0.000000   \n",
              "25%      1000.000000  9.785000e+02     419.000000     316.000000   \n",
              "50%      2135.000000  2.022500e+03    1842.000000    1500.000000   \n",
              "75%      5009.000000  5.000000e+03    4531.750000    4056.000000   \n",
              "max    873552.000000  1.684259e+06  896040.000000  621000.000000   \n",
              "\n",
              "            PAY_AMT5       PAY_AMT6  \n",
              "count   28978.000000   28978.000000  \n",
              "mean     4805.112637    5213.798364  \n",
              "std     15170.625750   17767.782330  \n",
              "min         0.000000       0.000000  \n",
              "25%       300.000000     184.250000  \n",
              "50%      1526.500000    1500.000000  \n",
              "75%      4095.000000    4006.000000  \n",
              "max    426529.000000  528666.000000  "
            ],
            "text/html": [
              "\n",
              "  <div id=\"df-4b981367-bdb3-4b17-9466-600938584060\">\n",
              "    <div class=\"colab-df-container\">\n",
              "      <div>\n",
              "<style scoped>\n",
              "    .dataframe tbody tr th:only-of-type {\n",
              "        vertical-align: middle;\n",
              "    }\n",
              "\n",
              "    .dataframe tbody tr th {\n",
              "        vertical-align: top;\n",
              "    }\n",
              "\n",
              "    .dataframe thead th {\n",
              "        text-align: right;\n",
              "    }\n",
              "</style>\n",
              "<table border=\"1\" class=\"dataframe\">\n",
              "  <thead>\n",
              "    <tr style=\"text-align: right;\">\n",
              "      <th></th>\n",
              "      <th>PAY_AMT1</th>\n",
              "      <th>PAY_AMT2</th>\n",
              "      <th>PAY_AMT3</th>\n",
              "      <th>PAY_AMT4</th>\n",
              "      <th>PAY_AMT5</th>\n",
              "      <th>PAY_AMT6</th>\n",
              "    </tr>\n",
              "  </thead>\n",
              "  <tbody>\n",
              "    <tr>\n",
              "      <th>count</th>\n",
              "      <td>28978.000000</td>\n",
              "      <td>2.897800e+04</td>\n",
              "      <td>28978.000000</td>\n",
              "      <td>28978.000000</td>\n",
              "      <td>28978.000000</td>\n",
              "      <td>28978.000000</td>\n",
              "    </tr>\n",
              "    <tr>\n",
              "      <th>mean</th>\n",
              "      <td>5592.748326</td>\n",
              "      <td>5.857845e+03</td>\n",
              "      <td>5210.288460</td>\n",
              "      <td>4837.219097</td>\n",
              "      <td>4805.112637</td>\n",
              "      <td>5213.798364</td>\n",
              "    </tr>\n",
              "    <tr>\n",
              "      <th>std</th>\n",
              "      <td>16105.550809</td>\n",
              "      <td>2.288608e+04</td>\n",
              "      <td>17611.263646</td>\n",
              "      <td>15694.812867</td>\n",
              "      <td>15170.625750</td>\n",
              "      <td>17767.782330</td>\n",
              "    </tr>\n",
              "    <tr>\n",
              "      <th>min</th>\n",
              "      <td>0.000000</td>\n",
              "      <td>0.000000e+00</td>\n",
              "      <td>0.000000</td>\n",
              "      <td>0.000000</td>\n",
              "      <td>0.000000</td>\n",
              "      <td>0.000000</td>\n",
              "    </tr>\n",
              "    <tr>\n",
              "      <th>25%</th>\n",
              "      <td>1000.000000</td>\n",
              "      <td>9.785000e+02</td>\n",
              "      <td>419.000000</td>\n",
              "      <td>316.000000</td>\n",
              "      <td>300.000000</td>\n",
              "      <td>184.250000</td>\n",
              "    </tr>\n",
              "    <tr>\n",
              "      <th>50%</th>\n",
              "      <td>2135.000000</td>\n",
              "      <td>2.022500e+03</td>\n",
              "      <td>1842.000000</td>\n",
              "      <td>1500.000000</td>\n",
              "      <td>1526.500000</td>\n",
              "      <td>1500.000000</td>\n",
              "    </tr>\n",
              "    <tr>\n",
              "      <th>75%</th>\n",
              "      <td>5009.000000</td>\n",
              "      <td>5.000000e+03</td>\n",
              "      <td>4531.750000</td>\n",
              "      <td>4056.000000</td>\n",
              "      <td>4095.000000</td>\n",
              "      <td>4006.000000</td>\n",
              "    </tr>\n",
              "    <tr>\n",
              "      <th>max</th>\n",
              "      <td>873552.000000</td>\n",
              "      <td>1.684259e+06</td>\n",
              "      <td>896040.000000</td>\n",
              "      <td>621000.000000</td>\n",
              "      <td>426529.000000</td>\n",
              "      <td>528666.000000</td>\n",
              "    </tr>\n",
              "  </tbody>\n",
              "</table>\n",
              "</div>\n",
              "      <button class=\"colab-df-convert\" onclick=\"convertToInteractive('df-4b981367-bdb3-4b17-9466-600938584060')\"\n",
              "              title=\"Convert this dataframe to an interactive table.\"\n",
              "              style=\"display:none;\">\n",
              "        \n",
              "  <svg xmlns=\"http://www.w3.org/2000/svg\" height=\"24px\"viewBox=\"0 0 24 24\"\n",
              "       width=\"24px\">\n",
              "    <path d=\"M0 0h24v24H0V0z\" fill=\"none\"/>\n",
              "    <path d=\"M18.56 5.44l.94 2.06.94-2.06 2.06-.94-2.06-.94-.94-2.06-.94 2.06-2.06.94zm-11 1L8.5 8.5l.94-2.06 2.06-.94-2.06-.94L8.5 2.5l-.94 2.06-2.06.94zm10 10l.94 2.06.94-2.06 2.06-.94-2.06-.94-.94-2.06-.94 2.06-2.06.94z\"/><path d=\"M17.41 7.96l-1.37-1.37c-.4-.4-.92-.59-1.43-.59-.52 0-1.04.2-1.43.59L10.3 9.45l-7.72 7.72c-.78.78-.78 2.05 0 2.83L4 21.41c.39.39.9.59 1.41.59.51 0 1.02-.2 1.41-.59l7.78-7.78 2.81-2.81c.8-.78.8-2.07 0-2.86zM5.41 20L4 18.59l7.72-7.72 1.47 1.35L5.41 20z\"/>\n",
              "  </svg>\n",
              "      </button>\n",
              "      \n",
              "  <style>\n",
              "    .colab-df-container {\n",
              "      display:flex;\n",
              "      flex-wrap:wrap;\n",
              "      gap: 12px;\n",
              "    }\n",
              "\n",
              "    .colab-df-convert {\n",
              "      background-color: #E8F0FE;\n",
              "      border: none;\n",
              "      border-radius: 50%;\n",
              "      cursor: pointer;\n",
              "      display: none;\n",
              "      fill: #1967D2;\n",
              "      height: 32px;\n",
              "      padding: 0 0 0 0;\n",
              "      width: 32px;\n",
              "    }\n",
              "\n",
              "    .colab-df-convert:hover {\n",
              "      background-color: #E2EBFA;\n",
              "      box-shadow: 0px 1px 2px rgba(60, 64, 67, 0.3), 0px 1px 3px 1px rgba(60, 64, 67, 0.15);\n",
              "      fill: #174EA6;\n",
              "    }\n",
              "\n",
              "    [theme=dark] .colab-df-convert {\n",
              "      background-color: #3B4455;\n",
              "      fill: #D2E3FC;\n",
              "    }\n",
              "\n",
              "    [theme=dark] .colab-df-convert:hover {\n",
              "      background-color: #434B5C;\n",
              "      box-shadow: 0px 1px 3px 1px rgba(0, 0, 0, 0.15);\n",
              "      filter: drop-shadow(0px 1px 2px rgba(0, 0, 0, 0.3));\n",
              "      fill: #FFFFFF;\n",
              "    }\n",
              "  </style>\n",
              "\n",
              "      <script>\n",
              "        const buttonEl =\n",
              "          document.querySelector('#df-4b981367-bdb3-4b17-9466-600938584060 button.colab-df-convert');\n",
              "        buttonEl.style.display =\n",
              "          google.colab.kernel.accessAllowed ? 'block' : 'none';\n",
              "\n",
              "        async function convertToInteractive(key) {\n",
              "          const element = document.querySelector('#df-4b981367-bdb3-4b17-9466-600938584060');\n",
              "          const dataTable =\n",
              "            await google.colab.kernel.invokeFunction('convertToInteractive',\n",
              "                                                     [key], {});\n",
              "          if (!dataTable) return;\n",
              "\n",
              "          const docLinkHtml = 'Like what you see? Visit the ' +\n",
              "            '<a target=\"_blank\" href=https://colab.research.google.com/notebooks/data_table.ipynb>data table notebook</a>'\n",
              "            + ' to learn more about interactive tables.';\n",
              "          element.innerHTML = '';\n",
              "          dataTable['output_type'] = 'display_data';\n",
              "          await google.colab.output.renderOutput(dataTable, element);\n",
              "          const docLink = document.createElement('div');\n",
              "          docLink.innerHTML = docLinkHtml;\n",
              "          element.appendChild(docLink);\n",
              "        }\n",
              "      </script>\n",
              "    </div>\n",
              "  </div>\n",
              "  "
            ]
          },
          "metadata": {},
          "execution_count": 37
        }
      ]
    },
    {
      "cell_type": "markdown",
      "source": [
        "## Selección variables explicativas"
      ],
      "metadata": {
        "id": "1dfY64mRc9l_"
      }
    },
    {
      "cell_type": "markdown",
      "source": [
        "- Selección de la variable a clasificar: Dummy (1 y 0) DEFAULT PAYMENT NEXT MONTH: 1 hay un incumplimiento de pago para octubre de 2005 0 quiere decir que no está incumpliendo."
      ],
      "metadata": {
        "id": "BJ39CPX9dIWX"
      }
    },
    {
      "cell_type": "markdown",
      "source": [
        "- Selección de las variables independientes: ¿Qué podría explicar o que nos ayudaría a clasificar que un individuo sea incumplido o no con el pago?"
      ],
      "metadata": {
        "id": "hvmduydleJPn"
      }
    },
    {
      "cell_type": "code",
      "source": [
        "temp = df_dedupped['default payment next month'].value_counts()\n",
        "df = pd.DataFrame({'default payment next month': temp.index,'values': temp.values})\n",
        "plt.figure(figsize = (6,6))\n",
        "plt.title('Pagos por defecto de los clientes en Taiwán ')\n",
        "sns.set_color_codes(\"pastel\")\n",
        "sns.barplot(x = 'default payment next month', y= \"values\", data=df)\n",
        "locs, labels = plt.xticks()\n",
        "plt.show()"
      ],
      "metadata": {
        "colab": {
          "base_uri": "https://localhost:8080/",
          "height": 404
        },
        "id": "K_GOwFohw2rm",
        "outputId": "a036034a-03e8-47ae-9176-4b9cf6d61291"
      },
      "execution_count": null,
      "outputs": [
        {
          "output_type": "display_data",
          "data": {
            "text/plain": [
              "<Figure size 432x432 with 1 Axes>"
            ],
            "image/png": "[encoded data removed]"
          },
          "metadata": {
            "needs_background": "light"
          }
        }
      ]
    },
    {
      "cell_type": "markdown",
      "source": [
        "Si el valor es 1 hay un incumplimiento de pago para el siguiente mes. (Octubre 2005) En su mayoria son más aquellos que cumplen que los que incumplen."
      ],
      "metadata": {
        "id": "ntqr7prTx3d0"
      }
    },
    {
      "cell_type": "markdown",
      "source": [
        "Variables cuantitativas:"
      ],
      "metadata": {
        "id": "6kMttXkZehxH"
      }
    },
    {
      "cell_type": "code",
      "source": [
        "df1 = df.iloc[:, [0,4,11,12,13,14,15,16,17,18,19,20,21,22]] ; df1"
      ],
      "metadata": {
        "colab": {
          "base_uri": "https://localhost:8080/",
          "height": 468
        },
        "id": "DXhZ331PupgU",
        "outputId": "038bf855-9d49-446a-9219-cd03372df05d"
      },
      "execution_count": null,
      "outputs": [
        {
          "output_type": "execute_result",
          "data": {
            "text/plain": [
              "       LIMIT_BAL  AGE  BILL_AMT1  BILL_AMT2  BILL_AMT3  BILL_AMT4  BILL_AMT5  \\\n",
              "0          20000   24       3913       3102        689          0          0   \n",
              "1         120000   26       2682       1725       2682       3272       3455   \n",
              "2          90000   34      29239      14027      13559      14331      14948   \n",
              "3          50000   37      46990      48233      49291      28314      28959   \n",
              "4          50000   57       8617       5670      35835      20940      19146   \n",
              "...          ...  ...        ...        ...        ...        ...        ...   \n",
              "29994      80000   34      72557      77708      79384      77519      82607   \n",
              "29995     220000   39     188948     192815     208365      88004      31237   \n",
              "29996     150000   43       1683       1828       3502       8979       5190   \n",
              "29997      30000   37       3565       3356       2758      20878      20582   \n",
              "29999      50000   46      47929      48905      49764      36535      32428   \n",
              "\n",
              "       BILL_AMT6  PAY_AMT1  PAY_AMT2  PAY_AMT3  PAY_AMT4  PAY_AMT5  PAY_AMT6  \n",
              "0              0         0       689         0         0         0         0  \n",
              "1           3261         0      1000      1000      1000         0      2000  \n",
              "2          15549      1518      1500      1000      1000      1000      5000  \n",
              "3          29547      2000      2019      1200      1100      1069      1000  \n",
              "4          19131      2000     36681     10000      9000       689       679  \n",
              "...          ...       ...       ...       ...       ...       ...       ...  \n",
              "29994      81158      7000      3500         0      7000         0      4000  \n",
              "29995      15980      8500     20000      5003      3047      5000      1000  \n",
              "29996          0      1837      3526      8998       129         0         0  \n",
              "29997      19357         0         0     22000      4200      2000      3100  \n",
              "29999      15313      2078      1800      1430      1000      1000      1000  \n",
              "\n",
              "[29013 rows x 14 columns]"
            ],
            "text/html": [
              "\n",
              "  <div id=\"df-df30ec8e-6efd-439a-9bbc-386872bad2ed\">\n",
              "    <div class=\"colab-df-container\">\n",
              "      <div>\n",
              "<style scoped>\n",
              "    .dataframe tbody tr th:only-of-type {\n",
              "        vertical-align: middle;\n",
              "    }\n",
              "\n",
              "    .dataframe tbody tr th {\n",
              "        vertical-align: top;\n",
              "    }\n",
              "\n",
              "    .dataframe thead th {\n",
              "        text-align: right;\n",
              "    }\n",
              "</style>\n",
              "<table border=\"1\" class=\"dataframe\">\n",
              "  <thead>\n",
              "    <tr style=\"text-align: right;\">\n",
              "      <th></th>\n",
              "      <th>LIMIT_BAL</th>\n",
              "      <th>AGE</th>\n",
              "      <th>BILL_AMT1</th>\n",
              "      <th>BILL_AMT2</th>\n",
              "      <th>BILL_AMT3</th>\n",
              "      <th>BILL_AMT4</th>\n",
              "      <th>BILL_AMT5</th>\n",
              "      <th>BILL_AMT6</th>\n",
              "      <th>PAY_AMT1</th>\n",
              "      <th>PAY_AMT2</th>\n",
              "      <th>PAY_AMT3</th>\n",
              "      <th>PAY_AMT4</th>\n",
              "      <th>PAY_AMT5</th>\n",
              "      <th>PAY_AMT6</th>\n",
              "    </tr>\n",
              "  </thead>\n",
              "  <tbody>\n",
              "    <tr>\n",
              "      <th>0</th>\n",
              "      <td>20000</td>\n",
              "      <td>24</td>\n",
              "      <td>3913</td>\n",
              "      <td>3102</td>\n",
              "      <td>689</td>\n",
              "      <td>0</td>\n",
              "      <td>0</td>\n",
              "      <td>0</td>\n",
              "      <td>0</td>\n",
              "      <td>689</td>\n",
              "      <td>0</td>\n",
              "      <td>0</td>\n",
              "      <td>0</td>\n",
              "      <td>0</td>\n",
              "    </tr>\n",
              "    <tr>\n",
              "      <th>1</th>\n",
              "      <td>120000</td>\n",
              "      <td>26</td>\n",
              "      <td>2682</td>\n",
              "      <td>1725</td>\n",
              "      <td>2682</td>\n",
              "      <td>3272</td>\n",
              "      <td>3455</td>\n",
              "      <td>3261</td>\n",
              "      <td>0</td>\n",
              "      <td>1000</td>\n",
              "      <td>1000</td>\n",
              "      <td>1000</td>\n",
              "      <td>0</td>\n",
              "      <td>2000</td>\n",
              "    </tr>\n",
              "    <tr>\n",
              "      <th>2</th>\n",
              "      <td>90000</td>\n",
              "      <td>34</td>\n",
              "      <td>29239</td>\n",
              "      <td>14027</td>\n",
              "      <td>13559</td>\n",
              "      <td>14331</td>\n",
              "      <td>14948</td>\n",
              "      <td>15549</td>\n",
              "      <td>1518</td>\n",
              "      <td>1500</td>\n",
              "      <td>1000</td>\n",
              "      <td>1000</td>\n",
              "      <td>1000</td>\n",
              "      <td>5000</td>\n",
              "    </tr>\n",
              "    <tr>\n",
              "      <th>3</th>\n",
              "      <td>50000</td>\n",
              "      <td>37</td>\n",
              "      <td>46990</td>\n",
              "      <td>48233</td>\n",
              "      <td>49291</td>\n",
              "      <td>28314</td>\n",
              "      <td>28959</td>\n",
              "      <td>29547</td>\n",
              "      <td>2000</td>\n",
              "      <td>2019</td>\n",
              "      <td>1200</td>\n",
              "      <td>1100</td>\n",
              "      <td>1069</td>\n",
              "      <td>1000</td>\n",
              "    </tr>\n",
              "    <tr>\n",
              "      <th>4</th>\n",
              "      <td>50000</td>\n",
              "      <td>57</td>\n",
              "      <td>8617</td>\n",
              "      <td>5670</td>\n",
              "      <td>35835</td>\n",
              "      <td>20940</td>\n",
              "      <td>19146</td>\n",
              "      <td>19131</td>\n",
              "      <td>2000</td>\n",
              "      <td>36681</td>\n",
              "      <td>10000</td>\n",
              "      <td>9000</td>\n",
              "      <td>689</td>\n",
              "      <td>679</td>\n",
              "    </tr>\n",
              "    <tr>\n",
              "      <th>...</th>\n",
              "      <td>...</td>\n",
              "      <td>...</td>\n",
              "      <td>...</td>\n",
              "      <td>...</td>\n",
              "      <td>...</td>\n",
              "      <td>...</td>\n",
              "      <td>...</td>\n",
              "      <td>...</td>\n",
              "      <td>...</td>\n",
              "      <td>...</td>\n",
              "      <td>...</td>\n",
              "      <td>...</td>\n",
              "      <td>...</td>\n",
              "      <td>...</td>\n",
              "    </tr>\n",
              "    <tr>\n",
              "      <th>29994</th>\n",
              "      <td>80000</td>\n",
              "      <td>34</td>\n",
              "      <td>72557</td>\n",
              "      <td>77708</td>\n",
              "      <td>79384</td>\n",
              "      <td>77519</td>\n",
              "      <td>82607</td>\n",
              "      <td>81158</td>\n",
              "      <td>7000</td>\n",
              "      <td>3500</td>\n",
              "      <td>0</td>\n",
              "      <td>7000</td>\n",
              "      <td>0</td>\n",
              "      <td>4000</td>\n",
              "    </tr>\n",
              "    <tr>\n",
              "      <th>29995</th>\n",
              "      <td>220000</td>\n",
              "      <td>39</td>\n",
              "      <td>188948</td>\n",
              "      <td>192815</td>\n",
              "      <td>208365</td>\n",
              "      <td>88004</td>\n",
              "      <td>31237</td>\n",
              "      <td>15980</td>\n",
              "      <td>8500</td>\n",
              "      <td>20000</td>\n",
              "      <td>5003</td>\n",
              "      <td>3047</td>\n",
              "      <td>5000</td>\n",
              "      <td>1000</td>\n",
              "    </tr>\n",
              "    <tr>\n",
              "      <th>29996</th>\n",
              "      <td>150000</td>\n",
              "      <td>43</td>\n",
              "      <td>1683</td>\n",
              "      <td>1828</td>\n",
              "      <td>3502</td>\n",
              "      <td>8979</td>\n",
              "      <td>5190</td>\n",
              "      <td>0</td>\n",
              "      <td>1837</td>\n",
              "      <td>3526</td>\n",
              "      <td>8998</td>\n",
              "      <td>129</td>\n",
              "      <td>0</td>\n",
              "      <td>0</td>\n",
              "    </tr>\n",
              "    <tr>\n",
              "      <th>29997</th>\n",
              "      <td>30000</td>\n",
              "      <td>37</td>\n",
              "      <td>3565</td>\n",
              "      <td>3356</td>\n",
              "      <td>2758</td>\n",
              "      <td>20878</td>\n",
              "      <td>20582</td>\n",
              "      <td>19357</td>\n",
              "      <td>0</td>\n",
              "      <td>0</td>\n",
              "      <td>22000</td>\n",
              "      <td>4200</td>\n",
              "      <td>2000</td>\n",
              "      <td>3100</td>\n",
              "    </tr>\n",
              "    <tr>\n",
              "      <th>29999</th>\n",
              "      <td>50000</td>\n",
              "      <td>46</td>\n",
              "      <td>47929</td>\n",
              "      <td>48905</td>\n",
              "      <td>49764</td>\n",
              "      <td>36535</td>\n",
              "      <td>32428</td>\n",
              "      <td>15313</td>\n",
              "      <td>2078</td>\n",
              "      <td>1800</td>\n",
              "      <td>1430</td>\n",
              "      <td>1000</td>\n",
              "      <td>1000</td>\n",
              "      <td>1000</td>\n",
              "    </tr>\n",
              "  </tbody>\n",
              "</table>\n",
              "<p>29013 rows × 14 columns</p>\n",
              "</div>\n",
              "      <button class=\"colab-df-convert\" onclick=\"convertToInteractive('df-df30ec8e-6efd-439a-9bbc-386872bad2ed')\"\n",
              "              title=\"Convert this dataframe to an interactive table.\"\n",
              "              style=\"display:none;\">\n",
              "        \n",
              "  <svg xmlns=\"http://www.w3.org/2000/svg\" height=\"24px\"viewBox=\"0 0 24 24\"\n",
              "       width=\"24px\">\n",
              "    <path d=\"M0 0h24v24H0V0z\" fill=\"none\"/>\n",
              "    <path d=\"M18.56 5.44l.94 2.06.94-2.06 2.06-.94-2.06-.94-.94-2.06-.94 2.06-2.06.94zm-11 1L8.5 8.5l.94-2.06 2.06-.94-2.06-.94L8.5 2.5l-.94 2.06-2.06.94zm10 10l.94 2.06.94-2.06 2.06-.94-2.06-.94-.94-2.06-.94 2.06-2.06.94z\"/><path d=\"M17.41 7.96l-1.37-1.37c-.4-.4-.92-.59-1.43-.59-.52 0-1.04.2-1.43.59L10.3 9.45l-7.72 7.72c-.78.78-.78 2.05 0 2.83L4 21.41c.39.39.9.59 1.41.59.51 0 1.02-.2 1.41-.59l7.78-7.78 2.81-2.81c.8-.78.8-2.07 0-2.86zM5.41 20L4 18.59l7.72-7.72 1.47 1.35L5.41 20z\"/>\n",
              "  </svg>\n",
              "      </button>\n",
              "      \n",
              "  <style>\n",
              "    .colab-df-container {\n",
              "      display:flex;\n",
              "      flex-wrap:wrap;\n",
              "      gap: 12px;\n",
              "    }\n",
              "\n",
              "    .colab-df-convert {\n",
              "      background-color: #E8F0FE;\n",
              "      border: none;\n",
              "      border-radius: 50%;\n",
              "      cursor: pointer;\n",
              "      display: none;\n",
              "      fill: #1967D2;\n",
              "      height: 32px;\n",
              "      padding: 0 0 0 0;\n",
              "      width: 32px;\n",
              "    }\n",
              "\n",
              "    .colab-df-convert:hover {\n",
              "      background-color: #E2EBFA;\n",
              "      box-shadow: 0px 1px 2px rgba(60, 64, 67, 0.3), 0px 1px 3px 1px rgba(60, 64, 67, 0.15);\n",
              "      fill: #174EA6;\n",
              "    }\n",
              "\n",
              "    [theme=dark] .colab-df-convert {\n",
              "      background-color: #3B4455;\n",
              "      fill: #D2E3FC;\n",
              "    }\n",
              "\n",
              "    [theme=dark] .colab-df-convert:hover {\n",
              "      background-color: #434B5C;\n",
              "      box-shadow: 0px 1px 3px 1px rgba(0, 0, 0, 0.15);\n",
              "      filter: drop-shadow(0px 1px 2px rgba(0, 0, 0, 0.3));\n",
              "      fill: #FFFFFF;\n",
              "    }\n",
              "  </style>\n",
              "\n",
              "      <script>\n",
              "        const buttonEl =\n",
              "          document.querySelector('#df-df30ec8e-6efd-439a-9bbc-386872bad2ed button.colab-df-convert');\n",
              "        buttonEl.style.display =\n",
              "          google.colab.kernel.accessAllowed ? 'block' : 'none';\n",
              "\n",
              "        async function convertToInteractive(key) {\n",
              "          const element = document.querySelector('#df-df30ec8e-6efd-439a-9bbc-386872bad2ed');\n",
              "          const dataTable =\n",
              "            await google.colab.kernel.invokeFunction('convertToInteractive',\n",
              "                                                     [key], {});\n",
              "          if (!dataTable) return;\n",
              "\n",
              "          const docLinkHtml = 'Like what you see? Visit the ' +\n",
              "            '<a target=\"_blank\" href=https://colab.research.google.com/notebooks/data_table.ipynb>data table notebook</a>'\n",
              "            + ' to learn more about interactive tables.';\n",
              "          element.innerHTML = '';\n",
              "          dataTable['output_type'] = 'display_data';\n",
              "          await google.colab.output.renderOutput(dataTable, element);\n",
              "          const docLink = document.createElement('div');\n",
              "          docLink.innerHTML = docLinkHtml;\n",
              "          element.appendChild(docLink);\n",
              "        }\n",
              "      </script>\n",
              "    </div>\n",
              "  </div>\n",
              "  "
            ]
          },
          "metadata": {},
          "execution_count": 247
        }
      ]
    },
    {
      "cell_type": "code",
      "source": [
        "corr_df = df1.corr()\n",
        "print(\"Matriz de correlación:\")\n",
        "print(corr_df, \"\\n\")"
      ],
      "metadata": {
        "id": "3ba8hLMCrYWA",
        "colab": {
          "base_uri": "https://localhost:8080/"
        },
        "outputId": "8532aa9b-bda1-46d9-c4b7-16f116225610"
      },
      "execution_count": null,
      "outputs": [
        {
          "output_type": "stream",
          "name": "stdout",
          "text": [
            "Matriz de correlación:\n",
            "           LIMIT_BAL       AGE  BILL_AMT1  BILL_AMT2  BILL_AMT3  BILL_AMT4  \\\n",
            "LIMIT_BAL   1.000000  0.142188   0.294221   0.286080   0.290139   0.301721   \n",
            "AGE         0.142188  1.000000   0.057293   0.054636   0.053834   0.052069   \n",
            "BILL_AMT1   0.294221  0.057293   1.000000   0.952805   0.894352   0.862773   \n",
            "BILL_AMT2   0.286080  0.054636   0.952805   1.000000   0.928546   0.894537   \n",
            "BILL_AMT3   0.290139  0.053834   0.894352   0.928546   1.000000   0.925894   \n",
            "BILL_AMT4   0.301721  0.052069   0.862773   0.894537   0.925894   1.000000   \n",
            "BILL_AMT5   0.303291  0.050368   0.833102   0.862647   0.886434   0.940979   \n",
            "BILL_AMT6   0.297412  0.048851   0.806297   0.834842   0.856597   0.902698   \n",
            "PAY_AMT1    0.204436  0.026229   0.153187   0.281958   0.243899   0.237988   \n",
            "PAY_AMT2    0.179656  0.021987   0.103528   0.102947   0.317221   0.208741   \n",
            "PAY_AMT3    0.212445  0.029746   0.158843   0.152703   0.132312   0.299704   \n",
            "PAY_AMT4    0.205991  0.020446   0.160267   0.148314   0.143523   0.130687   \n",
            "PAY_AMT5    0.221627  0.022829   0.168471   0.158020   0.180041   0.160613   \n",
            "PAY_AMT6    0.222326  0.019594   0.176498   0.170859   0.179666   0.175378   \n",
            "\n",
            "           BILL_AMT5  BILL_AMT6  PAY_AMT1  PAY_AMT2  PAY_AMT3  PAY_AMT4  \\\n",
            "LIMIT_BAL   0.303291   0.297412  0.204436  0.179656  0.212445  0.205991   \n",
            "AGE         0.050368   0.048851  0.026229  0.021987  0.029746  0.020446   \n",
            "BILL_AMT1   0.833102   0.806297  0.153187  0.103528  0.158843  0.160267   \n",
            "BILL_AMT2   0.862647   0.834842  0.281958  0.102947  0.152703  0.148314   \n",
            "BILL_AMT3   0.886434   0.856597  0.243899  0.317221  0.132312  0.143523   \n",
            "BILL_AMT4   0.940979   0.902698  0.237988  0.208741  0.299704  0.130687   \n",
            "BILL_AMT5   1.000000   0.947625  0.222679  0.182152  0.253442  0.292289   \n",
            "BILL_AMT6   0.947625   1.000000  0.205466  0.175148  0.233771  0.249681   \n",
            "PAY_AMT1    0.222679   0.205466  1.000000  0.293650  0.264198  0.207664   \n",
            "PAY_AMT2    0.182152   0.175148  0.293650  1.000000  0.251345  0.182290   \n",
            "PAY_AMT3    0.253442   0.233771  0.264198  0.251345  1.000000  0.217780   \n",
            "PAY_AMT4    0.292289   0.249681  0.207664  0.182290  0.217780  1.000000   \n",
            "PAY_AMT5    0.143222   0.308864  0.154887  0.185408  0.155705  0.154402   \n",
            "PAY_AMT6    0.162186   0.115219  0.191856  0.159802  0.161566  0.158168   \n",
            "\n",
            "           PAY_AMT5  PAY_AMT6  \n",
            "LIMIT_BAL  0.221627  0.222326  \n",
            "AGE        0.022829  0.019594  \n",
            "BILL_AMT1  0.168471  0.176498  \n",
            "BILL_AMT2  0.158020  0.170859  \n",
            "BILL_AMT3  0.180041  0.179666  \n",
            "BILL_AMT4  0.160613  0.175378  \n",
            "BILL_AMT5  0.143222  0.162186  \n",
            "BILL_AMT6  0.308864  0.115219  \n",
            "PAY_AMT1   0.154887  0.191856  \n",
            "PAY_AMT2   0.185408  0.159802  \n",
            "PAY_AMT3   0.155705  0.161566  \n",
            "PAY_AMT4   0.154402  0.158168  \n",
            "PAY_AMT5   1.000000  0.156168  \n",
            "PAY_AMT6   0.156168  1.000000   \n",
            "\n"
          ]
        }
      ]
    },
    {
      "cell_type": "markdown",
      "source": [
        "Correlación de características"
      ],
      "metadata": {
        "id": "JF4DM5OGngdl"
      }
    },
    {
      "cell_type": "code",
      "source": [
        "var = ['BILL_AMT1','BILL_AMT2','BILL_AMT3','BILL_AMT4','BILL_AMT5','BILL_AMT6']\n",
        "\n",
        "plt.figure(figsize = (8,8))\n",
        "plt.title('Monto del estado de cuenta en septiembre-abril de 2005. \\ncorrelation plot (Pearson)')\n",
        "corr = df_dedupped[var].corr()\n",
        "sns.heatmap(corr,xticklabels=corr.columns,yticklabels=corr.columns,linewidths=.1,vmin=-1, vmax=1)\n",
        "plt.show()"
      ],
      "metadata": {
        "colab": {
          "base_uri": "https://localhost:8080/",
          "height": 515
        },
        "id": "GTYmHJlDnbkU",
        "outputId": "80006c13-ef02-45eb-dab5-d9d9150b07ce"
      },
      "execution_count": null,
      "outputs": [
        {
          "output_type": "display_data",
          "data": {
            "text/plain": [
              "<Figure size 576x576 with 2 Axes>"
            ],
            "image/png": "[encoded data removed]"
          },
          "metadata": {
            "needs_background": "light"
          }
        }
      ]
    },
    {
      "cell_type": "markdown",
      "source": [
        "La correlación está disminuyendo con la distancia entre los meses. Las correlaciones más bajas son entre septiembre y abril."
      ],
      "metadata": {
        "id": "ceqN6kSdoNla"
      }
    },
    {
      "cell_type": "code",
      "source": [
        "var = ['PAY_AMT1', 'PAY_AMT2', 'PAY_AMT3', 'PAY_AMT4', 'PAY_AMT5']\n",
        "\n",
        "plt.figure(figsize = (8,8))\n",
        "plt.title('Monto pagado en septiembre-abril de 2005 \\ncorrelation plot (Pearson)')\n",
        "corr = df_dedupped[var].corr()\n",
        "sns.heatmap(corr,xticklabels=corr.columns,yticklabels=corr.columns,linewidths=.1,vmin=-1, vmax=1)\n",
        "plt.show()"
      ],
      "metadata": {
        "colab": {
          "base_uri": "https://localhost:8080/",
          "height": 515
        },
        "id": "KIK257a7n8ZC",
        "outputId": "4a2ecf98-4dfe-4420-aa06-2f73b8cd4ff4"
      },
      "execution_count": null,
      "outputs": [
        {
          "output_type": "display_data",
          "data": {
            "text/plain": [
              "<Figure size 576x576 with 2 Axes>"
            ],
            "image/png": "[encoded data removed]"
          },
          "metadata": {
            "needs_background": "light"
          }
        }
      ]
    },
    {
      "cell_type": "markdown",
      "source": [
        "No existen correlaciones significativas entre los montos de los pagos anteriores de abril a septiembre de 2005."
      ],
      "metadata": {
        "id": "qYkizHbKoKfD"
      }
    },
    {
      "cell_type": "markdown",
      "source": [
        "Variables cualitativas:"
      ],
      "metadata": {
        "id": "_ApQj7Y6u3-c"
      }
    },
    {
      "cell_type": "code",
      "source": [
        "def boxplot_variation(feature1, feature2, feature3, width=16):\n",
        "    fig, ax1 = plt.subplots(ncols=1, figsize=(width,6))\n",
        "    s = sns.boxplot(ax = ax1, x=feature1, y=feature2, hue=feature3,\n",
        "                data=df_dedupped, palette=\"PRGn\",showfliers=False)\n",
        "    s.set_xticklabels(s.get_xticklabels(),rotation=90)\n",
        "    plt.show();"
      ],
      "metadata": {
        "id": "UqBggs20sH7k"
      },
      "execution_count": null,
      "outputs": []
    },
    {
      "cell_type": "markdown",
      "source": [
        "Estado civil vs la edad de acuerdo al sexo"
      ],
      "metadata": {
        "id": "FgshPxNpvN7j"
      }
    },
    {
      "cell_type": "code",
      "source": [
        "boxplot_variation('MARRIAGE','AGE', 'SEX',8)"
      ],
      "metadata": {
        "colab": {
          "base_uri": "https://localhost:8080/",
          "height": 384
        },
        "id": "fl4rXlkQsPU7",
        "outputId": "1e509256-16c6-4751-e698-ea346143a801"
      },
      "execution_count": null,
      "outputs": [
        {
          "output_type": "display_data",
          "data": {
            "text/plain": [
              "<Figure size 576x432 with 1 Axes>"
            ],
            "image/png": "[encoded data removed]"
          },
          "metadata": {
            "needs_background": "light"
          }
        }
      ]
    },
    {
      "cell_type": "markdown",
      "source": [
        "Nivel educativo vs la edad de acuerdo al estado civil"
      ],
      "metadata": {
        "id": "_sbyJDyMvHXr"
      }
    },
    {
      "cell_type": "code",
      "source": [
        "boxplot_variation('EDUCATION','AGE', 'MARRIAGE',12)"
      ],
      "metadata": {
        "colab": {
          "base_uri": "https://localhost:8080/",
          "height": 384
        },
        "id": "7rPmjT4_s0cS",
        "outputId": "7f3733a5-7bcd-4e15-b59f-ae8f870f4f94"
      },
      "execution_count": null,
      "outputs": [
        {
          "output_type": "display_data",
          "data": {
            "text/plain": [
              "<Figure size 864x432 with 1 Axes>"
            ],
            "image/png": "[encoded data removed]"
          },
          "metadata": {
            "needs_background": "light"
          }
        }
      ]
    },
    {
      "cell_type": "markdown",
      "source": [
        "Estado civil vs el monto otorgado de acuerdo al nivel educativo"
      ],
      "metadata": {
        "id": "YPxc4ThMvAEF"
      }
    },
    {
      "cell_type": "code",
      "source": [
        "boxplot_variation('MARRIAGE','LIMIT_BAL', 'EDUCATION',12)"
      ],
      "metadata": {
        "colab": {
          "base_uri": "https://localhost:8080/",
          "height": 384
        },
        "id": "L2KsZSrXtKiA",
        "outputId": "e0c19d4d-870e-4cbe-80c0-8624e84af021"
      },
      "execution_count": null,
      "outputs": [
        {
          "output_type": "display_data",
          "data": {
            "text/plain": [
              "<Figure size 864x432 with 1 Axes>"
            ],
            "image/png": "[encoded data removed]"
          },
          "metadata": {
            "needs_background": "light"
          }
        }
      ]
    },
    {
      "cell_type": "markdown",
      "source": [
        "Credito vs Sexo"
      ],
      "metadata": {
        "id": "zFE8h5v7tsBX"
      }
    },
    {
      "cell_type": "code",
      "source": [
        "fig, (ax1, ax2) = plt.subplots(ncols=2, figsize=(12,6))\n",
        "s = sns.boxplot(ax = ax1, x=\"SEX\", y=\"LIMIT_BAL\", hue=\"SEX\",data=df_dedupped, palette=\"PRGn\",showfliers=True)\n",
        "s = sns.boxplot(ax = ax2, x=\"SEX\", y=\"LIMIT_BAL\", hue=\"SEX\",data=df_dedupped, palette=\"PRGn\",showfliers=False)\n",
        "plt.show();"
      ],
      "metadata": {
        "colab": {
          "base_uri": "https://localhost:8080/",
          "height": 399
        },
        "id": "X54RofkDtq8f",
        "outputId": "0c40f766-9f3e-4e0e-f21d-b162a30e9094"
      },
      "execution_count": null,
      "outputs": [
        {
          "output_type": "display_data",
          "data": {
            "text/plain": [
              "<Figure size 864x432 with 2 Axes>"
            ],
            "image/png": "[encoded data removed]"
          },
          "metadata": {
            "needs_background": "light"
          }
        }
      ]
    },
    {
      "cell_type": "markdown",
      "source": [
        "Con la variable respuesta"
      ],
      "metadata": {
        "id": "t2zoN_7Ovrxp"
      }
    },
    {
      "cell_type": "markdown",
      "source": [
        "Crédito otorgado:"
      ],
      "metadata": {
        "id": "ccjZDIlGyT-y"
      }
    },
    {
      "cell_type": "code",
      "source": [
        "OBS = pd.crosstab(index = df_dedupped['SEX'], columns = df_dedupped['default payment next month'])"
      ],
      "metadata": {
        "id": "suTg69SmvthM"
      },
      "execution_count": null,
      "outputs": []
    },
    {
      "cell_type": "code",
      "source": [
        "OBS"
      ],
      "metadata": {
        "colab": {
          "base_uri": "https://localhost:8080/",
          "height": 143
        },
        "id": "KpIA2IUz01Tl",
        "outputId": "f43a0936-f459-43dc-9cd8-b381b5bf91bd"
      },
      "execution_count": null,
      "outputs": [
        {
          "output_type": "execute_result",
          "data": {
            "text/plain": [
              "default payment next month      0     1\n",
              "SEX                                    \n",
              "1                            8686  2815\n",
              "2                           13802  3675"
            ],
            "text/html": [
              "\n",
              "  <div id=\"df-2006b348-c7c9-4294-90ae-1820b79a18bb\">\n",
              "    <div class=\"colab-df-container\">\n",
              "      <div>\n",
              "<style scoped>\n",
              "    .dataframe tbody tr th:only-of-type {\n",
              "        vertical-align: middle;\n",
              "    }\n",
              "\n",
              "    .dataframe tbody tr th {\n",
              "        vertical-align: top;\n",
              "    }\n",
              "\n",
              "    .dataframe thead th {\n",
              "        text-align: right;\n",
              "    }\n",
              "</style>\n",
              "<table border=\"1\" class=\"dataframe\">\n",
              "  <thead>\n",
              "    <tr style=\"text-align: right;\">\n",
              "      <th>default payment next month</th>\n",
              "      <th>0</th>\n",
              "      <th>1</th>\n",
              "    </tr>\n",
              "    <tr>\n",
              "      <th>SEX</th>\n",
              "      <th></th>\n",
              "      <th></th>\n",
              "    </tr>\n",
              "  </thead>\n",
              "  <tbody>\n",
              "    <tr>\n",
              "      <th>1</th>\n",
              "      <td>8686</td>\n",
              "      <td>2815</td>\n",
              "    </tr>\n",
              "    <tr>\n",
              "      <th>2</th>\n",
              "      <td>13802</td>\n",
              "      <td>3675</td>\n",
              "    </tr>\n",
              "  </tbody>\n",
              "</table>\n",
              "</div>\n",
              "      <button class=\"colab-df-convert\" onclick=\"convertToInteractive('df-2006b348-c7c9-4294-90ae-1820b79a18bb')\"\n",
              "              title=\"Convert this dataframe to an interactive table.\"\n",
              "              style=\"display:none;\">\n",
              "        \n",
              "  <svg xmlns=\"http://www.w3.org/2000/svg\" height=\"24px\"viewBox=\"0 0 24 24\"\n",
              "       width=\"24px\">\n",
              "    <path d=\"M0 0h24v24H0V0z\" fill=\"none\"/>\n",
              "    <path d=\"M18.56 5.44l.94 2.06.94-2.06 2.06-.94-2.06-.94-.94-2.06-.94 2.06-2.06.94zm-11 1L8.5 8.5l.94-2.06 2.06-.94-2.06-.94L8.5 2.5l-.94 2.06-2.06.94zm10 10l.94 2.06.94-2.06 2.06-.94-2.06-.94-.94-2.06-.94 2.06-2.06.94z\"/><path d=\"M17.41 7.96l-1.37-1.37c-.4-.4-.92-.59-1.43-.59-.52 0-1.04.2-1.43.59L10.3 9.45l-7.72 7.72c-.78.78-.78 2.05 0 2.83L4 21.41c.39.39.9.59 1.41.59.51 0 1.02-.2 1.41-.59l7.78-7.78 2.81-2.81c.8-.78.8-2.07 0-2.86zM5.41 20L4 18.59l7.72-7.72 1.47 1.35L5.41 20z\"/>\n",
              "  </svg>\n",
              "      </button>\n",
              "      \n",
              "  <style>\n",
              "    .colab-df-container {\n",
              "      display:flex;\n",
              "      flex-wrap:wrap;\n",
              "      gap: 12px;\n",
              "    }\n",
              "\n",
              "    .colab-df-convert {\n",
              "      background-color: #E8F0FE;\n",
              "      border: none;\n",
              "      border-radius: 50%;\n",
              "      cursor: pointer;\n",
              "      display: none;\n",
              "      fill: #1967D2;\n",
              "      height: 32px;\n",
              "      padding: 0 0 0 0;\n",
              "      width: 32px;\n",
              "    }\n",
              "\n",
              "    .colab-df-convert:hover {\n",
              "      background-color: #E2EBFA;\n",
              "      box-shadow: 0px 1px 2px rgba(60, 64, 67, 0.3), 0px 1px 3px 1px rgba(60, 64, 67, 0.15);\n",
              "      fill: #174EA6;\n",
              "    }\n",
              "\n",
              "    [theme=dark] .colab-df-convert {\n",
              "      background-color: #3B4455;\n",
              "      fill: #D2E3FC;\n",
              "    }\n",
              "\n",
              "    [theme=dark] .colab-df-convert:hover {\n",
              "      background-color: #434B5C;\n",
              "      box-shadow: 0px 1px 3px 1px rgba(0, 0, 0, 0.15);\n",
              "      filter: drop-shadow(0px 1px 2px rgba(0, 0, 0, 0.3));\n",
              "      fill: #FFFFFF;\n",
              "    }\n",
              "  </style>\n",
              "\n",
              "      <script>\n",
              "        const buttonEl =\n",
              "          document.querySelector('#df-2006b348-c7c9-4294-90ae-1820b79a18bb button.colab-df-convert');\n",
              "        buttonEl.style.display =\n",
              "          google.colab.kernel.accessAllowed ? 'block' : 'none';\n",
              "\n",
              "        async function convertToInteractive(key) {\n",
              "          const element = document.querySelector('#df-2006b348-c7c9-4294-90ae-1820b79a18bb');\n",
              "          const dataTable =\n",
              "            await google.colab.kernel.invokeFunction('convertToInteractive',\n",
              "                                                     [key], {});\n",
              "          if (!dataTable) return;\n",
              "\n",
              "          const docLinkHtml = 'Like what you see? Visit the ' +\n",
              "            '<a target=\"_blank\" href=https://colab.research.google.com/notebooks/data_table.ipynb>data table notebook</a>'\n",
              "            + ' to learn more about interactive tables.';\n",
              "          element.innerHTML = '';\n",
              "          dataTable['output_type'] = 'display_data';\n",
              "          await google.colab.output.renderOutput(dataTable, element);\n",
              "          const docLink = document.createElement('div');\n",
              "          docLink.innerHTML = docLinkHtml;\n",
              "          element.appendChild(docLink);\n",
              "        }\n",
              "      </script>\n",
              "    </div>\n",
              "  </div>\n",
              "  "
            ]
          },
          "metadata": {},
          "execution_count": 257
        }
      ]
    },
    {
      "cell_type": "code",
      "source": [
        "from scipy.stats import chi2_contingency "
      ],
      "metadata": {
        "id": "OCR9kmUs0CWV"
      },
      "execution_count": null,
      "outputs": []
    },
    {
      "cell_type": "markdown",
      "source": [
        "H0: Establece que no existe relación entre las variables. \n",
        "\n",
        "Ha: Existe una relación significativa entre los dos."
      ],
      "metadata": {
        "id": "jJ-8LDTH0Wmd"
      }
    },
    {
      "cell_type": "code",
      "source": [
        "stat, p, dof, expected = chi2_contingency(OBS) \n",
        "  \n",
        "alpha = 0.05\n",
        "print(\"p value is \" + str(p)) \n",
        "if p <= alpha: \n",
        "    print('Dependent(reject H0)') \n",
        "else: \n",
        "    print('Independent(H0 holds true)') "
      ],
      "metadata": {
        "colab": {
          "base_uri": "https://localhost:8080/"
        },
        "id": "wHCCc9SSz63t",
        "outputId": "91d9c26f-e567-48fb-8fbb-02792c6aeb76"
      },
      "execution_count": null,
      "outputs": [
        {
          "output_type": "stream",
          "name": "stdout",
          "text": [
            "p value is 6.2086433674366054e-12\n",
            "Dependent(reject H0)\n"
          ]
        }
      ]
    },
    {
      "cell_type": "markdown",
      "source": [
        "Existe una relación significativa entre el sexo y el incumplimiento o cumplimiento del pago. Por lo tanto esta variable es seleccionada para el modelo de clasificación."
      ],
      "metadata": {
        "id": "pjw9VTcp0ka8"
      }
    },
    {
      "cell_type": "code",
      "source": [
        "OBS = pd.crosstab(index = df_dedupped['EDUCATION'], columns = df_dedupped['default payment next month']); OBS"
      ],
      "metadata": {
        "id": "4C527mR72HSQ"
      },
      "execution_count": null,
      "outputs": []
    },
    {
      "cell_type": "code",
      "source": [
        "stat, p, dof, expected = chi2_contingency(OBS) \n",
        "  \n",
        "alpha = 0.05\n",
        "print(\"p value is \" + str(p)) \n",
        "if p <= alpha: \n",
        "    print('Dependent(reject H0)') \n",
        "else: \n",
        "    print('Independent(H0 holds true)') "
      ],
      "metadata": {
        "colab": {
          "base_uri": "https://localhost:8080/"
        },
        "id": "_onHKeAc2ElB",
        "outputId": "321044a2-639c-40c6-f70c-5cd354cc84f7"
      },
      "execution_count": null,
      "outputs": [
        {
          "output_type": "stream",
          "name": "stdout",
          "text": [
            "p value is 1.9684030683130793e-25\n",
            "Dependent(reject H0)\n"
          ]
        }
      ]
    },
    {
      "cell_type": "markdown",
      "source": [
        "Existe una relación significativa entre el nivel educativo y el incumplimiento o cumplimiento del pago. Por lo tanto esta variable es seleccionada para el modelo de clasificación."
      ],
      "metadata": {
        "id": "xO5_4zX72md6"
      }
    },
    {
      "cell_type": "code",
      "source": [
        "OBS = pd.crosstab(index = df_dedupped['MARRIAGE'], columns = df_dedupped['default payment next month']); OBS"
      ],
      "metadata": {
        "colab": {
          "base_uri": "https://localhost:8080/",
          "height": 175
        },
        "id": "UY3CfSYx2y7v",
        "outputId": "950a050b-6460-413f-bb30-207f97efbdbf"
      },
      "execution_count": null,
      "outputs": [
        {
          "output_type": "execute_result",
          "data": {
            "text/plain": [
              "default payment next month      0     1\n",
              "MARRIAGE                               \n",
              "1                           10050  3129\n",
              "2                           12208  3278\n",
              "3                             230    83"
            ],
            "text/html": [
              "\n",
              "  <div id=\"df-418907cc-c08c-45e2-9153-0aad8979b262\">\n",
              "    <div class=\"colab-df-container\">\n",
              "      <div>\n",
              "<style scoped>\n",
              "    .dataframe tbody tr th:only-of-type {\n",
              "        vertical-align: middle;\n",
              "    }\n",
              "\n",
              "    .dataframe tbody tr th {\n",
              "        vertical-align: top;\n",
              "    }\n",
              "\n",
              "    .dataframe thead th {\n",
              "        text-align: right;\n",
              "    }\n",
              "</style>\n",
              "<table border=\"1\" class=\"dataframe\">\n",
              "  <thead>\n",
              "    <tr style=\"text-align: right;\">\n",
              "      <th>default payment next month</th>\n",
              "      <th>0</th>\n",
              "      <th>1</th>\n",
              "    </tr>\n",
              "    <tr>\n",
              "      <th>MARRIAGE</th>\n",
              "      <th></th>\n",
              "      <th></th>\n",
              "    </tr>\n",
              "  </thead>\n",
              "  <tbody>\n",
              "    <tr>\n",
              "      <th>1</th>\n",
              "      <td>10050</td>\n",
              "      <td>3129</td>\n",
              "    </tr>\n",
              "    <tr>\n",
              "      <th>2</th>\n",
              "      <td>12208</td>\n",
              "      <td>3278</td>\n",
              "    </tr>\n",
              "    <tr>\n",
              "      <th>3</th>\n",
              "      <td>230</td>\n",
              "      <td>83</td>\n",
              "    </tr>\n",
              "  </tbody>\n",
              "</table>\n",
              "</div>\n",
              "      <button class=\"colab-df-convert\" onclick=\"convertToInteractive('df-418907cc-c08c-45e2-9153-0aad8979b262')\"\n",
              "              title=\"Convert this dataframe to an interactive table.\"\n",
              "              style=\"display:none;\">\n",
              "        \n",
              "  <svg xmlns=\"http://www.w3.org/2000/svg\" height=\"24px\"viewBox=\"0 0 24 24\"\n",
              "       width=\"24px\">\n",
              "    <path d=\"M0 0h24v24H0V0z\" fill=\"none\"/>\n",
              "    <path d=\"M18.56 5.44l.94 2.06.94-2.06 2.06-.94-2.06-.94-.94-2.06-.94 2.06-2.06.94zm-11 1L8.5 8.5l.94-2.06 2.06-.94-2.06-.94L8.5 2.5l-.94 2.06-2.06.94zm10 10l.94 2.06.94-2.06 2.06-.94-2.06-.94-.94-2.06-.94 2.06-2.06.94z\"/><path d=\"M17.41 7.96l-1.37-1.37c-.4-.4-.92-.59-1.43-.59-.52 0-1.04.2-1.43.59L10.3 9.45l-7.72 7.72c-.78.78-.78 2.05 0 2.83L4 21.41c.39.39.9.59 1.41.59.51 0 1.02-.2 1.41-.59l7.78-7.78 2.81-2.81c.8-.78.8-2.07 0-2.86zM5.41 20L4 18.59l7.72-7.72 1.47 1.35L5.41 20z\"/>\n",
              "  </svg>\n",
              "      </button>\n",
              "      \n",
              "  <style>\n",
              "    .colab-df-container {\n",
              "      display:flex;\n",
              "      flex-wrap:wrap;\n",
              "      gap: 12px;\n",
              "    }\n",
              "\n",
              "    .colab-df-convert {\n",
              "      background-color: #E8F0FE;\n",
              "      border: none;\n",
              "      border-radius: 50%;\n",
              "      cursor: pointer;\n",
              "      display: none;\n",
              "      fill: #1967D2;\n",
              "      height: 32px;\n",
              "      padding: 0 0 0 0;\n",
              "      width: 32px;\n",
              "    }\n",
              "\n",
              "    .colab-df-convert:hover {\n",
              "      background-color: #E2EBFA;\n",
              "      box-shadow: 0px 1px 2px rgba(60, 64, 67, 0.3), 0px 1px 3px 1px rgba(60, 64, 67, 0.15);\n",
              "      fill: #174EA6;\n",
              "    }\n",
              "\n",
              "    [theme=dark] .colab-df-convert {\n",
              "      background-color: #3B4455;\n",
              "      fill: #D2E3FC;\n",
              "    }\n",
              "\n",
              "    [theme=dark] .colab-df-convert:hover {\n",
              "      background-color: #434B5C;\n",
              "      box-shadow: 0px 1px 3px 1px rgba(0, 0, 0, 0.15);\n",
              "      filter: drop-shadow(0px 1px 2px rgba(0, 0, 0, 0.3));\n",
              "      fill: #FFFFFF;\n",
              "    }\n",
              "  </style>\n",
              "\n",
              "      <script>\n",
              "        const buttonEl =\n",
              "          document.querySelector('#df-418907cc-c08c-45e2-9153-0aad8979b262 button.colab-df-convert');\n",
              "        buttonEl.style.display =\n",
              "          google.colab.kernel.accessAllowed ? 'block' : 'none';\n",
              "\n",
              "        async function convertToInteractive(key) {\n",
              "          const element = document.querySelector('#df-418907cc-c08c-45e2-9153-0aad8979b262');\n",
              "          const dataTable =\n",
              "            await google.colab.kernel.invokeFunction('convertToInteractive',\n",
              "                                                     [key], {});\n",
              "          if (!dataTable) return;\n",
              "\n",
              "          const docLinkHtml = 'Like what you see? Visit the ' +\n",
              "            '<a target=\"_blank\" href=https://colab.research.google.com/notebooks/data_table.ipynb>data table notebook</a>'\n",
              "            + ' to learn more about interactive tables.';\n",
              "          element.innerHTML = '';\n",
              "          dataTable['output_type'] = 'display_data';\n",
              "          await google.colab.output.renderOutput(dataTable, element);\n",
              "          const docLink = document.createElement('div');\n",
              "          docLink.innerHTML = docLinkHtml;\n",
              "          element.appendChild(docLink);\n",
              "        }\n",
              "      </script>\n",
              "    </div>\n",
              "  </div>\n",
              "  "
            ]
          },
          "metadata": {},
          "execution_count": 262
        }
      ]
    },
    {
      "cell_type": "code",
      "source": [
        "stat, p, dof, expected = chi2_contingency(OBS) \n",
        "  \n",
        "alpha = 0.05\n",
        "print(\"p value is \" + str(p)) \n",
        "if p <= alpha: \n",
        "    print('Dependent(reject H0)') \n",
        "else: \n",
        "    print('Independent(H0 holds true)') "
      ],
      "metadata": {
        "colab": {
          "base_uri": "https://localhost:8080/"
        },
        "id": "Q0m0Yifj2uGS",
        "outputId": "915fa852-4023-4b84-c78b-ae59c42ab0dc"
      },
      "execution_count": null,
      "outputs": [
        {
          "output_type": "stream",
          "name": "stdout",
          "text": [
            "p value is 2.698996910087648e-07\n",
            "Dependent(reject H0)\n"
          ]
        }
      ]
    },
    {
      "cell_type": "markdown",
      "source": [
        "Existe una relación significativa entre el estado civil y el incumplimiento o cumplimiento del pago. Por lo tanto esta variable es seleccionada para el modelo de clasificación."
      ],
      "metadata": {
        "id": "Xan0q2iv3IA2"
      }
    },
    {
      "cell_type": "markdown",
      "source": [
        "Pago mensual de septiembre-abril de 2005"
      ],
      "metadata": {
        "id": "BzqCf6o3OtwN"
      }
    },
    {
      "cell_type": "markdown",
      "source": [
        "Pago abril:"
      ],
      "metadata": {
        "id": "vYoBh26COxRy"
      }
    },
    {
      "cell_type": "code",
      "source": [
        "OBS = pd.crosstab(index = df_dedupped['PAY_0'], columns = df_dedupped['default payment next month']); OBS"
      ],
      "metadata": {
        "colab": {
          "base_uri": "https://localhost:8080/",
          "height": 426
        },
        "id": "pDLTtXJ8NE-R",
        "outputId": "0e98479e-752c-4841-a234-291a41c4e3c8"
      },
      "execution_count": null,
      "outputs": [
        {
          "output_type": "execute_result",
          "data": {
            "text/plain": [
              "default payment next month      0     1\n",
              "PAY_0                                  \n",
              "-1                           4673   952\n",
              "-2                           2163   329\n",
              "0                           12631  1868\n",
              "1                            2092  1172\n",
              "2                             803  1836\n",
              "3                              76   244\n",
              "4                              24    52\n",
              "5                              11    13\n",
              "6                               5     6\n",
              "7                               2     7\n",
              "8                               8    11"
            ],
            "text/html": [
              "\n",
              "  <div id=\"df-ac03bce4-a479-463e-b1bd-50e59385f6ff\">\n",
              "    <div class=\"colab-df-container\">\n",
              "      <div>\n",
              "<style scoped>\n",
              "    .dataframe tbody tr th:only-of-type {\n",
              "        vertical-align: middle;\n",
              "    }\n",
              "\n",
              "    .dataframe tbody tr th {\n",
              "        vertical-align: top;\n",
              "    }\n",
              "\n",
              "    .dataframe thead th {\n",
              "        text-align: right;\n",
              "    }\n",
              "</style>\n",
              "<table border=\"1\" class=\"dataframe\">\n",
              "  <thead>\n",
              "    <tr style=\"text-align: right;\">\n",
              "      <th>default payment next month</th>\n",
              "      <th>0</th>\n",
              "      <th>1</th>\n",
              "    </tr>\n",
              "    <tr>\n",
              "      <th>PAY_0</th>\n",
              "      <th></th>\n",
              "      <th></th>\n",
              "    </tr>\n",
              "  </thead>\n",
              "  <tbody>\n",
              "    <tr>\n",
              "      <th>-1</th>\n",
              "      <td>4673</td>\n",
              "      <td>952</td>\n",
              "    </tr>\n",
              "    <tr>\n",
              "      <th>-2</th>\n",
              "      <td>2163</td>\n",
              "      <td>329</td>\n",
              "    </tr>\n",
              "    <tr>\n",
              "      <th>0</th>\n",
              "      <td>12631</td>\n",
              "      <td>1868</td>\n",
              "    </tr>\n",
              "    <tr>\n",
              "      <th>1</th>\n",
              "      <td>2092</td>\n",
              "      <td>1172</td>\n",
              "    </tr>\n",
              "    <tr>\n",
              "      <th>2</th>\n",
              "      <td>803</td>\n",
              "      <td>1836</td>\n",
              "    </tr>\n",
              "    <tr>\n",
              "      <th>3</th>\n",
              "      <td>76</td>\n",
              "      <td>244</td>\n",
              "    </tr>\n",
              "    <tr>\n",
              "      <th>4</th>\n",
              "      <td>24</td>\n",
              "      <td>52</td>\n",
              "    </tr>\n",
              "    <tr>\n",
              "      <th>5</th>\n",
              "      <td>11</td>\n",
              "      <td>13</td>\n",
              "    </tr>\n",
              "    <tr>\n",
              "      <th>6</th>\n",
              "      <td>5</td>\n",
              "      <td>6</td>\n",
              "    </tr>\n",
              "    <tr>\n",
              "      <th>7</th>\n",
              "      <td>2</td>\n",
              "      <td>7</td>\n",
              "    </tr>\n",
              "    <tr>\n",
              "      <th>8</th>\n",
              "      <td>8</td>\n",
              "      <td>11</td>\n",
              "    </tr>\n",
              "  </tbody>\n",
              "</table>\n",
              "</div>\n",
              "      <button class=\"colab-df-convert\" onclick=\"convertToInteractive('df-ac03bce4-a479-463e-b1bd-50e59385f6ff')\"\n",
              "              title=\"Convert this dataframe to an interactive table.\"\n",
              "              style=\"display:none;\">\n",
              "        \n",
              "  <svg xmlns=\"http://www.w3.org/2000/svg\" height=\"24px\"viewBox=\"0 0 24 24\"\n",
              "       width=\"24px\">\n",
              "    <path d=\"M0 0h24v24H0V0z\" fill=\"none\"/>\n",
              "    <path d=\"M18.56 5.44l.94 2.06.94-2.06 2.06-.94-2.06-.94-.94-2.06-.94 2.06-2.06.94zm-11 1L8.5 8.5l.94-2.06 2.06-.94-2.06-.94L8.5 2.5l-.94 2.06-2.06.94zm10 10l.94 2.06.94-2.06 2.06-.94-2.06-.94-.94-2.06-.94 2.06-2.06.94z\"/><path d=\"M17.41 7.96l-1.37-1.37c-.4-.4-.92-.59-1.43-.59-.52 0-1.04.2-1.43.59L10.3 9.45l-7.72 7.72c-.78.78-.78 2.05 0 2.83L4 21.41c.39.39.9.59 1.41.59.51 0 1.02-.2 1.41-.59l7.78-7.78 2.81-2.81c.8-.78.8-2.07 0-2.86zM5.41 20L4 18.59l7.72-7.72 1.47 1.35L5.41 20z\"/>\n",
              "  </svg>\n",
              "      </button>\n",
              "      \n",
              "  <style>\n",
              "    .colab-df-container {\n",
              "      display:flex;\n",
              "      flex-wrap:wrap;\n",
              "      gap: 12px;\n",
              "    }\n",
              "\n",
              "    .colab-df-convert {\n",
              "      background-color: #E8F0FE;\n",
              "      border: none;\n",
              "      border-radius: 50%;\n",
              "      cursor: pointer;\n",
              "      display: none;\n",
              "      fill: #1967D2;\n",
              "      height: 32px;\n",
              "      padding: 0 0 0 0;\n",
              "      width: 32px;\n",
              "    }\n",
              "\n",
              "    .colab-df-convert:hover {\n",
              "      background-color: #E2EBFA;\n",
              "      box-shadow: 0px 1px 2px rgba(60, 64, 67, 0.3), 0px 1px 3px 1px rgba(60, 64, 67, 0.15);\n",
              "      fill: #174EA6;\n",
              "    }\n",
              "\n",
              "    [theme=dark] .colab-df-convert {\n",
              "      background-color: #3B4455;\n",
              "      fill: #D2E3FC;\n",
              "    }\n",
              "\n",
              "    [theme=dark] .colab-df-convert:hover {\n",
              "      background-color: #434B5C;\n",
              "      box-shadow: 0px 1px 3px 1px rgba(0, 0, 0, 0.15);\n",
              "      filter: drop-shadow(0px 1px 2px rgba(0, 0, 0, 0.3));\n",
              "      fill: #FFFFFF;\n",
              "    }\n",
              "  </style>\n",
              "\n",
              "      <script>\n",
              "        const buttonEl =\n",
              "          document.querySelector('#df-ac03bce4-a479-463e-b1bd-50e59385f6ff button.colab-df-convert');\n",
              "        buttonEl.style.display =\n",
              "          google.colab.kernel.accessAllowed ? 'block' : 'none';\n",
              "\n",
              "        async function convertToInteractive(key) {\n",
              "          const element = document.querySelector('#df-ac03bce4-a479-463e-b1bd-50e59385f6ff');\n",
              "          const dataTable =\n",
              "            await google.colab.kernel.invokeFunction('convertToInteractive',\n",
              "                                                     [key], {});\n",
              "          if (!dataTable) return;\n",
              "\n",
              "          const docLinkHtml = 'Like what you see? Visit the ' +\n",
              "            '<a target=\"_blank\" href=https://colab.research.google.com/notebooks/data_table.ipynb>data table notebook</a>'\n",
              "            + ' to learn more about interactive tables.';\n",
              "          element.innerHTML = '';\n",
              "          dataTable['output_type'] = 'display_data';\n",
              "          await google.colab.output.renderOutput(dataTable, element);\n",
              "          const docLink = document.createElement('div');\n",
              "          docLink.innerHTML = docLinkHtml;\n",
              "          element.appendChild(docLink);\n",
              "        }\n",
              "      </script>\n",
              "    </div>\n",
              "  </div>\n",
              "  "
            ]
          },
          "metadata": {},
          "execution_count": 264
        }
      ]
    },
    {
      "cell_type": "code",
      "source": [
        "stat, p, dof, expected = chi2_contingency(OBS) \n",
        "  \n",
        "alpha = 0.05\n",
        "print(\"p value is \" + str(p)) \n",
        "if p <= alpha: \n",
        "    print('Dependent(reject H0)') \n",
        "else: \n",
        "    print('Independent(H0 holds true)') "
      ],
      "metadata": {
        "colab": {
          "base_uri": "https://localhost:8080/"
        },
        "id": "Yh_22ASTNvuQ",
        "outputId": "9030cf73-f653-4443-a18e-09f8c574811a"
      },
      "execution_count": null,
      "outputs": [
        {
          "output_type": "stream",
          "name": "stdout",
          "text": [
            "p value is 0.0\n",
            "Dependent(reject H0)\n"
          ]
        }
      ]
    },
    {
      "cell_type": "markdown",
      "source": [
        "Pago Mayo:"
      ],
      "metadata": {
        "id": "Yw0-Fw0iOz7x"
      }
    },
    {
      "cell_type": "code",
      "source": [
        "OBS = pd.crosstab(index = df_dedupped['PAY_2'], columns = df_dedupped['default payment next month']); OBS\n",
        "stat, p, dof, expected = chi2_contingency(OBS) \n",
        "  \n",
        "alpha = 0.05\n",
        "print(\"p value is \" + str(p)) \n",
        "if p <= alpha: \n",
        "    print('Dependent(reject H0)') \n",
        "else: \n",
        "    print('Independent(H0 holds true)') "
      ],
      "metadata": {
        "colab": {
          "base_uri": "https://localhost:8080/"
        },
        "id": "McO_9VVMOZAN",
        "outputId": "aaf7fec7-9b56-4030-af34-259e4b9f5220"
      },
      "execution_count": null,
      "outputs": [
        {
          "output_type": "stream",
          "name": "stdout",
          "text": [
            "p value is 0.0\n",
            "Dependent(reject H0)\n"
          ]
        }
      ]
    },
    {
      "cell_type": "markdown",
      "source": [
        "Pago Junio:"
      ],
      "metadata": {
        "id": "msrIXQVIO8AN"
      }
    },
    {
      "cell_type": "code",
      "source": [
        "OBS = pd.crosstab(index = df_dedupped['PAY_3'], columns = df_dedupped['default payment next month']); OBS\n",
        "stat, p, dof, expected = chi2_contingency(OBS) \n",
        "  \n",
        "alpha = 0.05\n",
        "print(\"p value is \" + str(p)) \n",
        "if p <= alpha: \n",
        "    print('Dependent(reject H0)') \n",
        "else: \n",
        "    print('Independent(H0 holds true)') "
      ],
      "metadata": {
        "colab": {
          "base_uri": "https://localhost:8080/"
        },
        "id": "cfkzIl9-O_Em",
        "outputId": "93f723cc-6ad3-4384-9fb2-7d4aa7d11628"
      },
      "execution_count": null,
      "outputs": [
        {
          "output_type": "stream",
          "name": "stdout",
          "text": [
            "p value is 0.0\n",
            "Dependent(reject H0)\n"
          ]
        }
      ]
    },
    {
      "cell_type": "markdown",
      "source": [
        "Pago Julio:"
      ],
      "metadata": {
        "id": "9LZ04JoaPBf7"
      }
    },
    {
      "cell_type": "code",
      "source": [
        "OBS = pd.crosstab(index = df_dedupped['PAY_4'], columns = df_dedupped['default payment next month']); OBS\n",
        "stat, p, dof, expected = chi2_contingency(OBS) \n",
        "  \n",
        "alpha = 0.05\n",
        "print(\"p value is \" + str(p)) \n",
        "if p <= alpha: \n",
        "    print('Dependent(reject H0)') \n",
        "else: \n",
        "    print('Independent(H0 holds true)') "
      ],
      "metadata": {
        "colab": {
          "base_uri": "https://localhost:8080/"
        },
        "id": "wOSwWQPaPCfp",
        "outputId": "641dc91b-031e-4ee0-c95a-7c947f9c058a"
      },
      "execution_count": null,
      "outputs": [
        {
          "output_type": "stream",
          "name": "stdout",
          "text": [
            "p value is 0.0\n",
            "Dependent(reject H0)\n"
          ]
        }
      ]
    },
    {
      "cell_type": "markdown",
      "source": [
        "Pago Agosto:"
      ],
      "metadata": {
        "id": "efuqmBA2PEj_"
      }
    },
    {
      "cell_type": "code",
      "source": [
        "OBS = pd.crosstab(index = df_dedupped['PAY_5'], columns = df_dedupped['default payment next month']); OBS\n",
        "stat, p, dof, expected = chi2_contingency(OBS) \n",
        "  \n",
        "alpha = 0.05\n",
        "print(\"p value is \" + str(p)) \n",
        "if p <= alpha: \n",
        "    print('Dependent(reject H0)') \n",
        "else: \n",
        "    print('Independent(H0 holds true)') "
      ],
      "metadata": {
        "colab": {
          "base_uri": "https://localhost:8080/"
        },
        "id": "-mIDA-iIPFxR",
        "outputId": "3513148f-a26d-409b-9e62-d43a9ed46fa3"
      },
      "execution_count": null,
      "outputs": [
        {
          "output_type": "stream",
          "name": "stdout",
          "text": [
            "p value is 0.0\n",
            "Dependent(reject H0)\n"
          ]
        }
      ]
    },
    {
      "cell_type": "markdown",
      "source": [
        "Pago Septiembre:"
      ],
      "metadata": {
        "id": "Jyfrv16GPHmn"
      }
    },
    {
      "cell_type": "code",
      "source": [
        "OBS = pd.crosstab(index = df_dedupped['PAY_6'], columns = df_dedupped['default payment next month']); OBS\n",
        "stat, p, dof, expected = chi2_contingency(OBS) \n",
        "  \n",
        "alpha = 0.05\n",
        "print(\"p value is \" + str(p)) \n",
        "if p <= alpha: \n",
        "    print('Dependent(reject H0)') \n",
        "else: \n",
        "    print('Independent(H0 holds true)') "
      ],
      "metadata": {
        "colab": {
          "base_uri": "https://localhost:8080/"
        },
        "id": "WdjUWZYnPHYE",
        "outputId": "93f41185-c05b-4271-de36-92ffb9c2ebd8"
      },
      "execution_count": null,
      "outputs": [
        {
          "output_type": "stream",
          "name": "stdout",
          "text": [
            "p value is 0.0\n",
            "Dependent(reject H0)\n"
          ]
        }
      ]
    },
    {
      "cell_type": "markdown",
      "source": [
        "Existe una relación significativa entre los pagos mensuales del monto y el incumplimiento o cumplimiento del pago. Por lo tanto esta variable es seleccionada para el modelo de clasificación."
      ],
      "metadata": {
        "id": "c1bKOIm-OZ3V"
      }
    },
    {
      "cell_type": "markdown",
      "source": [
        "Variables cuantitativas:"
      ],
      "metadata": {
        "id": "0fGCPbQ9NHaS"
      }
    },
    {
      "cell_type": "code",
      "source": [
        "def boxplot_variation(feature1, feature2, width=16):\n",
        "    fig, ax1 = plt.subplots(ncols=1, figsize=(width,6))\n",
        "    s = sns.boxplot(ax = ax1, x=feature1, y=feature2,\n",
        "                data=df_dedupped, palette=\"PRGn\",showfliers=False)\n",
        "    s.set_xticklabels(s.get_xticklabels(),rotation=90)\n",
        "    plt.show();"
      ],
      "metadata": {
        "id": "TOUWuZ2EMhbR"
      },
      "execution_count": null,
      "outputs": []
    },
    {
      "cell_type": "code",
      "source": [
        "boxplot_variation('default payment next month', 'LIMIT_BAL',8)"
      ],
      "metadata": {
        "colab": {
          "base_uri": "https://localhost:8080/",
          "height": 384
        },
        "id": "8nBNl53k3jFV",
        "outputId": "2e196367-0d38-44d4-f5ac-e679b51865c8"
      },
      "execution_count": null,
      "outputs": [
        {
          "output_type": "display_data",
          "data": {
            "text/plain": [
              "<Figure size 576x432 with 1 Axes>"
            ],
            "image/png": "[encoded data removed]"
          },
          "metadata": {
            "needs_background": "light"
          }
        }
      ]
    },
    {
      "cell_type": "markdown",
      "source": [
        "Aquellos individuos registrados con montos asignados \"Bajos\" son quienes cumplen con el pago del siguiente mes de octubre mientrás que, aquellos que tienen montos elevados no han cumplido con sus pagos al ser tan altos."
      ],
      "metadata": {
        "id": "LAwps9gCMwA7"
      }
    },
    {
      "cell_type": "code",
      "source": [
        "boxplot_variation('default payment next month', 'AGE',8)"
      ],
      "metadata": {
        "colab": {
          "base_uri": "https://localhost:8080/",
          "height": 384
        },
        "id": "-Rfd8BvtPUrj",
        "outputId": "0d8ce1f3-0af6-42db-de09-d3b3e37c8839"
      },
      "execution_count": null,
      "outputs": [
        {
          "output_type": "display_data",
          "data": {
            "text/plain": [
              "<Figure size 576x432 with 1 Axes>"
            ],
            "image/png": "[encoded data removed]"
          },
          "metadata": {
            "needs_background": "light"
          }
        }
      ]
    },
    {
      "cell_type": "markdown",
      "source": [
        "No parece existir una diferencia del incumplimiento por la edad del individuo."
      ],
      "metadata": {
        "id": "Mv8XQRZ6Pe0y"
      }
    },
    {
      "cell_type": "markdown",
      "source": [
        "Monto del estado de cuenta:"
      ],
      "metadata": {
        "id": "QxVdkjHePunc"
      }
    },
    {
      "cell_type": "code",
      "source": [
        "fig, axes = plt.subplots(nrows=2, ncols=3, figsize=(30, 10))\n",
        "sns.boxplot(data=df_dedupped, x=\"default payment next month\", y=\"BILL_AMT6\", ax=axes[0,0], showfliers=False, palette=\"PRGn\")\n",
        "axes[0,0].set_title(\"Abril\")\n",
        "sns.boxplot(data=df_dedupped, x=\"default payment next month\", y=\"BILL_AMT5\",  ax=axes[0,1], showfliers=False, palette=\"PRGn\")\n",
        "axes[0,1].set_title(\"Mayo\")\n",
        "sns.boxplot(data=df_dedupped, x=\"default payment next month\", y=\"BILL_AMT4\",  ax=axes[0,2], showfliers=False, palette=\"PRGn\")\n",
        "axes[0,2].set_title(\"Junio\")\n",
        "sns.boxplot(data=df_dedupped, x=\"default payment next month\", y=\"BILL_AMT3\",  ax=axes[1,0], showfliers=False, palette=\"PRGn\")\n",
        "axes[1,0].set_title(\"Julio\")\n",
        "sns.boxplot(data=df_dedupped, x=\"default payment next month\", y=\"BILL_AMT2\",  ax=axes[1,1], showfliers=False, palette=\"PRGn\")\n",
        "axes[1,1].set_title(\"Agosto\")\n",
        "sns.boxplot(data=df_dedupped, x=\"default payment next month\", y=\"BILL_AMT1\",  ax=axes[1,2], showfliers=False, palette=\"PRGn\")\n",
        "axes[1,2].set_title(\"Septiembre\")"
      ],
      "metadata": {
        "colab": {
          "base_uri": "https://localhost:8080/",
          "height": 434
        },
        "id": "wNudisXTPvie",
        "outputId": "92fa370e-64f6-4b53-d845-03df72cb8452"
      },
      "execution_count": null,
      "outputs": [
        {
          "output_type": "execute_result",
          "data": {
            "text/plain": [
              "Text(0.5, 1.0, 'Septiembre')"
            ]
          },
          "metadata": {},
          "execution_count": 274
        },
        {
          "output_type": "display_data",
          "data": {
            "text/plain": [
              "<Figure size 2160x720 with 6 Axes>"
            ],
            "image/png": "[encoded data removed]"
          },
          "metadata": {
            "needs_background": "light"
          }
        }
      ]
    },
    {
      "cell_type": "markdown",
      "source": [
        "Se puede evidenciar como en los primeros dos meses no se ven diferencias entre ambos boxplot (Cumplimiento e incumplimiento) lo que quiere decir que el monto del estado de cuenta no presenta cambios significativos en que la persona tenga o no un incumplimiento. Sin embargo a partir del mes de junio se puede notar que aquellos que no incumplen tienen montos del estado de cuenta más grandes a comparacion de quienes si incumplen.\n",
        "A medida que pasa el tiempo se evidencia como el monto del estado de cuenta disminuyó en cuanto a su valor."
      ],
      "metadata": {
        "id": "YX9LQA7nZr6I"
      }
    },
    {
      "cell_type": "markdown",
      "source": [
        "Monto del pago anterior:"
      ],
      "metadata": {
        "id": "wAs-tzZpVCAW"
      }
    },
    {
      "cell_type": "code",
      "source": [
        "fig, axes = plt.subplots(nrows=2, ncols=3, figsize=(30, 10))\n",
        "sns.boxplot(data=df_dedupped, x=\"default payment next month\", y=\"PAY_AMT6\", ax=axes[0,0], showfliers=False, palette=\"PRGn\")\n",
        "axes[0,0].set_title(\"Abril\")\n",
        "sns.boxplot(data=df_dedupped, x=\"default payment next month\", y=\"PAY_AMT5\",  ax=axes[0,1], showfliers=False, palette=\"PRGn\")\n",
        "axes[0,1].set_title(\"Mayo\")\n",
        "sns.boxplot(data=df_dedupped, x=\"default payment next month\", y=\"PAY_AMT4\",  ax=axes[0,2], showfliers=False, palette=\"PRGn\")\n",
        "axes[0,2].set_title(\"Junio\")\n",
        "sns.boxplot(data=df_dedupped, x=\"default payment next month\", y=\"PAY_AMT3\",  ax=axes[1,0], showfliers=False, palette=\"PRGn\")\n",
        "axes[1,0].set_title(\"Julio\")\n",
        "sns.boxplot(data=df_dedupped, x=\"default payment next month\", y=\"PAY_AMT2\",  ax=axes[1,1], showfliers=False, palette=\"PRGn\")\n",
        "axes[1,1].set_title(\"Agosto\")\n",
        "sns.boxplot(data=df_dedupped, x=\"default payment next month\", y=\"PAY_AMT1\",  ax=axes[1,2], showfliers=False, palette=\"PRGn\")\n",
        "axes[1,2].set_title(\"Septiembre\")"
      ],
      "metadata": {
        "colab": {
          "base_uri": "https://localhost:8080/",
          "height": 436
        },
        "id": "L3CGEqEVVjwy",
        "outputId": "be1a3641-641e-4788-98ff-23ab26d47c82"
      },
      "execution_count": null,
      "outputs": [
        {
          "output_type": "execute_result",
          "data": {
            "text/plain": [
              "Text(0.5, 1.0, 'Septiembre')"
            ]
          },
          "metadata": {},
          "execution_count": 275
        },
        {
          "output_type": "display_data",
          "data": {
            "text/plain": [
              "<Figure size 2160x720 with 6 Axes>"
            ],
            "image/png": "[encoded data removed]"
          },
          "metadata": {
            "needs_background": "light"
          }
        }
      ]
    },
    {
      "cell_type": "markdown",
      "source": [
        "En cuanto al monto pagado en septiembre-abril de 2005 durante estos seis meses si se evidencia un cambio grande entre aquellos que si incumplen y los que no, lo cual la hace importante para ser seleccionada en el modelo. Aquellos que incumplen en sus pagos tienen un menor monto pagado a comparacion de quienes si cumplen."
      ],
      "metadata": {
        "id": "5Ute7NACab9j"
      }
    },
    {
      "cell_type": "markdown",
      "source": [
        "Pruebas estadisticas finales:"
      ],
      "metadata": {
        "id": "B8NI5jYAa0OY"
      }
    },
    {
      "cell_type": "markdown",
      "source": [
        "Las hipótesis contrastadas por el t-test de muestras independientes son:\n",
        "\n",
        "H0 : no hay diferencias entre las medias:  μx=μy \n",
        "\n",
        "Ha : sí hay diferencias entre las medias:  μx≠μy"
      ],
      "metadata": {
        "id": "lOSzxjznc6-T"
      }
    },
    {
      "cell_type": "markdown",
      "source": [
        "Monto otorgado:"
      ],
      "metadata": {
        "id": "lxCNhT1Ses9-"
      }
    },
    {
      "cell_type": "code",
      "source": [
        "#Definir \n",
        "from scipy.stats import ttest_ind\n",
        "group1 = df_dedupped[df_dedupped['default payment next month']==\"1\"]\n",
        "group2 = df_dedupped[df_dedupped['default payment next month']==\"0\"] "
      ],
      "metadata": {
        "id": "Q081p8KDcanF"
      },
      "execution_count": null,
      "outputs": []
    },
    {
      "cell_type": "code",
      "source": [
        "ttest_ind(group1['LIMIT_BAL'], group2['LIMIT_BAL'])"
      ],
      "metadata": {
        "colab": {
          "base_uri": "https://localhost:8080/"
        },
        "id": "rO9lqiBydznQ",
        "outputId": "61c4a3ea-7db4-4a2f-c3da-9ed55d0b2e39"
      },
      "execution_count": null,
      "outputs": [
        {
          "output_type": "execute_result",
          "data": {
            "text/plain": [
              "Ttest_indResult(statistic=-27.033063864563864, pvalue=5.683894607893437e-159)"
            ]
          },
          "metadata": {},
          "execution_count": 277
        }
      ]
    },
    {
      "cell_type": "markdown",
      "source": [
        "Dado que el valor p es inferior a 0.05, rechazamos la hipótesis nula de la prueba t y concluimos que hay suficiente evidencia para decir que las personas que incumplen tienen en promedio un monto otorgado diferente a los que si cumplen."
      ],
      "metadata": {
        "id": "Uu0mYloueTc0"
      }
    },
    {
      "cell_type": "markdown",
      "source": [
        "Edad:"
      ],
      "metadata": {
        "id": "0J9eKeoyeuoB"
      }
    },
    {
      "cell_type": "code",
      "source": [
        "ttest_ind(group1['LIMIT_BAL'], group2['AGE'])"
      ],
      "metadata": {
        "colab": {
          "base_uri": "https://localhost:8080/"
        },
        "id": "iiaQR6xoev0n",
        "outputId": "eeebb68d-d240-4a10-9ce3-6ce84a4bed40"
      },
      "execution_count": null,
      "outputs": [
        {
          "output_type": "execute_result",
          "data": {
            "text/plain": [
              "Ttest_indResult(statistic=168.4091688366584, pvalue=0.0)"
            ]
          },
          "metadata": {},
          "execution_count": 278
        }
      ]
    },
    {
      "cell_type": "markdown",
      "source": [
        "Aunque en el Boxplot se evidencian similitudes segun la prueba T realizada se dice que si hay diferencias significativas entre si una persona incumple o no con respecto a su edad."
      ],
      "metadata": {
        "id": "VzJEWnDCe1KX"
      }
    },
    {
      "cell_type": "markdown",
      "source": [
        "Monto del estado de cuenta:"
      ],
      "metadata": {
        "id": "JvIjEBthfIsW"
      }
    },
    {
      "cell_type": "code",
      "source": [
        "ttest_ind(group1['LIMIT_BAL'], group2['BILL_AMT6']) "
      ],
      "metadata": {
        "colab": {
          "base_uri": "https://localhost:8080/"
        },
        "id": "XYi19ehvfJwv",
        "outputId": "7b1c823f-a862-45e3-db01-cb481c81f590"
      },
      "execution_count": null,
      "outputs": [
        {
          "output_type": "execute_result",
          "data": {
            "text/plain": [
              "Ttest_indResult(statistic=83.48411572569468, pvalue=0.0)"
            ]
          },
          "metadata": {},
          "execution_count": 279
        }
      ]
    },
    {
      "cell_type": "code",
      "source": [
        "ttest_ind(group1['LIMIT_BAL'], group2['BILL_AMT5']) "
      ],
      "metadata": {
        "colab": {
          "base_uri": "https://localhost:8080/"
        },
        "id": "cquC3OBmfNPk",
        "outputId": "999ac97f-0cce-467d-fae6-e4ea18e698af"
      },
      "execution_count": null,
      "outputs": [
        {
          "output_type": "execute_result",
          "data": {
            "text/plain": [
              "Ttest_indResult(statistic=81.49556384451544, pvalue=0.0)"
            ]
          },
          "metadata": {},
          "execution_count": 280
        }
      ]
    },
    {
      "cell_type": "code",
      "source": [
        "ttest_ind(group1['LIMIT_BAL'], group2['BILL_AMT4']) "
      ],
      "metadata": {
        "colab": {
          "base_uri": "https://localhost:8080/"
        },
        "id": "2lPVhE3WfP6k",
        "outputId": "80f33a20-644b-44d1-9c25-26495cfd7c42"
      },
      "execution_count": null,
      "outputs": [
        {
          "output_type": "execute_result",
          "data": {
            "text/plain": [
              "Ttest_indResult(statistic=76.28912118883076, pvalue=0.0)"
            ]
          },
          "metadata": {},
          "execution_count": 284
        }
      ]
    },
    {
      "cell_type": "code",
      "source": [
        "ttest_ind(group1['LIMIT_BAL'], group2['BILL_AMT3']) "
      ],
      "metadata": {
        "colab": {
          "base_uri": "https://localhost:8080/"
        },
        "id": "uvB89TDzfRLb",
        "outputId": "9dce2c9a-f0e7-4c61-bd00-d2b5c388eb7d"
      },
      "execution_count": null,
      "outputs": [
        {
          "output_type": "execute_result",
          "data": {
            "text/plain": [
              "Ttest_indResult(statistic=69.76046831706618, pvalue=0.0)"
            ]
          },
          "metadata": {},
          "execution_count": 283
        }
      ]
    },
    {
      "cell_type": "code",
      "source": [
        "ttest_ind(group1['LIMIT_BAL'], group2['BILL_AMT2']) "
      ],
      "metadata": {
        "colab": {
          "base_uri": "https://localhost:8080/"
        },
        "id": "6X7iyQe3fSPN",
        "outputId": "8c0ff702-41fd-44c6-94fe-f03737bafa7b"
      },
      "execution_count": null,
      "outputs": [
        {
          "output_type": "execute_result",
          "data": {
            "text/plain": [
              "Ttest_indResult(statistic=66.9704169967604, pvalue=0.0)"
            ]
          },
          "metadata": {},
          "execution_count": 282
        }
      ]
    },
    {
      "cell_type": "code",
      "source": [
        "ttest_ind(group1['LIMIT_BAL'], group2['BILL_AMT1']) "
      ],
      "metadata": {
        "colab": {
          "base_uri": "https://localhost:8080/"
        },
        "id": "RP16g7rmfTzh",
        "outputId": "5caa6738-0c09-4204-8c61-a6a4b5a4dc88"
      },
      "execution_count": null,
      "outputs": [
        {
          "output_type": "execute_result",
          "data": {
            "text/plain": [
              "Ttest_indResult(statistic=63.52805514009813, pvalue=0.0)"
            ]
          },
          "metadata": {},
          "execution_count": 281
        }
      ]
    },
    {
      "cell_type": "markdown",
      "source": [
        "De acuerdo a las prueba T se puede decir que el promedio del monto del estado de cuenta es estadisticamente diferente en las personas que incumplen a comparación de aquellas que cumplen. Quienes cumplen con su pago el monto del estado de cuenta es menor.\n"
      ],
      "metadata": {
        "id": "U8-OXLSxfdWf"
      }
    },
    {
      "cell_type": "markdown",
      "source": [
        "En conclusión, todas las variables resultan ser determinantes en el modelo para poder clasificar si una persona incumplirá o no en su pago. La única que resulta no ser tan importante como las demás es la variable \"Edad\" "
      ],
      "metadata": {
        "id": "1xWg_XLOgOeu"
      }
    },
    {
      "cell_type": "markdown",
      "source": [
        "## Algoritmo de clasificación "
      ],
      "metadata": {
        "id": "nEHSlGkHgJIG"
      }
    },
    {
      "cell_type": "markdown",
      "source": [
        "Para las métricas se hará uso de la precisión y el Log Loss/Binary Crossentropy"
      ],
      "metadata": {
        "id": "rgIQWG5MVNo8"
      }
    },
    {
      "cell_type": "markdown",
      "source": [
        "Aplique el algoritmo realizando un modelo utilizando todo el dataset preprocesado, prediga todos\n",
        "los valores del conjunto y evalúe con las métricas correspondientes al tipo de aprendizaje\n",
        "supervisado. Implemente un proceso iterativo para al menos dos hiperparámetros del algoritmo"
      ],
      "metadata": {
        "id": "sdQX4qjdj96_"
      }
    },
    {
      "cell_type": "code",
      "source": [
        "y = df_dedupped.loc[:,[\"default payment next month\"]];y"
      ],
      "metadata": {
        "colab": {
          "base_uri": "https://localhost:8080/",
          "height": 423
        },
        "id": "FIxmZTnugrKA",
        "outputId": "49d846f4-e876-4d9f-a206-c35cb163a884"
      },
      "execution_count": 38,
      "outputs": [
        {
          "output_type": "execute_result",
          "data": {
            "text/plain": [
              "      default payment next month\n",
              "0                              1\n",
              "1                              1\n",
              "2                              0\n",
              "3                              0\n",
              "4                              0\n",
              "...                          ...\n",
              "29994                          1\n",
              "29995                          0\n",
              "29996                          0\n",
              "29997                          1\n",
              "29999                          1\n",
              "\n",
              "[28978 rows x 1 columns]"
            ],
            "text/html": [
              "\n",
              "  <div id=\"df-2e7248f1-850f-4090-b707-8231128e9e98\">\n",
              "    <div class=\"colab-df-container\">\n",
              "      <div>\n",
              "<style scoped>\n",
              "    .dataframe tbody tr th:only-of-type {\n",
              "        vertical-align: middle;\n",
              "    }\n",
              "\n",
              "    .dataframe tbody tr th {\n",
              "        vertical-align: top;\n",
              "    }\n",
              "\n",
              "    .dataframe thead th {\n",
              "        text-align: right;\n",
              "    }\n",
              "</style>\n",
              "<table border=\"1\" class=\"dataframe\">\n",
              "  <thead>\n",
              "    <tr style=\"text-align: right;\">\n",
              "      <th></th>\n",
              "      <th>default payment next month</th>\n",
              "    </tr>\n",
              "  </thead>\n",
              "  <tbody>\n",
              "    <tr>\n",
              "      <th>0</th>\n",
              "      <td>1</td>\n",
              "    </tr>\n",
              "    <tr>\n",
              "      <th>1</th>\n",
              "      <td>1</td>\n",
              "    </tr>\n",
              "    <tr>\n",
              "      <th>2</th>\n",
              "      <td>0</td>\n",
              "    </tr>\n",
              "    <tr>\n",
              "      <th>3</th>\n",
              "      <td>0</td>\n",
              "    </tr>\n",
              "    <tr>\n",
              "      <th>4</th>\n",
              "      <td>0</td>\n",
              "    </tr>\n",
              "    <tr>\n",
              "      <th>...</th>\n",
              "      <td>...</td>\n",
              "    </tr>\n",
              "    <tr>\n",
              "      <th>29994</th>\n",
              "      <td>1</td>\n",
              "    </tr>\n",
              "    <tr>\n",
              "      <th>29995</th>\n",
              "      <td>0</td>\n",
              "    </tr>\n",
              "    <tr>\n",
              "      <th>29996</th>\n",
              "      <td>0</td>\n",
              "    </tr>\n",
              "    <tr>\n",
              "      <th>29997</th>\n",
              "      <td>1</td>\n",
              "    </tr>\n",
              "    <tr>\n",
              "      <th>29999</th>\n",
              "      <td>1</td>\n",
              "    </tr>\n",
              "  </tbody>\n",
              "</table>\n",
              "<p>28978 rows × 1 columns</p>\n",
              "</div>\n",
              "      <button class=\"colab-df-convert\" onclick=\"convertToInteractive('df-2e7248f1-850f-4090-b707-8231128e9e98')\"\n",
              "              title=\"Convert this dataframe to an interactive table.\"\n",
              "              style=\"display:none;\">\n",
              "        \n",
              "  <svg xmlns=\"http://www.w3.org/2000/svg\" height=\"24px\"viewBox=\"0 0 24 24\"\n",
              "       width=\"24px\">\n",
              "    <path d=\"M0 0h24v24H0V0z\" fill=\"none\"/>\n",
              "    <path d=\"M18.56 5.44l.94 2.06.94-2.06 2.06-.94-2.06-.94-.94-2.06-.94 2.06-2.06.94zm-11 1L8.5 8.5l.94-2.06 2.06-.94-2.06-.94L8.5 2.5l-.94 2.06-2.06.94zm10 10l.94 2.06.94-2.06 2.06-.94-2.06-.94-.94-2.06-.94 2.06-2.06.94z\"/><path d=\"M17.41 7.96l-1.37-1.37c-.4-.4-.92-.59-1.43-.59-.52 0-1.04.2-1.43.59L10.3 9.45l-7.72 7.72c-.78.78-.78 2.05 0 2.83L4 21.41c.39.39.9.59 1.41.59.51 0 1.02-.2 1.41-.59l7.78-7.78 2.81-2.81c.8-.78.8-2.07 0-2.86zM5.41 20L4 18.59l7.72-7.72 1.47 1.35L5.41 20z\"/>\n",
              "  </svg>\n",
              "      </button>\n",
              "      \n",
              "  <style>\n",
              "    .colab-df-container {\n",
              "      display:flex;\n",
              "      flex-wrap:wrap;\n",
              "      gap: 12px;\n",
              "    }\n",
              "\n",
              "    .colab-df-convert {\n",
              "      background-color: #E8F0FE;\n",
              "      border: none;\n",
              "      border-radius: 50%;\n",
              "      cursor: pointer;\n",
              "      display: none;\n",
              "      fill: #1967D2;\n",
              "      height: 32px;\n",
              "      padding: 0 0 0 0;\n",
              "      width: 32px;\n",
              "    }\n",
              "\n",
              "    .colab-df-convert:hover {\n",
              "      background-color: #E2EBFA;\n",
              "      box-shadow: 0px 1px 2px rgba(60, 64, 67, 0.3), 0px 1px 3px 1px rgba(60, 64, 67, 0.15);\n",
              "      fill: #174EA6;\n",
              "    }\n",
              "\n",
              "    [theme=dark] .colab-df-convert {\n",
              "      background-color: #3B4455;\n",
              "      fill: #D2E3FC;\n",
              "    }\n",
              "\n",
              "    [theme=dark] .colab-df-convert:hover {\n",
              "      background-color: #434B5C;\n",
              "      box-shadow: 0px 1px 3px 1px rgba(0, 0, 0, 0.15);\n",
              "      filter: drop-shadow(0px 1px 2px rgba(0, 0, 0, 0.3));\n",
              "      fill: #FFFFFF;\n",
              "    }\n",
              "  </style>\n",
              "\n",
              "      <script>\n",
              "        const buttonEl =\n",
              "          document.querySelector('#df-2e7248f1-850f-4090-b707-8231128e9e98 button.colab-df-convert');\n",
              "        buttonEl.style.display =\n",
              "          google.colab.kernel.accessAllowed ? 'block' : 'none';\n",
              "\n",
              "        async function convertToInteractive(key) {\n",
              "          const element = document.querySelector('#df-2e7248f1-850f-4090-b707-8231128e9e98');\n",
              "          const dataTable =\n",
              "            await google.colab.kernel.invokeFunction('convertToInteractive',\n",
              "                                                     [key], {});\n",
              "          if (!dataTable) return;\n",
              "\n",
              "          const docLinkHtml = 'Like what you see? Visit the ' +\n",
              "            '<a target=\"_blank\" href=https://colab.research.google.com/notebooks/data_table.ipynb>data table notebook</a>'\n",
              "            + ' to learn more about interactive tables.';\n",
              "          element.innerHTML = '';\n",
              "          dataTable['output_type'] = 'display_data';\n",
              "          await google.colab.output.renderOutput(dataTable, element);\n",
              "          const docLink = document.createElement('div');\n",
              "          docLink.innerHTML = docLinkHtml;\n",
              "          element.appendChild(docLink);\n",
              "        }\n",
              "      </script>\n",
              "    </div>\n",
              "  </div>\n",
              "  "
            ]
          },
          "metadata": {},
          "execution_count": 38
        }
      ]
    },
    {
      "cell_type": "code",
      "source": [
        "df_dummy = pd.get_dummies(df_dedupped[[\"SEX\", \"EDUCATION\",\"MARRIAGE\", 'PAY_0', 'PAY_2', 'PAY_3', 'PAY_4', 'PAY_5', 'PAY_6']]); df_dummy"
      ],
      "metadata": {
        "colab": {
          "base_uri": "https://localhost:8080/",
          "height": 487
        },
        "id": "uk7sec7Ujc84",
        "outputId": "dd3bf57e-d419-4054-fdb6-5ec4c94582ec"
      },
      "execution_count": 39,
      "outputs": [
        {
          "output_type": "execute_result",
          "data": {
            "text/plain": [
              "       SEX_1  SEX_2  EDUCATION_1  EDUCATION_2  EDUCATION_3  EDUCATION_4  \\\n",
              "0          0      1            0            1            0            0   \n",
              "1          0      1            0            1            0            0   \n",
              "2          0      1            0            1            0            0   \n",
              "3          0      1            0            1            0            0   \n",
              "4          1      0            0            1            0            0   \n",
              "...      ...    ...          ...          ...          ...          ...   \n",
              "29994      1      0            0            1            0            0   \n",
              "29995      1      0            0            0            1            0   \n",
              "29996      1      0            0            0            1            0   \n",
              "29997      1      0            0            1            0            0   \n",
              "29999      1      0            0            1            0            0   \n",
              "\n",
              "       MARRIAGE_1  MARRIAGE_2  MARRIAGE_3  PAY_0_-1  ...  PAY_6_-1  PAY_6_-2  \\\n",
              "0               1           0           0         0  ...         0         1   \n",
              "1               0           1           0         1  ...         0         0   \n",
              "2               0           1           0         0  ...         0         0   \n",
              "3               1           0           0         0  ...         0         0   \n",
              "4               1           0           0         1  ...         0         0   \n",
              "...           ...         ...         ...       ...  ...       ...       ...   \n",
              "29994           0           1           0         0  ...         0         0   \n",
              "29995           1           0           0         0  ...         0         0   \n",
              "29996           0           1           0         1  ...         0         0   \n",
              "29997           0           1           0         0  ...         0         0   \n",
              "29999           1           0           0         0  ...         0         0   \n",
              "\n",
              "       PAY_6_0  PAY_6_2  PAY_6_3  PAY_6_4  PAY_6_5  PAY_6_6  PAY_6_7  PAY_6_8  \n",
              "0            0        0        0        0        0        0        0        0  \n",
              "1            0        1        0        0        0        0        0        0  \n",
              "2            1        0        0        0        0        0        0        0  \n",
              "3            1        0        0        0        0        0        0        0  \n",
              "4            1        0        0        0        0        0        0        0  \n",
              "...        ...      ...      ...      ...      ...      ...      ...      ...  \n",
              "29994        0        1        0        0        0        0        0        0  \n",
              "29995        1        0        0        0        0        0        0        0  \n",
              "29996        1        0        0        0        0        0        0        0  \n",
              "29997        1        0        0        0        0        0        0        0  \n",
              "29999        1        0        0        0        0        0        0        0  \n",
              "\n",
              "[28978 rows x 73 columns]"
            ],
            "text/html": [
              "\n",
              "  <div id=\"df-fb3df6aa-78d4-48cf-b145-0db56fcc51c8\">\n",
              "    <div class=\"colab-df-container\">\n",
              "      <div>\n",
              "<style scoped>\n",
              "    .dataframe tbody tr th:only-of-type {\n",
              "        vertical-align: middle;\n",
              "    }\n",
              "\n",
              "    .dataframe tbody tr th {\n",
              "        vertical-align: top;\n",
              "    }\n",
              "\n",
              "    .dataframe thead th {\n",
              "        text-align: right;\n",
              "    }\n",
              "</style>\n",
              "<table border=\"1\" class=\"dataframe\">\n",
              "  <thead>\n",
              "    <tr style=\"text-align: right;\">\n",
              "      <th></th>\n",
              "      <th>SEX_1</th>\n",
              "      <th>SEX_2</th>\n",
              "      <th>EDUCATION_1</th>\n",
              "      <th>EDUCATION_2</th>\n",
              "      <th>EDUCATION_3</th>\n",
              "      <th>EDUCATION_4</th>\n",
              "      <th>MARRIAGE_1</th>\n",
              "      <th>MARRIAGE_2</th>\n",
              "      <th>MARRIAGE_3</th>\n",
              "      <th>PAY_0_-1</th>\n",
              "      <th>...</th>\n",
              "      <th>PAY_6_-1</th>\n",
              "      <th>PAY_6_-2</th>\n",
              "      <th>PAY_6_0</th>\n",
              "      <th>PAY_6_2</th>\n",
              "      <th>PAY_6_3</th>\n",
              "      <th>PAY_6_4</th>\n",
              "      <th>PAY_6_5</th>\n",
              "      <th>PAY_6_6</th>\n",
              "      <th>PAY_6_7</th>\n",
              "      <th>PAY_6_8</th>\n",
              "    </tr>\n",
              "  </thead>\n",
              "  <tbody>\n",
              "    <tr>\n",
              "      <th>0</th>\n",
              "      <td>0</td>\n",
              "      <td>1</td>\n",
              "      <td>0</td>\n",
              "      <td>1</td>\n",
              "      <td>0</td>\n",
              "      <td>0</td>\n",
              "      <td>1</td>\n",
              "      <td>0</td>\n",
              "      <td>0</td>\n",
              "      <td>0</td>\n",
              "      <td>...</td>\n",
              "      <td>0</td>\n",
              "      <td>1</td>\n",
              "      <td>0</td>\n",
              "      <td>0</td>\n",
              "      <td>0</td>\n",
              "      <td>0</td>\n",
              "      <td>0</td>\n",
              "      <td>0</td>\n",
              "      <td>0</td>\n",
              "      <td>0</td>\n",
              "    </tr>\n",
              "    <tr>\n",
              "      <th>1</th>\n",
              "      <td>0</td>\n",
              "      <td>1</td>\n",
              "      <td>0</td>\n",
              "      <td>1</td>\n",
              "      <td>0</td>\n",
              "      <td>0</td>\n",
              "      <td>0</td>\n",
              "      <td>1</td>\n",
              "      <td>0</td>\n",
              "      <td>1</td>\n",
              "      <td>...</td>\n",
              "      <td>0</td>\n",
              "      <td>0</td>\n",
              "      <td>0</td>\n",
              "      <td>1</td>\n",
              "      <td>0</td>\n",
              "      <td>0</td>\n",
              "      <td>0</td>\n",
              "      <td>0</td>\n",
              "      <td>0</td>\n",
              "      <td>0</td>\n",
              "    </tr>\n",
              "    <tr>\n",
              "      <th>2</th>\n",
              "      <td>0</td>\n",
              "      <td>1</td>\n",
              "      <td>0</td>\n",
              "      <td>1</td>\n",
              "      <td>0</td>\n",
              "      <td>0</td>\n",
              "      <td>0</td>\n",
              "      <td>1</td>\n",
              "      <td>0</td>\n",
              "      <td>0</td>\n",
              "      <td>...</td>\n",
              "      <td>0</td>\n",
              "      <td>0</td>\n",
              "      <td>1</td>\n",
              "      <td>0</td>\n",
              "      <td>0</td>\n",
              "      <td>0</td>\n",
              "      <td>0</td>\n",
              "      <td>0</td>\n",
              "      <td>0</td>\n",
              "      <td>0</td>\n",
              "    </tr>\n",
              "    <tr>\n",
              "      <th>3</th>\n",
              "      <td>0</td>\n",
              "      <td>1</td>\n",
              "      <td>0</td>\n",
              "      <td>1</td>\n",
              "      <td>0</td>\n",
              "      <td>0</td>\n",
              "      <td>1</td>\n",
              "      <td>0</td>\n",
              "      <td>0</td>\n",
              "      <td>0</td>\n",
              "      <td>...</td>\n",
              "      <td>0</td>\n",
              "      <td>0</td>\n",
              "      <td>1</td>\n",
              "      <td>0</td>\n",
              "      <td>0</td>\n",
              "      <td>0</td>\n",
              "      <td>0</td>\n",
              "      <td>0</td>\n",
              "      <td>0</td>\n",
              "      <td>0</td>\n",
              "    </tr>\n",
              "    <tr>\n",
              "      <th>4</th>\n",
              "      <td>1</td>\n",
              "      <td>0</td>\n",
              "      <td>0</td>\n",
              "      <td>1</td>\n",
              "      <td>0</td>\n",
              "      <td>0</td>\n",
              "      <td>1</td>\n",
              "      <td>0</td>\n",
              "      <td>0</td>\n",
              "      <td>1</td>\n",
              "      <td>...</td>\n",
              "      <td>0</td>\n",
              "      <td>0</td>\n",
              "      <td>1</td>\n",
              "      <td>0</td>\n",
              "      <td>0</td>\n",
              "      <td>0</td>\n",
              "      <td>0</td>\n",
              "      <td>0</td>\n",
              "      <td>0</td>\n",
              "      <td>0</td>\n",
              "    </tr>\n",
              "    <tr>\n",
              "      <th>...</th>\n",
              "      <td>...</td>\n",
              "      <td>...</td>\n",
              "      <td>...</td>\n",
              "      <td>...</td>\n",
              "      <td>...</td>\n",
              "      <td>...</td>\n",
              "      <td>...</td>\n",
              "      <td>...</td>\n",
              "      <td>...</td>\n",
              "      <td>...</td>\n",
              "      <td>...</td>\n",
              "      <td>...</td>\n",
              "      <td>...</td>\n",
              "      <td>...</td>\n",
              "      <td>...</td>\n",
              "      <td>...</td>\n",
              "      <td>...</td>\n",
              "      <td>...</td>\n",
              "      <td>...</td>\n",
              "      <td>...</td>\n",
              "      <td>...</td>\n",
              "    </tr>\n",
              "    <tr>\n",
              "      <th>29994</th>\n",
              "      <td>1</td>\n",
              "      <td>0</td>\n",
              "      <td>0</td>\n",
              "      <td>1</td>\n",
              "      <td>0</td>\n",
              "      <td>0</td>\n",
              "      <td>0</td>\n",
              "      <td>1</td>\n",
              "      <td>0</td>\n",
              "      <td>0</td>\n",
              "      <td>...</td>\n",
              "      <td>0</td>\n",
              "      <td>0</td>\n",
              "      <td>0</td>\n",
              "      <td>1</td>\n",
              "      <td>0</td>\n",
              "      <td>0</td>\n",
              "      <td>0</td>\n",
              "      <td>0</td>\n",
              "      <td>0</td>\n",
              "      <td>0</td>\n",
              "    </tr>\n",
              "    <tr>\n",
              "      <th>29995</th>\n",
              "      <td>1</td>\n",
              "      <td>0</td>\n",
              "      <td>0</td>\n",
              "      <td>0</td>\n",
              "      <td>1</td>\n",
              "      <td>0</td>\n",
              "      <td>1</td>\n",
              "      <td>0</td>\n",
              "      <td>0</td>\n",
              "      <td>0</td>\n",
              "      <td>...</td>\n",
              "      <td>0</td>\n",
              "      <td>0</td>\n",
              "      <td>1</td>\n",
              "      <td>0</td>\n",
              "      <td>0</td>\n",
              "      <td>0</td>\n",
              "      <td>0</td>\n",
              "      <td>0</td>\n",
              "      <td>0</td>\n",
              "      <td>0</td>\n",
              "    </tr>\n",
              "    <tr>\n",
              "      <th>29996</th>\n",
              "      <td>1</td>\n",
              "      <td>0</td>\n",
              "      <td>0</td>\n",
              "      <td>0</td>\n",
              "      <td>1</td>\n",
              "      <td>0</td>\n",
              "      <td>0</td>\n",
              "      <td>1</td>\n",
              "      <td>0</td>\n",
              "      <td>1</td>\n",
              "      <td>...</td>\n",
              "      <td>0</td>\n",
              "      <td>0</td>\n",
              "      <td>1</td>\n",
              "      <td>0</td>\n",
              "      <td>0</td>\n",
              "      <td>0</td>\n",
              "      <td>0</td>\n",
              "      <td>0</td>\n",
              "      <td>0</td>\n",
              "      <td>0</td>\n",
              "    </tr>\n",
              "    <tr>\n",
              "      <th>29997</th>\n",
              "      <td>1</td>\n",
              "      <td>0</td>\n",
              "      <td>0</td>\n",
              "      <td>1</td>\n",
              "      <td>0</td>\n",
              "      <td>0</td>\n",
              "      <td>0</td>\n",
              "      <td>1</td>\n",
              "      <td>0</td>\n",
              "      <td>0</td>\n",
              "      <td>...</td>\n",
              "      <td>0</td>\n",
              "      <td>0</td>\n",
              "      <td>1</td>\n",
              "      <td>0</td>\n",
              "      <td>0</td>\n",
              "      <td>0</td>\n",
              "      <td>0</td>\n",
              "      <td>0</td>\n",
              "      <td>0</td>\n",
              "      <td>0</td>\n",
              "    </tr>\n",
              "    <tr>\n",
              "      <th>29999</th>\n",
              "      <td>1</td>\n",
              "      <td>0</td>\n",
              "      <td>0</td>\n",
              "      <td>1</td>\n",
              "      <td>0</td>\n",
              "      <td>0</td>\n",
              "      <td>1</td>\n",
              "      <td>0</td>\n",
              "      <td>0</td>\n",
              "      <td>0</td>\n",
              "      <td>...</td>\n",
              "      <td>0</td>\n",
              "      <td>0</td>\n",
              "      <td>1</td>\n",
              "      <td>0</td>\n",
              "      <td>0</td>\n",
              "      <td>0</td>\n",
              "      <td>0</td>\n",
              "      <td>0</td>\n",
              "      <td>0</td>\n",
              "      <td>0</td>\n",
              "    </tr>\n",
              "  </tbody>\n",
              "</table>\n",
              "<p>28978 rows × 73 columns</p>\n",
              "</div>\n",
              "      <button class=\"colab-df-convert\" onclick=\"convertToInteractive('df-fb3df6aa-78d4-48cf-b145-0db56fcc51c8')\"\n",
              "              title=\"Convert this dataframe to an interactive table.\"\n",
              "              style=\"display:none;\">\n",
              "        \n",
              "  <svg xmlns=\"http://www.w3.org/2000/svg\" height=\"24px\"viewBox=\"0 0 24 24\"\n",
              "       width=\"24px\">\n",
              "    <path d=\"M0 0h24v24H0V0z\" fill=\"none\"/>\n",
              "    <path d=\"M18.56 5.44l.94 2.06.94-2.06 2.06-.94-2.06-.94-.94-2.06-.94 2.06-2.06.94zm-11 1L8.5 8.5l.94-2.06 2.06-.94-2.06-.94L8.5 2.5l-.94 2.06-2.06.94zm10 10l.94 2.06.94-2.06 2.06-.94-2.06-.94-.94-2.06-.94 2.06-2.06.94z\"/><path d=\"M17.41 7.96l-1.37-1.37c-.4-.4-.92-.59-1.43-.59-.52 0-1.04.2-1.43.59L10.3 9.45l-7.72 7.72c-.78.78-.78 2.05 0 2.83L4 21.41c.39.39.9.59 1.41.59.51 0 1.02-.2 1.41-.59l7.78-7.78 2.81-2.81c.8-.78.8-2.07 0-2.86zM5.41 20L4 18.59l7.72-7.72 1.47 1.35L5.41 20z\"/>\n",
              "  </svg>\n",
              "      </button>\n",
              "      \n",
              "  <style>\n",
              "    .colab-df-container {\n",
              "      display:flex;\n",
              "      flex-wrap:wrap;\n",
              "      gap: 12px;\n",
              "    }\n",
              "\n",
              "    .colab-df-convert {\n",
              "      background-color: #E8F0FE;\n",
              "      border: none;\n",
              "      border-radius: 50%;\n",
              "      cursor: pointer;\n",
              "      display: none;\n",
              "      fill: #1967D2;\n",
              "      height: 32px;\n",
              "      padding: 0 0 0 0;\n",
              "      width: 32px;\n",
              "    }\n",
              "\n",
              "    .colab-df-convert:hover {\n",
              "      background-color: #E2EBFA;\n",
              "      box-shadow: 0px 1px 2px rgba(60, 64, 67, 0.3), 0px 1px 3px 1px rgba(60, 64, 67, 0.15);\n",
              "      fill: #174EA6;\n",
              "    }\n",
              "\n",
              "    [theme=dark] .colab-df-convert {\n",
              "      background-color: #3B4455;\n",
              "      fill: #D2E3FC;\n",
              "    }\n",
              "\n",
              "    [theme=dark] .colab-df-convert:hover {\n",
              "      background-color: #434B5C;\n",
              "      box-shadow: 0px 1px 3px 1px rgba(0, 0, 0, 0.15);\n",
              "      filter: drop-shadow(0px 1px 2px rgba(0, 0, 0, 0.3));\n",
              "      fill: #FFFFFF;\n",
              "    }\n",
              "  </style>\n",
              "\n",
              "      <script>\n",
              "        const buttonEl =\n",
              "          document.querySelector('#df-fb3df6aa-78d4-48cf-b145-0db56fcc51c8 button.colab-df-convert');\n",
              "        buttonEl.style.display =\n",
              "          google.colab.kernel.accessAllowed ? 'block' : 'none';\n",
              "\n",
              "        async function convertToInteractive(key) {\n",
              "          const element = document.querySelector('#df-fb3df6aa-78d4-48cf-b145-0db56fcc51c8');\n",
              "          const dataTable =\n",
              "            await google.colab.kernel.invokeFunction('convertToInteractive',\n",
              "                                                     [key], {});\n",
              "          if (!dataTable) return;\n",
              "\n",
              "          const docLinkHtml = 'Like what you see? Visit the ' +\n",
              "            '<a target=\"_blank\" href=https://colab.research.google.com/notebooks/data_table.ipynb>data table notebook</a>'\n",
              "            + ' to learn more about interactive tables.';\n",
              "          element.innerHTML = '';\n",
              "          dataTable['output_type'] = 'display_data';\n",
              "          await google.colab.output.renderOutput(dataTable, element);\n",
              "          const docLink = document.createElement('div');\n",
              "          docLink.innerHTML = docLinkHtml;\n",
              "          element.appendChild(docLink);\n",
              "        }\n",
              "      </script>\n",
              "    </div>\n",
              "  </div>\n",
              "  "
            ]
          },
          "metadata": {},
          "execution_count": 39
        }
      ]
    },
    {
      "cell_type": "code",
      "source": [
        " #Cualitativas\n",
        "df2 = df_dummy.drop(['SEX_1', 'EDUCATION_1', 'MARRIAGE_1','PAY_0_-1', 'PAY_2_-1','PAY_3_-1','PAY_4_-1','PAY_5_-1','PAY_6_-1' ], axis=1); df2"
      ],
      "metadata": {
        "colab": {
          "base_uri": "https://localhost:8080/",
          "height": 487
        },
        "id": "bXA_6rHckDhL",
        "outputId": "1e6b424e-e9d1-4cc4-8782-ca3f43262a42"
      },
      "execution_count": 40,
      "outputs": [
        {
          "output_type": "execute_result",
          "data": {
            "text/plain": [
              "       SEX_2  EDUCATION_2  EDUCATION_3  EDUCATION_4  MARRIAGE_2  MARRIAGE_3  \\\n",
              "0          1            1            0            0           0           0   \n",
              "1          1            1            0            0           1           0   \n",
              "2          1            1            0            0           1           0   \n",
              "3          1            1            0            0           0           0   \n",
              "4          0            1            0            0           0           0   \n",
              "...      ...          ...          ...          ...         ...         ...   \n",
              "29994      0            1            0            0           1           0   \n",
              "29995      0            0            1            0           0           0   \n",
              "29996      0            0            1            0           1           0   \n",
              "29997      0            1            0            0           1           0   \n",
              "29999      0            1            0            0           0           0   \n",
              "\n",
              "       PAY_0_-2  PAY_0_0  PAY_0_1  PAY_0_2  ...  PAY_5_8  PAY_6_-2  PAY_6_0  \\\n",
              "0             0        0        0        1  ...        0         1        0   \n",
              "1             0        0        0        0  ...        0         0        0   \n",
              "2             0        1        0        0  ...        0         0        1   \n",
              "3             0        1        0        0  ...        0         0        1   \n",
              "4             0        0        0        0  ...        0         0        1   \n",
              "...         ...      ...      ...      ...  ...      ...       ...      ...   \n",
              "29994         0        0        0        1  ...        0         0        0   \n",
              "29995         0        1        0        0  ...        0         0        1   \n",
              "29996         0        0        0        0  ...        0         0        1   \n",
              "29997         0        0        0        0  ...        0         0        1   \n",
              "29999         0        1        0        0  ...        0         0        1   \n",
              "\n",
              "       PAY_6_2  PAY_6_3  PAY_6_4  PAY_6_5  PAY_6_6  PAY_6_7  PAY_6_8  \n",
              "0            0        0        0        0        0        0        0  \n",
              "1            1        0        0        0        0        0        0  \n",
              "2            0        0        0        0        0        0        0  \n",
              "3            0        0        0        0        0        0        0  \n",
              "4            0        0        0        0        0        0        0  \n",
              "...        ...      ...      ...      ...      ...      ...      ...  \n",
              "29994        1        0        0        0        0        0        0  \n",
              "29995        0        0        0        0        0        0        0  \n",
              "29996        0        0        0        0        0        0        0  \n",
              "29997        0        0        0        0        0        0        0  \n",
              "29999        0        0        0        0        0        0        0  \n",
              "\n",
              "[28978 rows x 64 columns]"
            ],
            "text/html": [
              "\n",
              "  <div id=\"df-329e0b12-dc6e-45e5-95b8-0bf12a65352f\">\n",
              "    <div class=\"colab-df-container\">\n",
              "      <div>\n",
              "<style scoped>\n",
              "    .dataframe tbody tr th:only-of-type {\n",
              "        vertical-align: middle;\n",
              "    }\n",
              "\n",
              "    .dataframe tbody tr th {\n",
              "        vertical-align: top;\n",
              "    }\n",
              "\n",
              "    .dataframe thead th {\n",
              "        text-align: right;\n",
              "    }\n",
              "</style>\n",
              "<table border=\"1\" class=\"dataframe\">\n",
              "  <thead>\n",
              "    <tr style=\"text-align: right;\">\n",
              "      <th></th>\n",
              "      <th>SEX_2</th>\n",
              "      <th>EDUCATION_2</th>\n",
              "      <th>EDUCATION_3</th>\n",
              "      <th>EDUCATION_4</th>\n",
              "      <th>MARRIAGE_2</th>\n",
              "      <th>MARRIAGE_3</th>\n",
              "      <th>PAY_0_-2</th>\n",
              "      <th>PAY_0_0</th>\n",
              "      <th>PAY_0_1</th>\n",
              "      <th>PAY_0_2</th>\n",
              "      <th>...</th>\n",
              "      <th>PAY_5_8</th>\n",
              "      <th>PAY_6_-2</th>\n",
              "      <th>PAY_6_0</th>\n",
              "      <th>PAY_6_2</th>\n",
              "      <th>PAY_6_3</th>\n",
              "      <th>PAY_6_4</th>\n",
              "      <th>PAY_6_5</th>\n",
              "      <th>PAY_6_6</th>\n",
              "      <th>PAY_6_7</th>\n",
              "      <th>PAY_6_8</th>\n",
              "    </tr>\n",
              "  </thead>\n",
              "  <tbody>\n",
              "    <tr>\n",
              "      <th>0</th>\n",
              "      <td>1</td>\n",
              "      <td>1</td>\n",
              "      <td>0</td>\n",
              "      <td>0</td>\n",
              "      <td>0</td>\n",
              "      <td>0</td>\n",
              "      <td>0</td>\n",
              "      <td>0</td>\n",
              "      <td>0</td>\n",
              "      <td>1</td>\n",
              "      <td>...</td>\n",
              "      <td>0</td>\n",
              "      <td>1</td>\n",
              "      <td>0</td>\n",
              "      <td>0</td>\n",
              "      <td>0</td>\n",
              "      <td>0</td>\n",
              "      <td>0</td>\n",
              "      <td>0</td>\n",
              "      <td>0</td>\n",
              "      <td>0</td>\n",
              "    </tr>\n",
              "    <tr>\n",
              "      <th>1</th>\n",
              "      <td>1</td>\n",
              "      <td>1</td>\n",
              "      <td>0</td>\n",
              "      <td>0</td>\n",
              "      <td>1</td>\n",
              "      <td>0</td>\n",
              "      <td>0</td>\n",
              "      <td>0</td>\n",
              "      <td>0</td>\n",
              "      <td>0</td>\n",
              "      <td>...</td>\n",
              "      <td>0</td>\n",
              "      <td>0</td>\n",
              "      <td>0</td>\n",
              "      <td>1</td>\n",
              "      <td>0</td>\n",
              "      <td>0</td>\n",
              "      <td>0</td>\n",
              "      <td>0</td>\n",
              "      <td>0</td>\n",
              "      <td>0</td>\n",
              "    </tr>\n",
              "    <tr>\n",
              "      <th>2</th>\n",
              "      <td>1</td>\n",
              "      <td>1</td>\n",
              "      <td>0</td>\n",
              "      <td>0</td>\n",
              "      <td>1</td>\n",
              "      <td>0</td>\n",
              "      <td>0</td>\n",
              "      <td>1</td>\n",
              "      <td>0</td>\n",
              "      <td>0</td>\n",
              "      <td>...</td>\n",
              "      <td>0</td>\n",
              "      <td>0</td>\n",
              "      <td>1</td>\n",
              "      <td>0</td>\n",
              "      <td>0</td>\n",
              "      <td>0</td>\n",
              "      <td>0</td>\n",
              "      <td>0</td>\n",
              "      <td>0</td>\n",
              "      <td>0</td>\n",
              "    </tr>\n",
              "    <tr>\n",
              "      <th>3</th>\n",
              "      <td>1</td>\n",
              "      <td>1</td>\n",
              "      <td>0</td>\n",
              "      <td>0</td>\n",
              "      <td>0</td>\n",
              "      <td>0</td>\n",
              "      <td>0</td>\n",
              "      <td>1</td>\n",
              "      <td>0</td>\n",
              "      <td>0</td>\n",
              "      <td>...</td>\n",
              "      <td>0</td>\n",
              "      <td>0</td>\n",
              "      <td>1</td>\n",
              "      <td>0</td>\n",
              "      <td>0</td>\n",
              "      <td>0</td>\n",
              "      <td>0</td>\n",
              "      <td>0</td>\n",
              "      <td>0</td>\n",
              "      <td>0</td>\n",
              "    </tr>\n",
              "    <tr>\n",
              "      <th>4</th>\n",
              "      <td>0</td>\n",
              "      <td>1</td>\n",
              "      <td>0</td>\n",
              "      <td>0</td>\n",
              "      <td>0</td>\n",
              "      <td>0</td>\n",
              "      <td>0</td>\n",
              "      <td>0</td>\n",
              "      <td>0</td>\n",
              "      <td>0</td>\n",
              "      <td>...</td>\n",
              "      <td>0</td>\n",
              "      <td>0</td>\n",
              "      <td>1</td>\n",
              "      <td>0</td>\n",
              "      <td>0</td>\n",
              "      <td>0</td>\n",
              "      <td>0</td>\n",
              "      <td>0</td>\n",
              "      <td>0</td>\n",
              "      <td>0</td>\n",
              "    </tr>\n",
              "    <tr>\n",
              "      <th>...</th>\n",
              "      <td>...</td>\n",
              "      <td>...</td>\n",
              "      <td>...</td>\n",
              "      <td>...</td>\n",
              "      <td>...</td>\n",
              "      <td>...</td>\n",
              "      <td>...</td>\n",
              "      <td>...</td>\n",
              "      <td>...</td>\n",
              "      <td>...</td>\n",
              "      <td>...</td>\n",
              "      <td>...</td>\n",
              "      <td>...</td>\n",
              "      <td>...</td>\n",
              "      <td>...</td>\n",
              "      <td>...</td>\n",
              "      <td>...</td>\n",
              "      <td>...</td>\n",
              "      <td>...</td>\n",
              "      <td>...</td>\n",
              "      <td>...</td>\n",
              "    </tr>\n",
              "    <tr>\n",
              "      <th>29994</th>\n",
              "      <td>0</td>\n",
              "      <td>1</td>\n",
              "      <td>0</td>\n",
              "      <td>0</td>\n",
              "      <td>1</td>\n",
              "      <td>0</td>\n",
              "      <td>0</td>\n",
              "      <td>0</td>\n",
              "      <td>0</td>\n",
              "      <td>1</td>\n",
              "      <td>...</td>\n",
              "      <td>0</td>\n",
              "      <td>0</td>\n",
              "      <td>0</td>\n",
              "      <td>1</td>\n",
              "      <td>0</td>\n",
              "      <td>0</td>\n",
              "      <td>0</td>\n",
              "      <td>0</td>\n",
              "      <td>0</td>\n",
              "      <td>0</td>\n",
              "    </tr>\n",
              "    <tr>\n",
              "      <th>29995</th>\n",
              "      <td>0</td>\n",
              "      <td>0</td>\n",
              "      <td>1</td>\n",
              "      <td>0</td>\n",
              "      <td>0</td>\n",
              "      <td>0</td>\n",
              "      <td>0</td>\n",
              "      <td>1</td>\n",
              "      <td>0</td>\n",
              "      <td>0</td>\n",
              "      <td>...</td>\n",
              "      <td>0</td>\n",
              "      <td>0</td>\n",
              "      <td>1</td>\n",
              "      <td>0</td>\n",
              "      <td>0</td>\n",
              "      <td>0</td>\n",
              "      <td>0</td>\n",
              "      <td>0</td>\n",
              "      <td>0</td>\n",
              "      <td>0</td>\n",
              "    </tr>\n",
              "    <tr>\n",
              "      <th>29996</th>\n",
              "      <td>0</td>\n",
              "      <td>0</td>\n",
              "      <td>1</td>\n",
              "      <td>0</td>\n",
              "      <td>1</td>\n",
              "      <td>0</td>\n",
              "      <td>0</td>\n",
              "      <td>0</td>\n",
              "      <td>0</td>\n",
              "      <td>0</td>\n",
              "      <td>...</td>\n",
              "      <td>0</td>\n",
              "      <td>0</td>\n",
              "      <td>1</td>\n",
              "      <td>0</td>\n",
              "      <td>0</td>\n",
              "      <td>0</td>\n",
              "      <td>0</td>\n",
              "      <td>0</td>\n",
              "      <td>0</td>\n",
              "      <td>0</td>\n",
              "    </tr>\n",
              "    <tr>\n",
              "      <th>29997</th>\n",
              "      <td>0</td>\n",
              "      <td>1</td>\n",
              "      <td>0</td>\n",
              "      <td>0</td>\n",
              "      <td>1</td>\n",
              "      <td>0</td>\n",
              "      <td>0</td>\n",
              "      <td>0</td>\n",
              "      <td>0</td>\n",
              "      <td>0</td>\n",
              "      <td>...</td>\n",
              "      <td>0</td>\n",
              "      <td>0</td>\n",
              "      <td>1</td>\n",
              "      <td>0</td>\n",
              "      <td>0</td>\n",
              "      <td>0</td>\n",
              "      <td>0</td>\n",
              "      <td>0</td>\n",
              "      <td>0</td>\n",
              "      <td>0</td>\n",
              "    </tr>\n",
              "    <tr>\n",
              "      <th>29999</th>\n",
              "      <td>0</td>\n",
              "      <td>1</td>\n",
              "      <td>0</td>\n",
              "      <td>0</td>\n",
              "      <td>0</td>\n",
              "      <td>0</td>\n",
              "      <td>0</td>\n",
              "      <td>1</td>\n",
              "      <td>0</td>\n",
              "      <td>0</td>\n",
              "      <td>...</td>\n",
              "      <td>0</td>\n",
              "      <td>0</td>\n",
              "      <td>1</td>\n",
              "      <td>0</td>\n",
              "      <td>0</td>\n",
              "      <td>0</td>\n",
              "      <td>0</td>\n",
              "      <td>0</td>\n",
              "      <td>0</td>\n",
              "      <td>0</td>\n",
              "    </tr>\n",
              "  </tbody>\n",
              "</table>\n",
              "<p>28978 rows × 64 columns</p>\n",
              "</div>\n",
              "      <button class=\"colab-df-convert\" onclick=\"convertToInteractive('df-329e0b12-dc6e-45e5-95b8-0bf12a65352f')\"\n",
              "              title=\"Convert this dataframe to an interactive table.\"\n",
              "              style=\"display:none;\">\n",
              "        \n",
              "  <svg xmlns=\"http://www.w3.org/2000/svg\" height=\"24px\"viewBox=\"0 0 24 24\"\n",
              "       width=\"24px\">\n",
              "    <path d=\"M0 0h24v24H0V0z\" fill=\"none\"/>\n",
              "    <path d=\"M18.56 5.44l.94 2.06.94-2.06 2.06-.94-2.06-.94-.94-2.06-.94 2.06-2.06.94zm-11 1L8.5 8.5l.94-2.06 2.06-.94-2.06-.94L8.5 2.5l-.94 2.06-2.06.94zm10 10l.94 2.06.94-2.06 2.06-.94-2.06-.94-.94-2.06-.94 2.06-2.06.94z\"/><path d=\"M17.41 7.96l-1.37-1.37c-.4-.4-.92-.59-1.43-.59-.52 0-1.04.2-1.43.59L10.3 9.45l-7.72 7.72c-.78.78-.78 2.05 0 2.83L4 21.41c.39.39.9.59 1.41.59.51 0 1.02-.2 1.41-.59l7.78-7.78 2.81-2.81c.8-.78.8-2.07 0-2.86zM5.41 20L4 18.59l7.72-7.72 1.47 1.35L5.41 20z\"/>\n",
              "  </svg>\n",
              "      </button>\n",
              "      \n",
              "  <style>\n",
              "    .colab-df-container {\n",
              "      display:flex;\n",
              "      flex-wrap:wrap;\n",
              "      gap: 12px;\n",
              "    }\n",
              "\n",
              "    .colab-df-convert {\n",
              "      background-color: #E8F0FE;\n",
              "      border: none;\n",
              "      border-radius: 50%;\n",
              "      cursor: pointer;\n",
              "      display: none;\n",
              "      fill: #1967D2;\n",
              "      height: 32px;\n",
              "      padding: 0 0 0 0;\n",
              "      width: 32px;\n",
              "    }\n",
              "\n",
              "    .colab-df-convert:hover {\n",
              "      background-color: #E2EBFA;\n",
              "      box-shadow: 0px 1px 2px rgba(60, 64, 67, 0.3), 0px 1px 3px 1px rgba(60, 64, 67, 0.15);\n",
              "      fill: #174EA6;\n",
              "    }\n",
              "\n",
              "    [theme=dark] .colab-df-convert {\n",
              "      background-color: #3B4455;\n",
              "      fill: #D2E3FC;\n",
              "    }\n",
              "\n",
              "    [theme=dark] .colab-df-convert:hover {\n",
              "      background-color: #434B5C;\n",
              "      box-shadow: 0px 1px 3px 1px rgba(0, 0, 0, 0.15);\n",
              "      filter: drop-shadow(0px 1px 2px rgba(0, 0, 0, 0.3));\n",
              "      fill: #FFFFFF;\n",
              "    }\n",
              "  </style>\n",
              "\n",
              "      <script>\n",
              "        const buttonEl =\n",
              "          document.querySelector('#df-329e0b12-dc6e-45e5-95b8-0bf12a65352f button.colab-df-convert');\n",
              "        buttonEl.style.display =\n",
              "          google.colab.kernel.accessAllowed ? 'block' : 'none';\n",
              "\n",
              "        async function convertToInteractive(key) {\n",
              "          const element = document.querySelector('#df-329e0b12-dc6e-45e5-95b8-0bf12a65352f');\n",
              "          const dataTable =\n",
              "            await google.colab.kernel.invokeFunction('convertToInteractive',\n",
              "                                                     [key], {});\n",
              "          if (!dataTable) return;\n",
              "\n",
              "          const docLinkHtml = 'Like what you see? Visit the ' +\n",
              "            '<a target=\"_blank\" href=https://colab.research.google.com/notebooks/data_table.ipynb>data table notebook</a>'\n",
              "            + ' to learn more about interactive tables.';\n",
              "          element.innerHTML = '';\n",
              "          dataTable['output_type'] = 'display_data';\n",
              "          await google.colab.output.renderOutput(dataTable, element);\n",
              "          const docLink = document.createElement('div');\n",
              "          docLink.innerHTML = docLinkHtml;\n",
              "          element.appendChild(docLink);\n",
              "        }\n",
              "      </script>\n",
              "    </div>\n",
              "  </div>\n",
              "  "
            ]
          },
          "metadata": {},
          "execution_count": 40
        }
      ]
    },
    {
      "cell_type": "code",
      "source": [
        "df2 = df2.reset_index()"
      ],
      "metadata": {
        "id": "VqXXsI_2ub8j"
      },
      "execution_count": 41,
      "outputs": []
    },
    {
      "cell_type": "code",
      "source": [
        "df1 = df_dedupped.loc[:,['LIMIT_BAL', 'AGE', 'BILL_AMT1','BILL_AMT2', 'BILL_AMT3', 'BILL_AMT4', 'BILL_AMT5', 'BILL_AMT6',\n",
        "                'PAY_AMT1', 'PAY_AMT2', 'PAY_AMT3', 'PAY_AMT4', 'PAY_AMT5', 'PAY_AMT6']]; df1 #Cuantitativas"
      ],
      "metadata": {
        "colab": {
          "base_uri": "https://localhost:8080/",
          "height": 467
        },
        "id": "X1X4riQflxFR",
        "outputId": "eb6a2f3f-11e6-4a6a-c47e-39241d2f047d"
      },
      "execution_count": 42,
      "outputs": [
        {
          "output_type": "execute_result",
          "data": {
            "text/plain": [
              "       LIMIT_BAL  AGE  BILL_AMT1  BILL_AMT2  BILL_AMT3  BILL_AMT4  BILL_AMT5  \\\n",
              "0          20000   24       3913       3102        689          0          0   \n",
              "1         120000   26       2682       1725       2682       3272       3455   \n",
              "2          90000   34      29239      14027      13559      14331      14948   \n",
              "3          50000   37      46990      48233      49291      28314      28959   \n",
              "4          50000   57       8617       5670      35835      20940      19146   \n",
              "...          ...  ...        ...        ...        ...        ...        ...   \n",
              "29994      80000   34      72557      77708      79384      77519      82607   \n",
              "29995     220000   39     188948     192815     208365      88004      31237   \n",
              "29996     150000   43       1683       1828       3502       8979       5190   \n",
              "29997      30000   37       3565       3356       2758      20878      20582   \n",
              "29999      50000   46      47929      48905      49764      36535      32428   \n",
              "\n",
              "       BILL_AMT6  PAY_AMT1  PAY_AMT2  PAY_AMT3  PAY_AMT4  PAY_AMT5  PAY_AMT6  \n",
              "0              0         0       689         0         0         0         0  \n",
              "1           3261         0      1000      1000      1000         0      2000  \n",
              "2          15549      1518      1500      1000      1000      1000      5000  \n",
              "3          29547      2000      2019      1200      1100      1069      1000  \n",
              "4          19131      2000     36681     10000      9000       689       679  \n",
              "...          ...       ...       ...       ...       ...       ...       ...  \n",
              "29994      81158      7000      3500         0      7000         0      4000  \n",
              "29995      15980      8500     20000      5003      3047      5000      1000  \n",
              "29996          0      1837      3526      8998       129         0         0  \n",
              "29997      19357         0         0     22000      4200      2000      3100  \n",
              "29999      15313      2078      1800      1430      1000      1000      1000  \n",
              "\n",
              "[28978 rows x 14 columns]"
            ],
            "text/html": [
              "\n",
              "  <div id=\"df-8557b2e3-e1a7-4895-a6eb-f65404f188db\">\n",
              "    <div class=\"colab-df-container\">\n",
              "      <div>\n",
              "<style scoped>\n",
              "    .dataframe tbody tr th:only-of-type {\n",
              "        vertical-align: middle;\n",
              "    }\n",
              "\n",
              "    .dataframe tbody tr th {\n",
              "        vertical-align: top;\n",
              "    }\n",
              "\n",
              "    .dataframe thead th {\n",
              "        text-align: right;\n",
              "    }\n",
              "</style>\n",
              "<table border=\"1\" class=\"dataframe\">\n",
              "  <thead>\n",
              "    <tr style=\"text-align: right;\">\n",
              "      <th></th>\n",
              "      <th>LIMIT_BAL</th>\n",
              "      <th>AGE</th>\n",
              "      <th>BILL_AMT1</th>\n",
              "      <th>BILL_AMT2</th>\n",
              "      <th>BILL_AMT3</th>\n",
              "      <th>BILL_AMT4</th>\n",
              "      <th>BILL_AMT5</th>\n",
              "      <th>BILL_AMT6</th>\n",
              "      <th>PAY_AMT1</th>\n",
              "      <th>PAY_AMT2</th>\n",
              "      <th>PAY_AMT3</th>\n",
              "      <th>PAY_AMT4</th>\n",
              "      <th>PAY_AMT5</th>\n",
              "      <th>PAY_AMT6</th>\n",
              "    </tr>\n",
              "  </thead>\n",
              "  <tbody>\n",
              "    <tr>\n",
              "      <th>0</th>\n",
              "      <td>20000</td>\n",
              "      <td>24</td>\n",
              "      <td>3913</td>\n",
              "      <td>3102</td>\n",
              "      <td>689</td>\n",
              "      <td>0</td>\n",
              "      <td>0</td>\n",
              "      <td>0</td>\n",
              "      <td>0</td>\n",
              "      <td>689</td>\n",
              "      <td>0</td>\n",
              "      <td>0</td>\n",
              "      <td>0</td>\n",
              "      <td>0</td>\n",
              "    </tr>\n",
              "    <tr>\n",
              "      <th>1</th>\n",
              "      <td>120000</td>\n",
              "      <td>26</td>\n",
              "      <td>2682</td>\n",
              "      <td>1725</td>\n",
              "      <td>2682</td>\n",
              "      <td>3272</td>\n",
              "      <td>3455</td>\n",
              "      <td>3261</td>\n",
              "      <td>0</td>\n",
              "      <td>1000</td>\n",
              "      <td>1000</td>\n",
              "      <td>1000</td>\n",
              "      <td>0</td>\n",
              "      <td>2000</td>\n",
              "    </tr>\n",
              "    <tr>\n",
              "      <th>2</th>\n",
              "      <td>90000</td>\n",
              "      <td>34</td>\n",
              "      <td>29239</td>\n",
              "      <td>14027</td>\n",
              "      <td>13559</td>\n",
              "      <td>14331</td>\n",
              "      <td>14948</td>\n",
              "      <td>15549</td>\n",
              "      <td>1518</td>\n",
              "      <td>1500</td>\n",
              "      <td>1000</td>\n",
              "      <td>1000</td>\n",
              "      <td>1000</td>\n",
              "      <td>5000</td>\n",
              "    </tr>\n",
              "    <tr>\n",
              "      <th>3</th>\n",
              "      <td>50000</td>\n",
              "      <td>37</td>\n",
              "      <td>46990</td>\n",
              "      <td>48233</td>\n",
              "      <td>49291</td>\n",
              "      <td>28314</td>\n",
              "      <td>28959</td>\n",
              "      <td>29547</td>\n",
              "      <td>2000</td>\n",
              "      <td>2019</td>\n",
              "      <td>1200</td>\n",
              "      <td>1100</td>\n",
              "      <td>1069</td>\n",
              "      <td>1000</td>\n",
              "    </tr>\n",
              "    <tr>\n",
              "      <th>4</th>\n",
              "      <td>50000</td>\n",
              "      <td>57</td>\n",
              "      <td>8617</td>\n",
              "      <td>5670</td>\n",
              "      <td>35835</td>\n",
              "      <td>20940</td>\n",
              "      <td>19146</td>\n",
              "      <td>19131</td>\n",
              "      <td>2000</td>\n",
              "      <td>36681</td>\n",
              "      <td>10000</td>\n",
              "      <td>9000</td>\n",
              "      <td>689</td>\n",
              "      <td>679</td>\n",
              "    </tr>\n",
              "    <tr>\n",
              "      <th>...</th>\n",
              "      <td>...</td>\n",
              "      <td>...</td>\n",
              "      <td>...</td>\n",
              "      <td>...</td>\n",
              "      <td>...</td>\n",
              "      <td>...</td>\n",
              "      <td>...</td>\n",
              "      <td>...</td>\n",
              "      <td>...</td>\n",
              "      <td>...</td>\n",
              "      <td>...</td>\n",
              "      <td>...</td>\n",
              "      <td>...</td>\n",
              "      <td>...</td>\n",
              "    </tr>\n",
              "    <tr>\n",
              "      <th>29994</th>\n",
              "      <td>80000</td>\n",
              "      <td>34</td>\n",
              "      <td>72557</td>\n",
              "      <td>77708</td>\n",
              "      <td>79384</td>\n",
              "      <td>77519</td>\n",
              "      <td>82607</td>\n",
              "      <td>81158</td>\n",
              "      <td>7000</td>\n",
              "      <td>3500</td>\n",
              "      <td>0</td>\n",
              "      <td>7000</td>\n",
              "      <td>0</td>\n",
              "      <td>4000</td>\n",
              "    </tr>\n",
              "    <tr>\n",
              "      <th>29995</th>\n",
              "      <td>220000</td>\n",
              "      <td>39</td>\n",
              "      <td>188948</td>\n",
              "      <td>192815</td>\n",
              "      <td>208365</td>\n",
              "      <td>88004</td>\n",
              "      <td>31237</td>\n",
              "      <td>15980</td>\n",
              "      <td>8500</td>\n",
              "      <td>20000</td>\n",
              "      <td>5003</td>\n",
              "      <td>3047</td>\n",
              "      <td>5000</td>\n",
              "      <td>1000</td>\n",
              "    </tr>\n",
              "    <tr>\n",
              "      <th>29996</th>\n",
              "      <td>150000</td>\n",
              "      <td>43</td>\n",
              "      <td>1683</td>\n",
              "      <td>1828</td>\n",
              "      <td>3502</td>\n",
              "      <td>8979</td>\n",
              "      <td>5190</td>\n",
              "      <td>0</td>\n",
              "      <td>1837</td>\n",
              "      <td>3526</td>\n",
              "      <td>8998</td>\n",
              "      <td>129</td>\n",
              "      <td>0</td>\n",
              "      <td>0</td>\n",
              "    </tr>\n",
              "    <tr>\n",
              "      <th>29997</th>\n",
              "      <td>30000</td>\n",
              "      <td>37</td>\n",
              "      <td>3565</td>\n",
              "      <td>3356</td>\n",
              "      <td>2758</td>\n",
              "      <td>20878</td>\n",
              "      <td>20582</td>\n",
              "      <td>19357</td>\n",
              "      <td>0</td>\n",
              "      <td>0</td>\n",
              "      <td>22000</td>\n",
              "      <td>4200</td>\n",
              "      <td>2000</td>\n",
              "      <td>3100</td>\n",
              "    </tr>\n",
              "    <tr>\n",
              "      <th>29999</th>\n",
              "      <td>50000</td>\n",
              "      <td>46</td>\n",
              "      <td>47929</td>\n",
              "      <td>48905</td>\n",
              "      <td>49764</td>\n",
              "      <td>36535</td>\n",
              "      <td>32428</td>\n",
              "      <td>15313</td>\n",
              "      <td>2078</td>\n",
              "      <td>1800</td>\n",
              "      <td>1430</td>\n",
              "      <td>1000</td>\n",
              "      <td>1000</td>\n",
              "      <td>1000</td>\n",
              "    </tr>\n",
              "  </tbody>\n",
              "</table>\n",
              "<p>28978 rows × 14 columns</p>\n",
              "</div>\n",
              "      <button class=\"colab-df-convert\" onclick=\"convertToInteractive('df-8557b2e3-e1a7-4895-a6eb-f65404f188db')\"\n",
              "              title=\"Convert this dataframe to an interactive table.\"\n",
              "              style=\"display:none;\">\n",
              "        \n",
              "  <svg xmlns=\"http://www.w3.org/2000/svg\" height=\"24px\"viewBox=\"0 0 24 24\"\n",
              "       width=\"24px\">\n",
              "    <path d=\"M0 0h24v24H0V0z\" fill=\"none\"/>\n",
              "    <path d=\"M18.56 5.44l.94 2.06.94-2.06 2.06-.94-2.06-.94-.94-2.06-.94 2.06-2.06.94zm-11 1L8.5 8.5l.94-2.06 2.06-.94-2.06-.94L8.5 2.5l-.94 2.06-2.06.94zm10 10l.94 2.06.94-2.06 2.06-.94-2.06-.94-.94-2.06-.94 2.06-2.06.94z\"/><path d=\"M17.41 7.96l-1.37-1.37c-.4-.4-.92-.59-1.43-.59-.52 0-1.04.2-1.43.59L10.3 9.45l-7.72 7.72c-.78.78-.78 2.05 0 2.83L4 21.41c.39.39.9.59 1.41.59.51 0 1.02-.2 1.41-.59l7.78-7.78 2.81-2.81c.8-.78.8-2.07 0-2.86zM5.41 20L4 18.59l7.72-7.72 1.47 1.35L5.41 20z\"/>\n",
              "  </svg>\n",
              "      </button>\n",
              "      \n",
              "  <style>\n",
              "    .colab-df-container {\n",
              "      display:flex;\n",
              "      flex-wrap:wrap;\n",
              "      gap: 12px;\n",
              "    }\n",
              "\n",
              "    .colab-df-convert {\n",
              "      background-color: #E8F0FE;\n",
              "      border: none;\n",
              "      border-radius: 50%;\n",
              "      cursor: pointer;\n",
              "      display: none;\n",
              "      fill: #1967D2;\n",
              "      height: 32px;\n",
              "      padding: 0 0 0 0;\n",
              "      width: 32px;\n",
              "    }\n",
              "\n",
              "    .colab-df-convert:hover {\n",
              "      background-color: #E2EBFA;\n",
              "      box-shadow: 0px 1px 2px rgba(60, 64, 67, 0.3), 0px 1px 3px 1px rgba(60, 64, 67, 0.15);\n",
              "      fill: #174EA6;\n",
              "    }\n",
              "\n",
              "    [theme=dark] .colab-df-convert {\n",
              "      background-color: #3B4455;\n",
              "      fill: #D2E3FC;\n",
              "    }\n",
              "\n",
              "    [theme=dark] .colab-df-convert:hover {\n",
              "      background-color: #434B5C;\n",
              "      box-shadow: 0px 1px 3px 1px rgba(0, 0, 0, 0.15);\n",
              "      filter: drop-shadow(0px 1px 2px rgba(0, 0, 0, 0.3));\n",
              "      fill: #FFFFFF;\n",
              "    }\n",
              "  </style>\n",
              "\n",
              "      <script>\n",
              "        const buttonEl =\n",
              "          document.querySelector('#df-8557b2e3-e1a7-4895-a6eb-f65404f188db button.colab-df-convert');\n",
              "        buttonEl.style.display =\n",
              "          google.colab.kernel.accessAllowed ? 'block' : 'none';\n",
              "\n",
              "        async function convertToInteractive(key) {\n",
              "          const element = document.querySelector('#df-8557b2e3-e1a7-4895-a6eb-f65404f188db');\n",
              "          const dataTable =\n",
              "            await google.colab.kernel.invokeFunction('convertToInteractive',\n",
              "                                                     [key], {});\n",
              "          if (!dataTable) return;\n",
              "\n",
              "          const docLinkHtml = 'Like what you see? Visit the ' +\n",
              "            '<a target=\"_blank\" href=https://colab.research.google.com/notebooks/data_table.ipynb>data table notebook</a>'\n",
              "            + ' to learn more about interactive tables.';\n",
              "          element.innerHTML = '';\n",
              "          dataTable['output_type'] = 'display_data';\n",
              "          await google.colab.output.renderOutput(dataTable, element);\n",
              "          const docLink = document.createElement('div');\n",
              "          docLink.innerHTML = docLinkHtml;\n",
              "          element.appendChild(docLink);\n",
              "        }\n",
              "      </script>\n",
              "    </div>\n",
              "  </div>\n",
              "  "
            ]
          },
          "metadata": {},
          "execution_count": 42
        }
      ]
    },
    {
      "cell_type": "code",
      "source": [
        "# standardize X_train and X_test\n",
        "from sklearn.preprocessing import StandardScaler\n",
        "scaler = StandardScaler()\n",
        "X_x = df1.astype(float)\n",
        "scaler.fit(X_x)\n",
        "df1_scaled = scaler.transform(X_x)"
      ],
      "metadata": {
        "id": "Ao161ZECqop-"
      },
      "execution_count": 43,
      "outputs": []
    },
    {
      "cell_type": "code",
      "source": [
        "df11 = pd.DataFrame(df1_scaled)\n",
        "df11.columns =[\"LIMIT_BAL\",\t\"AGE\",\t\"BILL_AMT1\",\t\"BILL_AMT2\",\t\"BILL_AMT3\",\t\"BILL_AMT4\",\n",
        "               \"BILL_AMT5\",\t\"BILL_AMT6\",\t\"PAY_AMT1\",\t\"PAY_AMT2\",\t\"PAY_AMT3\",\t\"PAY_AMT4\",\t\"PAY_AMT5\",\t\"PAY_AMT6\"] "
      ],
      "metadata": {
        "id": "IXVPdLO1rj0J"
      },
      "execution_count": 44,
      "outputs": []
    },
    {
      "cell_type": "code",
      "source": [
        "df11"
      ],
      "metadata": {
        "colab": {
          "base_uri": "https://localhost:8080/",
          "height": 487
        },
        "id": "T8MVPdZErD-P",
        "outputId": "06de6e1c-679f-4f38-c74c-e1f923e35e3b"
      },
      "execution_count": 45,
      "outputs": [
        {
          "output_type": "execute_result",
          "data": {
            "text/plain": [
              "       LIMIT_BAL       AGE  BILL_AMT1  BILL_AMT2  BILL_AMT3  BILL_AMT4  \\\n",
              "0      -1.128340 -1.241607  -0.653158  -0.655608  -0.675441  -0.679388   \n",
              "1      -0.357965 -1.024610  -0.669852  -0.674918  -0.646749  -0.628695   \n",
              "2      -0.589078 -0.156622  -0.309704  -0.502405  -0.490162  -0.457360   \n",
              "3      -0.897228  0.168873  -0.068977  -0.022727   0.024243  -0.240724   \n",
              "4      -0.897228  2.338843  -0.589365  -0.619597  -0.169472  -0.354968   \n",
              "...          ...       ...        ...        ...        ...        ...   \n",
              "28973  -0.666115 -0.156622   0.277746   0.390607   0.457468   0.521600   \n",
              "28974   0.412409  0.385870   1.856162   2.004775   2.314303   0.684042   \n",
              "28975  -0.126853  0.819864  -0.683400  -0.673474  -0.634944  -0.540278   \n",
              "28976  -1.051302  0.168873  -0.657877  -0.652046  -0.645655  -0.355929   \n",
              "28977  -0.897228  1.145360  -0.056243  -0.013304   0.031053  -0.113358   \n",
              "\n",
              "       BILL_AMT5  BILL_AMT6  PAY_AMT1  PAY_AMT2  PAY_AMT3  PAY_AMT4  PAY_AMT5  \\\n",
              "0      -0.670167  -0.659969 -0.347262 -0.225855 -0.295855 -0.308210 -0.316743   \n",
              "1      -0.613547  -0.605476 -0.347262 -0.212266 -0.239072 -0.244494 -0.316743   \n",
              "2      -0.425202  -0.400135 -0.253007 -0.190418 -0.239072 -0.244494 -0.250825   \n",
              "3      -0.195593  -0.166219 -0.223079 -0.167740 -0.227715 -0.238122 -0.246277   \n",
              "4      -0.356406  -0.340277 -0.223079  1.346831  0.271973  0.265237 -0.271326   \n",
              "...          ...        ...       ...       ...       ...       ...       ...   \n",
              "28973   0.683580   0.696236  0.087378 -0.103027 -0.295855  0.137805 -0.316743   \n",
              "28974  -0.158261  -0.392932  0.180516  0.617948 -0.011770 -0.114066  0.012847   \n",
              "28975  -0.585114  -0.659969 -0.233200 -0.101891  0.215077 -0.299991 -0.316743   \n",
              "28976  -0.332873  -0.336500 -0.347262 -0.255961  0.953367 -0.040601 -0.184907   \n",
              "28977  -0.138743  -0.404078 -0.218236 -0.177309 -0.214655 -0.244494 -0.250825   \n",
              "\n",
              "       PAY_AMT6  \n",
              "0     -0.293446  \n",
              "1     -0.180881  \n",
              "2     -0.012033  \n",
              "3     -0.237164  \n",
              "4     -0.255230  \n",
              "...         ...  \n",
              "28973 -0.068316  \n",
              "28974 -0.237164  \n",
              "28975 -0.293446  \n",
              "28976 -0.118970  \n",
              "28977 -0.237164  \n",
              "\n",
              "[28978 rows x 14 columns]"
            ],
            "text/html": [
              "\n",
              "  <div id=\"df-abe470ac-3946-418c-bce6-6e42f6b00d4c\">\n",
              "    <div class=\"colab-df-container\">\n",
              "      <div>\n",
              "<style scoped>\n",
              "    .dataframe tbody tr th:only-of-type {\n",
              "        vertical-align: middle;\n",
              "    }\n",
              "\n",
              "    .dataframe tbody tr th {\n",
              "        vertical-align: top;\n",
              "    }\n",
              "\n",
              "    .dataframe thead th {\n",
              "        text-align: right;\n",
              "    }\n",
              "</style>\n",
              "<table border=\"1\" class=\"dataframe\">\n",
              "  <thead>\n",
              "    <tr style=\"text-align: right;\">\n",
              "      <th></th>\n",
              "      <th>LIMIT_BAL</th>\n",
              "      <th>AGE</th>\n",
              "      <th>BILL_AMT1</th>\n",
              "      <th>BILL_AMT2</th>\n",
              "      <th>BILL_AMT3</th>\n",
              "      <th>BILL_AMT4</th>\n",
              "      <th>BILL_AMT5</th>\n",
              "      <th>BILL_AMT6</th>\n",
              "      <th>PAY_AMT1</th>\n",
              "      <th>PAY_AMT2</th>\n",
              "      <th>PAY_AMT3</th>\n",
              "      <th>PAY_AMT4</th>\n",
              "      <th>PAY_AMT5</th>\n",
              "      <th>PAY_AMT6</th>\n",
              "    </tr>\n",
              "  </thead>\n",
              "  <tbody>\n",
              "    <tr>\n",
              "      <th>0</th>\n",
              "      <td>-1.128340</td>\n",
              "      <td>-1.241607</td>\n",
              "      <td>-0.653158</td>\n",
              "      <td>-0.655608</td>\n",
              "      <td>-0.675441</td>\n",
              "      <td>-0.679388</td>\n",
              "      <td>-0.670167</td>\n",
              "      <td>-0.659969</td>\n",
              "      <td>-0.347262</td>\n",
              "      <td>-0.225855</td>\n",
              "      <td>-0.295855</td>\n",
              "      <td>-0.308210</td>\n",
              "      <td>-0.316743</td>\n",
              "      <td>-0.293446</td>\n",
              "    </tr>\n",
              "    <tr>\n",
              "      <th>1</th>\n",
              "      <td>-0.357965</td>\n",
              "      <td>-1.024610</td>\n",
              "      <td>-0.669852</td>\n",
              "      <td>-0.674918</td>\n",
              "      <td>-0.646749</td>\n",
              "      <td>-0.628695</td>\n",
              "      <td>-0.613547</td>\n",
              "      <td>-0.605476</td>\n",
              "      <td>-0.347262</td>\n",
              "      <td>-0.212266</td>\n",
              "      <td>-0.239072</td>\n",
              "      <td>-0.244494</td>\n",
              "      <td>-0.316743</td>\n",
              "      <td>-0.180881</td>\n",
              "    </tr>\n",
              "    <tr>\n",
              "      <th>2</th>\n",
              "      <td>-0.589078</td>\n",
              "      <td>-0.156622</td>\n",
              "      <td>-0.309704</td>\n",
              "      <td>-0.502405</td>\n",
              "      <td>-0.490162</td>\n",
              "      <td>-0.457360</td>\n",
              "      <td>-0.425202</td>\n",
              "      <td>-0.400135</td>\n",
              "      <td>-0.253007</td>\n",
              "      <td>-0.190418</td>\n",
              "      <td>-0.239072</td>\n",
              "      <td>-0.244494</td>\n",
              "      <td>-0.250825</td>\n",
              "      <td>-0.012033</td>\n",
              "    </tr>\n",
              "    <tr>\n",
              "      <th>3</th>\n",
              "      <td>-0.897228</td>\n",
              "      <td>0.168873</td>\n",
              "      <td>-0.068977</td>\n",
              "      <td>-0.022727</td>\n",
              "      <td>0.024243</td>\n",
              "      <td>-0.240724</td>\n",
              "      <td>-0.195593</td>\n",
              "      <td>-0.166219</td>\n",
              "      <td>-0.223079</td>\n",
              "      <td>-0.167740</td>\n",
              "      <td>-0.227715</td>\n",
              "      <td>-0.238122</td>\n",
              "      <td>-0.246277</td>\n",
              "      <td>-0.237164</td>\n",
              "    </tr>\n",
              "    <tr>\n",
              "      <th>4</th>\n",
              "      <td>-0.897228</td>\n",
              "      <td>2.338843</td>\n",
              "      <td>-0.589365</td>\n",
              "      <td>-0.619597</td>\n",
              "      <td>-0.169472</td>\n",
              "      <td>-0.354968</td>\n",
              "      <td>-0.356406</td>\n",
              "      <td>-0.340277</td>\n",
              "      <td>-0.223079</td>\n",
              "      <td>1.346831</td>\n",
              "      <td>0.271973</td>\n",
              "      <td>0.265237</td>\n",
              "      <td>-0.271326</td>\n",
              "      <td>-0.255230</td>\n",
              "    </tr>\n",
              "    <tr>\n",
              "      <th>...</th>\n",
              "      <td>...</td>\n",
              "      <td>...</td>\n",
              "      <td>...</td>\n",
              "      <td>...</td>\n",
              "      <td>...</td>\n",
              "      <td>...</td>\n",
              "      <td>...</td>\n",
              "      <td>...</td>\n",
              "      <td>...</td>\n",
              "      <td>...</td>\n",
              "      <td>...</td>\n",
              "      <td>...</td>\n",
              "      <td>...</td>\n",
              "      <td>...</td>\n",
              "    </tr>\n",
              "    <tr>\n",
              "      <th>28973</th>\n",
              "      <td>-0.666115</td>\n",
              "      <td>-0.156622</td>\n",
              "      <td>0.277746</td>\n",
              "      <td>0.390607</td>\n",
              "      <td>0.457468</td>\n",
              "      <td>0.521600</td>\n",
              "      <td>0.683580</td>\n",
              "      <td>0.696236</td>\n",
              "      <td>0.087378</td>\n",
              "      <td>-0.103027</td>\n",
              "      <td>-0.295855</td>\n",
              "      <td>0.137805</td>\n",
              "      <td>-0.316743</td>\n",
              "      <td>-0.068316</td>\n",
              "    </tr>\n",
              "    <tr>\n",
              "      <th>28974</th>\n",
              "      <td>0.412409</td>\n",
              "      <td>0.385870</td>\n",
              "      <td>1.856162</td>\n",
              "      <td>2.004775</td>\n",
              "      <td>2.314303</td>\n",
              "      <td>0.684042</td>\n",
              "      <td>-0.158261</td>\n",
              "      <td>-0.392932</td>\n",
              "      <td>0.180516</td>\n",
              "      <td>0.617948</td>\n",
              "      <td>-0.011770</td>\n",
              "      <td>-0.114066</td>\n",
              "      <td>0.012847</td>\n",
              "      <td>-0.237164</td>\n",
              "    </tr>\n",
              "    <tr>\n",
              "      <th>28975</th>\n",
              "      <td>-0.126853</td>\n",
              "      <td>0.819864</td>\n",
              "      <td>-0.683400</td>\n",
              "      <td>-0.673474</td>\n",
              "      <td>-0.634944</td>\n",
              "      <td>-0.540278</td>\n",
              "      <td>-0.585114</td>\n",
              "      <td>-0.659969</td>\n",
              "      <td>-0.233200</td>\n",
              "      <td>-0.101891</td>\n",
              "      <td>0.215077</td>\n",
              "      <td>-0.299991</td>\n",
              "      <td>-0.316743</td>\n",
              "      <td>-0.293446</td>\n",
              "    </tr>\n",
              "    <tr>\n",
              "      <th>28976</th>\n",
              "      <td>-1.051302</td>\n",
              "      <td>0.168873</td>\n",
              "      <td>-0.657877</td>\n",
              "      <td>-0.652046</td>\n",
              "      <td>-0.645655</td>\n",
              "      <td>-0.355929</td>\n",
              "      <td>-0.332873</td>\n",
              "      <td>-0.336500</td>\n",
              "      <td>-0.347262</td>\n",
              "      <td>-0.255961</td>\n",
              "      <td>0.953367</td>\n",
              "      <td>-0.040601</td>\n",
              "      <td>-0.184907</td>\n",
              "      <td>-0.118970</td>\n",
              "    </tr>\n",
              "    <tr>\n",
              "      <th>28977</th>\n",
              "      <td>-0.897228</td>\n",
              "      <td>1.145360</td>\n",
              "      <td>-0.056243</td>\n",
              "      <td>-0.013304</td>\n",
              "      <td>0.031053</td>\n",
              "      <td>-0.113358</td>\n",
              "      <td>-0.138743</td>\n",
              "      <td>-0.404078</td>\n",
              "      <td>-0.218236</td>\n",
              "      <td>-0.177309</td>\n",
              "      <td>-0.214655</td>\n",
              "      <td>-0.244494</td>\n",
              "      <td>-0.250825</td>\n",
              "      <td>-0.237164</td>\n",
              "    </tr>\n",
              "  </tbody>\n",
              "</table>\n",
              "<p>28978 rows × 14 columns</p>\n",
              "</div>\n",
              "      <button class=\"colab-df-convert\" onclick=\"convertToInteractive('df-abe470ac-3946-418c-bce6-6e42f6b00d4c')\"\n",
              "              title=\"Convert this dataframe to an interactive table.\"\n",
              "              style=\"display:none;\">\n",
              "        \n",
              "  <svg xmlns=\"http://www.w3.org/2000/svg\" height=\"24px\"viewBox=\"0 0 24 24\"\n",
              "       width=\"24px\">\n",
              "    <path d=\"M0 0h24v24H0V0z\" fill=\"none\"/>\n",
              "    <path d=\"M18.56 5.44l.94 2.06.94-2.06 2.06-.94-2.06-.94-.94-2.06-.94 2.06-2.06.94zm-11 1L8.5 8.5l.94-2.06 2.06-.94-2.06-.94L8.5 2.5l-.94 2.06-2.06.94zm10 10l.94 2.06.94-2.06 2.06-.94-2.06-.94-.94-2.06-.94 2.06-2.06.94z\"/><path d=\"M17.41 7.96l-1.37-1.37c-.4-.4-.92-.59-1.43-.59-.52 0-1.04.2-1.43.59L10.3 9.45l-7.72 7.72c-.78.78-.78 2.05 0 2.83L4 21.41c.39.39.9.59 1.41.59.51 0 1.02-.2 1.41-.59l7.78-7.78 2.81-2.81c.8-.78.8-2.07 0-2.86zM5.41 20L4 18.59l7.72-7.72 1.47 1.35L5.41 20z\"/>\n",
              "  </svg>\n",
              "      </button>\n",
              "      \n",
              "  <style>\n",
              "    .colab-df-container {\n",
              "      display:flex;\n",
              "      flex-wrap:wrap;\n",
              "      gap: 12px;\n",
              "    }\n",
              "\n",
              "    .colab-df-convert {\n",
              "      background-color: #E8F0FE;\n",
              "      border: none;\n",
              "      border-radius: 50%;\n",
              "      cursor: pointer;\n",
              "      display: none;\n",
              "      fill: #1967D2;\n",
              "      height: 32px;\n",
              "      padding: 0 0 0 0;\n",
              "      width: 32px;\n",
              "    }\n",
              "\n",
              "    .colab-df-convert:hover {\n",
              "      background-color: #E2EBFA;\n",
              "      box-shadow: 0px 1px 2px rgba(60, 64, 67, 0.3), 0px 1px 3px 1px rgba(60, 64, 67, 0.15);\n",
              "      fill: #174EA6;\n",
              "    }\n",
              "\n",
              "    [theme=dark] .colab-df-convert {\n",
              "      background-color: #3B4455;\n",
              "      fill: #D2E3FC;\n",
              "    }\n",
              "\n",
              "    [theme=dark] .colab-df-convert:hover {\n",
              "      background-color: #434B5C;\n",
              "      box-shadow: 0px 1px 3px 1px rgba(0, 0, 0, 0.15);\n",
              "      filter: drop-shadow(0px 1px 2px rgba(0, 0, 0, 0.3));\n",
              "      fill: #FFFFFF;\n",
              "    }\n",
              "  </style>\n",
              "\n",
              "      <script>\n",
              "        const buttonEl =\n",
              "          document.querySelector('#df-abe470ac-3946-418c-bce6-6e42f6b00d4c button.colab-df-convert');\n",
              "        buttonEl.style.display =\n",
              "          google.colab.kernel.accessAllowed ? 'block' : 'none';\n",
              "\n",
              "        async function convertToInteractive(key) {\n",
              "          const element = document.querySelector('#df-abe470ac-3946-418c-bce6-6e42f6b00d4c');\n",
              "          const dataTable =\n",
              "            await google.colab.kernel.invokeFunction('convertToInteractive',\n",
              "                                                     [key], {});\n",
              "          if (!dataTable) return;\n",
              "\n",
              "          const docLinkHtml = 'Like what you see? Visit the ' +\n",
              "            '<a target=\"_blank\" href=https://colab.research.google.com/notebooks/data_table.ipynb>data table notebook</a>'\n",
              "            + ' to learn more about interactive tables.';\n",
              "          element.innerHTML = '';\n",
              "          dataTable['output_type'] = 'display_data';\n",
              "          await google.colab.output.renderOutput(dataTable, element);\n",
              "          const docLink = document.createElement('div');\n",
              "          docLink.innerHTML = docLinkHtml;\n",
              "          element.appendChild(docLink);\n",
              "        }\n",
              "      </script>\n",
              "    </div>\n",
              "  </div>\n",
              "  "
            ]
          },
          "metadata": {},
          "execution_count": 45
        }
      ]
    },
    {
      "cell_type": "code",
      "source": [
        "X = pd.concat([df11,df2], axis = 1); X"
      ],
      "metadata": {
        "colab": {
          "base_uri": "https://localhost:8080/",
          "height": 487
        },
        "id": "w-Q2g5HQlsIC",
        "outputId": "6a9c6fe6-c7a9-4980-d524-ab3f9a54d4a7"
      },
      "execution_count": 46,
      "outputs": [
        {
          "output_type": "execute_result",
          "data": {
            "text/plain": [
              "       LIMIT_BAL       AGE  BILL_AMT1  BILL_AMT2  BILL_AMT3  BILL_AMT4  \\\n",
              "0      -1.128340 -1.241607  -0.653158  -0.655608  -0.675441  -0.679388   \n",
              "1      -0.357965 -1.024610  -0.669852  -0.674918  -0.646749  -0.628695   \n",
              "2      -0.589078 -0.156622  -0.309704  -0.502405  -0.490162  -0.457360   \n",
              "3      -0.897228  0.168873  -0.068977  -0.022727   0.024243  -0.240724   \n",
              "4      -0.897228  2.338843  -0.589365  -0.619597  -0.169472  -0.354968   \n",
              "...          ...       ...        ...        ...        ...        ...   \n",
              "28973  -0.666115 -0.156622   0.277746   0.390607   0.457468   0.521600   \n",
              "28974   0.412409  0.385870   1.856162   2.004775   2.314303   0.684042   \n",
              "28975  -0.126853  0.819864  -0.683400  -0.673474  -0.634944  -0.540278   \n",
              "28976  -1.051302  0.168873  -0.657877  -0.652046  -0.645655  -0.355929   \n",
              "28977  -0.897228  1.145360  -0.056243  -0.013304   0.031053  -0.113358   \n",
              "\n",
              "       BILL_AMT5  BILL_AMT6  PAY_AMT1  PAY_AMT2  ...  PAY_5_8  PAY_6_-2  \\\n",
              "0      -0.670167  -0.659969 -0.347262 -0.225855  ...        0         1   \n",
              "1      -0.613547  -0.605476 -0.347262 -0.212266  ...        0         0   \n",
              "2      -0.425202  -0.400135 -0.253007 -0.190418  ...        0         0   \n",
              "3      -0.195593  -0.166219 -0.223079 -0.167740  ...        0         0   \n",
              "4      -0.356406  -0.340277 -0.223079  1.346831  ...        0         0   \n",
              "...          ...        ...       ...       ...  ...      ...       ...   \n",
              "28973   0.683580   0.696236  0.087378 -0.103027  ...        0         0   \n",
              "28974  -0.158261  -0.392932  0.180516  0.617948  ...        0         0   \n",
              "28975  -0.585114  -0.659969 -0.233200 -0.101891  ...        0         0   \n",
              "28976  -0.332873  -0.336500 -0.347262 -0.255961  ...        0         0   \n",
              "28977  -0.138743  -0.404078 -0.218236 -0.177309  ...        0         0   \n",
              "\n",
              "       PAY_6_0  PAY_6_2  PAY_6_3  PAY_6_4  PAY_6_5  PAY_6_6  PAY_6_7  PAY_6_8  \n",
              "0            0        0        0        0        0        0        0        0  \n",
              "1            0        1        0        0        0        0        0        0  \n",
              "2            1        0        0        0        0        0        0        0  \n",
              "3            1        0        0        0        0        0        0        0  \n",
              "4            1        0        0        0        0        0        0        0  \n",
              "...        ...      ...      ...      ...      ...      ...      ...      ...  \n",
              "28973        0        1        0        0        0        0        0        0  \n",
              "28974        1        0        0        0        0        0        0        0  \n",
              "28975        1        0        0        0        0        0        0        0  \n",
              "28976        1        0        0        0        0        0        0        0  \n",
              "28977        1        0        0        0        0        0        0        0  \n",
              "\n",
              "[28978 rows x 79 columns]"
            ],
            "text/html": [
              "\n",
              "  <div id=\"df-b06bbbff-0e77-49e3-9584-a4a9713e6fa1\">\n",
              "    <div class=\"colab-df-container\">\n",
              "      <div>\n",
              "<style scoped>\n",
              "    .dataframe tbody tr th:only-of-type {\n",
              "        vertical-align: middle;\n",
              "    }\n",
              "\n",
              "    .dataframe tbody tr th {\n",
              "        vertical-align: top;\n",
              "    }\n",
              "\n",
              "    .dataframe thead th {\n",
              "        text-align: right;\n",
              "    }\n",
              "</style>\n",
              "<table border=\"1\" class=\"dataframe\">\n",
              "  <thead>\n",
              "    <tr style=\"text-align: right;\">\n",
              "      <th></th>\n",
              "      <th>LIMIT_BAL</th>\n",
              "      <th>AGE</th>\n",
              "      <th>BILL_AMT1</th>\n",
              "      <th>BILL_AMT2</th>\n",
              "      <th>BILL_AMT3</th>\n",
              "      <th>BILL_AMT4</th>\n",
              "      <th>BILL_AMT5</th>\n",
              "      <th>BILL_AMT6</th>\n",
              "      <th>PAY_AMT1</th>\n",
              "      <th>PAY_AMT2</th>\n",
              "      <th>...</th>\n",
              "      <th>PAY_5_8</th>\n",
              "      <th>PAY_6_-2</th>\n",
              "      <th>PAY_6_0</th>\n",
              "      <th>PAY_6_2</th>\n",
              "      <th>PAY_6_3</th>\n",
              "      <th>PAY_6_4</th>\n",
              "      <th>PAY_6_5</th>\n",
              "      <th>PAY_6_6</th>\n",
              "      <th>PAY_6_7</th>\n",
              "      <th>PAY_6_8</th>\n",
              "    </tr>\n",
              "  </thead>\n",
              "  <tbody>\n",
              "    <tr>\n",
              "      <th>0</th>\n",
              "      <td>-1.128340</td>\n",
              "      <td>-1.241607</td>\n",
              "      <td>-0.653158</td>\n",
              "      <td>-0.655608</td>\n",
              "      <td>-0.675441</td>\n",
              "      <td>-0.679388</td>\n",
              "      <td>-0.670167</td>\n",
              "      <td>-0.659969</td>\n",
              "      <td>-0.347262</td>\n",
              "      <td>-0.225855</td>\n",
              "      <td>...</td>\n",
              "      <td>0</td>\n",
              "      <td>1</td>\n",
              "      <td>0</td>\n",
              "      <td>0</td>\n",
              "      <td>0</td>\n",
              "      <td>0</td>\n",
              "      <td>0</td>\n",
              "      <td>0</td>\n",
              "      <td>0</td>\n",
              "      <td>0</td>\n",
              "    </tr>\n",
              "    <tr>\n",
              "      <th>1</th>\n",
              "      <td>-0.357965</td>\n",
              "      <td>-1.024610</td>\n",
              "      <td>-0.669852</td>\n",
              "      <td>-0.674918</td>\n",
              "      <td>-0.646749</td>\n",
              "      <td>-0.628695</td>\n",
              "      <td>-0.613547</td>\n",
              "      <td>-0.605476</td>\n",
              "      <td>-0.347262</td>\n",
              "      <td>-0.212266</td>\n",
              "      <td>...</td>\n",
              "      <td>0</td>\n",
              "      <td>0</td>\n",
              "      <td>0</td>\n",
              "      <td>1</td>\n",
              "      <td>0</td>\n",
              "      <td>0</td>\n",
              "      <td>0</td>\n",
              "      <td>0</td>\n",
              "      <td>0</td>\n",
              "      <td>0</td>\n",
              "    </tr>\n",
              "    <tr>\n",
              "      <th>2</th>\n",
              "      <td>-0.589078</td>\n",
              "      <td>-0.156622</td>\n",
              "      <td>-0.309704</td>\n",
              "      <td>-0.502405</td>\n",
              "      <td>-0.490162</td>\n",
              "      <td>-0.457360</td>\n",
              "      <td>-0.425202</td>\n",
              "      <td>-0.400135</td>\n",
              "      <td>-0.253007</td>\n",
              "      <td>-0.190418</td>\n",
              "      <td>...</td>\n",
              "      <td>0</td>\n",
              "      <td>0</td>\n",
              "      <td>1</td>\n",
              "      <td>0</td>\n",
              "      <td>0</td>\n",
              "      <td>0</td>\n",
              "      <td>0</td>\n",
              "      <td>0</td>\n",
              "      <td>0</td>\n",
              "      <td>0</td>\n",
              "    </tr>\n",
              "    <tr>\n",
              "      <th>3</th>\n",
              "      <td>-0.897228</td>\n",
              "      <td>0.168873</td>\n",
              "      <td>-0.068977</td>\n",
              "      <td>-0.022727</td>\n",
              "      <td>0.024243</td>\n",
              "      <td>-0.240724</td>\n",
              "      <td>-0.195593</td>\n",
              "      <td>-0.166219</td>\n",
              "      <td>-0.223079</td>\n",
              "      <td>-0.167740</td>\n",
              "      <td>...</td>\n",
              "      <td>0</td>\n",
              "      <td>0</td>\n",
              "      <td>1</td>\n",
              "      <td>0</td>\n",
              "      <td>0</td>\n",
              "      <td>0</td>\n",
              "      <td>0</td>\n",
              "      <td>0</td>\n",
              "      <td>0</td>\n",
              "      <td>0</td>\n",
              "    </tr>\n",
              "    <tr>\n",
              "      <th>4</th>\n",
              "      <td>-0.897228</td>\n",
              "      <td>2.338843</td>\n",
              "      <td>-0.589365</td>\n",
              "      <td>-0.619597</td>\n",
              "      <td>-0.169472</td>\n",
              "      <td>-0.354968</td>\n",
              "      <td>-0.356406</td>\n",
              "      <td>-0.340277</td>\n",
              "      <td>-0.223079</td>\n",
              "      <td>1.346831</td>\n",
              "      <td>...</td>\n",
              "      <td>0</td>\n",
              "      <td>0</td>\n",
              "      <td>1</td>\n",
              "      <td>0</td>\n",
              "      <td>0</td>\n",
              "      <td>0</td>\n",
              "      <td>0</td>\n",
              "      <td>0</td>\n",
              "      <td>0</td>\n",
              "      <td>0</td>\n",
              "    </tr>\n",
              "    <tr>\n",
              "      <th>...</th>\n",
              "      <td>...</td>\n",
              "      <td>...</td>\n",
              "      <td>...</td>\n",
              "      <td>...</td>\n",
              "      <td>...</td>\n",
              "      <td>...</td>\n",
              "      <td>...</td>\n",
              "      <td>...</td>\n",
              "      <td>...</td>\n",
              "      <td>...</td>\n",
              "      <td>...</td>\n",
              "      <td>...</td>\n",
              "      <td>...</td>\n",
              "      <td>...</td>\n",
              "      <td>...</td>\n",
              "      <td>...</td>\n",
              "      <td>...</td>\n",
              "      <td>...</td>\n",
              "      <td>...</td>\n",
              "      <td>...</td>\n",
              "      <td>...</td>\n",
              "    </tr>\n",
              "    <tr>\n",
              "      <th>28973</th>\n",
              "      <td>-0.666115</td>\n",
              "      <td>-0.156622</td>\n",
              "      <td>0.277746</td>\n",
              "      <td>0.390607</td>\n",
              "      <td>0.457468</td>\n",
              "      <td>0.521600</td>\n",
              "      <td>0.683580</td>\n",
              "      <td>0.696236</td>\n",
              "      <td>0.087378</td>\n",
              "      <td>-0.103027</td>\n",
              "      <td>...</td>\n",
              "      <td>0</td>\n",
              "      <td>0</td>\n",
              "      <td>0</td>\n",
              "      <td>1</td>\n",
              "      <td>0</td>\n",
              "      <td>0</td>\n",
              "      <td>0</td>\n",
              "      <td>0</td>\n",
              "      <td>0</td>\n",
              "      <td>0</td>\n",
              "    </tr>\n",
              "    <tr>\n",
              "      <th>28974</th>\n",
              "      <td>0.412409</td>\n",
              "      <td>0.385870</td>\n",
              "      <td>1.856162</td>\n",
              "      <td>2.004775</td>\n",
              "      <td>2.314303</td>\n",
              "      <td>0.684042</td>\n",
              "      <td>-0.158261</td>\n",
              "      <td>-0.392932</td>\n",
              "      <td>0.180516</td>\n",
              "      <td>0.617948</td>\n",
              "      <td>...</td>\n",
              "      <td>0</td>\n",
              "      <td>0</td>\n",
              "      <td>1</td>\n",
              "      <td>0</td>\n",
              "      <td>0</td>\n",
              "      <td>0</td>\n",
              "      <td>0</td>\n",
              "      <td>0</td>\n",
              "      <td>0</td>\n",
              "      <td>0</td>\n",
              "    </tr>\n",
              "    <tr>\n",
              "      <th>28975</th>\n",
              "      <td>-0.126853</td>\n",
              "      <td>0.819864</td>\n",
              "      <td>-0.683400</td>\n",
              "      <td>-0.673474</td>\n",
              "      <td>-0.634944</td>\n",
              "      <td>-0.540278</td>\n",
              "      <td>-0.585114</td>\n",
              "      <td>-0.659969</td>\n",
              "      <td>-0.233200</td>\n",
              "      <td>-0.101891</td>\n",
              "      <td>...</td>\n",
              "      <td>0</td>\n",
              "      <td>0</td>\n",
              "      <td>1</td>\n",
              "      <td>0</td>\n",
              "      <td>0</td>\n",
              "      <td>0</td>\n",
              "      <td>0</td>\n",
              "      <td>0</td>\n",
              "      <td>0</td>\n",
              "      <td>0</td>\n",
              "    </tr>\n",
              "    <tr>\n",
              "      <th>28976</th>\n",
              "      <td>-1.051302</td>\n",
              "      <td>0.168873</td>\n",
              "      <td>-0.657877</td>\n",
              "      <td>-0.652046</td>\n",
              "      <td>-0.645655</td>\n",
              "      <td>-0.355929</td>\n",
              "      <td>-0.332873</td>\n",
              "      <td>-0.336500</td>\n",
              "      <td>-0.347262</td>\n",
              "      <td>-0.255961</td>\n",
              "      <td>...</td>\n",
              "      <td>0</td>\n",
              "      <td>0</td>\n",
              "      <td>1</td>\n",
              "      <td>0</td>\n",
              "      <td>0</td>\n",
              "      <td>0</td>\n",
              "      <td>0</td>\n",
              "      <td>0</td>\n",
              "      <td>0</td>\n",
              "      <td>0</td>\n",
              "    </tr>\n",
              "    <tr>\n",
              "      <th>28977</th>\n",
              "      <td>-0.897228</td>\n",
              "      <td>1.145360</td>\n",
              "      <td>-0.056243</td>\n",
              "      <td>-0.013304</td>\n",
              "      <td>0.031053</td>\n",
              "      <td>-0.113358</td>\n",
              "      <td>-0.138743</td>\n",
              "      <td>-0.404078</td>\n",
              "      <td>-0.218236</td>\n",
              "      <td>-0.177309</td>\n",
              "      <td>...</td>\n",
              "      <td>0</td>\n",
              "      <td>0</td>\n",
              "      <td>1</td>\n",
              "      <td>0</td>\n",
              "      <td>0</td>\n",
              "      <td>0</td>\n",
              "      <td>0</td>\n",
              "      <td>0</td>\n",
              "      <td>0</td>\n",
              "      <td>0</td>\n",
              "    </tr>\n",
              "  </tbody>\n",
              "</table>\n",
              "<p>28978 rows × 79 columns</p>\n",
              "</div>\n",
              "      <button class=\"colab-df-convert\" onclick=\"convertToInteractive('df-b06bbbff-0e77-49e3-9584-a4a9713e6fa1')\"\n",
              "              title=\"Convert this dataframe to an interactive table.\"\n",
              "              style=\"display:none;\">\n",
              "        \n",
              "  <svg xmlns=\"http://www.w3.org/2000/svg\" height=\"24px\"viewBox=\"0 0 24 24\"\n",
              "       width=\"24px\">\n",
              "    <path d=\"M0 0h24v24H0V0z\" fill=\"none\"/>\n",
              "    <path d=\"M18.56 5.44l.94 2.06.94-2.06 2.06-.94-2.06-.94-.94-2.06-.94 2.06-2.06.94zm-11 1L8.5 8.5l.94-2.06 2.06-.94-2.06-.94L8.5 2.5l-.94 2.06-2.06.94zm10 10l.94 2.06.94-2.06 2.06-.94-2.06-.94-.94-2.06-.94 2.06-2.06.94z\"/><path d=\"M17.41 7.96l-1.37-1.37c-.4-.4-.92-.59-1.43-.59-.52 0-1.04.2-1.43.59L10.3 9.45l-7.72 7.72c-.78.78-.78 2.05 0 2.83L4 21.41c.39.39.9.59 1.41.59.51 0 1.02-.2 1.41-.59l7.78-7.78 2.81-2.81c.8-.78.8-2.07 0-2.86zM5.41 20L4 18.59l7.72-7.72 1.47 1.35L5.41 20z\"/>\n",
              "  </svg>\n",
              "      </button>\n",
              "      \n",
              "  <style>\n",
              "    .colab-df-container {\n",
              "      display:flex;\n",
              "      flex-wrap:wrap;\n",
              "      gap: 12px;\n",
              "    }\n",
              "\n",
              "    .colab-df-convert {\n",
              "      background-color: #E8F0FE;\n",
              "      border: none;\n",
              "      border-radius: 50%;\n",
              "      cursor: pointer;\n",
              "      display: none;\n",
              "      fill: #1967D2;\n",
              "      height: 32px;\n",
              "      padding: 0 0 0 0;\n",
              "      width: 32px;\n",
              "    }\n",
              "\n",
              "    .colab-df-convert:hover {\n",
              "      background-color: #E2EBFA;\n",
              "      box-shadow: 0px 1px 2px rgba(60, 64, 67, 0.3), 0px 1px 3px 1px rgba(60, 64, 67, 0.15);\n",
              "      fill: #174EA6;\n",
              "    }\n",
              "\n",
              "    [theme=dark] .colab-df-convert {\n",
              "      background-color: #3B4455;\n",
              "      fill: #D2E3FC;\n",
              "    }\n",
              "\n",
              "    [theme=dark] .colab-df-convert:hover {\n",
              "      background-color: #434B5C;\n",
              "      box-shadow: 0px 1px 3px 1px rgba(0, 0, 0, 0.15);\n",
              "      filter: drop-shadow(0px 1px 2px rgba(0, 0, 0, 0.3));\n",
              "      fill: #FFFFFF;\n",
              "    }\n",
              "  </style>\n",
              "\n",
              "      <script>\n",
              "        const buttonEl =\n",
              "          document.querySelector('#df-b06bbbff-0e77-49e3-9584-a4a9713e6fa1 button.colab-df-convert');\n",
              "        buttonEl.style.display =\n",
              "          google.colab.kernel.accessAllowed ? 'block' : 'none';\n",
              "\n",
              "        async function convertToInteractive(key) {\n",
              "          const element = document.querySelector('#df-b06bbbff-0e77-49e3-9584-a4a9713e6fa1');\n",
              "          const dataTable =\n",
              "            await google.colab.kernel.invokeFunction('convertToInteractive',\n",
              "                                                     [key], {});\n",
              "          if (!dataTable) return;\n",
              "\n",
              "          const docLinkHtml = 'Like what you see? Visit the ' +\n",
              "            '<a target=\"_blank\" href=https://colab.research.google.com/notebooks/data_table.ipynb>data table notebook</a>'\n",
              "            + ' to learn more about interactive tables.';\n",
              "          element.innerHTML = '';\n",
              "          dataTable['output_type'] = 'display_data';\n",
              "          await google.colab.output.renderOutput(dataTable, element);\n",
              "          const docLink = document.createElement('div');\n",
              "          docLink.innerHTML = docLinkHtml;\n",
              "          element.appendChild(docLink);\n",
              "        }\n",
              "      </script>\n",
              "    </div>\n",
              "  </div>\n",
              "  "
            ]
          },
          "metadata": {},
          "execution_count": 46
        }
      ]
    },
    {
      "cell_type": "code",
      "source": [
        "X = X.drop(['index'], axis=1); X"
      ],
      "metadata": {
        "colab": {
          "base_uri": "https://localhost:8080/",
          "height": 487
        },
        "id": "VAcG2lqLvUjb",
        "outputId": "d92c379d-aed0-45e7-aa62-ff59ab04d25b"
      },
      "execution_count": 47,
      "outputs": [
        {
          "output_type": "execute_result",
          "data": {
            "text/plain": [
              "       LIMIT_BAL       AGE  BILL_AMT1  BILL_AMT2  BILL_AMT3  BILL_AMT4  \\\n",
              "0      -1.128340 -1.241607  -0.653158  -0.655608  -0.675441  -0.679388   \n",
              "1      -0.357965 -1.024610  -0.669852  -0.674918  -0.646749  -0.628695   \n",
              "2      -0.589078 -0.156622  -0.309704  -0.502405  -0.490162  -0.457360   \n",
              "3      -0.897228  0.168873  -0.068977  -0.022727   0.024243  -0.240724   \n",
              "4      -0.897228  2.338843  -0.589365  -0.619597  -0.169472  -0.354968   \n",
              "...          ...       ...        ...        ...        ...        ...   \n",
              "28973  -0.666115 -0.156622   0.277746   0.390607   0.457468   0.521600   \n",
              "28974   0.412409  0.385870   1.856162   2.004775   2.314303   0.684042   \n",
              "28975  -0.126853  0.819864  -0.683400  -0.673474  -0.634944  -0.540278   \n",
              "28976  -1.051302  0.168873  -0.657877  -0.652046  -0.645655  -0.355929   \n",
              "28977  -0.897228  1.145360  -0.056243  -0.013304   0.031053  -0.113358   \n",
              "\n",
              "       BILL_AMT5  BILL_AMT6  PAY_AMT1  PAY_AMT2  ...  PAY_5_8  PAY_6_-2  \\\n",
              "0      -0.670167  -0.659969 -0.347262 -0.225855  ...        0         1   \n",
              "1      -0.613547  -0.605476 -0.347262 -0.212266  ...        0         0   \n",
              "2      -0.425202  -0.400135 -0.253007 -0.190418  ...        0         0   \n",
              "3      -0.195593  -0.166219 -0.223079 -0.167740  ...        0         0   \n",
              "4      -0.356406  -0.340277 -0.223079  1.346831  ...        0         0   \n",
              "...          ...        ...       ...       ...  ...      ...       ...   \n",
              "28973   0.683580   0.696236  0.087378 -0.103027  ...        0         0   \n",
              "28974  -0.158261  -0.392932  0.180516  0.617948  ...        0         0   \n",
              "28975  -0.585114  -0.659969 -0.233200 -0.101891  ...        0         0   \n",
              "28976  -0.332873  -0.336500 -0.347262 -0.255961  ...        0         0   \n",
              "28977  -0.138743  -0.404078 -0.218236 -0.177309  ...        0         0   \n",
              "\n",
              "       PAY_6_0  PAY_6_2  PAY_6_3  PAY_6_4  PAY_6_5  PAY_6_6  PAY_6_7  PAY_6_8  \n",
              "0            0        0        0        0        0        0        0        0  \n",
              "1            0        1        0        0        0        0        0        0  \n",
              "2            1        0        0        0        0        0        0        0  \n",
              "3            1        0        0        0        0        0        0        0  \n",
              "4            1        0        0        0        0        0        0        0  \n",
              "...        ...      ...      ...      ...      ...      ...      ...      ...  \n",
              "28973        0        1        0        0        0        0        0        0  \n",
              "28974        1        0        0        0        0        0        0        0  \n",
              "28975        1        0        0        0        0        0        0        0  \n",
              "28976        1        0        0        0        0        0        0        0  \n",
              "28977        1        0        0        0        0        0        0        0  \n",
              "\n",
              "[28978 rows x 78 columns]"
            ],
            "text/html": [
              "\n",
              "  <div id=\"df-62cf1261-4539-47f5-961d-5cf96f617e1d\">\n",
              "    <div class=\"colab-df-container\">\n",
              "      <div>\n",
              "<style scoped>\n",
              "    .dataframe tbody tr th:only-of-type {\n",
              "        vertical-align: middle;\n",
              "    }\n",
              "\n",
              "    .dataframe tbody tr th {\n",
              "        vertical-align: top;\n",
              "    }\n",
              "\n",
              "    .dataframe thead th {\n",
              "        text-align: right;\n",
              "    }\n",
              "</style>\n",
              "<table border=\"1\" class=\"dataframe\">\n",
              "  <thead>\n",
              "    <tr style=\"text-align: right;\">\n",
              "      <th></th>\n",
              "      <th>LIMIT_BAL</th>\n",
              "      <th>AGE</th>\n",
              "      <th>BILL_AMT1</th>\n",
              "      <th>BILL_AMT2</th>\n",
              "      <th>BILL_AMT3</th>\n",
              "      <th>BILL_AMT4</th>\n",
              "      <th>BILL_AMT5</th>\n",
              "      <th>BILL_AMT6</th>\n",
              "      <th>PAY_AMT1</th>\n",
              "      <th>PAY_AMT2</th>\n",
              "      <th>...</th>\n",
              "      <th>PAY_5_8</th>\n",
              "      <th>PAY_6_-2</th>\n",
              "      <th>PAY_6_0</th>\n",
              "      <th>PAY_6_2</th>\n",
              "      <th>PAY_6_3</th>\n",
              "      <th>PAY_6_4</th>\n",
              "      <th>PAY_6_5</th>\n",
              "      <th>PAY_6_6</th>\n",
              "      <th>PAY_6_7</th>\n",
              "      <th>PAY_6_8</th>\n",
              "    </tr>\n",
              "  </thead>\n",
              "  <tbody>\n",
              "    <tr>\n",
              "      <th>0</th>\n",
              "      <td>-1.128340</td>\n",
              "      <td>-1.241607</td>\n",
              "      <td>-0.653158</td>\n",
              "      <td>-0.655608</td>\n",
              "      <td>-0.675441</td>\n",
              "      <td>-0.679388</td>\n",
              "      <td>-0.670167</td>\n",
              "      <td>-0.659969</td>\n",
              "      <td>-0.347262</td>\n",
              "      <td>-0.225855</td>\n",
              "      <td>...</td>\n",
              "      <td>0</td>\n",
              "      <td>1</td>\n",
              "      <td>0</td>\n",
              "      <td>0</td>\n",
              "      <td>0</td>\n",
              "      <td>0</td>\n",
              "      <td>0</td>\n",
              "      <td>0</td>\n",
              "      <td>0</td>\n",
              "      <td>0</td>\n",
              "    </tr>\n",
              "    <tr>\n",
              "      <th>1</th>\n",
              "      <td>-0.357965</td>\n",
              "      <td>-1.024610</td>\n",
              "      <td>-0.669852</td>\n",
              "      <td>-0.674918</td>\n",
              "      <td>-0.646749</td>\n",
              "      <td>-0.628695</td>\n",
              "      <td>-0.613547</td>\n",
              "      <td>-0.605476</td>\n",
              "      <td>-0.347262</td>\n",
              "      <td>-0.212266</td>\n",
              "      <td>...</td>\n",
              "      <td>0</td>\n",
              "      <td>0</td>\n",
              "      <td>0</td>\n",
              "      <td>1</td>\n",
              "      <td>0</td>\n",
              "      <td>0</td>\n",
              "      <td>0</td>\n",
              "      <td>0</td>\n",
              "      <td>0</td>\n",
              "      <td>0</td>\n",
              "    </tr>\n",
              "    <tr>\n",
              "      <th>2</th>\n",
              "      <td>-0.589078</td>\n",
              "      <td>-0.156622</td>\n",
              "      <td>-0.309704</td>\n",
              "      <td>-0.502405</td>\n",
              "      <td>-0.490162</td>\n",
              "      <td>-0.457360</td>\n",
              "      <td>-0.425202</td>\n",
              "      <td>-0.400135</td>\n",
              "      <td>-0.253007</td>\n",
              "      <td>-0.190418</td>\n",
              "      <td>...</td>\n",
              "      <td>0</td>\n",
              "      <td>0</td>\n",
              "      <td>1</td>\n",
              "      <td>0</td>\n",
              "      <td>0</td>\n",
              "      <td>0</td>\n",
              "      <td>0</td>\n",
              "      <td>0</td>\n",
              "      <td>0</td>\n",
              "      <td>0</td>\n",
              "    </tr>\n",
              "    <tr>\n",
              "      <th>3</th>\n",
              "      <td>-0.897228</td>\n",
              "      <td>0.168873</td>\n",
              "      <td>-0.068977</td>\n",
              "      <td>-0.022727</td>\n",
              "      <td>0.024243</td>\n",
              "      <td>-0.240724</td>\n",
              "      <td>-0.195593</td>\n",
              "      <td>-0.166219</td>\n",
              "      <td>-0.223079</td>\n",
              "      <td>-0.167740</td>\n",
              "      <td>...</td>\n",
              "      <td>0</td>\n",
              "      <td>0</td>\n",
              "      <td>1</td>\n",
              "      <td>0</td>\n",
              "      <td>0</td>\n",
              "      <td>0</td>\n",
              "      <td>0</td>\n",
              "      <td>0</td>\n",
              "      <td>0</td>\n",
              "      <td>0</td>\n",
              "    </tr>\n",
              "    <tr>\n",
              "      <th>4</th>\n",
              "      <td>-0.897228</td>\n",
              "      <td>2.338843</td>\n",
              "      <td>-0.589365</td>\n",
              "      <td>-0.619597</td>\n",
              "      <td>-0.169472</td>\n",
              "      <td>-0.354968</td>\n",
              "      <td>-0.356406</td>\n",
              "      <td>-0.340277</td>\n",
              "      <td>-0.223079</td>\n",
              "      <td>1.346831</td>\n",
              "      <td>...</td>\n",
              "      <td>0</td>\n",
              "      <td>0</td>\n",
              "      <td>1</td>\n",
              "      <td>0</td>\n",
              "      <td>0</td>\n",
              "      <td>0</td>\n",
              "      <td>0</td>\n",
              "      <td>0</td>\n",
              "      <td>0</td>\n",
              "      <td>0</td>\n",
              "    </tr>\n",
              "    <tr>\n",
              "      <th>...</th>\n",
              "      <td>...</td>\n",
              "      <td>...</td>\n",
              "      <td>...</td>\n",
              "      <td>...</td>\n",
              "      <td>...</td>\n",
              "      <td>...</td>\n",
              "      <td>...</td>\n",
              "      <td>...</td>\n",
              "      <td>...</td>\n",
              "      <td>...</td>\n",
              "      <td>...</td>\n",
              "      <td>...</td>\n",
              "      <td>...</td>\n",
              "      <td>...</td>\n",
              "      <td>...</td>\n",
              "      <td>...</td>\n",
              "      <td>...</td>\n",
              "      <td>...</td>\n",
              "      <td>...</td>\n",
              "      <td>...</td>\n",
              "      <td>...</td>\n",
              "    </tr>\n",
              "    <tr>\n",
              "      <th>28973</th>\n",
              "      <td>-0.666115</td>\n",
              "      <td>-0.156622</td>\n",
              "      <td>0.277746</td>\n",
              "      <td>0.390607</td>\n",
              "      <td>0.457468</td>\n",
              "      <td>0.521600</td>\n",
              "      <td>0.683580</td>\n",
              "      <td>0.696236</td>\n",
              "      <td>0.087378</td>\n",
              "      <td>-0.103027</td>\n",
              "      <td>...</td>\n",
              "      <td>0</td>\n",
              "      <td>0</td>\n",
              "      <td>0</td>\n",
              "      <td>1</td>\n",
              "      <td>0</td>\n",
              "      <td>0</td>\n",
              "      <td>0</td>\n",
              "      <td>0</td>\n",
              "      <td>0</td>\n",
              "      <td>0</td>\n",
              "    </tr>\n",
              "    <tr>\n",
              "      <th>28974</th>\n",
              "      <td>0.412409</td>\n",
              "      <td>0.385870</td>\n",
              "      <td>1.856162</td>\n",
              "      <td>2.004775</td>\n",
              "      <td>2.314303</td>\n",
              "      <td>0.684042</td>\n",
              "      <td>-0.158261</td>\n",
              "      <td>-0.392932</td>\n",
              "      <td>0.180516</td>\n",
              "      <td>0.617948</td>\n",
              "      <td>...</td>\n",
              "      <td>0</td>\n",
              "      <td>0</td>\n",
              "      <td>1</td>\n",
              "      <td>0</td>\n",
              "      <td>0</td>\n",
              "      <td>0</td>\n",
              "      <td>0</td>\n",
              "      <td>0</td>\n",
              "      <td>0</td>\n",
              "      <td>0</td>\n",
              "    </tr>\n",
              "    <tr>\n",
              "      <th>28975</th>\n",
              "      <td>-0.126853</td>\n",
              "      <td>0.819864</td>\n",
              "      <td>-0.683400</td>\n",
              "      <td>-0.673474</td>\n",
              "      <td>-0.634944</td>\n",
              "      <td>-0.540278</td>\n",
              "      <td>-0.585114</td>\n",
              "      <td>-0.659969</td>\n",
              "      <td>-0.233200</td>\n",
              "      <td>-0.101891</td>\n",
              "      <td>...</td>\n",
              "      <td>0</td>\n",
              "      <td>0</td>\n",
              "      <td>1</td>\n",
              "      <td>0</td>\n",
              "      <td>0</td>\n",
              "      <td>0</td>\n",
              "      <td>0</td>\n",
              "      <td>0</td>\n",
              "      <td>0</td>\n",
              "      <td>0</td>\n",
              "    </tr>\n",
              "    <tr>\n",
              "      <th>28976</th>\n",
              "      <td>-1.051302</td>\n",
              "      <td>0.168873</td>\n",
              "      <td>-0.657877</td>\n",
              "      <td>-0.652046</td>\n",
              "      <td>-0.645655</td>\n",
              "      <td>-0.355929</td>\n",
              "      <td>-0.332873</td>\n",
              "      <td>-0.336500</td>\n",
              "      <td>-0.347262</td>\n",
              "      <td>-0.255961</td>\n",
              "      <td>...</td>\n",
              "      <td>0</td>\n",
              "      <td>0</td>\n",
              "      <td>1</td>\n",
              "      <td>0</td>\n",
              "      <td>0</td>\n",
              "      <td>0</td>\n",
              "      <td>0</td>\n",
              "      <td>0</td>\n",
              "      <td>0</td>\n",
              "      <td>0</td>\n",
              "    </tr>\n",
              "    <tr>\n",
              "      <th>28977</th>\n",
              "      <td>-0.897228</td>\n",
              "      <td>1.145360</td>\n",
              "      <td>-0.056243</td>\n",
              "      <td>-0.013304</td>\n",
              "      <td>0.031053</td>\n",
              "      <td>-0.113358</td>\n",
              "      <td>-0.138743</td>\n",
              "      <td>-0.404078</td>\n",
              "      <td>-0.218236</td>\n",
              "      <td>-0.177309</td>\n",
              "      <td>...</td>\n",
              "      <td>0</td>\n",
              "      <td>0</td>\n",
              "      <td>1</td>\n",
              "      <td>0</td>\n",
              "      <td>0</td>\n",
              "      <td>0</td>\n",
              "      <td>0</td>\n",
              "      <td>0</td>\n",
              "      <td>0</td>\n",
              "      <td>0</td>\n",
              "    </tr>\n",
              "  </tbody>\n",
              "</table>\n",
              "<p>28978 rows × 78 columns</p>\n",
              "</div>\n",
              "      <button class=\"colab-df-convert\" onclick=\"convertToInteractive('df-62cf1261-4539-47f5-961d-5cf96f617e1d')\"\n",
              "              title=\"Convert this dataframe to an interactive table.\"\n",
              "              style=\"display:none;\">\n",
              "        \n",
              "  <svg xmlns=\"http://www.w3.org/2000/svg\" height=\"24px\"viewBox=\"0 0 24 24\"\n",
              "       width=\"24px\">\n",
              "    <path d=\"M0 0h24v24H0V0z\" fill=\"none\"/>\n",
              "    <path d=\"M18.56 5.44l.94 2.06.94-2.06 2.06-.94-2.06-.94-.94-2.06-.94 2.06-2.06.94zm-11 1L8.5 8.5l.94-2.06 2.06-.94-2.06-.94L8.5 2.5l-.94 2.06-2.06.94zm10 10l.94 2.06.94-2.06 2.06-.94-2.06-.94-.94-2.06-.94 2.06-2.06.94z\"/><path d=\"M17.41 7.96l-1.37-1.37c-.4-.4-.92-.59-1.43-.59-.52 0-1.04.2-1.43.59L10.3 9.45l-7.72 7.72c-.78.78-.78 2.05 0 2.83L4 21.41c.39.39.9.59 1.41.59.51 0 1.02-.2 1.41-.59l7.78-7.78 2.81-2.81c.8-.78.8-2.07 0-2.86zM5.41 20L4 18.59l7.72-7.72 1.47 1.35L5.41 20z\"/>\n",
              "  </svg>\n",
              "      </button>\n",
              "      \n",
              "  <style>\n",
              "    .colab-df-container {\n",
              "      display:flex;\n",
              "      flex-wrap:wrap;\n",
              "      gap: 12px;\n",
              "    }\n",
              "\n",
              "    .colab-df-convert {\n",
              "      background-color: #E8F0FE;\n",
              "      border: none;\n",
              "      border-radius: 50%;\n",
              "      cursor: pointer;\n",
              "      display: none;\n",
              "      fill: #1967D2;\n",
              "      height: 32px;\n",
              "      padding: 0 0 0 0;\n",
              "      width: 32px;\n",
              "    }\n",
              "\n",
              "    .colab-df-convert:hover {\n",
              "      background-color: #E2EBFA;\n",
              "      box-shadow: 0px 1px 2px rgba(60, 64, 67, 0.3), 0px 1px 3px 1px rgba(60, 64, 67, 0.15);\n",
              "      fill: #174EA6;\n",
              "    }\n",
              "\n",
              "    [theme=dark] .colab-df-convert {\n",
              "      background-color: #3B4455;\n",
              "      fill: #D2E3FC;\n",
              "    }\n",
              "\n",
              "    [theme=dark] .colab-df-convert:hover {\n",
              "      background-color: #434B5C;\n",
              "      box-shadow: 0px 1px 3px 1px rgba(0, 0, 0, 0.15);\n",
              "      filter: drop-shadow(0px 1px 2px rgba(0, 0, 0, 0.3));\n",
              "      fill: #FFFFFF;\n",
              "    }\n",
              "  </style>\n",
              "\n",
              "      <script>\n",
              "        const buttonEl =\n",
              "          document.querySelector('#df-62cf1261-4539-47f5-961d-5cf96f617e1d button.colab-df-convert');\n",
              "        buttonEl.style.display =\n",
              "          google.colab.kernel.accessAllowed ? 'block' : 'none';\n",
              "\n",
              "        async function convertToInteractive(key) {\n",
              "          const element = document.querySelector('#df-62cf1261-4539-47f5-961d-5cf96f617e1d');\n",
              "          const dataTable =\n",
              "            await google.colab.kernel.invokeFunction('convertToInteractive',\n",
              "                                                     [key], {});\n",
              "          if (!dataTable) return;\n",
              "\n",
              "          const docLinkHtml = 'Like what you see? Visit the ' +\n",
              "            '<a target=\"_blank\" href=https://colab.research.google.com/notebooks/data_table.ipynb>data table notebook</a>'\n",
              "            + ' to learn more about interactive tables.';\n",
              "          element.innerHTML = '';\n",
              "          dataTable['output_type'] = 'display_data';\n",
              "          await google.colab.output.renderOutput(dataTable, element);\n",
              "          const docLink = document.createElement('div');\n",
              "          docLink.innerHTML = docLinkHtml;\n",
              "          element.appendChild(docLink);\n",
              "        }\n",
              "      </script>\n",
              "    </div>\n",
              "  </div>\n",
              "  "
            ]
          },
          "metadata": {},
          "execution_count": 47
        }
      ]
    },
    {
      "cell_type": "code",
      "source": [
        "X.columns"
      ],
      "metadata": {
        "colab": {
          "base_uri": "https://localhost:8080/"
        },
        "id": "NbDNgBXwu-_V",
        "outputId": "eec0555e-d9be-4f69-8630-4ffe5ca11c51"
      },
      "execution_count": 48,
      "outputs": [
        {
          "output_type": "execute_result",
          "data": {
            "text/plain": [
              "Index(['LIMIT_BAL', 'AGE', 'BILL_AMT1', 'BILL_AMT2', 'BILL_AMT3', 'BILL_AMT4',\n",
              "       'BILL_AMT5', 'BILL_AMT6', 'PAY_AMT1', 'PAY_AMT2', 'PAY_AMT3',\n",
              "       'PAY_AMT4', 'PAY_AMT5', 'PAY_AMT6', 'SEX_2', 'EDUCATION_2',\n",
              "       'EDUCATION_3', 'EDUCATION_4', 'MARRIAGE_2', 'MARRIAGE_3', 'PAY_0_-2',\n",
              "       'PAY_0_0', 'PAY_0_1', 'PAY_0_2', 'PAY_0_3', 'PAY_0_4', 'PAY_0_5',\n",
              "       'PAY_0_6', 'PAY_0_7', 'PAY_0_8', 'PAY_2_-2', 'PAY_2_0', 'PAY_2_1',\n",
              "       'PAY_2_2', 'PAY_2_3', 'PAY_2_4', 'PAY_2_5', 'PAY_2_6', 'PAY_2_7',\n",
              "       'PAY_2_8', 'PAY_3_-2', 'PAY_3_0', 'PAY_3_1', 'PAY_3_2', 'PAY_3_3',\n",
              "       'PAY_3_4', 'PAY_3_5', 'PAY_3_6', 'PAY_3_7', 'PAY_3_8', 'PAY_4_-2',\n",
              "       'PAY_4_0', 'PAY_4_1', 'PAY_4_2', 'PAY_4_3', 'PAY_4_4', 'PAY_4_5',\n",
              "       'PAY_4_6', 'PAY_4_7', 'PAY_4_8', 'PAY_5_-2', 'PAY_5_0', 'PAY_5_2',\n",
              "       'PAY_5_3', 'PAY_5_4', 'PAY_5_5', 'PAY_5_6', 'PAY_5_7', 'PAY_5_8',\n",
              "       'PAY_6_-2', 'PAY_6_0', 'PAY_6_2', 'PAY_6_3', 'PAY_6_4', 'PAY_6_5',\n",
              "       'PAY_6_6', 'PAY_6_7', 'PAY_6_8'],\n",
              "      dtype='object')"
            ]
          },
          "metadata": {},
          "execution_count": 48
        }
      ]
    },
    {
      "cell_type": "code",
      "source": [
        "#Modelo logistico simple\n",
        "from sklearn.linear_model import LogisticRegression\n",
        "logreg = LogisticRegression(C=1e9,solver='liblinear',multi_class='auto')\n",
        "logreg.fit(X, y)\n",
        "df_dedupped['Churn_pred'] = logreg.predict(X)\n",
        "df_dedupped.head()"
      ],
      "metadata": {
        "colab": {
          "base_uri": "https://localhost:8080/",
          "height": 490
        },
        "id": "v91PfGWCp1qV",
        "outputId": "f8a3c033-4b67-417b-ce07-c066966f41da"
      },
      "execution_count": 49,
      "outputs": [
        {
          "output_type": "stream",
          "name": "stderr",
          "text": [
            "/usr/local/lib/python3.7/dist-packages/sklearn/utils/validation.py:993: DataConversionWarning: A column-vector y was passed when a 1d array was expected. Please change the shape of y to (n_samples, ), for example using ravel().\n",
            "  y = column_or_1d(y, warn=True)\n",
            "/usr/local/lib/python3.7/dist-packages/ipykernel_launcher.py:5: SettingWithCopyWarning: \n",
            "A value is trying to be set on a copy of a slice from a DataFrame.\n",
            "Try using .loc[row_indexer,col_indexer] = value instead\n",
            "\n",
            "See the caveats in the documentation: https://pandas.pydata.org/pandas-docs/stable/user_guide/indexing.html#returning-a-view-versus-a-copy\n",
            "  \"\"\"\n"
          ]
        },
        {
          "output_type": "execute_result",
          "data": {
            "text/plain": [
              "   LIMIT_BAL SEX EDUCATION MARRIAGE  AGE PAY_0 PAY_2 PAY_3 PAY_4 PAY_5  ...  \\\n",
              "0      20000   2         2        1   24     2     2    -1    -1    -2  ...   \n",
              "1     120000   2         2        2   26    -1     2     0     0     0  ...   \n",
              "2      90000   2         2        2   34     0     0     0     0     0  ...   \n",
              "3      50000   2         2        1   37     0     0     0     0     0  ...   \n",
              "4      50000   1         2        1   57    -1     0    -1     0     0  ...   \n",
              "\n",
              "  BILL_AMT5  BILL_AMT6  PAY_AMT1  PAY_AMT2  PAY_AMT3  PAY_AMT4  PAY_AMT5  \\\n",
              "0         0          0         0       689         0         0         0   \n",
              "1      3455       3261         0      1000      1000      1000         0   \n",
              "2     14948      15549      1518      1500      1000      1000      1000   \n",
              "3     28959      29547      2000      2019      1200      1100      1069   \n",
              "4     19146      19131      2000     36681     10000      9000       689   \n",
              "\n",
              "   PAY_AMT6  default payment next month  Churn_pred  \n",
              "0         0                           1           1  \n",
              "1      2000                           1           0  \n",
              "2      5000                           0           0  \n",
              "3      1000                           0           0  \n",
              "4       679                           0           0  \n",
              "\n",
              "[5 rows x 25 columns]"
            ],
            "text/html": [
              "\n",
              "  <div id=\"df-2d5cd324-4037-4033-995c-fd3d1c9a5a60\">\n",
              "    <div class=\"colab-df-container\">\n",
              "      <div>\n",
              "<style scoped>\n",
              "    .dataframe tbody tr th:only-of-type {\n",
              "        vertical-align: middle;\n",
              "    }\n",
              "\n",
              "    .dataframe tbody tr th {\n",
              "        vertical-align: top;\n",
              "    }\n",
              "\n",
              "    .dataframe thead th {\n",
              "        text-align: right;\n",
              "    }\n",
              "</style>\n",
              "<table border=\"1\" class=\"dataframe\">\n",
              "  <thead>\n",
              "    <tr style=\"text-align: right;\">\n",
              "      <th></th>\n",
              "      <th>LIMIT_BAL</th>\n",
              "      <th>SEX</th>\n",
              "      <th>EDUCATION</th>\n",
              "      <th>MARRIAGE</th>\n",
              "      <th>AGE</th>\n",
              "      <th>PAY_0</th>\n",
              "      <th>PAY_2</th>\n",
              "      <th>PAY_3</th>\n",
              "      <th>PAY_4</th>\n",
              "      <th>PAY_5</th>\n",
              "      <th>...</th>\n",
              "      <th>BILL_AMT5</th>\n",
              "      <th>BILL_AMT6</th>\n",
              "      <th>PAY_AMT1</th>\n",
              "      <th>PAY_AMT2</th>\n",
              "      <th>PAY_AMT3</th>\n",
              "      <th>PAY_AMT4</th>\n",
              "      <th>PAY_AMT5</th>\n",
              "      <th>PAY_AMT6</th>\n",
              "      <th>default payment next month</th>\n",
              "      <th>Churn_pred</th>\n",
              "    </tr>\n",
              "  </thead>\n",
              "  <tbody>\n",
              "    <tr>\n",
              "      <th>0</th>\n",
              "      <td>20000</td>\n",
              "      <td>2</td>\n",
              "      <td>2</td>\n",
              "      <td>1</td>\n",
              "      <td>24</td>\n",
              "      <td>2</td>\n",
              "      <td>2</td>\n",
              "      <td>-1</td>\n",
              "      <td>-1</td>\n",
              "      <td>-2</td>\n",
              "      <td>...</td>\n",
              "      <td>0</td>\n",
              "      <td>0</td>\n",
              "      <td>0</td>\n",
              "      <td>689</td>\n",
              "      <td>0</td>\n",
              "      <td>0</td>\n",
              "      <td>0</td>\n",
              "      <td>0</td>\n",
              "      <td>1</td>\n",
              "      <td>1</td>\n",
              "    </tr>\n",
              "    <tr>\n",
              "      <th>1</th>\n",
              "      <td>120000</td>\n",
              "      <td>2</td>\n",
              "      <td>2</td>\n",
              "      <td>2</td>\n",
              "      <td>26</td>\n",
              "      <td>-1</td>\n",
              "      <td>2</td>\n",
              "      <td>0</td>\n",
              "      <td>0</td>\n",
              "      <td>0</td>\n",
              "      <td>...</td>\n",
              "      <td>3455</td>\n",
              "      <td>3261</td>\n",
              "      <td>0</td>\n",
              "      <td>1000</td>\n",
              "      <td>1000</td>\n",
              "      <td>1000</td>\n",
              "      <td>0</td>\n",
              "      <td>2000</td>\n",
              "      <td>1</td>\n",
              "      <td>0</td>\n",
              "    </tr>\n",
              "    <tr>\n",
              "      <th>2</th>\n",
              "      <td>90000</td>\n",
              "      <td>2</td>\n",
              "      <td>2</td>\n",
              "      <td>2</td>\n",
              "      <td>34</td>\n",
              "      <td>0</td>\n",
              "      <td>0</td>\n",
              "      <td>0</td>\n",
              "      <td>0</td>\n",
              "      <td>0</td>\n",
              "      <td>...</td>\n",
              "      <td>14948</td>\n",
              "      <td>15549</td>\n",
              "      <td>1518</td>\n",
              "      <td>1500</td>\n",
              "      <td>1000</td>\n",
              "      <td>1000</td>\n",
              "      <td>1000</td>\n",
              "      <td>5000</td>\n",
              "      <td>0</td>\n",
              "      <td>0</td>\n",
              "    </tr>\n",
              "    <tr>\n",
              "      <th>3</th>\n",
              "      <td>50000</td>\n",
              "      <td>2</td>\n",
              "      <td>2</td>\n",
              "      <td>1</td>\n",
              "      <td>37</td>\n",
              "      <td>0</td>\n",
              "      <td>0</td>\n",
              "      <td>0</td>\n",
              "      <td>0</td>\n",
              "      <td>0</td>\n",
              "      <td>...</td>\n",
              "      <td>28959</td>\n",
              "      <td>29547</td>\n",
              "      <td>2000</td>\n",
              "      <td>2019</td>\n",
              "      <td>1200</td>\n",
              "      <td>1100</td>\n",
              "      <td>1069</td>\n",
              "      <td>1000</td>\n",
              "      <td>0</td>\n",
              "      <td>0</td>\n",
              "    </tr>\n",
              "    <tr>\n",
              "      <th>4</th>\n",
              "      <td>50000</td>\n",
              "      <td>1</td>\n",
              "      <td>2</td>\n",
              "      <td>1</td>\n",
              "      <td>57</td>\n",
              "      <td>-1</td>\n",
              "      <td>0</td>\n",
              "      <td>-1</td>\n",
              "      <td>0</td>\n",
              "      <td>0</td>\n",
              "      <td>...</td>\n",
              "      <td>19146</td>\n",
              "      <td>19131</td>\n",
              "      <td>2000</td>\n",
              "      <td>36681</td>\n",
              "      <td>10000</td>\n",
              "      <td>9000</td>\n",
              "      <td>689</td>\n",
              "      <td>679</td>\n",
              "      <td>0</td>\n",
              "      <td>0</td>\n",
              "    </tr>\n",
              "  </tbody>\n",
              "</table>\n",
              "<p>5 rows × 25 columns</p>\n",
              "</div>\n",
              "      <button class=\"colab-df-convert\" onclick=\"convertToInteractive('df-2d5cd324-4037-4033-995c-fd3d1c9a5a60')\"\n",
              "              title=\"Convert this dataframe to an interactive table.\"\n",
              "              style=\"display:none;\">\n",
              "        \n",
              "  <svg xmlns=\"http://www.w3.org/2000/svg\" height=\"24px\"viewBox=\"0 0 24 24\"\n",
              "       width=\"24px\">\n",
              "    <path d=\"M0 0h24v24H0V0z\" fill=\"none\"/>\n",
              "    <path d=\"M18.56 5.44l.94 2.06.94-2.06 2.06-.94-2.06-.94-.94-2.06-.94 2.06-2.06.94zm-11 1L8.5 8.5l.94-2.06 2.06-.94-2.06-.94L8.5 2.5l-.94 2.06-2.06.94zm10 10l.94 2.06.94-2.06 2.06-.94-2.06-.94-.94-2.06-.94 2.06-2.06.94z\"/><path d=\"M17.41 7.96l-1.37-1.37c-.4-.4-.92-.59-1.43-.59-.52 0-1.04.2-1.43.59L10.3 9.45l-7.72 7.72c-.78.78-.78 2.05 0 2.83L4 21.41c.39.39.9.59 1.41.59.51 0 1.02-.2 1.41-.59l7.78-7.78 2.81-2.81c.8-.78.8-2.07 0-2.86zM5.41 20L4 18.59l7.72-7.72 1.47 1.35L5.41 20z\"/>\n",
              "  </svg>\n",
              "      </button>\n",
              "      \n",
              "  <style>\n",
              "    .colab-df-container {\n",
              "      display:flex;\n",
              "      flex-wrap:wrap;\n",
              "      gap: 12px;\n",
              "    }\n",
              "\n",
              "    .colab-df-convert {\n",
              "      background-color: #E8F0FE;\n",
              "      border: none;\n",
              "      border-radius: 50%;\n",
              "      cursor: pointer;\n",
              "      display: none;\n",
              "      fill: #1967D2;\n",
              "      height: 32px;\n",
              "      padding: 0 0 0 0;\n",
              "      width: 32px;\n",
              "    }\n",
              "\n",
              "    .colab-df-convert:hover {\n",
              "      background-color: #E2EBFA;\n",
              "      box-shadow: 0px 1px 2px rgba(60, 64, 67, 0.3), 0px 1px 3px 1px rgba(60, 64, 67, 0.15);\n",
              "      fill: #174EA6;\n",
              "    }\n",
              "\n",
              "    [theme=dark] .colab-df-convert {\n",
              "      background-color: #3B4455;\n",
              "      fill: #D2E3FC;\n",
              "    }\n",
              "\n",
              "    [theme=dark] .colab-df-convert:hover {\n",
              "      background-color: #434B5C;\n",
              "      box-shadow: 0px 1px 3px 1px rgba(0, 0, 0, 0.15);\n",
              "      filter: drop-shadow(0px 1px 2px rgba(0, 0, 0, 0.3));\n",
              "      fill: #FFFFFF;\n",
              "    }\n",
              "  </style>\n",
              "\n",
              "      <script>\n",
              "        const buttonEl =\n",
              "          document.querySelector('#df-2d5cd324-4037-4033-995c-fd3d1c9a5a60 button.colab-df-convert');\n",
              "        buttonEl.style.display =\n",
              "          google.colab.kernel.accessAllowed ? 'block' : 'none';\n",
              "\n",
              "        async function convertToInteractive(key) {\n",
              "          const element = document.querySelector('#df-2d5cd324-4037-4033-995c-fd3d1c9a5a60');\n",
              "          const dataTable =\n",
              "            await google.colab.kernel.invokeFunction('convertToInteractive',\n",
              "                                                     [key], {});\n",
              "          if (!dataTable) return;\n",
              "\n",
              "          const docLinkHtml = 'Like what you see? Visit the ' +\n",
              "            '<a target=\"_blank\" href=https://colab.research.google.com/notebooks/data_table.ipynb>data table notebook</a>'\n",
              "            + ' to learn more about interactive tables.';\n",
              "          element.innerHTML = '';\n",
              "          dataTable['output_type'] = 'display_data';\n",
              "          await google.colab.output.renderOutput(dataTable, element);\n",
              "          const docLink = document.createElement('div');\n",
              "          docLink.innerHTML = docLinkHtml;\n",
              "          element.appendChild(docLink);\n",
              "        }\n",
              "      </script>\n",
              "    </div>\n",
              "  </div>\n",
              "  "
            ]
          },
          "metadata": {},
          "execution_count": 49
        }
      ]
    },
    {
      "cell_type": "code",
      "source": [
        "pred = pd.DataFrame(logreg.predict(X))"
      ],
      "metadata": {
        "id": "kjyrrFAzD02W"
      },
      "execution_count": 57,
      "outputs": []
    },
    {
      "cell_type": "code",
      "source": [
        "#Predicciones\n",
        "print(sum(pred[0] == \"0\"))\n",
        "print(sum(pred[0] == \"1\"))"
      ],
      "metadata": {
        "colab": {
          "base_uri": "https://localhost:8080/"
        },
        "id": "cU2jyyMSDrHf",
        "outputId": "ba52c8b5-14c7-40a0-f250-a1e0768b39a8"
      },
      "execution_count": 58,
      "outputs": [
        {
          "output_type": "stream",
          "name": "stdout",
          "text": [
            "25508\n",
            "3470\n"
          ]
        }
      ]
    },
    {
      "cell_type": "code",
      "source": [
        "# examine the coefficients\n",
        "print(logreg.coef_)"
      ],
      "metadata": {
        "colab": {
          "base_uri": "https://localhost:8080/"
        },
        "id": "yp5tk9JxoW3k",
        "outputId": "8a430ae1-c2e4-4bd1-e1bb-0cf883cad35a"
      },
      "execution_count": 50,
      "outputs": [
        {
          "output_type": "stream",
          "name": "stdout",
          "text": [
            "[[-2.53069310e-01  2.73373715e-02 -1.17742320e-01  1.65483173e-01\n",
            "   1.65124259e-01  6.93373941e-03  1.01053334e-02 -5.85767175e-02\n",
            "  -2.01143500e-01 -2.29895736e-01 -1.79987672e-02 -2.24152664e-02\n",
            "  -4.04650973e-02 -5.03542183e-02 -1.53348651e-01  2.83032025e-02\n",
            "  -1.28660030e-02 -1.00267321e+00 -1.51010597e-01  9.01979619e-02\n",
            "  -5.23188900e-01 -7.37777669e-01  3.49227320e-01  1.55867148e+00\n",
            "   1.60136199e+00  1.26116411e+00  1.07970082e+00 -9.84901635e-02\n",
            "   1.12446443e+00 -4.89324230e+00  2.04019842e-01  1.94867836e-01\n",
            "  -5.21594672e-01  1.79914860e-01  1.78756491e-01 -6.05740828e-01\n",
            "   1.18816653e+00  9.86366163e-01  1.14263546e+00 -1.34060628e+00\n",
            "  -5.59099348e-02  4.34592577e-02 -3.98120014e+00  3.66496083e-01\n",
            "   4.48754362e-01 -7.43009099e-02 -5.37305072e-01  6.01843102e+00\n",
            "   3.08943667e-01 -1.52920512e+00  1.71430586e-01  3.10587017e-02\n",
            "   6.04096949e+00  3.06621351e-01  9.36975390e-02  3.92086937e-01\n",
            "  -1.47956579e+00 -1.10970171e+01 -5.54540001e+00 -1.18469579e+01\n",
            "   1.00154447e-01  9.66093266e-02  3.79726832e-01  1.92634700e-01\n",
            "  -1.36739353e-01  1.27575610e+00  7.07505793e+00  6.74503726e+00\n",
            "   6.05825929e+00  1.13181787e-01 -1.76419622e-01  2.10413043e-01\n",
            "   8.08373514e-01  1.97329416e-01 -1.90386782e-01  8.14065102e-01\n",
            "  -4.08032242e-01  1.17569446e+01]]\n"
          ]
        }
      ]
    },
    {
      "cell_type": "code",
      "source": [
        "# generate predicted probabilities\n",
        "y_pred_prob = logreg.predict_proba(X)\n",
        "print(y_pred_prob)"
      ],
      "metadata": {
        "colab": {
          "base_uri": "https://localhost:8080/"
        },
        "id": "7cHXUrodPVwn",
        "outputId": "29d9e50f-9b56-4b6b-ad29-35f0bcdf1e90"
      },
      "execution_count": 51,
      "outputs": [
        {
          "output_type": "stream",
          "name": "stdout",
          "text": [
            "[[0.33544274 0.66455726]\n",
            " [0.74208569 0.25791431]\n",
            " [0.89248381 0.10751619]\n",
            " ...\n",
            " [0.8369478  0.1630522 ]\n",
            " [0.3924943  0.6075057 ]\n",
            " [0.82561621 0.17438379]]\n"
          ]
        }
      ]
    },
    {
      "cell_type": "code",
      "source": [
        "# calculate log loss\n",
        "from sklearn import metrics\n",
        "print(metrics.log_loss(y, y_pred_prob))"
      ],
      "metadata": {
        "colab": {
          "base_uri": "https://localhost:8080/"
        },
        "id": "Y4mANE4lPgB3",
        "outputId": "d5fb2ba0-fedb-432d-8186-3058d877358e"
      },
      "execution_count": 52,
      "outputs": [
        {
          "output_type": "stream",
          "name": "stdout",
          "text": [
            "0.4347868424237667\n"
          ]
        }
      ]
    },
    {
      "cell_type": "code",
      "source": [
        "y_pred = logreg.predict(X)"
      ],
      "metadata": {
        "id": "f-952aLIkLu3"
      },
      "execution_count": 53,
      "outputs": []
    },
    {
      "cell_type": "code",
      "source": [
        "print(metrics.precision_score(y, y_pred, pos_label='1'))"
      ],
      "metadata": {
        "colab": {
          "base_uri": "https://localhost:8080/"
        },
        "id": "cnRdBIuqkeHH",
        "outputId": "d7d567df-0169-41da-eb8f-56e2ce7c8674"
      },
      "execution_count": 54,
      "outputs": [
        {
          "output_type": "stream",
          "name": "stdout",
          "text": [
            "0.6855907780979827\n"
          ]
        }
      ]
    },
    {
      "cell_type": "markdown",
      "source": [
        "**La regresión de Lasso** (o \"regularización L1\")\n",
        "\n",
        "**La regresión de Ridge** (o \"regularización L2\")\n",
        "\n",
        "- **La regresión de Lasso** encoge los coeficientes hasta cero, eliminándolos así del modelo\n",
        "\n",
        "- **La regresión de Ridge** encoge los coeficientes hacia cero, pero rara vez llegan a cero"
      ],
      "metadata": {
        "id": "oFMQrK5-QTlQ"
      }
    },
    {
      "cell_type": "markdown",
      "source": [
        "Se eligió un modelo logistico realizando algoritmos de regularización debido a la cantidad tan grande de parámetros."
      ],
      "metadata": {
        "id": "ymwwZjbRVBBc"
      }
    },
    {
      "cell_type": "markdown",
      "source": [
        "Con el valor de C = 0.1"
      ],
      "metadata": {
        "id": "MAJrH1PQRPsE"
      }
    },
    {
      "cell_type": "code",
      "source": [
        "# try C = 0.1 with L1 penalty\n",
        "logreg = LogisticRegression(C=0.1, penalty='l1',solver='liblinear',multi_class='auto')\n",
        "logreg.fit(X, y)"
      ],
      "metadata": {
        "colab": {
          "base_uri": "https://localhost:8080/"
        },
        "id": "QAfgzm25QS3N",
        "outputId": "8be6c217-8b53-4c10-8bf7-a5b3ce99efb3"
      },
      "execution_count": 55,
      "outputs": [
        {
          "output_type": "stream",
          "name": "stderr",
          "text": [
            "/usr/local/lib/python3.7/dist-packages/sklearn/utils/validation.py:993: DataConversionWarning: A column-vector y was passed when a 1d array was expected. Please change the shape of y to (n_samples, ), for example using ravel().\n",
            "  y = column_or_1d(y, warn=True)\n"
          ]
        },
        {
          "output_type": "execute_result",
          "data": {
            "text/plain": [
              "LogisticRegression(C=0.1, penalty='l1', solver='liblinear')"
            ]
          },
          "metadata": {},
          "execution_count": 55
        }
      ]
    },
    {
      "cell_type": "code",
      "source": [
        "# generate predicted probabilities and calculate log loss\n",
        "y_pred_prob = logreg.predict_proba(X)\n",
        "a1 = print(metrics.log_loss(y, y_pred_prob)); a1"
      ],
      "metadata": {
        "colab": {
          "base_uri": "https://localhost:8080/"
        },
        "id": "67I6TqVTQpAN",
        "outputId": "a47901d3-3a97-472b-f38d-9d6645a2fab0"
      },
      "execution_count": 56,
      "outputs": [
        {
          "output_type": "stream",
          "name": "stdout",
          "text": [
            "0.43644342207438147\n"
          ]
        }
      ]
    },
    {
      "cell_type": "code",
      "source": [
        "#Precisión\n",
        "y_pred = logreg.predict(X)\n",
        "b1 = print(metrics.precision_score(y, y_pred, pos_label='1')); b1"
      ],
      "metadata": {
        "colab": {
          "base_uri": "https://localhost:8080/"
        },
        "id": "k7Lg0E8uTT44",
        "outputId": "6e6f8f4a-a39a-45b4-c1a1-66568e985955"
      },
      "execution_count": 57,
      "outputs": [
        {
          "output_type": "stream",
          "name": "stdout",
          "text": [
            "0.684070796460177\n"
          ]
        }
      ]
    },
    {
      "cell_type": "code",
      "source": [
        "# try C = 0.1 with L2 penalty\n",
        "logreg = LogisticRegression(C = 0.1, penalty='l2',multi_class='auto',solver='liblinear')\n",
        "logreg.fit(X, y)"
      ],
      "metadata": {
        "colab": {
          "base_uri": "https://localhost:8080/"
        },
        "id": "Ty9N6DujQ1PU",
        "outputId": "e941f70a-43f0-4891-9391-f8debfb558d9"
      },
      "execution_count": 58,
      "outputs": [
        {
          "output_type": "stream",
          "name": "stderr",
          "text": [
            "/usr/local/lib/python3.7/dist-packages/sklearn/utils/validation.py:993: DataConversionWarning: A column-vector y was passed when a 1d array was expected. Please change the shape of y to (n_samples, ), for example using ravel().\n",
            "  y = column_or_1d(y, warn=True)\n"
          ]
        },
        {
          "output_type": "execute_result",
          "data": {
            "text/plain": [
              "LogisticRegression(C=0.1, solver='liblinear')"
            ]
          },
          "metadata": {},
          "execution_count": 58
        }
      ]
    },
    {
      "cell_type": "code",
      "source": [
        "# generate predicted probabilities and calculate log loss\n",
        "y_pred_prob = logreg.predict_proba(X)\n",
        "a2 = print(metrics.log_loss(y, y_pred_prob)); a2"
      ],
      "metadata": {
        "colab": {
          "base_uri": "https://localhost:8080/"
        },
        "id": "TzridTUyQ-IF",
        "outputId": "4b9b620e-0efd-4421-a8f0-114045dd53dd"
      },
      "execution_count": 59,
      "outputs": [
        {
          "output_type": "stream",
          "name": "stdout",
          "text": [
            "0.4355976885933369\n"
          ]
        }
      ]
    },
    {
      "cell_type": "code",
      "source": [
        "#Precisión\n",
        "y_pred = logreg.predict(X)\n",
        "b2 = print(metrics.precision_score(y, y_pred, pos_label='1')); b2"
      ],
      "metadata": {
        "colab": {
          "base_uri": "https://localhost:8080/"
        },
        "id": "rpwyC91vTsy3",
        "outputId": "4469aa0f-443a-4809-998b-90507ef1093e"
      },
      "execution_count": 60,
      "outputs": [
        {
          "output_type": "stream",
          "name": "stdout",
          "text": [
            "0.6846086703520512\n"
          ]
        }
      ]
    },
    {
      "cell_type": "markdown",
      "source": [
        "Cambiando el valor de C: 9"
      ],
      "metadata": {
        "id": "-66QQbYeRMWs"
      }
    },
    {
      "cell_type": "code",
      "source": [
        "# try C = 9 with L1 penalty\n",
        "logreg = LogisticRegression(C = 9 , penalty='l1',solver='liblinear',multi_class='auto')\n",
        "logreg.fit(X, y)"
      ],
      "metadata": {
        "colab": {
          "base_uri": "https://localhost:8080/"
        },
        "id": "JiXvVaR7RL-M",
        "outputId": "e923fabd-47f0-498b-9e73-c9350743d7ac"
      },
      "execution_count": 61,
      "outputs": [
        {
          "output_type": "stream",
          "name": "stderr",
          "text": [
            "/usr/local/lib/python3.7/dist-packages/sklearn/utils/validation.py:993: DataConversionWarning: A column-vector y was passed when a 1d array was expected. Please change the shape of y to (n_samples, ), for example using ravel().\n",
            "  y = column_or_1d(y, warn=True)\n"
          ]
        },
        {
          "output_type": "execute_result",
          "data": {
            "text/plain": [
              "LogisticRegression(C=9, penalty='l1', solver='liblinear')"
            ]
          },
          "metadata": {},
          "execution_count": 61
        }
      ]
    },
    {
      "cell_type": "code",
      "source": [
        "# generate predicted probabilities and calculate log loss\n",
        "y_pred_prob = logreg.predict_proba(X)\n",
        "a3 = print(metrics.log_loss(y, y_pred_prob)); a3"
      ],
      "metadata": {
        "colab": {
          "base_uri": "https://localhost:8080/"
        },
        "id": "Rjq7r_d0RlSL",
        "outputId": "c7f1eba4-85b7-4fde-e770-dd97b26a4d33"
      },
      "execution_count": 62,
      "outputs": [
        {
          "output_type": "stream",
          "name": "stdout",
          "text": [
            "0.4348576633811922\n"
          ]
        }
      ]
    },
    {
      "cell_type": "code",
      "source": [
        "#Precisión\n",
        "y_pred = logreg.predict(X)\n",
        "b3 = print(metrics.precision_score(y, y_pred, pos_label='1')); b3"
      ],
      "metadata": {
        "colab": {
          "base_uri": "https://localhost:8080/"
        },
        "id": "eAtJh-RdTxzH",
        "outputId": "beb04c38-305c-4d1b-a01b-18a0f1ea8f60"
      },
      "execution_count": 63,
      "outputs": [
        {
          "output_type": "stream",
          "name": "stdout",
          "text": [
            "0.6855001441337562\n"
          ]
        }
      ]
    },
    {
      "cell_type": "code",
      "source": [
        "# try C = 9 with L2 penalty\n",
        "logreg = LogisticRegression(C = 9, penalty='l2',multi_class='auto',solver='liblinear')\n",
        "logreg.fit(X, y)"
      ],
      "metadata": {
        "colab": {
          "base_uri": "https://localhost:8080/"
        },
        "id": "t0tQoa69SUKa",
        "outputId": "e32db55a-372c-436e-f908-c01a5ece2f0d"
      },
      "execution_count": 64,
      "outputs": [
        {
          "output_type": "stream",
          "name": "stderr",
          "text": [
            "/usr/local/lib/python3.7/dist-packages/sklearn/utils/validation.py:993: DataConversionWarning: A column-vector y was passed when a 1d array was expected. Please change the shape of y to (n_samples, ), for example using ravel().\n",
            "  y = column_or_1d(y, warn=True)\n"
          ]
        },
        {
          "output_type": "execute_result",
          "data": {
            "text/plain": [
              "LogisticRegression(C=9, solver='liblinear')"
            ]
          },
          "metadata": {},
          "execution_count": 64
        }
      ]
    },
    {
      "cell_type": "code",
      "source": [
        "# generate predicted probabilities and calculate log loss\n",
        "y_pred_prob = logreg.predict_proba(X)\n",
        "a4 = print(metrics.log_loss(y, y_pred_prob)); a4"
      ],
      "metadata": {
        "colab": {
          "base_uri": "https://localhost:8080/"
        },
        "id": "19bj6y1UUHV-",
        "outputId": "a8fcc02b-6aa1-4ff9-eca0-ebb02cfa31fa"
      },
      "execution_count": 65,
      "outputs": [
        {
          "output_type": "stream",
          "name": "stdout",
          "text": [
            "0.4349304779534566\n"
          ]
        }
      ]
    },
    {
      "cell_type": "code",
      "source": [
        "#Precisión\n",
        "y_pred = logreg.predict(X)\n",
        "b4 = print(metrics.precision_score(y, y_pred, pos_label='1')); b4"
      ],
      "metadata": {
        "colab": {
          "base_uri": "https://localhost:8080/"
        },
        "id": "EuOj28AYULsV",
        "outputId": "54f570a9-22b3-427d-9e84-a1abdd955c00"
      },
      "execution_count": 66,
      "outputs": [
        {
          "output_type": "stream",
          "name": "stdout",
          "text": [
            "0.6862745098039216\n"
          ]
        }
      ]
    },
    {
      "cell_type": "markdown",
      "source": [
        "Cambiando el valor a C: 1"
      ],
      "metadata": {
        "id": "T0Ev4DoXUT45"
      }
    },
    {
      "cell_type": "code",
      "source": [
        "# try C = 1 with L1 penalty\n",
        "logreg = LogisticRegression(C = 1 , penalty='l1',solver='liblinear',multi_class='auto')\n",
        "logreg.fit(X, y)"
      ],
      "metadata": {
        "colab": {
          "base_uri": "https://localhost:8080/"
        },
        "id": "aZ0ZmdnSUVpm",
        "outputId": "4fd96f71-229d-41e9-ee49-b6d0a312dda4"
      },
      "execution_count": 67,
      "outputs": [
        {
          "output_type": "stream",
          "name": "stderr",
          "text": [
            "/usr/local/lib/python3.7/dist-packages/sklearn/utils/validation.py:993: DataConversionWarning: A column-vector y was passed when a 1d array was expected. Please change the shape of y to (n_samples, ), for example using ravel().\n",
            "  y = column_or_1d(y, warn=True)\n"
          ]
        },
        {
          "output_type": "execute_result",
          "data": {
            "text/plain": [
              "LogisticRegression(C=1, penalty='l1', solver='liblinear')"
            ]
          },
          "metadata": {},
          "execution_count": 67
        }
      ]
    },
    {
      "cell_type": "code",
      "source": [
        "# generate predicted probabilities and calculate log loss\n",
        "y_pred_prob = logreg.predict_proba(X)\n",
        "a5 = print(metrics.log_loss(y, y_pred_prob)); a5"
      ],
      "metadata": {
        "colab": {
          "base_uri": "https://localhost:8080/"
        },
        "id": "fZbKBN5GUiQl",
        "outputId": "4d28708c-2e7a-4dc5-add4-7d1f5dae8ffc"
      },
      "execution_count": 68,
      "outputs": [
        {
          "output_type": "stream",
          "name": "stdout",
          "text": [
            "0.4352279695584449\n"
          ]
        }
      ]
    },
    {
      "cell_type": "code",
      "source": [
        "y_pred = logreg.predict(X)\n",
        "b5 = print(metrics.precision_score(y, y_pred, pos_label='1')); b5"
      ],
      "metadata": {
        "colab": {
          "base_uri": "https://localhost:8080/"
        },
        "id": "YqTyB2frUm4M",
        "outputId": "8b48bb64-a507-4224-a9b4-732888916f11"
      },
      "execution_count": 69,
      "outputs": [
        {
          "output_type": "stream",
          "name": "stdout",
          "text": [
            "0.6845909222318589\n"
          ]
        }
      ]
    },
    {
      "cell_type": "code",
      "source": [
        "# try C = 1 with L2 penalty\n",
        "logreg = LogisticRegression(C = 1, penalty='l2',multi_class='auto',solver='liblinear')\n",
        "logreg.fit(X, y)"
      ],
      "metadata": {
        "colab": {
          "base_uri": "https://localhost:8080/"
        },
        "id": "hNrKaeaXUrV0",
        "outputId": "9f59fce3-27d9-4a6f-df03-bc850b57ead1"
      },
      "execution_count": 70,
      "outputs": [
        {
          "output_type": "stream",
          "name": "stderr",
          "text": [
            "/usr/local/lib/python3.7/dist-packages/sklearn/utils/validation.py:993: DataConversionWarning: A column-vector y was passed when a 1d array was expected. Please change the shape of y to (n_samples, ), for example using ravel().\n",
            "  y = column_or_1d(y, warn=True)\n"
          ]
        },
        {
          "output_type": "execute_result",
          "data": {
            "text/plain": [
              "LogisticRegression(C=1, solver='liblinear')"
            ]
          },
          "metadata": {},
          "execution_count": 70
        }
      ]
    },
    {
      "cell_type": "code",
      "source": [
        "# generate predicted probabilities and calculate log loss\n",
        "y_pred_prob = logreg.predict_proba(X)\n",
        "a6 = print(metrics.log_loss(y, y_pred_prob)); a6"
      ],
      "metadata": {
        "colab": {
          "base_uri": "https://localhost:8080/"
        },
        "id": "-bQsrfKDUyYV",
        "outputId": "26654b6f-8932-42f7-9eba-e6e5fb2b05ff"
      },
      "execution_count": 71,
      "outputs": [
        {
          "output_type": "stream",
          "name": "stdout",
          "text": [
            "0.4351057832268704\n"
          ]
        }
      ]
    },
    {
      "cell_type": "code",
      "source": [
        "y_pred = logreg.predict(X)\n",
        "b6 = print(metrics.precision_score(y, y_pred, pos_label='1')); b6"
      ],
      "metadata": {
        "colab": {
          "base_uri": "https://localhost:8080/"
        },
        "id": "ZbpzBsrgUw2E",
        "outputId": "653dc361-21cc-48ec-b9cf-c0fc37559ed1"
      },
      "execution_count": 72,
      "outputs": [
        {
          "output_type": "stream",
          "name": "stdout",
          "text": [
            "0.6844688221709007\n"
          ]
        }
      ]
    },
    {
      "cell_type": "markdown",
      "source": [
        "- Aplique el algoritmo realizando un modelo utilizando una partición el dataset preprocesado (elija\n",
        "entre alguno de los tipos de validación cruzada vistas en clase), prediga los valores utilizando el\n",
        "conjunto de validación y evalúe con las métricas correspondientes al tipo de aprendizaje\n",
        "supervisado. Implemente un proceso iterativo para al menos dos hiperparámetros del algoritmo"
      ],
      "metadata": {
        "id": "32NsVGVTWOwV"
      }
    },
    {
      "cell_type": "markdown",
      "source": [
        "Partir datos de entrenamiento y testeo"
      ],
      "metadata": {
        "id": "2KFZ4lv3Yace"
      }
    },
    {
      "cell_type": "markdown",
      "source": [
        "Se recortará primero la base de datos el 90% entrenamiento y 10% validación. Es decir habrán 26.080 de entrenamiento y 2.898 para validación."
      ],
      "metadata": {
        "id": "yWE0YLCMYmTe"
      }
    },
    {
      "cell_type": "code",
      "source": [
        "y = y.reset_index(drop = True)"
      ],
      "metadata": {
        "id": "4uSxMz9faO_k"
      },
      "execution_count": 183,
      "outputs": []
    },
    {
      "cell_type": "code",
      "source": [
        "y.columns"
      ],
      "metadata": {
        "colab": {
          "base_uri": "https://localhost:8080/"
        },
        "id": "X6_uhV9VMq1f",
        "outputId": "4ce5cc23-5cc2-4c53-a567-293b5f7157c2"
      },
      "execution_count": 184,
      "outputs": [
        {
          "output_type": "execute_result",
          "data": {
            "text/plain": [
              "Index(['default payment next month'], dtype='object')"
            ]
          },
          "metadata": {},
          "execution_count": 184
        }
      ]
    },
    {
      "cell_type": "markdown",
      "source": [
        "Entrenamiento y testeo 90/10"
      ],
      "metadata": {
        "id": "EVVRxLxfapkC"
      }
    },
    {
      "cell_type": "code",
      "source": [
        "from sklearn.model_selection import train_test_split\n",
        "X_train, X_test, y_train, y_test = train_test_split(X, y, test_size=0.10, random_state=1)\n",
        "print(X_train.shape, X_test.shape, y_train.shape, y_test.shape)"
      ],
      "metadata": {
        "colab": {
          "base_uri": "https://localhost:8080/"
        },
        "id": "I7Vlm_SXVYfj",
        "outputId": "a41d4a6e-9237-4918-d90d-3516336ac8cc"
      },
      "execution_count": 185,
      "outputs": [
        {
          "output_type": "stream",
          "name": "stdout",
          "text": [
            "(26080, 78) (2898, 78) (26080, 1) (2898, 1)\n"
          ]
        }
      ]
    },
    {
      "cell_type": "markdown",
      "source": [
        "Ridge"
      ],
      "metadata": {
        "id": "IplpUSRTa4bx"
      }
    },
    {
      "cell_type": "code",
      "source": [
        "c_range = 10.**np.arange(-2, 2); c_range"
      ],
      "metadata": {
        "id": "dDK1VAAabEoB",
        "colab": {
          "base_uri": "https://localhost:8080/"
        },
        "outputId": "af9ee521-6032-4db6-d11f-46650e0ecbe0"
      },
      "execution_count": 186,
      "outputs": [
        {
          "output_type": "execute_result",
          "data": {
            "text/plain": [
              "array([ 0.01,  0.1 ,  1.  , 10.  ])"
            ]
          },
          "metadata": {},
          "execution_count": 186
        }
      ]
    },
    {
      "cell_type": "code",
      "source": [
        "ridge_pred_loss_80=[]\n",
        "j=0\n",
        "for i in c_range:\n",
        "  logreg = LogisticRegression(C=i, penalty='l2',solver='liblinear',multi_class='auto')\n",
        "  logreg.fit(X_train, y_train)\n",
        "  y_pred=logreg.predict_proba(X_test)\n",
        "  ridge_pred_loss_80.append(metrics.log_loss(y_test, y_pred))\n",
        "  j=j+1\n",
        "\n",
        "ridge_pred_ex_80=[]\n",
        "j=0\n",
        "for i in c_range:\n",
        "  logreg = LogisticRegression(C=i, penalty='l2',solver='liblinear',multi_class='auto')\n",
        "  logreg.fit(X_train, y_train)\n",
        "  y_pred=logreg.predict(X_test)\n",
        "  ridge_pred_ex_80.append(metrics.precision_score(y_test, y_pred,pos_label='1'))\n",
        "  j=j+1\n",
        "\n",
        "print(ridge_pred_ex_80,ridge_pred_loss_80)"
      ],
      "metadata": {
        "colab": {
          "base_uri": "https://localhost:8080/"
        },
        "id": "oZiMcQMRa30j",
        "outputId": "ef1f0a87-b86e-4043-aefc-b7bc68865981"
      },
      "execution_count": 187,
      "outputs": [
        {
          "output_type": "stream",
          "name": "stderr",
          "text": [
            "/usr/local/lib/python3.7/dist-packages/sklearn/utils/validation.py:993: DataConversionWarning: A column-vector y was passed when a 1d array was expected. Please change the shape of y to (n_samples, ), for example using ravel().\n",
            "  y = column_or_1d(y, warn=True)\n",
            "/usr/local/lib/python3.7/dist-packages/sklearn/utils/validation.py:993: DataConversionWarning: A column-vector y was passed when a 1d array was expected. Please change the shape of y to (n_samples, ), for example using ravel().\n",
            "  y = column_or_1d(y, warn=True)\n",
            "/usr/local/lib/python3.7/dist-packages/sklearn/utils/validation.py:993: DataConversionWarning: A column-vector y was passed when a 1d array was expected. Please change the shape of y to (n_samples, ), for example using ravel().\n",
            "  y = column_or_1d(y, warn=True)\n",
            "/usr/local/lib/python3.7/dist-packages/sklearn/utils/validation.py:993: DataConversionWarning: A column-vector y was passed when a 1d array was expected. Please change the shape of y to (n_samples, ), for example using ravel().\n",
            "  y = column_or_1d(y, warn=True)\n",
            "/usr/local/lib/python3.7/dist-packages/sklearn/utils/validation.py:993: DataConversionWarning: A column-vector y was passed when a 1d array was expected. Please change the shape of y to (n_samples, ), for example using ravel().\n",
            "  y = column_or_1d(y, warn=True)\n",
            "/usr/local/lib/python3.7/dist-packages/sklearn/utils/validation.py:993: DataConversionWarning: A column-vector y was passed when a 1d array was expected. Please change the shape of y to (n_samples, ), for example using ravel().\n",
            "  y = column_or_1d(y, warn=True)\n",
            "/usr/local/lib/python3.7/dist-packages/sklearn/utils/validation.py:993: DataConversionWarning: A column-vector y was passed when a 1d array was expected. Please change the shape of y to (n_samples, ), for example using ravel().\n",
            "  y = column_or_1d(y, warn=True)\n",
            "/usr/local/lib/python3.7/dist-packages/sklearn/utils/validation.py:993: DataConversionWarning: A column-vector y was passed when a 1d array was expected. Please change the shape of y to (n_samples, ), for example using ravel().\n",
            "  y = column_or_1d(y, warn=True)\n"
          ]
        },
        {
          "output_type": "stream",
          "name": "stdout",
          "text": [
            "[0.6856287425149701, 0.6810810810810811, 0.6738544474393531, 0.6729222520107239] [0.4394841366580195, 0.43665719980605916, 0.4373989012180914, 0.43827865524645515]\n"
          ]
        }
      ]
    },
    {
      "cell_type": "markdown",
      "source": [
        "Lasso"
      ],
      "metadata": {
        "id": "rq8NZyiNdO0n"
      }
    },
    {
      "cell_type": "code",
      "source": [
        "lasso_pred_loss_80=[]\n",
        "j=0\n",
        "for i in c_range:\n",
        "  logreg = LogisticRegression(C=i, penalty='l1',solver='liblinear',multi_class='auto')\n",
        "  logreg.fit(X_train, y_train)\n",
        "  y_pred=logreg.predict_proba(X_test)\n",
        "  lasso_pred_loss_80.append(metrics.log_loss(y_test, y_pred))\n",
        "  j=j+1\n",
        "\n",
        "lasso_pred_ex_80=[]\n",
        "j=0\n",
        "for i in c_range:\n",
        "  logreg = LogisticRegression(C=i, penalty='l1',solver='liblinear',multi_class='auto')\n",
        "  logreg.fit(X_train, y_train)\n",
        "  y_pred=logreg.predict(X_test)\n",
        "  lasso_pred_ex_80.append(metrics.precision_score(y_test, y_pred,pos_label='1'))\n",
        "  j=j+1\n",
        "\n",
        "print(lasso_pred_ex_80,lasso_pred_loss_80)"
      ],
      "metadata": {
        "colab": {
          "base_uri": "https://localhost:8080/"
        },
        "id": "uveESDBUdPik",
        "outputId": "2375e0ac-6298-4a7c-b6cf-84a20ace5735"
      },
      "execution_count": 188,
      "outputs": [
        {
          "output_type": "stream",
          "name": "stderr",
          "text": [
            "/usr/local/lib/python3.7/dist-packages/sklearn/utils/validation.py:993: DataConversionWarning: A column-vector y was passed when a 1d array was expected. Please change the shape of y to (n_samples, ), for example using ravel().\n",
            "  y = column_or_1d(y, warn=True)\n",
            "/usr/local/lib/python3.7/dist-packages/sklearn/utils/validation.py:993: DataConversionWarning: A column-vector y was passed when a 1d array was expected. Please change the shape of y to (n_samples, ), for example using ravel().\n",
            "  y = column_or_1d(y, warn=True)\n",
            "/usr/local/lib/python3.7/dist-packages/sklearn/utils/validation.py:993: DataConversionWarning: A column-vector y was passed when a 1d array was expected. Please change the shape of y to (n_samples, ), for example using ravel().\n",
            "  y = column_or_1d(y, warn=True)\n",
            "/usr/local/lib/python3.7/dist-packages/sklearn/utils/validation.py:993: DataConversionWarning: A column-vector y was passed when a 1d array was expected. Please change the shape of y to (n_samples, ), for example using ravel().\n",
            "  y = column_or_1d(y, warn=True)\n",
            "/usr/local/lib/python3.7/dist-packages/sklearn/utils/validation.py:993: DataConversionWarning: A column-vector y was passed when a 1d array was expected. Please change the shape of y to (n_samples, ), for example using ravel().\n",
            "  y = column_or_1d(y, warn=True)\n",
            "/usr/local/lib/python3.7/dist-packages/sklearn/utils/validation.py:993: DataConversionWarning: A column-vector y was passed when a 1d array was expected. Please change the shape of y to (n_samples, ), for example using ravel().\n",
            "  y = column_or_1d(y, warn=True)\n",
            "/usr/local/lib/python3.7/dist-packages/sklearn/utils/validation.py:993: DataConversionWarning: A column-vector y was passed when a 1d array was expected. Please change the shape of y to (n_samples, ), for example using ravel().\n",
            "  y = column_or_1d(y, warn=True)\n",
            "/usr/local/lib/python3.7/dist-packages/sklearn/utils/validation.py:993: DataConversionWarning: A column-vector y was passed when a 1d array was expected. Please change the shape of y to (n_samples, ), for example using ravel().\n",
            "  y = column_or_1d(y, warn=True)\n"
          ]
        },
        {
          "output_type": "stream",
          "name": "stdout",
          "text": [
            "[0.6915584415584416, 0.6739130434782609, 0.6720430107526881, 0.6729222520107239] [0.4454820168775043, 0.4361906042658595, 0.43752045476850726, 0.43821798011818164]\n"
          ]
        }
      ]
    },
    {
      "cell_type": "markdown",
      "source": [
        "Resultados:"
      ],
      "metadata": {
        "id": "LR_cvHL1ej1w"
      }
    },
    {
      "cell_type": "code",
      "source": [
        "tabla=np.array([ridge_pred_loss_80,\n",
        "               ridge_pred_ex_80,\n",
        "               lasso_pred_loss_80,\n",
        "               lasso_pred_ex_80])\n",
        "frame=pd.DataFrame(tabla.T, index=c_range,columns=['Log loss ridge','Precision ridge','Log loss lasso','Precision lasso'])\n",
        "frame"
      ],
      "metadata": {
        "colab": {
          "base_uri": "https://localhost:8080/",
          "height": 175
        },
        "id": "tjAWd9x7ei9M",
        "outputId": "8b5cc4a3-577e-423c-f35f-c594e39ff422"
      },
      "execution_count": 189,
      "outputs": [
        {
          "output_type": "execute_result",
          "data": {
            "text/plain": [
              "       Log loss ridge  Precision ridge  Log loss lasso  Precision lasso\n",
              "0.01         0.439484         0.685629        0.445482         0.691558\n",
              "0.10         0.436657         0.681081        0.436191         0.673913\n",
              "1.00         0.437399         0.673854        0.437520         0.672043\n",
              "10.00        0.438279         0.672922        0.438218         0.672922"
            ],
            "text/html": [
              "\n",
              "  <div id=\"df-addcf5b7-8737-4e48-bce5-ae03b2d7861b\">\n",
              "    <div class=\"colab-df-container\">\n",
              "      <div>\n",
              "<style scoped>\n",
              "    .dataframe tbody tr th:only-of-type {\n",
              "        vertical-align: middle;\n",
              "    }\n",
              "\n",
              "    .dataframe tbody tr th {\n",
              "        vertical-align: top;\n",
              "    }\n",
              "\n",
              "    .dataframe thead th {\n",
              "        text-align: right;\n",
              "    }\n",
              "</style>\n",
              "<table border=\"1\" class=\"dataframe\">\n",
              "  <thead>\n",
              "    <tr style=\"text-align: right;\">\n",
              "      <th></th>\n",
              "      <th>Log loss ridge</th>\n",
              "      <th>Precision ridge</th>\n",
              "      <th>Log loss lasso</th>\n",
              "      <th>Precision lasso</th>\n",
              "    </tr>\n",
              "  </thead>\n",
              "  <tbody>\n",
              "    <tr>\n",
              "      <th>0.01</th>\n",
              "      <td>0.439484</td>\n",
              "      <td>0.685629</td>\n",
              "      <td>0.445482</td>\n",
              "      <td>0.691558</td>\n",
              "    </tr>\n",
              "    <tr>\n",
              "      <th>0.10</th>\n",
              "      <td>0.436657</td>\n",
              "      <td>0.681081</td>\n",
              "      <td>0.436191</td>\n",
              "      <td>0.673913</td>\n",
              "    </tr>\n",
              "    <tr>\n",
              "      <th>1.00</th>\n",
              "      <td>0.437399</td>\n",
              "      <td>0.673854</td>\n",
              "      <td>0.437520</td>\n",
              "      <td>0.672043</td>\n",
              "    </tr>\n",
              "    <tr>\n",
              "      <th>10.00</th>\n",
              "      <td>0.438279</td>\n",
              "      <td>0.672922</td>\n",
              "      <td>0.438218</td>\n",
              "      <td>0.672922</td>\n",
              "    </tr>\n",
              "  </tbody>\n",
              "</table>\n",
              "</div>\n",
              "      <button class=\"colab-df-convert\" onclick=\"convertToInteractive('df-addcf5b7-8737-4e48-bce5-ae03b2d7861b')\"\n",
              "              title=\"Convert this dataframe to an interactive table.\"\n",
              "              style=\"display:none;\">\n",
              "        \n",
              "  <svg xmlns=\"http://www.w3.org/2000/svg\" height=\"24px\"viewBox=\"0 0 24 24\"\n",
              "       width=\"24px\">\n",
              "    <path d=\"M0 0h24v24H0V0z\" fill=\"none\"/>\n",
              "    <path d=\"M18.56 5.44l.94 2.06.94-2.06 2.06-.94-2.06-.94-.94-2.06-.94 2.06-2.06.94zm-11 1L8.5 8.5l.94-2.06 2.06-.94-2.06-.94L8.5 2.5l-.94 2.06-2.06.94zm10 10l.94 2.06.94-2.06 2.06-.94-2.06-.94-.94-2.06-.94 2.06-2.06.94z\"/><path d=\"M17.41 7.96l-1.37-1.37c-.4-.4-.92-.59-1.43-.59-.52 0-1.04.2-1.43.59L10.3 9.45l-7.72 7.72c-.78.78-.78 2.05 0 2.83L4 21.41c.39.39.9.59 1.41.59.51 0 1.02-.2 1.41-.59l7.78-7.78 2.81-2.81c.8-.78.8-2.07 0-2.86zM5.41 20L4 18.59l7.72-7.72 1.47 1.35L5.41 20z\"/>\n",
              "  </svg>\n",
              "      </button>\n",
              "      \n",
              "  <style>\n",
              "    .colab-df-container {\n",
              "      display:flex;\n",
              "      flex-wrap:wrap;\n",
              "      gap: 12px;\n",
              "    }\n",
              "\n",
              "    .colab-df-convert {\n",
              "      background-color: #E8F0FE;\n",
              "      border: none;\n",
              "      border-radius: 50%;\n",
              "      cursor: pointer;\n",
              "      display: none;\n",
              "      fill: #1967D2;\n",
              "      height: 32px;\n",
              "      padding: 0 0 0 0;\n",
              "      width: 32px;\n",
              "    }\n",
              "\n",
              "    .colab-df-convert:hover {\n",
              "      background-color: #E2EBFA;\n",
              "      box-shadow: 0px 1px 2px rgba(60, 64, 67, 0.3), 0px 1px 3px 1px rgba(60, 64, 67, 0.15);\n",
              "      fill: #174EA6;\n",
              "    }\n",
              "\n",
              "    [theme=dark] .colab-df-convert {\n",
              "      background-color: #3B4455;\n",
              "      fill: #D2E3FC;\n",
              "    }\n",
              "\n",
              "    [theme=dark] .colab-df-convert:hover {\n",
              "      background-color: #434B5C;\n",
              "      box-shadow: 0px 1px 3px 1px rgba(0, 0, 0, 0.15);\n",
              "      filter: drop-shadow(0px 1px 2px rgba(0, 0, 0, 0.3));\n",
              "      fill: #FFFFFF;\n",
              "    }\n",
              "  </style>\n",
              "\n",
              "      <script>\n",
              "        const buttonEl =\n",
              "          document.querySelector('#df-addcf5b7-8737-4e48-bce5-ae03b2d7861b button.colab-df-convert');\n",
              "        buttonEl.style.display =\n",
              "          google.colab.kernel.accessAllowed ? 'block' : 'none';\n",
              "\n",
              "        async function convertToInteractive(key) {\n",
              "          const element = document.querySelector('#df-addcf5b7-8737-4e48-bce5-ae03b2d7861b');\n",
              "          const dataTable =\n",
              "            await google.colab.kernel.invokeFunction('convertToInteractive',\n",
              "                                                     [key], {});\n",
              "          if (!dataTable) return;\n",
              "\n",
              "          const docLinkHtml = 'Like what you see? Visit the ' +\n",
              "            '<a target=\"_blank\" href=https://colab.research.google.com/notebooks/data_table.ipynb>data table notebook</a>'\n",
              "            + ' to learn more about interactive tables.';\n",
              "          element.innerHTML = '';\n",
              "          dataTable['output_type'] = 'display_data';\n",
              "          await google.colab.output.renderOutput(dataTable, element);\n",
              "          const docLink = document.createElement('div');\n",
              "          docLink.innerHTML = docLinkHtml;\n",
              "          element.appendChild(docLink);\n",
              "        }\n",
              "      </script>\n",
              "    </div>\n",
              "  </div>\n",
              "  "
            ]
          },
          "metadata": {},
          "execution_count": 189
        }
      ]
    },
    {
      "cell_type": "markdown",
      "source": [
        "Validación K-Folds"
      ],
      "metadata": {
        "id": "yVs2XXAkq48D"
      }
    },
    {
      "cell_type": "markdown",
      "source": [
        "Ridge K = 5"
      ],
      "metadata": {
        "id": "0hOydrMsv3oZ"
      }
    },
    {
      "cell_type": "code",
      "source": [
        "from sklearn.model_selection import KFold\n",
        "from sklearn.model_selection import cross_val_score"
      ],
      "metadata": {
        "id": "kIxSczQIwIdj"
      },
      "execution_count": 190,
      "outputs": []
    },
    {
      "cell_type": "code",
      "source": [
        "y_train1 = y_train"
      ],
      "metadata": {
        "id": "921_u26C0wvu"
      },
      "execution_count": 191,
      "outputs": []
    },
    {
      "cell_type": "code",
      "source": [
        "y_train1 = y_train1.replace({\"0\": 0, \"1\": 1})"
      ],
      "metadata": {
        "id": "SqtL9NXh1Bek"
      },
      "execution_count": 192,
      "outputs": []
    },
    {
      "cell_type": "code",
      "source": [
        "y_train1.dtypes"
      ],
      "metadata": {
        "colab": {
          "base_uri": "https://localhost:8080/"
        },
        "id": "L59LA87Y1w2d",
        "outputId": "75e7fcd1-a66d-4bfe-fb6f-cee02e8409b8"
      },
      "execution_count": 193,
      "outputs": [
        {
          "output_type": "execute_result",
          "data": {
            "text/plain": [
              "default payment next month    int64\n",
              "dtype: object"
            ]
          },
          "metadata": {},
          "execution_count": 193
        }
      ]
    },
    {
      "cell_type": "code",
      "source": [
        "cv = KFold(n_splits=5, random_state=666, shuffle=True)\n",
        "ridge_pred_pre_k5=[]\n",
        "j=0\n",
        "for i in c_range:\n",
        "  logreg = LogisticRegression(C=i, penalty='l2',solver='liblinear',multi_class='auto')\n",
        "  scores = cross_val_score(logreg, X_train, y_train1, scoring='precision', cv=cv, n_jobs=-1)\n",
        "  ridge_pred_pre_k5.append(np.mean(scores))\n",
        "  j+=1\n",
        "\n",
        "ridge_pred_loss_k5=[]\n",
        "j=0\n",
        "for i in c_range:\n",
        "  logreg = LogisticRegression(C=i, penalty='l2',solver='liblinear',multi_class='auto')\n",
        "  scores = cross_val_score(logreg, X_train, y_train, scoring='neg_log_loss', cv=cv, n_jobs=-1)\n",
        "  ridge_pred_loss_k5.append(abs(np.mean(scores)))\n",
        "  j+=1\n",
        "\n",
        "print(ridge_pred_pre_k5,ridge_pred_loss_k5)"
      ],
      "metadata": {
        "colab": {
          "base_uri": "https://localhost:8080/"
        },
        "id": "_HIjrPy1v45s",
        "outputId": "739c4501-df11-4cdd-b378-077e2a76fe5a"
      },
      "execution_count": 194,
      "outputs": [
        {
          "output_type": "stream",
          "name": "stdout",
          "text": [
            "[0.6853562239186196, 0.6822386980858891, 0.6840587296987436, 0.6827408756196067] [0.4417041471660451, 0.4380723919001507, 0.4381599549985678, 0.4390108937286777]\n"
          ]
        }
      ]
    },
    {
      "cell_type": "markdown",
      "source": [
        "Ridge K = 10"
      ],
      "metadata": {
        "id": "TtCnbz5U3QH0"
      }
    },
    {
      "cell_type": "code",
      "source": [
        "cv = KFold(n_splits=10, random_state=666, shuffle=True)\n",
        "\n",
        "ridge_pred_pre_k10=[]\n",
        "j=0\n",
        "for i in c_range:\n",
        "  logreg = LogisticRegression(C=i, penalty='l2',solver= 'liblinear',multi_class='auto')\n",
        "  scores = cross_val_score(logreg, X_train, y_train1, scoring='precision', cv=cv, n_jobs=-1)\n",
        "  ridge_pred_pre_k10.append(np.mean(scores))\n",
        "  j+=1\n",
        "\n",
        "ridge_pred_loss_k10=[]\n",
        "j=0\n",
        "for i in c_range:\n",
        "  logreg = LogisticRegression(C=i, penalty='l2',solver= 'liblinear',multi_class='auto')\n",
        "  scores = cross_val_score(logreg, X_train, y_train, scoring='neg_log_loss', cv=cv, n_jobs=-1)\n",
        "  ridge_pred_loss_k10.append(abs(np.mean(scores)))\n",
        "  j+=1\n",
        "\n",
        "print(ridge_pred_pre_k10,ridge_pred_loss_k10)"
      ],
      "metadata": {
        "colab": {
          "base_uri": "https://localhost:8080/"
        },
        "id": "dbelBA7E3Rzn",
        "outputId": "ef2a1e58-7ace-41bd-8b8a-3de8b3d500c8"
      },
      "execution_count": 195,
      "outputs": [
        {
          "output_type": "stream",
          "name": "stdout",
          "text": [
            "[0.6862775154154317, 0.6830786883549349, 0.6827863156426546, 0.6835731181294553] [0.441236465779799, 0.4379593944390422, 0.43798689406144814, 0.4386289174687582]\n"
          ]
        }
      ]
    },
    {
      "cell_type": "markdown",
      "source": [
        "Lasso K = 5"
      ],
      "metadata": {
        "id": "yyQmepW83zkf"
      }
    },
    {
      "cell_type": "code",
      "source": [
        "lasso_pred_pre_k5=[]\n",
        "j=0\n",
        "for i in c_range:\n",
        "  logreg = LogisticRegression(C=i, penalty='l1',solver= 'liblinear',multi_class='auto')\n",
        "  scores = cross_val_score(logreg, X_train, y_train1, scoring='precision', cv=cv, n_jobs=-1)\n",
        "  lasso_pred_pre_k5.append(np.mean(scores))\n",
        "  j+=1\n",
        "\n",
        "lasso_pred_loss_k5=[]\n",
        "j=0\n",
        "for i in c_range:\n",
        "  logreg = LogisticRegression(C=i, penalty='l1',solver= 'liblinear',multi_class='auto')\n",
        "  scores = cross_val_score(logreg, X_train, y_train, scoring='neg_log_loss', cv=cv, n_jobs=-1)\n",
        "  lasso_pred_loss_k5.append(abs(np.mean(scores)))\n",
        "  j+=1\n",
        "\n",
        "print(lasso_pred_pre_k5,lasso_pred_loss_k5)"
      ],
      "metadata": {
        "colab": {
          "base_uri": "https://localhost:8080/"
        },
        "id": "sJLokLDN31NW",
        "outputId": "c5e2313a-0886-4cd7-82ba-4bf96138b16c"
      },
      "execution_count": 196,
      "outputs": [
        {
          "output_type": "stream",
          "name": "stdout",
          "text": [
            "[0.6847321149570732, 0.6803209068164946, 0.6831208198040143, 0.6833722487219405] [0.44506124564228494, 0.4386277934418793, 0.43792141862880146, 0.4389281315102713]\n"
          ]
        }
      ]
    },
    {
      "cell_type": "markdown",
      "source": [
        "Lasso K = 10"
      ],
      "metadata": {
        "id": "ck74HBvp4K-k"
      }
    },
    {
      "cell_type": "code",
      "source": [
        "lasso_pred_pre_k10=[]\n",
        "j=0\n",
        "for i in c_range:\n",
        "  logreg = LogisticRegression(C=i, penalty='l1',solver= 'liblinear', multi_class='auto')\n",
        "  scores = cross_val_score(logreg, X_train, y_train1, scoring='precision', cv=cv, n_jobs=-1)\n",
        "  lasso_pred_pre_k10.append(np.mean(scores))\n",
        "  j+=1\n",
        "\n",
        "lasso_pred_loss_k10=[]\n",
        "j=0\n",
        "for i in c_range:\n",
        "  logreg = LogisticRegression(C=i, penalty='l1',solver= 'liblinear', multi_class='auto')\n",
        "  scores = cross_val_score(logreg, X_train, y_train, scoring='neg_log_loss', cv=cv, n_jobs=-1)\n",
        "  lasso_pred_loss_k10.append(abs(np.mean(scores)))\n",
        "  j+=1\n",
        "\n",
        "print(lasso_pred_pre_k10,lasso_pred_loss_k10)"
      ],
      "metadata": {
        "colab": {
          "base_uri": "https://localhost:8080/"
        },
        "id": "Rt5v_nzG4Ktm",
        "outputId": "ea520b7c-031a-464d-d836-a9f5eaf6567c"
      },
      "execution_count": 197,
      "outputs": [
        {
          "output_type": "stream",
          "name": "stdout",
          "text": [
            "[0.6847321149570732, 0.6803209068164946, 0.6831208198040143, 0.6833722487219405] [0.4450639005258698, 0.43862867679415496, 0.43792015663023587, 0.4389281747354681]\n"
          ]
        }
      ]
    },
    {
      "cell_type": "markdown",
      "source": [
        "Tabla log_loss:"
      ],
      "metadata": {
        "id": "fRiwqCHY5j8R"
      }
    },
    {
      "cell_type": "code",
      "source": [
        "tabla=np.array([ridge_pred_loss_k10,\n",
        "               lasso_pred_loss_k10,\n",
        "               ridge_pred_loss_k5,\n",
        "               lasso_pred_loss_k5])\n",
        "frame=pd.DataFrame(tabla.T, index=c_range,columns=['ridge k10','lasso k10','ridge k5','lasso k5'])\n",
        "frame"
      ],
      "metadata": {
        "colab": {
          "base_uri": "https://localhost:8080/",
          "height": 175
        },
        "id": "0--w-iZS5dNh",
        "outputId": "d9fb1a46-a8df-42d8-869c-3b5e17d963be"
      },
      "execution_count": 198,
      "outputs": [
        {
          "output_type": "execute_result",
          "data": {
            "text/plain": [
              "       ridge k10  lasso k10  ridge k5  lasso k5\n",
              "0.01    0.441236   0.445064  0.441704  0.445061\n",
              "0.10    0.437959   0.438629  0.438072  0.438628\n",
              "1.00    0.437987   0.437920  0.438160  0.437921\n",
              "10.00   0.438629   0.438928  0.439011  0.438928"
            ],
            "text/html": [
              "\n",
              "  <div id=\"df-13f4350e-747b-4347-9e7c-cf4709328b8b\">\n",
              "    <div class=\"colab-df-container\">\n",
              "      <div>\n",
              "<style scoped>\n",
              "    .dataframe tbody tr th:only-of-type {\n",
              "        vertical-align: middle;\n",
              "    }\n",
              "\n",
              "    .dataframe tbody tr th {\n",
              "        vertical-align: top;\n",
              "    }\n",
              "\n",
              "    .dataframe thead th {\n",
              "        text-align: right;\n",
              "    }\n",
              "</style>\n",
              "<table border=\"1\" class=\"dataframe\">\n",
              "  <thead>\n",
              "    <tr style=\"text-align: right;\">\n",
              "      <th></th>\n",
              "      <th>ridge k10</th>\n",
              "      <th>lasso k10</th>\n",
              "      <th>ridge k5</th>\n",
              "      <th>lasso k5</th>\n",
              "    </tr>\n",
              "  </thead>\n",
              "  <tbody>\n",
              "    <tr>\n",
              "      <th>0.01</th>\n",
              "      <td>0.441236</td>\n",
              "      <td>0.445064</td>\n",
              "      <td>0.441704</td>\n",
              "      <td>0.445061</td>\n",
              "    </tr>\n",
              "    <tr>\n",
              "      <th>0.10</th>\n",
              "      <td>0.437959</td>\n",
              "      <td>0.438629</td>\n",
              "      <td>0.438072</td>\n",
              "      <td>0.438628</td>\n",
              "    </tr>\n",
              "    <tr>\n",
              "      <th>1.00</th>\n",
              "      <td>0.437987</td>\n",
              "      <td>0.437920</td>\n",
              "      <td>0.438160</td>\n",
              "      <td>0.437921</td>\n",
              "    </tr>\n",
              "    <tr>\n",
              "      <th>10.00</th>\n",
              "      <td>0.438629</td>\n",
              "      <td>0.438928</td>\n",
              "      <td>0.439011</td>\n",
              "      <td>0.438928</td>\n",
              "    </tr>\n",
              "  </tbody>\n",
              "</table>\n",
              "</div>\n",
              "      <button class=\"colab-df-convert\" onclick=\"convertToInteractive('df-13f4350e-747b-4347-9e7c-cf4709328b8b')\"\n",
              "              title=\"Convert this dataframe to an interactive table.\"\n",
              "              style=\"display:none;\">\n",
              "        \n",
              "  <svg xmlns=\"http://www.w3.org/2000/svg\" height=\"24px\"viewBox=\"0 0 24 24\"\n",
              "       width=\"24px\">\n",
              "    <path d=\"M0 0h24v24H0V0z\" fill=\"none\"/>\n",
              "    <path d=\"M18.56 5.44l.94 2.06.94-2.06 2.06-.94-2.06-.94-.94-2.06-.94 2.06-2.06.94zm-11 1L8.5 8.5l.94-2.06 2.06-.94-2.06-.94L8.5 2.5l-.94 2.06-2.06.94zm10 10l.94 2.06.94-2.06 2.06-.94-2.06-.94-.94-2.06-.94 2.06-2.06.94z\"/><path d=\"M17.41 7.96l-1.37-1.37c-.4-.4-.92-.59-1.43-.59-.52 0-1.04.2-1.43.59L10.3 9.45l-7.72 7.72c-.78.78-.78 2.05 0 2.83L4 21.41c.39.39.9.59 1.41.59.51 0 1.02-.2 1.41-.59l7.78-7.78 2.81-2.81c.8-.78.8-2.07 0-2.86zM5.41 20L4 18.59l7.72-7.72 1.47 1.35L5.41 20z\"/>\n",
              "  </svg>\n",
              "      </button>\n",
              "      \n",
              "  <style>\n",
              "    .colab-df-container {\n",
              "      display:flex;\n",
              "      flex-wrap:wrap;\n",
              "      gap: 12px;\n",
              "    }\n",
              "\n",
              "    .colab-df-convert {\n",
              "      background-color: #E8F0FE;\n",
              "      border: none;\n",
              "      border-radius: 50%;\n",
              "      cursor: pointer;\n",
              "      display: none;\n",
              "      fill: #1967D2;\n",
              "      height: 32px;\n",
              "      padding: 0 0 0 0;\n",
              "      width: 32px;\n",
              "    }\n",
              "\n",
              "    .colab-df-convert:hover {\n",
              "      background-color: #E2EBFA;\n",
              "      box-shadow: 0px 1px 2px rgba(60, 64, 67, 0.3), 0px 1px 3px 1px rgba(60, 64, 67, 0.15);\n",
              "      fill: #174EA6;\n",
              "    }\n",
              "\n",
              "    [theme=dark] .colab-df-convert {\n",
              "      background-color: #3B4455;\n",
              "      fill: #D2E3FC;\n",
              "    }\n",
              "\n",
              "    [theme=dark] .colab-df-convert:hover {\n",
              "      background-color: #434B5C;\n",
              "      box-shadow: 0px 1px 3px 1px rgba(0, 0, 0, 0.15);\n",
              "      filter: drop-shadow(0px 1px 2px rgba(0, 0, 0, 0.3));\n",
              "      fill: #FFFFFF;\n",
              "    }\n",
              "  </style>\n",
              "\n",
              "      <script>\n",
              "        const buttonEl =\n",
              "          document.querySelector('#df-13f4350e-747b-4347-9e7c-cf4709328b8b button.colab-df-convert');\n",
              "        buttonEl.style.display =\n",
              "          google.colab.kernel.accessAllowed ? 'block' : 'none';\n",
              "\n",
              "        async function convertToInteractive(key) {\n",
              "          const element = document.querySelector('#df-13f4350e-747b-4347-9e7c-cf4709328b8b');\n",
              "          const dataTable =\n",
              "            await google.colab.kernel.invokeFunction('convertToInteractive',\n",
              "                                                     [key], {});\n",
              "          if (!dataTable) return;\n",
              "\n",
              "          const docLinkHtml = 'Like what you see? Visit the ' +\n",
              "            '<a target=\"_blank\" href=https://colab.research.google.com/notebooks/data_table.ipynb>data table notebook</a>'\n",
              "            + ' to learn more about interactive tables.';\n",
              "          element.innerHTML = '';\n",
              "          dataTable['output_type'] = 'display_data';\n",
              "          await google.colab.output.renderOutput(dataTable, element);\n",
              "          const docLink = document.createElement('div');\n",
              "          docLink.innerHTML = docLinkHtml;\n",
              "          element.appendChild(docLink);\n",
              "        }\n",
              "      </script>\n",
              "    </div>\n",
              "  </div>\n",
              "  "
            ]
          },
          "metadata": {},
          "execution_count": 198
        }
      ]
    },
    {
      "cell_type": "markdown",
      "source": [
        "Según la pérdida logaritmica el mejor modelo a ajustar seria un lasso k=10 con C = 1. "
      ],
      "metadata": {
        "id": "Hnuf5Wvd78JL"
      }
    },
    {
      "cell_type": "markdown",
      "source": [
        "Tabla Precisión: "
      ],
      "metadata": {
        "id": "G61anui85q6t"
      }
    },
    {
      "cell_type": "code",
      "source": [
        "tabla=np.array([ridge_pred_pre_k10,\n",
        "               lasso_pred_pre_k10,\n",
        "               ridge_pred_pre_k5,\n",
        "               lasso_pred_pre_k5])\n",
        "\n",
        "frame=pd.DataFrame(tabla.T, index=c_range,columns=['ridge k10','lasso k10','ridge k5','lasso k5'])\n",
        "frame"
      ],
      "metadata": {
        "colab": {
          "base_uri": "https://localhost:8080/",
          "height": 175
        },
        "id": "wekLSjQH5u4c",
        "outputId": "b1c3dd9e-3ad4-418c-e60f-e3569b95b497"
      },
      "execution_count": 199,
      "outputs": [
        {
          "output_type": "execute_result",
          "data": {
            "text/plain": [
              "       ridge k10  lasso k10  ridge k5  lasso k5\n",
              "0.01    0.686278   0.684732  0.685356  0.684732\n",
              "0.10    0.683079   0.680321  0.682239  0.680321\n",
              "1.00    0.682786   0.683121  0.684059  0.683121\n",
              "10.00   0.683573   0.683372  0.682741  0.683372"
            ],
            "text/html": [
              "\n",
              "  <div id=\"df-07132580-d60a-44cb-965b-8df719ae5f34\">\n",
              "    <div class=\"colab-df-container\">\n",
              "      <div>\n",
              "<style scoped>\n",
              "    .dataframe tbody tr th:only-of-type {\n",
              "        vertical-align: middle;\n",
              "    }\n",
              "\n",
              "    .dataframe tbody tr th {\n",
              "        vertical-align: top;\n",
              "    }\n",
              "\n",
              "    .dataframe thead th {\n",
              "        text-align: right;\n",
              "    }\n",
              "</style>\n",
              "<table border=\"1\" class=\"dataframe\">\n",
              "  <thead>\n",
              "    <tr style=\"text-align: right;\">\n",
              "      <th></th>\n",
              "      <th>ridge k10</th>\n",
              "      <th>lasso k10</th>\n",
              "      <th>ridge k5</th>\n",
              "      <th>lasso k5</th>\n",
              "    </tr>\n",
              "  </thead>\n",
              "  <tbody>\n",
              "    <tr>\n",
              "      <th>0.01</th>\n",
              "      <td>0.686278</td>\n",
              "      <td>0.684732</td>\n",
              "      <td>0.685356</td>\n",
              "      <td>0.684732</td>\n",
              "    </tr>\n",
              "    <tr>\n",
              "      <th>0.10</th>\n",
              "      <td>0.683079</td>\n",
              "      <td>0.680321</td>\n",
              "      <td>0.682239</td>\n",
              "      <td>0.680321</td>\n",
              "    </tr>\n",
              "    <tr>\n",
              "      <th>1.00</th>\n",
              "      <td>0.682786</td>\n",
              "      <td>0.683121</td>\n",
              "      <td>0.684059</td>\n",
              "      <td>0.683121</td>\n",
              "    </tr>\n",
              "    <tr>\n",
              "      <th>10.00</th>\n",
              "      <td>0.683573</td>\n",
              "      <td>0.683372</td>\n",
              "      <td>0.682741</td>\n",
              "      <td>0.683372</td>\n",
              "    </tr>\n",
              "  </tbody>\n",
              "</table>\n",
              "</div>\n",
              "      <button class=\"colab-df-convert\" onclick=\"convertToInteractive('df-07132580-d60a-44cb-965b-8df719ae5f34')\"\n",
              "              title=\"Convert this dataframe to an interactive table.\"\n",
              "              style=\"display:none;\">\n",
              "        \n",
              "  <svg xmlns=\"http://www.w3.org/2000/svg\" height=\"24px\"viewBox=\"0 0 24 24\"\n",
              "       width=\"24px\">\n",
              "    <path d=\"M0 0h24v24H0V0z\" fill=\"none\"/>\n",
              "    <path d=\"M18.56 5.44l.94 2.06.94-2.06 2.06-.94-2.06-.94-.94-2.06-.94 2.06-2.06.94zm-11 1L8.5 8.5l.94-2.06 2.06-.94-2.06-.94L8.5 2.5l-.94 2.06-2.06.94zm10 10l.94 2.06.94-2.06 2.06-.94-2.06-.94-.94-2.06-.94 2.06-2.06.94z\"/><path d=\"M17.41 7.96l-1.37-1.37c-.4-.4-.92-.59-1.43-.59-.52 0-1.04.2-1.43.59L10.3 9.45l-7.72 7.72c-.78.78-.78 2.05 0 2.83L4 21.41c.39.39.9.59 1.41.59.51 0 1.02-.2 1.41-.59l7.78-7.78 2.81-2.81c.8-.78.8-2.07 0-2.86zM5.41 20L4 18.59l7.72-7.72 1.47 1.35L5.41 20z\"/>\n",
              "  </svg>\n",
              "      </button>\n",
              "      \n",
              "  <style>\n",
              "    .colab-df-container {\n",
              "      display:flex;\n",
              "      flex-wrap:wrap;\n",
              "      gap: 12px;\n",
              "    }\n",
              "\n",
              "    .colab-df-convert {\n",
              "      background-color: #E8F0FE;\n",
              "      border: none;\n",
              "      border-radius: 50%;\n",
              "      cursor: pointer;\n",
              "      display: none;\n",
              "      fill: #1967D2;\n",
              "      height: 32px;\n",
              "      padding: 0 0 0 0;\n",
              "      width: 32px;\n",
              "    }\n",
              "\n",
              "    .colab-df-convert:hover {\n",
              "      background-color: #E2EBFA;\n",
              "      box-shadow: 0px 1px 2px rgba(60, 64, 67, 0.3), 0px 1px 3px 1px rgba(60, 64, 67, 0.15);\n",
              "      fill: #174EA6;\n",
              "    }\n",
              "\n",
              "    [theme=dark] .colab-df-convert {\n",
              "      background-color: #3B4455;\n",
              "      fill: #D2E3FC;\n",
              "    }\n",
              "\n",
              "    [theme=dark] .colab-df-convert:hover {\n",
              "      background-color: #434B5C;\n",
              "      box-shadow: 0px 1px 3px 1px rgba(0, 0, 0, 0.15);\n",
              "      filter: drop-shadow(0px 1px 2px rgba(0, 0, 0, 0.3));\n",
              "      fill: #FFFFFF;\n",
              "    }\n",
              "  </style>\n",
              "\n",
              "      <script>\n",
              "        const buttonEl =\n",
              "          document.querySelector('#df-07132580-d60a-44cb-965b-8df719ae5f34 button.colab-df-convert');\n",
              "        buttonEl.style.display =\n",
              "          google.colab.kernel.accessAllowed ? 'block' : 'none';\n",
              "\n",
              "        async function convertToInteractive(key) {\n",
              "          const element = document.querySelector('#df-07132580-d60a-44cb-965b-8df719ae5f34');\n",
              "          const dataTable =\n",
              "            await google.colab.kernel.invokeFunction('convertToInteractive',\n",
              "                                                     [key], {});\n",
              "          if (!dataTable) return;\n",
              "\n",
              "          const docLinkHtml = 'Like what you see? Visit the ' +\n",
              "            '<a target=\"_blank\" href=https://colab.research.google.com/notebooks/data_table.ipynb>data table notebook</a>'\n",
              "            + ' to learn more about interactive tables.';\n",
              "          element.innerHTML = '';\n",
              "          dataTable['output_type'] = 'display_data';\n",
              "          await google.colab.output.renderOutput(dataTable, element);\n",
              "          const docLink = document.createElement('div');\n",
              "          docLink.innerHTML = docLinkHtml;\n",
              "          element.appendChild(docLink);\n",
              "        }\n",
              "      </script>\n",
              "    </div>\n",
              "  </div>\n",
              "  "
            ]
          },
          "metadata": {},
          "execution_count": 199
        }
      ]
    },
    {
      "cell_type": "markdown",
      "source": [
        "De acuerdo a la métrica de precisión lo mejor seria elegir un ridge k10 con C = 0.01."
      ],
      "metadata": {
        "id": "JcJTvD6r7xrj"
      }
    },
    {
      "cell_type": "markdown",
      "source": [
        "Validación de acuerdo a la métrica de pérdida logarítmica:"
      ],
      "metadata": {
        "id": "ZIrd6Pu3CSKy"
      }
    },
    {
      "cell_type": "markdown",
      "source": [
        "Usando Kfolds 10, lasso con C = 1. "
      ],
      "metadata": {
        "id": "H1kPamfmCdNs"
      }
    },
    {
      "cell_type": "code",
      "source": [
        "cv = KFold(n_splits=10, random_state=666, shuffle=True)\n",
        "logreg_1 = LogisticRegression(C= 1, penalty='l1',solver= 'liblinear',multi_class='auto')\n",
        "scores_1 = cross_val_score(logreg_1, X_train, y_train1, scoring='precision', cv=cv, n_jobs=-1) #Precisión\n",
        "scores_2 = cross_val_score(logreg_1, X_train, y_train, scoring='neg_log_loss', cv=cv, n_jobs=-1) #Pérdida logaritmica"
      ],
      "metadata": {
        "id": "QllTPrKACTYF"
      },
      "execution_count": 226,
      "outputs": []
    },
    {
      "cell_type": "code",
      "source": [
        "print('Precisión:', np.mean(scores_1))\n",
        "print('Pérdida Logaritmica:', abs(np.mean(scores_2)))"
      ],
      "metadata": {
        "colab": {
          "base_uri": "https://localhost:8080/"
        },
        "id": "_Xb2HR7rDRWE",
        "outputId": "6e23bf58-969f-4207-98f3-35dc6479114a"
      },
      "execution_count": 201,
      "outputs": [
        {
          "output_type": "stream",
          "name": "stdout",
          "text": [
            "Precisión: 0.6831208198040143\n",
            "Pérdida Logaritmica: 0.43792180076294757\n"
          ]
        }
      ]
    },
    {
      "cell_type": "code",
      "source": [
        "logreg_1.fit(X_train, y_train)"
      ],
      "metadata": {
        "colab": {
          "base_uri": "https://localhost:8080/"
        },
        "id": "pue9owWjRGWG",
        "outputId": "ca86849e-5193-49f6-cef7-23f4e219a9ba"
      },
      "execution_count": 228,
      "outputs": [
        {
          "output_type": "stream",
          "name": "stderr",
          "text": [
            "/usr/local/lib/python3.7/dist-packages/sklearn/utils/validation.py:993: DataConversionWarning: A column-vector y was passed when a 1d array was expected. Please change the shape of y to (n_samples, ), for example using ravel().\n",
            "  y = column_or_1d(y, warn=True)\n"
          ]
        },
        {
          "output_type": "execute_result",
          "data": {
            "text/plain": [
              "LogisticRegression(C=1, penalty='l1', solver='liblinear')"
            ]
          },
          "metadata": {},
          "execution_count": 228
        }
      ]
    },
    {
      "cell_type": "code",
      "source": [
        "print(logreg_1.coef_)"
      ],
      "metadata": {
        "colab": {
          "base_uri": "https://localhost:8080/"
        },
        "id": "CCiCCyTyV5rW",
        "outputId": "78adbcfb-efa0-4220-adc9-ee04b42c8349"
      },
      "execution_count": 229,
      "outputs": [
        {
          "output_type": "stream",
          "name": "stdout",
          "text": [
            "[[-2.47440664e-01  2.92378703e-02 -1.91790016e-01  2.10158990e-01\n",
            "   2.04799751e-01  3.55843097e-03  2.23174472e-02 -8.11043077e-02\n",
            "  -1.98528573e-01 -2.24066310e-01 -2.24040529e-02 -1.61969046e-02\n",
            "  -2.44484921e-02 -3.52102292e-02 -1.40811474e-01  2.90181682e-02\n",
            "  -8.36491703e-03 -9.14822420e-01 -1.49208651e-01  1.74066759e-01\n",
            "  -4.89729457e-01 -7.39467580e-01  3.55319013e-01  1.56471451e+00\n",
            "   1.52382363e+00  1.30227313e+00  7.19203309e-01  0.00000000e+00\n",
            "   3.21711951e-01  0.00000000e+00  1.27770276e-01  2.38366459e-01\n",
            "  -8.85728457e-02  1.99584372e-01  1.44991144e-01 -3.92798350e-01\n",
            "   6.51506120e-01  6.75143209e-01  0.00000000e+00  0.00000000e+00\n",
            "  -2.87318699e-02 -1.02788420e-03  0.00000000e+00  3.60232355e-01\n",
            "   4.49753166e-01  0.00000000e+00  0.00000000e+00  1.60798355e+00\n",
            "   0.00000000e+00  0.00000000e+00  1.48160749e-01  2.64016986e-02\n",
            "   0.00000000e+00  2.79479480e-01  3.05744115e-01  4.64735338e-01\n",
            "  -5.84604641e-01  0.00000000e+00  9.31212303e-02  0.00000000e+00\n",
            "   1.19815178e-01  1.17968368e-01  4.16283322e-01  2.84257043e-03\n",
            "  -7.65837421e-02  6.00153736e-01  0.00000000e+00  8.03920245e-01\n",
            "   0.00000000e+00  8.78275139e-02 -2.15598294e-01  1.79559580e-01\n",
            "   5.81622789e-01  0.00000000e+00  0.00000000e+00  2.82454970e-01\n",
            "   0.00000000e+00  0.00000000e+00]]\n"
          ]
        }
      ]
    },
    {
      "cell_type": "code",
      "source": [
        "y_pred_val = logreg_1.predict(X_test)"
      ],
      "metadata": {
        "id": "LZf6lHAYRUO1"
      },
      "execution_count": 206,
      "outputs": []
    },
    {
      "cell_type": "code",
      "source": [
        "df_dedupped"
      ],
      "metadata": {
        "id": "e3z4F5p8T9Gy"
      },
      "execution_count": null,
      "outputs": []
    },
    {
      "cell_type": "code",
      "source": [
        "df_dedupped['Churn_pred'] = logreg.predict(X)\n",
        "df_dedupped.head()"
      ],
      "metadata": {
        "id": "i5vcD7iSRYAI"
      },
      "execution_count": null,
      "outputs": []
    },
    {
      "cell_type": "code",
      "source": [
        "#Valores reales\n",
        "print(sum(y_test['default payment next month'] == \"0\"))\n",
        "print(sum(y_test['default payment next month'] == \"1\"))"
      ],
      "metadata": {
        "colab": {
          "base_uri": "https://localhost:8080/"
        },
        "id": "CRwI1-GbIvLo",
        "outputId": "9bea2ae2-7474-45d6-aaea-af7723ae5665"
      },
      "execution_count": 221,
      "outputs": [
        {
          "output_type": "stream",
          "name": "stdout",
          "text": [
            "2232\n",
            "666\n"
          ]
        }
      ]
    },
    {
      "cell_type": "code",
      "source": [
        "pred = pd.DataFrame(y_pred_val)"
      ],
      "metadata": {
        "id": "bezy8w70Rr2w"
      },
      "execution_count": 211,
      "outputs": []
    },
    {
      "cell_type": "code",
      "source": [
        "#Predicciones\n",
        "print(sum(pred[0] == \"0\"))\n",
        "print(sum(pred[0] == \"1\"))"
      ],
      "metadata": {
        "colab": {
          "base_uri": "https://localhost:8080/"
        },
        "id": "3Ois-Nw1GlZS",
        "outputId": "d7171e8a-6778-4b75-ee13-a468d2f5762e"
      },
      "execution_count": 212,
      "outputs": [
        {
          "output_type": "stream",
          "name": "stdout",
          "text": [
            "2526\n",
            "372\n"
          ]
        }
      ]
    },
    {
      "cell_type": "markdown",
      "source": [
        "Métrica de precisión: Ridge k10 con C = 0.01"
      ],
      "metadata": {
        "id": "7-cbjD9xTdAd"
      }
    },
    {
      "cell_type": "code",
      "source": [
        "cv = KFold(n_splits=10, random_state=666, shuffle=True)\n",
        "logreg_1 = LogisticRegression(C= 0.01, penalty='l2',solver= 'liblinear',multi_class='auto')\n",
        "scores_1 = cross_val_score(logreg_1, X_train, y_train1, scoring='precision', cv=cv, n_jobs=-1) #Precisión\n",
        "scores_2 = cross_val_score(logreg_1, X_train, y_train, scoring='neg_log_loss', cv=cv, n_jobs=-1) #Pérdida logaritmica"
      ],
      "metadata": {
        "id": "S9leWTAlTXdO"
      },
      "execution_count": 213,
      "outputs": []
    },
    {
      "cell_type": "code",
      "source": [
        "print('Precisión:', np.mean(scores_1))\n",
        "print('Pérdida Logaritmica:', abs(np.mean(scores_2)))"
      ],
      "metadata": {
        "colab": {
          "base_uri": "https://localhost:8080/"
        },
        "id": "uioJNey_Tr7h",
        "outputId": "d27f37b5-cdb1-450b-cb6c-5ce866adbe14"
      },
      "execution_count": 214,
      "outputs": [
        {
          "output_type": "stream",
          "name": "stdout",
          "text": [
            "Precisión: 0.6862775154154317\n",
            "Pérdida Logaritmica: 0.441236465779799\n"
          ]
        }
      ]
    },
    {
      "cell_type": "code",
      "source": [
        "logreg_1.fit(X_train, y_train)"
      ],
      "metadata": {
        "colab": {
          "base_uri": "https://localhost:8080/"
        },
        "id": "WsuTg6wiTtCZ",
        "outputId": "c9a1f319-d9bd-4065-dad1-df0a85a7c8ef"
      },
      "execution_count": 215,
      "outputs": [
        {
          "output_type": "stream",
          "name": "stderr",
          "text": [
            "/usr/local/lib/python3.7/dist-packages/sklearn/utils/validation.py:993: DataConversionWarning: A column-vector y was passed when a 1d array was expected. Please change the shape of y to (n_samples, ), for example using ravel().\n",
            "  y = column_or_1d(y, warn=True)\n"
          ]
        },
        {
          "output_type": "execute_result",
          "data": {
            "text/plain": [
              "LogisticRegression(C=0.01, solver='liblinear')"
            ]
          },
          "metadata": {},
          "execution_count": 215
        }
      ]
    },
    {
      "cell_type": "code",
      "source": [
        "y_pred_val = logreg_1.predict(X_test)"
      ],
      "metadata": {
        "id": "HfFvwf6wTyNO"
      },
      "execution_count": 216,
      "outputs": []
    },
    {
      "cell_type": "code",
      "source": [
        "pred = pd.DataFrame(y_pred_val)"
      ],
      "metadata": {
        "id": "nfVApDOgT3YB"
      },
      "execution_count": 217,
      "outputs": []
    },
    {
      "cell_type": "code",
      "source": [
        "#Valores reales\n",
        "print(sum(y_test['default payment next month'] == \"0\"))\n",
        "print(sum(y_test['default payment next month'] == \"1\"))"
      ],
      "metadata": {
        "colab": {
          "base_uri": "https://localhost:8080/"
        },
        "id": "LcXeEkM8Ux6N",
        "outputId": "eaa7d4bd-4908-4f62-b64c-bdb60fe5f3ac"
      },
      "execution_count": 223,
      "outputs": [
        {
          "output_type": "stream",
          "name": "stdout",
          "text": [
            "2232\n",
            "666\n"
          ]
        }
      ]
    },
    {
      "cell_type": "code",
      "source": [
        "#Predicciones\n",
        "print(sum(pred[0] == \"0\"))\n",
        "print(sum(pred[0] == \"1\"))"
      ],
      "metadata": {
        "colab": {
          "base_uri": "https://localhost:8080/"
        },
        "id": "bpGzxTzkT5Mw",
        "outputId": "0aa995f8-ec1a-4173-fbb7-239714c033ed"
      },
      "execution_count": 218,
      "outputs": [
        {
          "output_type": "stream",
          "name": "stdout",
          "text": [
            "2564\n",
            "334\n"
          ]
        }
      ]
    },
    {
      "cell_type": "markdown",
      "source": [
        "## Modelo seleccionado"
      ],
      "metadata": {
        "id": "WEra4OHk7cGD"
      }
    },
    {
      "cell_type": "markdown",
      "source": [
        "Justifique ¿Por qué se selecciona ese algoritmo? ¿Qué métricas se usaron? ¿Qué modelo seleccionaría según el rendimiento de los dos modelos seleccionados?¿Qué mejoraría en su modelo?"
      ],
      "metadata": {
        "id": "MXaxWZLoAzrx"
      }
    },
    {
      "cell_type": "markdown",
      "source": [
        "De acuerdo al número de variables explicativas tan extenso se decidió optar por un Kfolds con 10 grupos y lasso con C = 1 utilizando las métricas de precisión y pérdida logaritmica. El lasso me permite eliminar variables explicativas que no son tan relevantes para el modelo.\n",
        "\n",
        "Se optó por seleccionar aquel modelo que tuviera la menor pérdida logaritmica ya que al momento de realizar la predicción este algoritmo clasifico 372 de 666 en \"1\" (Un 55.85% correcto) que significa que si hay un incumplimiento. Mientras que, utilizando un Ridge con Kfolds 10 y C = 0.01 este algoritmo clasifico 334 de 666 en \"1\" (Un 50.15% correcto).\n",
        "\n",
        "El modelo podria mejorar en las predicciones ya que un 56% sigue siendo poco confiable para un tema tan delicado como cederle o no un monto otorgado a un cliente."
      ],
      "metadata": {
        "id": "z5Tfi_oRBSz6"
      }
    }
  ]
}