{
  "nbformat": 4,
  "nbformat_minor": 0,
  "metadata": {
    "kernelspec": {
      "display_name": "Python 3",
      "language": "python",
      "name": "python3"
    },
    "language_info": {
      "codemirror_mode": {
        "name": "ipython",
        "version": 3
      },
      "file_extension": ".py",
      "mimetype": "text/x-python",
      "name": "python",
      "nbconvert_exporter": "python",
      "pygments_lexer": "ipython3",
      "version": "3.7.0"
    },
    "colab": {
      "provenance": [],
      "collapsed_sections": []
    }
  },
  "cells": [
    {
      "cell_type": "markdown",
      "source": [
        "Realizado por Katalina Morales Dueñas\n",
        "\n",
        "Codigo: 2262485\n",
        "\n",
        "31 de Octubre del 2022\n"
      ],
      "metadata": {
        "id": "FPFVft6K2HS4"
      }
    },
    {
      "cell_type": "markdown",
      "source": [
        "# Árbol de decisión\n",
        "\n",
        "Según el siguiente árbol de decisión, analice y responda:\n",
        "\n",
        "![Obama-Clinton decision tree](https://github.com/justmarkham/DAT8/raw/226791169b1cc6df8e8845c12e34e748d5ffaa85/notebooks/images/obama_clinton_tree.jpg)"
      ],
      "metadata": {
        "id": "gqDPEMhZyKFy"
      }
    },
    {
      "cell_type": "markdown",
      "source": [
        "## 1.1 ¿Qué son las observaciones? ¿Cuántas observaciones hay?\n"
      ],
      "metadata": {
        "id": "3dk2ih2FyT8i"
      }
    },
    {
      "cell_type": "markdown",
      "source": [
        "Las observaciones corresponden a los condados de Estados Unidos que participaron en una encuesta para elegir a su futuro presidente. No se incluyeron los condados de Florida y Michigan. Hay 2241 observaciones."
      ],
      "metadata": {
        "id": "7bcxZCY3yxv5"
      }
    },
    {
      "cell_type": "markdown",
      "source": [
        "## 1.2 ¿Cuál es la variable de respuesta?\n"
      ],
      "metadata": {
        "id": "bl0Y4beuyaie"
      }
    },
    {
      "cell_type": "markdown",
      "source": [
        "La variable respuesta es determinar cuál participante ganará  en el concurso de nominaciones, si Hillary o Barack.\n",
        "Ej: 1 Hillary 0 Obama \n",
        "(De acuerdo a las votaciones por condados)"
      ],
      "metadata": {
        "id": "SGhpIhmDy4eS"
      }
    },
    {
      "cell_type": "markdown",
      "source": [
        "## 1.3 ¿Cuáles son las características?¿Cuál es la característica más predictiva?\n"
      ],
      "metadata": {
        "id": "eZD45NjhydqE"
      }
    },
    {
      "cell_type": "markdown",
      "source": [
        "Caracteristicas:\n",
        "\n",
        "1. Raza: El porcentaje de la población que pertenece a la raza negra que hay en cada condado. (Esta es la característica más predictiva porque es la primera ramificación del arbol, la más relevante)\n",
        "2. Educación: Tasa de graduación de la escuela secundaria por condado (En porcentaje). Esta caracteristica se evalúa con un 78% y luego es más estricto con un 87%. \n",
        "3. Ubicación: Ubicación del condado. (Norte, sur, este, oeste)\n",
        "4. Pobreza: Promedio del salario por condado. (El 47% de la población por condado ganó menos de 30.000 USD y el 53% ganó más de 30.000 USD).\n",
        "5. Densidad de la población: Cantidad de personas por milla cuadrada por condado.\n",
        "6. De acuerdo a elecciones presidenciales pasadas. Condados donde Bush venció Kerry en más de 16,5 puntos porcentuales."
      ],
      "metadata": {
        "id": "lnLygKaty48_"
      }
    },
    {
      "cell_type": "markdown",
      "source": [
        "## 1.4 ¿Cuál es la predicción de clase para el siguiente condado con los siguientes datos: 15% de afroamericanos, 90% de tasa de graduación en la escuela secundaria, ubicado en el Sur, alta pobreza, alta densidad de población?\n"
      ],
      "metadata": {
        "id": "XdVVxJvTymo1"
      }
    },
    {
      "cell_type": "markdown",
      "source": [
        "Obama"
      ],
      "metadata": {
        "id": "VrCCs9WRy5pM"
      }
    },
    {
      "cell_type": "markdown",
      "source": [
        "## 1.5 ¿Cuál es el chance predicha para ese mismo condado anteriormente descrito?"
      ],
      "metadata": {
        "id": "a3U8yhpFyoXH"
      }
    },
    {
      "cell_type": "markdown",
      "source": [
        "185 a 36"
      ],
      "metadata": {
        "id": "DH6TO61ky6SL"
      }
    },
    {
      "cell_type": "markdown",
      "metadata": {
        "id": "goh8XqyWQwHS"
      },
      "source": [
        "## SVM\n",
        "\n",
        "\n",
        "Para esta tarea consideramos un conjunto de observaciones sobre una serie de variedades de vino tinto y blanco que implican sus propiedades químicas y su clasificación por parte de los catadores. La industria del vino ha experimentado un gran crecimiento en los últimos tiempos debido al aumento del consumo social. El precio del vino depende de un concepto bastante abstracto de apreciación del vino por parte de los catadores, cuya opinión puede tener un alto grado de variabilidad. El precio del vino depende en cierta medida de este factor tan volátil. Otro factor clave en la certificación y evaluación de la calidad del vino son las pruebas fisicoquímicas, que se realizan en laboratorio y tienen en cuenta factores como la acidez, el nivel de pH, la presencia de azúcar y otras propiedades químicas. Para el mercado del vino, sería interesante que la calidad humana de la cata pudiera relacionarse con las propiedades químicas del vino para que el proceso de certificación y evaluación de la calidad estuviera más controlado.\n",
        "\n",
        "Se dispone de dos conjuntos de datos, uno de los cuales se refiere al vino tinto y cuenta con 1.599 variedades diferentes, y el otro, al vino blanco, con 4.898 variedades. Todos los vinos se producen en una zona concreta de Portugal. Se recogen datos sobre 12 propiedades diferentes de los vinos, una de las cuales es la calidad, basada en datos sensoriales, y el resto son propiedades químicas de los vinos, como la densidad, la acidez, el contenido de alcohol, etc. Todas las propiedades químicas de los vinos son variables continuas. La calidad es una variable ordinal con una clasificación posible de 1 (peor) a 10 (mejor). Cada variedad de vino es catada por tres catadores independientes y la clasificación final asignada es la mediana de la clasificación dada por los catadores.\n",
        "\n",
        "Se espera que un modelo predictivo desarrollado a partir de estos datos sirva de orientación a los viñedos en cuanto a la calidad y el precio que se espera obtener de sus productos sin depender en gran medida de la volatilidad de los catadores.\n"
      ]
    },
    {
      "cell_type": "code",
      "metadata": {
        "id": "m4dAFqRiQwHd"
      },
      "source": [
        "import pandas as pd\n",
        "import numpy as np"
      ],
      "execution_count": null,
      "outputs": []
    },
    {
      "cell_type": "code",
      "metadata": {
        "id": "j0S8ZSeuQwHh"
      },
      "source": [
        "data_r = pd.read_csv('https://raw.githubusercontent.com/prof-tatiana-gutierrez/DatosMD/master/Wine_data_red.csv')\n",
        "data_w = pd.read_csv('https://raw.githubusercontent.com/prof-tatiana-gutierrez/DatosMD/master/Wine_data_white.csv')"
      ],
      "execution_count": null,
      "outputs": []
    },
    {
      "cell_type": "code",
      "metadata": {
        "colab": {
          "base_uri": "https://localhost:8080/",
          "height": 485
        },
        "id": "zL6G49RMQwHl",
        "outputId": "5e059a5f-758d-4308-df4c-0564b2a62856"
      },
      "source": [
        "data = data_w.assign(type = 'white')\n",
        "\n",
        "data = data.append(data_r.assign(type = 'red'), ignore_index=True)\n",
        "data"
      ],
      "execution_count": null,
      "outputs": [
        {
          "output_type": "execute_result",
          "data": {
            "text/plain": [
              "      fixed acidity  volatile acidity  citric acid  residual sugar  chlorides  \\\n",
              "0               7.0             0.270         0.36            20.7      0.045   \n",
              "1               6.3             0.300         0.34             1.6      0.049   \n",
              "2               8.1             0.280         0.40             6.9      0.050   \n",
              "3               7.2             0.230         0.32             8.5      0.058   \n",
              "4               7.2             0.230         0.32             8.5      0.058   \n",
              "...             ...               ...          ...             ...        ...   \n",
              "6492            6.2             0.600         0.08             2.0      0.090   \n",
              "6493            5.9             0.550         0.10             2.2      0.062   \n",
              "6494            6.3             0.510         0.13             2.3      0.076   \n",
              "6495            5.9             0.645         0.12             2.0      0.075   \n",
              "6496            6.0             0.310         0.47             3.6      0.067   \n",
              "\n",
              "      free sulfur dioxide  total sulfur dioxide  density    pH  sulphates  \\\n",
              "0                    45.0                 170.0  1.00100  3.00       0.45   \n",
              "1                    14.0                 132.0  0.99400  3.30       0.49   \n",
              "2                    30.0                  97.0  0.99510  3.26       0.44   \n",
              "3                    47.0                 186.0  0.99560  3.19       0.40   \n",
              "4                    47.0                 186.0  0.99560  3.19       0.40   \n",
              "...                   ...                   ...      ...   ...        ...   \n",
              "6492                 32.0                  44.0  0.99490  3.45       0.58   \n",
              "6493                 39.0                  51.0  0.99512  3.52       0.76   \n",
              "6494                 29.0                  40.0  0.99574  3.42       0.75   \n",
              "6495                 32.0                  44.0  0.99547  3.57       0.71   \n",
              "6496                 18.0                  42.0  0.99549  3.39       0.66   \n",
              "\n",
              "      alcohol  quality   type  \n",
              "0         8.8        6  white  \n",
              "1         9.5        6  white  \n",
              "2        10.1        6  white  \n",
              "3         9.9        6  white  \n",
              "4         9.9        6  white  \n",
              "...       ...      ...    ...  \n",
              "6492     10.5        5    red  \n",
              "6493     11.2        6    red  \n",
              "6494     11.0        6    red  \n",
              "6495     10.2        5    red  \n",
              "6496     11.0        6    red  \n",
              "\n",
              "[6497 rows x 13 columns]"
            ],
            "text/html": [
              "\n",
              "  <div id=\"df-668ee802-9938-4eb0-a072-6e537f39588b\">\n",
              "    <div class=\"colab-df-container\">\n",
              "      <div>\n",
              "<style scoped>\n",
              "    .dataframe tbody tr th:only-of-type {\n",
              "        vertical-align: middle;\n",
              "    }\n",
              "\n",
              "    .dataframe tbody tr th {\n",
              "        vertical-align: top;\n",
              "    }\n",
              "\n",
              "    .dataframe thead th {\n",
              "        text-align: right;\n",
              "    }\n",
              "</style>\n",
              "<table border=\"1\" class=\"dataframe\">\n",
              "  <thead>\n",
              "    <tr style=\"text-align: right;\">\n",
              "      <th></th>\n",
              "      <th>fixed acidity</th>\n",
              "      <th>volatile acidity</th>\n",
              "      <th>citric acid</th>\n",
              "      <th>residual sugar</th>\n",
              "      <th>chlorides</th>\n",
              "      <th>free sulfur dioxide</th>\n",
              "      <th>total sulfur dioxide</th>\n",
              "      <th>density</th>\n",
              "      <th>pH</th>\n",
              "      <th>sulphates</th>\n",
              "      <th>alcohol</th>\n",
              "      <th>quality</th>\n",
              "      <th>type</th>\n",
              "    </tr>\n",
              "  </thead>\n",
              "  <tbody>\n",
              "    <tr>\n",
              "      <th>0</th>\n",
              "      <td>7.0</td>\n",
              "      <td>0.270</td>\n",
              "      <td>0.36</td>\n",
              "      <td>20.7</td>\n",
              "      <td>0.045</td>\n",
              "      <td>45.0</td>\n",
              "      <td>170.0</td>\n",
              "      <td>1.00100</td>\n",
              "      <td>3.00</td>\n",
              "      <td>0.45</td>\n",
              "      <td>8.8</td>\n",
              "      <td>6</td>\n",
              "      <td>white</td>\n",
              "    </tr>\n",
              "    <tr>\n",
              "      <th>1</th>\n",
              "      <td>6.3</td>\n",
              "      <td>0.300</td>\n",
              "      <td>0.34</td>\n",
              "      <td>1.6</td>\n",
              "      <td>0.049</td>\n",
              "      <td>14.0</td>\n",
              "      <td>132.0</td>\n",
              "      <td>0.99400</td>\n",
              "      <td>3.30</td>\n",
              "      <td>0.49</td>\n",
              "      <td>9.5</td>\n",
              "      <td>6</td>\n",
              "      <td>white</td>\n",
              "    </tr>\n",
              "    <tr>\n",
              "      <th>2</th>\n",
              "      <td>8.1</td>\n",
              "      <td>0.280</td>\n",
              "      <td>0.40</td>\n",
              "      <td>6.9</td>\n",
              "      <td>0.050</td>\n",
              "      <td>30.0</td>\n",
              "      <td>97.0</td>\n",
              "      <td>0.99510</td>\n",
              "      <td>3.26</td>\n",
              "      <td>0.44</td>\n",
              "      <td>10.1</td>\n",
              "      <td>6</td>\n",
              "      <td>white</td>\n",
              "    </tr>\n",
              "    <tr>\n",
              "      <th>3</th>\n",
              "      <td>7.2</td>\n",
              "      <td>0.230</td>\n",
              "      <td>0.32</td>\n",
              "      <td>8.5</td>\n",
              "      <td>0.058</td>\n",
              "      <td>47.0</td>\n",
              "      <td>186.0</td>\n",
              "      <td>0.99560</td>\n",
              "      <td>3.19</td>\n",
              "      <td>0.40</td>\n",
              "      <td>9.9</td>\n",
              "      <td>6</td>\n",
              "      <td>white</td>\n",
              "    </tr>\n",
              "    <tr>\n",
              "      <th>4</th>\n",
              "      <td>7.2</td>\n",
              "      <td>0.230</td>\n",
              "      <td>0.32</td>\n",
              "      <td>8.5</td>\n",
              "      <td>0.058</td>\n",
              "      <td>47.0</td>\n",
              "      <td>186.0</td>\n",
              "      <td>0.99560</td>\n",
              "      <td>3.19</td>\n",
              "      <td>0.40</td>\n",
              "      <td>9.9</td>\n",
              "      <td>6</td>\n",
              "      <td>white</td>\n",
              "    </tr>\n",
              "    <tr>\n",
              "      <th>...</th>\n",
              "      <td>...</td>\n",
              "      <td>...</td>\n",
              "      <td>...</td>\n",
              "      <td>...</td>\n",
              "      <td>...</td>\n",
              "      <td>...</td>\n",
              "      <td>...</td>\n",
              "      <td>...</td>\n",
              "      <td>...</td>\n",
              "      <td>...</td>\n",
              "      <td>...</td>\n",
              "      <td>...</td>\n",
              "      <td>...</td>\n",
              "    </tr>\n",
              "    <tr>\n",
              "      <th>6492</th>\n",
              "      <td>6.2</td>\n",
              "      <td>0.600</td>\n",
              "      <td>0.08</td>\n",
              "      <td>2.0</td>\n",
              "      <td>0.090</td>\n",
              "      <td>32.0</td>\n",
              "      <td>44.0</td>\n",
              "      <td>0.99490</td>\n",
              "      <td>3.45</td>\n",
              "      <td>0.58</td>\n",
              "      <td>10.5</td>\n",
              "      <td>5</td>\n",
              "      <td>red</td>\n",
              "    </tr>\n",
              "    <tr>\n",
              "      <th>6493</th>\n",
              "      <td>5.9</td>\n",
              "      <td>0.550</td>\n",
              "      <td>0.10</td>\n",
              "      <td>2.2</td>\n",
              "      <td>0.062</td>\n",
              "      <td>39.0</td>\n",
              "      <td>51.0</td>\n",
              "      <td>0.99512</td>\n",
              "      <td>3.52</td>\n",
              "      <td>0.76</td>\n",
              "      <td>11.2</td>\n",
              "      <td>6</td>\n",
              "      <td>red</td>\n",
              "    </tr>\n",
              "    <tr>\n",
              "      <th>6494</th>\n",
              "      <td>6.3</td>\n",
              "      <td>0.510</td>\n",
              "      <td>0.13</td>\n",
              "      <td>2.3</td>\n",
              "      <td>0.076</td>\n",
              "      <td>29.0</td>\n",
              "      <td>40.0</td>\n",
              "      <td>0.99574</td>\n",
              "      <td>3.42</td>\n",
              "      <td>0.75</td>\n",
              "      <td>11.0</td>\n",
              "      <td>6</td>\n",
              "      <td>red</td>\n",
              "    </tr>\n",
              "    <tr>\n",
              "      <th>6495</th>\n",
              "      <td>5.9</td>\n",
              "      <td>0.645</td>\n",
              "      <td>0.12</td>\n",
              "      <td>2.0</td>\n",
              "      <td>0.075</td>\n",
              "      <td>32.0</td>\n",
              "      <td>44.0</td>\n",
              "      <td>0.99547</td>\n",
              "      <td>3.57</td>\n",
              "      <td>0.71</td>\n",
              "      <td>10.2</td>\n",
              "      <td>5</td>\n",
              "      <td>red</td>\n",
              "    </tr>\n",
              "    <tr>\n",
              "      <th>6496</th>\n",
              "      <td>6.0</td>\n",
              "      <td>0.310</td>\n",
              "      <td>0.47</td>\n",
              "      <td>3.6</td>\n",
              "      <td>0.067</td>\n",
              "      <td>18.0</td>\n",
              "      <td>42.0</td>\n",
              "      <td>0.99549</td>\n",
              "      <td>3.39</td>\n",
              "      <td>0.66</td>\n",
              "      <td>11.0</td>\n",
              "      <td>6</td>\n",
              "      <td>red</td>\n",
              "    </tr>\n",
              "  </tbody>\n",
              "</table>\n",
              "<p>6497 rows × 13 columns</p>\n",
              "</div>\n",
              "      <button class=\"colab-df-convert\" onclick=\"convertToInteractive('df-668ee802-9938-4eb0-a072-6e537f39588b')\"\n",
              "              title=\"Convert this dataframe to an interactive table.\"\n",
              "              style=\"display:none;\">\n",
              "        \n",
              "  <svg xmlns=\"http://www.w3.org/2000/svg\" height=\"24px\"viewBox=\"0 0 24 24\"\n",
              "       width=\"24px\">\n",
              "    <path d=\"M0 0h24v24H0V0z\" fill=\"none\"/>\n",
              "    <path d=\"M18.56 5.44l.94 2.06.94-2.06 2.06-.94-2.06-.94-.94-2.06-.94 2.06-2.06.94zm-11 1L8.5 8.5l.94-2.06 2.06-.94-2.06-.94L8.5 2.5l-.94 2.06-2.06.94zm10 10l.94 2.06.94-2.06 2.06-.94-2.06-.94-.94-2.06-.94 2.06-2.06.94z\"/><path d=\"M17.41 7.96l-1.37-1.37c-.4-.4-.92-.59-1.43-.59-.52 0-1.04.2-1.43.59L10.3 9.45l-7.72 7.72c-.78.78-.78 2.05 0 2.83L4 21.41c.39.39.9.59 1.41.59.51 0 1.02-.2 1.41-.59l7.78-7.78 2.81-2.81c.8-.78.8-2.07 0-2.86zM5.41 20L4 18.59l7.72-7.72 1.47 1.35L5.41 20z\"/>\n",
              "  </svg>\n",
              "      </button>\n",
              "      \n",
              "  <style>\n",
              "    .colab-df-container {\n",
              "      display:flex;\n",
              "      flex-wrap:wrap;\n",
              "      gap: 12px;\n",
              "    }\n",
              "\n",
              "    .colab-df-convert {\n",
              "      background-color: #E8F0FE;\n",
              "      border: none;\n",
              "      border-radius: 50%;\n",
              "      cursor: pointer;\n",
              "      display: none;\n",
              "      fill: #1967D2;\n",
              "      height: 32px;\n",
              "      padding: 0 0 0 0;\n",
              "      width: 32px;\n",
              "    }\n",
              "\n",
              "    .colab-df-convert:hover {\n",
              "      background-color: #E2EBFA;\n",
              "      box-shadow: 0px 1px 2px rgba(60, 64, 67, 0.3), 0px 1px 3px 1px rgba(60, 64, 67, 0.15);\n",
              "      fill: #174EA6;\n",
              "    }\n",
              "\n",
              "    [theme=dark] .colab-df-convert {\n",
              "      background-color: #3B4455;\n",
              "      fill: #D2E3FC;\n",
              "    }\n",
              "\n",
              "    [theme=dark] .colab-df-convert:hover {\n",
              "      background-color: #434B5C;\n",
              "      box-shadow: 0px 1px 3px 1px rgba(0, 0, 0, 0.15);\n",
              "      filter: drop-shadow(0px 1px 2px rgba(0, 0, 0, 0.3));\n",
              "      fill: #FFFFFF;\n",
              "    }\n",
              "  </style>\n",
              "\n",
              "      <script>\n",
              "        const buttonEl =\n",
              "          document.querySelector('#df-668ee802-9938-4eb0-a072-6e537f39588b button.colab-df-convert');\n",
              "        buttonEl.style.display =\n",
              "          google.colab.kernel.accessAllowed ? 'block' : 'none';\n",
              "\n",
              "        async function convertToInteractive(key) {\n",
              "          const element = document.querySelector('#df-668ee802-9938-4eb0-a072-6e537f39588b');\n",
              "          const dataTable =\n",
              "            await google.colab.kernel.invokeFunction('convertToInteractive',\n",
              "                                                     [key], {});\n",
              "          if (!dataTable) return;\n",
              "\n",
              "          const docLinkHtml = 'Like what you see? Visit the ' +\n",
              "            '<a target=\"_blank\" href=https://colab.research.google.com/notebooks/data_table.ipynb>data table notebook</a>'\n",
              "            + ' to learn more about interactive tables.';\n",
              "          element.innerHTML = '';\n",
              "          dataTable['output_type'] = 'display_data';\n",
              "          await google.colab.output.renderOutput(dataTable, element);\n",
              "          const docLink = document.createElement('div');\n",
              "          docLink.innerHTML = docLinkHtml;\n",
              "          element.appendChild(docLink);\n",
              "        }\n",
              "      </script>\n",
              "    </div>\n",
              "  </div>\n",
              "  "
            ]
          },
          "metadata": {},
          "execution_count": 3
        }
      ]
    },
    {
      "cell_type": "code",
      "metadata": {
        "colab": {
          "base_uri": "https://localhost:8080/"
        },
        "id": "v4tG3aszSHwx",
        "outputId": "390e9e53-d474-4d66-87bb-da97a800f80d"
      },
      "source": [
        "data.quality.value_counts()"
      ],
      "execution_count": null,
      "outputs": [
        {
          "output_type": "execute_result",
          "data": {
            "text/plain": [
              "6    2836\n",
              "5    2138\n",
              "7    1079\n",
              "4     216\n",
              "8     193\n",
              "3      30\n",
              "9       5\n",
              "Name: quality, dtype: int64"
            ]
          },
          "metadata": {},
          "execution_count": 27
        }
      ]
    },
    {
      "cell_type": "code",
      "metadata": {
        "colab": {
          "base_uri": "https://localhost:8080/"
        },
        "id": "Aulg4Pz5SIDO",
        "outputId": "4df1160f-471f-4931-8b12-a2a57882c979"
      },
      "source": [
        "data.type.value_counts()"
      ],
      "execution_count": null,
      "outputs": [
        {
          "output_type": "execute_result",
          "data": {
            "text/plain": [
              "white    4898\n",
              "red      1599\n",
              "Name: type, dtype: int64"
            ]
          },
          "metadata": {},
          "execution_count": 28
        }
      ]
    },
    {
      "cell_type": "markdown",
      "metadata": {
        "id": "ijwzlA_FQwHq"
      },
      "source": [
        "# Ejercicio 2.1\n",
        "\n",
        "Mostrar la tabla de frecuencias de la calidad por tipo de vino."
      ]
    },
    {
      "cell_type": "markdown",
      "source": [
        "Vino rojo"
      ],
      "metadata": {
        "id": "6-M1GT4MaNLl"
      }
    },
    {
      "cell_type": "code",
      "source": [
        "(data_r \n",
        "  .groupby(\"quality\")\n",
        "  .agg(frequency=(\"quality\", \"count\")))"
      ],
      "metadata": {
        "colab": {
          "base_uri": "https://localhost:8080/",
          "height": 269
        },
        "id": "lDvQqzw8aF5Y",
        "outputId": "51b4dfe7-6747-4fb2-ac75-749b45c11b67"
      },
      "execution_count": null,
      "outputs": [
        {
          "output_type": "execute_result",
          "data": {
            "text/plain": [
              "         frequency\n",
              "quality           \n",
              "3               10\n",
              "4               53\n",
              "5              681\n",
              "6              638\n",
              "7              199\n",
              "8               18"
            ],
            "text/html": [
              "\n",
              "  <div id=\"df-8157762d-469c-4e9e-bdf1-3c800c839066\">\n",
              "    <div class=\"colab-df-container\">\n",
              "      <div>\n",
              "<style scoped>\n",
              "    .dataframe tbody tr th:only-of-type {\n",
              "        vertical-align: middle;\n",
              "    }\n",
              "\n",
              "    .dataframe tbody tr th {\n",
              "        vertical-align: top;\n",
              "    }\n",
              "\n",
              "    .dataframe thead th {\n",
              "        text-align: right;\n",
              "    }\n",
              "</style>\n",
              "<table border=\"1\" class=\"dataframe\">\n",
              "  <thead>\n",
              "    <tr style=\"text-align: right;\">\n",
              "      <th></th>\n",
              "      <th>frequency</th>\n",
              "    </tr>\n",
              "    <tr>\n",
              "      <th>quality</th>\n",
              "      <th></th>\n",
              "    </tr>\n",
              "  </thead>\n",
              "  <tbody>\n",
              "    <tr>\n",
              "      <th>3</th>\n",
              "      <td>10</td>\n",
              "    </tr>\n",
              "    <tr>\n",
              "      <th>4</th>\n",
              "      <td>53</td>\n",
              "    </tr>\n",
              "    <tr>\n",
              "      <th>5</th>\n",
              "      <td>681</td>\n",
              "    </tr>\n",
              "    <tr>\n",
              "      <th>6</th>\n",
              "      <td>638</td>\n",
              "    </tr>\n",
              "    <tr>\n",
              "      <th>7</th>\n",
              "      <td>199</td>\n",
              "    </tr>\n",
              "    <tr>\n",
              "      <th>8</th>\n",
              "      <td>18</td>\n",
              "    </tr>\n",
              "  </tbody>\n",
              "</table>\n",
              "</div>\n",
              "      <button class=\"colab-df-convert\" onclick=\"convertToInteractive('df-8157762d-469c-4e9e-bdf1-3c800c839066')\"\n",
              "              title=\"Convert this dataframe to an interactive table.\"\n",
              "              style=\"display:none;\">\n",
              "        \n",
              "  <svg xmlns=\"http://www.w3.org/2000/svg\" height=\"24px\"viewBox=\"0 0 24 24\"\n",
              "       width=\"24px\">\n",
              "    <path d=\"M0 0h24v24H0V0z\" fill=\"none\"/>\n",
              "    <path d=\"M18.56 5.44l.94 2.06.94-2.06 2.06-.94-2.06-.94-.94-2.06-.94 2.06-2.06.94zm-11 1L8.5 8.5l.94-2.06 2.06-.94-2.06-.94L8.5 2.5l-.94 2.06-2.06.94zm10 10l.94 2.06.94-2.06 2.06-.94-2.06-.94-.94-2.06-.94 2.06-2.06.94z\"/><path d=\"M17.41 7.96l-1.37-1.37c-.4-.4-.92-.59-1.43-.59-.52 0-1.04.2-1.43.59L10.3 9.45l-7.72 7.72c-.78.78-.78 2.05 0 2.83L4 21.41c.39.39.9.59 1.41.59.51 0 1.02-.2 1.41-.59l7.78-7.78 2.81-2.81c.8-.78.8-2.07 0-2.86zM5.41 20L4 18.59l7.72-7.72 1.47 1.35L5.41 20z\"/>\n",
              "  </svg>\n",
              "      </button>\n",
              "      \n",
              "  <style>\n",
              "    .colab-df-container {\n",
              "      display:flex;\n",
              "      flex-wrap:wrap;\n",
              "      gap: 12px;\n",
              "    }\n",
              "\n",
              "    .colab-df-convert {\n",
              "      background-color: #E8F0FE;\n",
              "      border: none;\n",
              "      border-radius: 50%;\n",
              "      cursor: pointer;\n",
              "      display: none;\n",
              "      fill: #1967D2;\n",
              "      height: 32px;\n",
              "      padding: 0 0 0 0;\n",
              "      width: 32px;\n",
              "    }\n",
              "\n",
              "    .colab-df-convert:hover {\n",
              "      background-color: #E2EBFA;\n",
              "      box-shadow: 0px 1px 2px rgba(60, 64, 67, 0.3), 0px 1px 3px 1px rgba(60, 64, 67, 0.15);\n",
              "      fill: #174EA6;\n",
              "    }\n",
              "\n",
              "    [theme=dark] .colab-df-convert {\n",
              "      background-color: #3B4455;\n",
              "      fill: #D2E3FC;\n",
              "    }\n",
              "\n",
              "    [theme=dark] .colab-df-convert:hover {\n",
              "      background-color: #434B5C;\n",
              "      box-shadow: 0px 1px 3px 1px rgba(0, 0, 0, 0.15);\n",
              "      filter: drop-shadow(0px 1px 2px rgba(0, 0, 0, 0.3));\n",
              "      fill: #FFFFFF;\n",
              "    }\n",
              "  </style>\n",
              "\n",
              "      <script>\n",
              "        const buttonEl =\n",
              "          document.querySelector('#df-8157762d-469c-4e9e-bdf1-3c800c839066 button.colab-df-convert');\n",
              "        buttonEl.style.display =\n",
              "          google.colab.kernel.accessAllowed ? 'block' : 'none';\n",
              "\n",
              "        async function convertToInteractive(key) {\n",
              "          const element = document.querySelector('#df-8157762d-469c-4e9e-bdf1-3c800c839066');\n",
              "          const dataTable =\n",
              "            await google.colab.kernel.invokeFunction('convertToInteractive',\n",
              "                                                     [key], {});\n",
              "          if (!dataTable) return;\n",
              "\n",
              "          const docLinkHtml = 'Like what you see? Visit the ' +\n",
              "            '<a target=\"_blank\" href=https://colab.research.google.com/notebooks/data_table.ipynb>data table notebook</a>'\n",
              "            + ' to learn more about interactive tables.';\n",
              "          element.innerHTML = '';\n",
              "          dataTable['output_type'] = 'display_data';\n",
              "          await google.colab.output.renderOutput(dataTable, element);\n",
              "          const docLink = document.createElement('div');\n",
              "          docLink.innerHTML = docLinkHtml;\n",
              "          element.appendChild(docLink);\n",
              "        }\n",
              "      </script>\n",
              "    </div>\n",
              "  </div>\n",
              "  "
            ]
          },
          "metadata": {},
          "execution_count": 29
        }
      ]
    },
    {
      "cell_type": "markdown",
      "source": [
        "Vino Blanco"
      ],
      "metadata": {
        "id": "bvN3oDKxaOkX"
      }
    },
    {
      "cell_type": "code",
      "source": [
        "(data_w \n",
        "  .groupby(\"quality\")\n",
        "  .agg(frequency=(\"quality\", \"count\")))"
      ],
      "metadata": {
        "colab": {
          "base_uri": "https://localhost:8080/",
          "height": 300
        },
        "id": "RPVC_gknaF2u",
        "outputId": "fb763e0c-2a1e-4a03-ab61-571104fae899"
      },
      "execution_count": null,
      "outputs": [
        {
          "output_type": "execute_result",
          "data": {
            "text/plain": [
              "         frequency\n",
              "quality           \n",
              "3               20\n",
              "4              163\n",
              "5             1457\n",
              "6             2198\n",
              "7              880\n",
              "8              175\n",
              "9                5"
            ],
            "text/html": [
              "\n",
              "  <div id=\"df-28edf6be-92ef-49a0-a140-29c84115aaa4\">\n",
              "    <div class=\"colab-df-container\">\n",
              "      <div>\n",
              "<style scoped>\n",
              "    .dataframe tbody tr th:only-of-type {\n",
              "        vertical-align: middle;\n",
              "    }\n",
              "\n",
              "    .dataframe tbody tr th {\n",
              "        vertical-align: top;\n",
              "    }\n",
              "\n",
              "    .dataframe thead th {\n",
              "        text-align: right;\n",
              "    }\n",
              "</style>\n",
              "<table border=\"1\" class=\"dataframe\">\n",
              "  <thead>\n",
              "    <tr style=\"text-align: right;\">\n",
              "      <th></th>\n",
              "      <th>frequency</th>\n",
              "    </tr>\n",
              "    <tr>\n",
              "      <th>quality</th>\n",
              "      <th></th>\n",
              "    </tr>\n",
              "  </thead>\n",
              "  <tbody>\n",
              "    <tr>\n",
              "      <th>3</th>\n",
              "      <td>20</td>\n",
              "    </tr>\n",
              "    <tr>\n",
              "      <th>4</th>\n",
              "      <td>163</td>\n",
              "    </tr>\n",
              "    <tr>\n",
              "      <th>5</th>\n",
              "      <td>1457</td>\n",
              "    </tr>\n",
              "    <tr>\n",
              "      <th>6</th>\n",
              "      <td>2198</td>\n",
              "    </tr>\n",
              "    <tr>\n",
              "      <th>7</th>\n",
              "      <td>880</td>\n",
              "    </tr>\n",
              "    <tr>\n",
              "      <th>8</th>\n",
              "      <td>175</td>\n",
              "    </tr>\n",
              "    <tr>\n",
              "      <th>9</th>\n",
              "      <td>5</td>\n",
              "    </tr>\n",
              "  </tbody>\n",
              "</table>\n",
              "</div>\n",
              "      <button class=\"colab-df-convert\" onclick=\"convertToInteractive('df-28edf6be-92ef-49a0-a140-29c84115aaa4')\"\n",
              "              title=\"Convert this dataframe to an interactive table.\"\n",
              "              style=\"display:none;\">\n",
              "        \n",
              "  <svg xmlns=\"http://www.w3.org/2000/svg\" height=\"24px\"viewBox=\"0 0 24 24\"\n",
              "       width=\"24px\">\n",
              "    <path d=\"M0 0h24v24H0V0z\" fill=\"none\"/>\n",
              "    <path d=\"M18.56 5.44l.94 2.06.94-2.06 2.06-.94-2.06-.94-.94-2.06-.94 2.06-2.06.94zm-11 1L8.5 8.5l.94-2.06 2.06-.94-2.06-.94L8.5 2.5l-.94 2.06-2.06.94zm10 10l.94 2.06.94-2.06 2.06-.94-2.06-.94-.94-2.06-.94 2.06-2.06.94z\"/><path d=\"M17.41 7.96l-1.37-1.37c-.4-.4-.92-.59-1.43-.59-.52 0-1.04.2-1.43.59L10.3 9.45l-7.72 7.72c-.78.78-.78 2.05 0 2.83L4 21.41c.39.39.9.59 1.41.59.51 0 1.02-.2 1.41-.59l7.78-7.78 2.81-2.81c.8-.78.8-2.07 0-2.86zM5.41 20L4 18.59l7.72-7.72 1.47 1.35L5.41 20z\"/>\n",
              "  </svg>\n",
              "      </button>\n",
              "      \n",
              "  <style>\n",
              "    .colab-df-container {\n",
              "      display:flex;\n",
              "      flex-wrap:wrap;\n",
              "      gap: 12px;\n",
              "    }\n",
              "\n",
              "    .colab-df-convert {\n",
              "      background-color: #E8F0FE;\n",
              "      border: none;\n",
              "      border-radius: 50%;\n",
              "      cursor: pointer;\n",
              "      display: none;\n",
              "      fill: #1967D2;\n",
              "      height: 32px;\n",
              "      padding: 0 0 0 0;\n",
              "      width: 32px;\n",
              "    }\n",
              "\n",
              "    .colab-df-convert:hover {\n",
              "      background-color: #E2EBFA;\n",
              "      box-shadow: 0px 1px 2px rgba(60, 64, 67, 0.3), 0px 1px 3px 1px rgba(60, 64, 67, 0.15);\n",
              "      fill: #174EA6;\n",
              "    }\n",
              "\n",
              "    [theme=dark] .colab-df-convert {\n",
              "      background-color: #3B4455;\n",
              "      fill: #D2E3FC;\n",
              "    }\n",
              "\n",
              "    [theme=dark] .colab-df-convert:hover {\n",
              "      background-color: #434B5C;\n",
              "      box-shadow: 0px 1px 3px 1px rgba(0, 0, 0, 0.15);\n",
              "      filter: drop-shadow(0px 1px 2px rgba(0, 0, 0, 0.3));\n",
              "      fill: #FFFFFF;\n",
              "    }\n",
              "  </style>\n",
              "\n",
              "      <script>\n",
              "        const buttonEl =\n",
              "          document.querySelector('#df-28edf6be-92ef-49a0-a140-29c84115aaa4 button.colab-df-convert');\n",
              "        buttonEl.style.display =\n",
              "          google.colab.kernel.accessAllowed ? 'block' : 'none';\n",
              "\n",
              "        async function convertToInteractive(key) {\n",
              "          const element = document.querySelector('#df-28edf6be-92ef-49a0-a140-29c84115aaa4');\n",
              "          const dataTable =\n",
              "            await google.colab.kernel.invokeFunction('convertToInteractive',\n",
              "                                                     [key], {});\n",
              "          if (!dataTable) return;\n",
              "\n",
              "          const docLinkHtml = 'Like what you see? Visit the ' +\n",
              "            '<a target=\"_blank\" href=https://colab.research.google.com/notebooks/data_table.ipynb>data table notebook</a>'\n",
              "            + ' to learn more about interactive tables.';\n",
              "          element.innerHTML = '';\n",
              "          dataTable['output_type'] = 'display_data';\n",
              "          await google.colab.output.renderOutput(dataTable, element);\n",
              "          const docLink = document.createElement('div');\n",
              "          docLink.innerHTML = docLinkHtml;\n",
              "          element.appendChild(docLink);\n",
              "        }\n",
              "      </script>\n",
              "    </div>\n",
              "  </div>\n",
              "  "
            ]
          },
          "metadata": {},
          "execution_count": 30
        }
      ]
    },
    {
      "cell_type": "markdown",
      "metadata": {
        "id": "0kggmI76QwHv"
      },
      "source": [
        "# Ejercicio 2.2\n",
        "\n",
        "Teniendo en cuenta todas las variables:\n",
        "\n",
        "* Crear un objetivo binario para cada tipo de vino, haciendo la transformación necesaria para ingresar la información al modelo.\n",
        "* Crear una SVM que prediga el tipo de vino\n",
        "* Evalúe con F1, AUC-ROC y log-loss\n"
      ]
    },
    {
      "cell_type": "code",
      "metadata": {
        "collapsed": true,
        "id": "lsL5zSQmQwHz"
      },
      "source": [
        "from sklearn.preprocessing import label_binarize\n",
        "#Crear un objetivo binario para cada tipo de vino, haciendo la transformación necesaria para ingresar la información al modelo.\n",
        "X = np.array(data.drop(['type'], 1))\n",
        "y = np.array(data['type'])\n",
        "y = label_binarize(y, classes=[\"red\",\"white\"])"
      ],
      "execution_count": null,
      "outputs": []
    },
    {
      "cell_type": "code",
      "source": [
        "from sklearn import preprocessing, metrics, model_selection\n",
        "import pandas as pd\n",
        "from sklearn.metrics import roc_auc_score, accuracy_score, make_scorer, roc_curve, auc\n",
        "from sklearn.model_selection import train_test_split\n",
        "from sklearn.model_selection import GridSearchCV"
      ],
      "metadata": {
        "id": "ikv-3MI9bPGb"
      },
      "execution_count": null,
      "outputs": []
    },
    {
      "cell_type": "code",
      "source": [
        "X_train, X_test, y_train, y_test = model_selection.train_test_split(X, y, test_size=0.3)"
      ],
      "metadata": {
        "id": "xRvVc9UUbYGz"
      },
      "execution_count": null,
      "outputs": []
    },
    {
      "cell_type": "code",
      "source": [
        "import warnings\n",
        "warnings.filterwarnings('ignore')"
      ],
      "metadata": {
        "id": "Fiz1T6dLbu8C"
      },
      "execution_count": null,
      "outputs": []
    },
    {
      "cell_type": "code",
      "source": [
        "#Crear una SVM que prediga el tipo de vino\n",
        "from sklearn.svm import SVC\n",
        "modSVC = SVC(kernel='linear', probability = True)\n",
        "modSVC.fit(X_train, y_train)"
      ],
      "metadata": {
        "id": "ek0_pblUfjgv",
        "colab": {
          "base_uri": "https://localhost:8080/"
        },
        "outputId": "d3abeece-bb8e-4eee-d5ac-b26a5d14b2fa"
      },
      "execution_count": null,
      "outputs": [
        {
          "output_type": "execute_result",
          "data": {
            "text/plain": [
              "SVC(kernel='linear', probability=True)"
            ]
          },
          "metadata": {},
          "execution_count": 49
        }
      ]
    },
    {
      "cell_type": "code",
      "source": [
        "y_pred = modSVC.predict(X_test);y_pred "
      ],
      "metadata": {
        "colab": {
          "base_uri": "https://localhost:8080/"
        },
        "id": "VScnXYvbo1O1",
        "outputId": "5203e5a3-4bb5-4570-b25b-df3d18f73769"
      },
      "execution_count": null,
      "outputs": [
        {
          "output_type": "execute_result",
          "data": {
            "text/plain": [
              "array([1, 1, 1, ..., 1, 1, 0])"
            ]
          },
          "metadata": {},
          "execution_count": 50
        }
      ]
    },
    {
      "cell_type": "code",
      "source": [
        "print(\"Cantidad de vinos reales que son blancos:\", y_test.sum())\n",
        "print(\"Cantidad de vinos estimados que son blancos:\", y_pred.sum())"
      ],
      "metadata": {
        "colab": {
          "base_uri": "https://localhost:8080/"
        },
        "id": "MVLR8Rnio7XU",
        "outputId": "36b98edf-b7dc-4897-c6f9-dfc34c1e2a79"
      },
      "execution_count": null,
      "outputs": [
        {
          "output_type": "stream",
          "name": "stdout",
          "text": [
            "Cantidad de vinos reales que son blancos: 1461\n",
            "Cantidad de vinos estimados que son blancos: 1462\n"
          ]
        }
      ]
    },
    {
      "cell_type": "code",
      "source": [
        "print(\"Cantidad de vinos reales que son rojos:\", len(y_test)-y_test.sum())\n",
        "print(\"Cantidad de vinos estimados que son rojos:\",len(y_pred)- y_pred.sum())"
      ],
      "metadata": {
        "colab": {
          "base_uri": "https://localhost:8080/"
        },
        "id": "MrRozIxqp7RM",
        "outputId": "6d9429ba-a574-4982-88d9-19143ec5b289"
      },
      "execution_count": null,
      "outputs": [
        {
          "output_type": "stream",
          "name": "stdout",
          "text": [
            "Cantidad de vinos reales que son rojos: 489\n",
            "Cantidad de vinos estimados que son rojos: 488\n"
          ]
        }
      ]
    },
    {
      "cell_type": "code",
      "source": [
        "y_pred_prob = modSVC.predict_proba(X_test); y_pred_prob"
      ],
      "metadata": {
        "colab": {
          "base_uri": "https://localhost:8080/"
        },
        "id": "y8w06r_SotBU",
        "outputId": "e5d50e42-0c14-417b-eb6a-d38733aadbca"
      },
      "execution_count": null,
      "outputs": [
        {
          "output_type": "execute_result",
          "data": {
            "text/plain": [
              "array([[2.07531135e-09, 9.99999998e-01],\n",
              "       [2.75705357e-09, 9.99999997e-01],\n",
              "       [3.26366882e-01, 6.73633118e-01],\n",
              "       ...,\n",
              "       [1.86401752e-05, 9.99981360e-01],\n",
              "       [9.94987502e-01, 5.01249757e-03],\n",
              "       [6.73432113e-03, 9.93265679e-01]])"
            ]
          },
          "metadata": {},
          "execution_count": 10
        }
      ]
    },
    {
      "cell_type": "code",
      "source": [
        "# calculate log loss\n",
        "from sklearn import metrics\n",
        "print(metrics.log_loss(y_test, y_pred_prob))"
      ],
      "metadata": {
        "colab": {
          "base_uri": "https://localhost:8080/"
        },
        "id": "H_reO1rRos-l",
        "outputId": "d0cfce3a-0a68-4171-bff5-e4df4a668a1c"
      },
      "execution_count": null,
      "outputs": [
        {
          "output_type": "stream",
          "name": "stdout",
          "text": [
            "0.056433488017590676\n"
          ]
        }
      ]
    },
    {
      "cell_type": "code",
      "source": [
        "#Calcular F1 \n",
        "print(metrics.f1_score(y_test, y_pred))"
      ],
      "metadata": {
        "colab": {
          "base_uri": "https://localhost:8080/"
        },
        "id": "UZpiIg4-u6wW",
        "outputId": "3e1a00fa-765d-4941-9f00-145a8aab0b7a"
      },
      "execution_count": null,
      "outputs": [
        {
          "output_type": "stream",
          "name": "stdout",
          "text": [
            "0.991216216216216\n"
          ]
        }
      ]
    },
    {
      "cell_type": "code",
      "source": [
        "#AUC-ROC \n",
        "print(metrics.roc_auc_score(y_test, y_pred))"
      ],
      "metadata": {
        "colab": {
          "base_uri": "https://localhost:8080/"
        },
        "id": "tY2Ak1tdvrnd",
        "outputId": "84d689ee-1a62-4d44-80a5-bcadb068ee90"
      },
      "execution_count": null,
      "outputs": [
        {
          "output_type": "stream",
          "name": "stdout",
          "text": [
            "0.9803889245659503\n"
          ]
        }
      ]
    },
    {
      "cell_type": "markdown",
      "metadata": {
        "id": "auNsSHtsQwH1"
      },
      "source": [
        "# Ejercicio 2.3\n",
        "\n",
        "* Probar la SVM utilizando los diferentes kernels ('poly', 'rbf', 'sigmoid')\n",
        "* Evalúe con F1, AUC-ROC y log-loss\n"
      ]
    },
    {
      "cell_type": "markdown",
      "source": [
        "POLY"
      ],
      "metadata": {
        "id": "EMUjkAopFOx5"
      }
    },
    {
      "cell_type": "code",
      "metadata": {
        "collapsed": true,
        "id": "f6adIqmAQwH4",
        "colab": {
          "base_uri": "https://localhost:8080/"
        },
        "outputId": "480ecf33-caa5-427f-bcb0-65aec0d7864f"
      },
      "source": [
        "from sklearn.svm import SVC\n",
        "modSVC = SVC(kernel='poly', probability = True)\n",
        "modSVC.fit(X_train, y_train)"
      ],
      "execution_count": null,
      "outputs": [
        {
          "output_type": "execute_result",
          "data": {
            "text/plain": [
              "SVC(kernel='poly', probability=True)"
            ]
          },
          "metadata": {},
          "execution_count": 55
        }
      ]
    },
    {
      "cell_type": "code",
      "source": [
        "#Evalúe con F1, AUC-ROC y log-loss"
      ],
      "metadata": {
        "id": "nDFUP144CWel"
      },
      "execution_count": null,
      "outputs": []
    },
    {
      "cell_type": "code",
      "source": [
        "y_pred_prob = modSVC.predict_proba(X_test)\n",
        "y_pred = modSVC.predict(X_test)"
      ],
      "metadata": {
        "id": "wzWP2y8zC3uk"
      },
      "execution_count": null,
      "outputs": []
    },
    {
      "cell_type": "code",
      "source": [
        "print(\"Cantidad de vinos reales que son blancos:\", y_test.sum())\n",
        "print(\"Cantidad de vinos estimados que son blancos:\", y_pred.sum())"
      ],
      "metadata": {
        "colab": {
          "base_uri": "https://localhost:8080/"
        },
        "id": "3MwaJOILqxQm",
        "outputId": "c735f5bb-2625-43c9-bca1-801871b34811"
      },
      "execution_count": null,
      "outputs": [
        {
          "output_type": "stream",
          "name": "stdout",
          "text": [
            "Cantidad de vinos reales que son blancos: 1461\n",
            "Cantidad de vinos estimados que son blancos: 1447\n"
          ]
        }
      ]
    },
    {
      "cell_type": "code",
      "source": [
        "print(\"Cantidad de vinos reales que son rojos:\", len(y_test)-y_test.sum())\n",
        "print(\"Cantidad de vinos estimados que son rojos:\",len(y_pred)- y_pred.sum())"
      ],
      "metadata": {
        "colab": {
          "base_uri": "https://localhost:8080/"
        },
        "id": "nBfefG3xrIlx",
        "outputId": "7015ea33-3748-4508-c53b-d1f6b065fb29"
      },
      "execution_count": null,
      "outputs": [
        {
          "output_type": "stream",
          "name": "stdout",
          "text": [
            "Cantidad de vinos reales que son rojos: 489\n",
            "Cantidad de vinos estimados que son rojos: 503\n"
          ]
        }
      ]
    },
    {
      "cell_type": "code",
      "source": [
        "print(\"Log loss: \", metrics.log_loss(y_test, y_pred_prob))\n",
        "print(\"F1: \", metrics.f1_score(y_test, y_pred))\n",
        "print(\"AUC-ROC: \", metrics.roc_auc_score(y_test, y_pred))"
      ],
      "metadata": {
        "colab": {
          "base_uri": "https://localhost:8080/"
        },
        "id": "rfx3e8EpCuAb",
        "outputId": "5b76eaa9-4b70-46f8-ae92-08305bbe73e3"
      },
      "execution_count": null,
      "outputs": [
        {
          "output_type": "stream",
          "name": "stdout",
          "text": [
            "Log loss:  0.255097450380746\n",
            "F1:  0.9461199593358185\n",
            "AUC-ROC:  0.8906920139446343\n"
          ]
        }
      ]
    },
    {
      "cell_type": "markdown",
      "source": [
        "RBF"
      ],
      "metadata": {
        "id": "AOxTzDbYFM6Y"
      }
    },
    {
      "cell_type": "code",
      "source": [
        "from sklearn.svm import SVC\n",
        "modSVC_2 = SVC(kernel='rbf', probability = True)\n",
        "modSVC_2.fit(X_train, y_train)"
      ],
      "metadata": {
        "colab": {
          "base_uri": "https://localhost:8080/"
        },
        "id": "tb76hTd35huZ",
        "outputId": "30126aac-338c-4fb6-9f69-57da55544a6c"
      },
      "execution_count": null,
      "outputs": [
        {
          "output_type": "execute_result",
          "data": {
            "text/plain": [
              "SVC(probability=True)"
            ]
          },
          "metadata": {},
          "execution_count": 59
        }
      ]
    },
    {
      "cell_type": "code",
      "source": [
        "y_pred_prob_2 = modSVC_2.predict_proba(X_test)\n",
        "y_pred_2 = modSVC_2.predict(X_test)"
      ],
      "metadata": {
        "id": "3syll6DaD4bc"
      },
      "execution_count": null,
      "outputs": []
    },
    {
      "cell_type": "code",
      "source": [
        "print(\"Cantidad de vinos reales que son blancos:\", y_test.sum())\n",
        "print(\"Cantidad de vinos estimados que son blancos:\", y_pred_2.sum())"
      ],
      "metadata": {
        "colab": {
          "base_uri": "https://localhost:8080/"
        },
        "id": "-hwuv7Yat4Hx",
        "outputId": "a3221a38-9e09-4918-885c-78c7fea76be7"
      },
      "execution_count": null,
      "outputs": [
        {
          "output_type": "stream",
          "name": "stdout",
          "text": [
            "Cantidad de vinos reales que son blancos: 1461\n",
            "Cantidad de vinos estimados que son blancos: 1524\n"
          ]
        }
      ]
    },
    {
      "cell_type": "code",
      "source": [
        "print(\"Cantidad de vinos reales que son rojos:\", len(y_test)-y_test.sum())\n",
        "print(\"Cantidad de vinos estimados que son rojos:\",len(y_pred_2)- y_pred_2.sum())"
      ],
      "metadata": {
        "colab": {
          "base_uri": "https://localhost:8080/"
        },
        "id": "vtjWf7Ivt7Re",
        "outputId": "a50bde0d-f999-4dbd-a890-731052416117"
      },
      "execution_count": null,
      "outputs": [
        {
          "output_type": "stream",
          "name": "stdout",
          "text": [
            "Cantidad de vinos reales que son rojos: 489\n",
            "Cantidad de vinos estimados que son rojos: 426\n"
          ]
        }
      ]
    },
    {
      "cell_type": "code",
      "source": [
        "#Evalúe con F1, AUC-ROC y log-loss"
      ],
      "metadata": {
        "id": "zv2mVnkZCZX7"
      },
      "execution_count": null,
      "outputs": []
    },
    {
      "cell_type": "code",
      "source": [
        "print(\"Log loss: \", metrics.log_loss(y_test, y_pred_prob_2))\n",
        "print(\"F1: \", metrics.f1_score(y_test, y_pred_2))\n",
        "print(\"AUC-ROC: \", metrics.roc_auc_score(y_test, y_pred_2))"
      ],
      "metadata": {
        "colab": {
          "base_uri": "https://localhost:8080/"
        },
        "id": "a6KVyIEGDwjU",
        "outputId": "953ce0e1-63da-4307-89e2-9e056e7dece8"
      },
      "execution_count": null,
      "outputs": [
        {
          "output_type": "stream",
          "name": "stdout",
          "text": [
            "Log loss:  0.21850691786111306\n",
            "F1:  0.9567839195979899\n",
            "AUC-ROC:  0.8905468563006262\n"
          ]
        }
      ]
    },
    {
      "cell_type": "markdown",
      "source": [
        "SIGMOID"
      ],
      "metadata": {
        "id": "1Iq1t28eFK4x"
      }
    },
    {
      "cell_type": "code",
      "source": [
        "from sklearn.svm import SVC\n",
        "modSVC_3 = SVC(kernel='sigmoid', probability = True)\n",
        "modSVC_3.fit(X_train, y_train)"
      ],
      "metadata": {
        "colab": {
          "base_uri": "https://localhost:8080/"
        },
        "id": "m60wxStf5qxw",
        "outputId": "d9b06fe4-ba8f-4cba-d7af-70c953bac64d"
      },
      "execution_count": null,
      "outputs": [
        {
          "output_type": "execute_result",
          "data": {
            "text/plain": [
              "SVC(kernel='sigmoid', probability=True)"
            ]
          },
          "metadata": {},
          "execution_count": 63
        }
      ]
    },
    {
      "cell_type": "code",
      "source": [
        "y_pred_prob_3 = modSVC_3.predict_proba(X_test)\n",
        "y_pred_3 = modSVC_3.predict(X_test)"
      ],
      "metadata": {
        "id": "80e08lceEQtj"
      },
      "execution_count": null,
      "outputs": []
    },
    {
      "cell_type": "code",
      "source": [
        "print(\"Cantidad de vinos reales que son blancos:\", y_test.sum())\n",
        "print(\"Cantidad de vinos estimados que son blancos:\", y_pred_3.sum())"
      ],
      "metadata": {
        "colab": {
          "base_uri": "https://localhost:8080/"
        },
        "id": "BV4yDL0juHzJ",
        "outputId": "b7c8f956-961d-423d-e8fa-ba6ffd4dcf7e"
      },
      "execution_count": null,
      "outputs": [
        {
          "output_type": "stream",
          "name": "stdout",
          "text": [
            "Cantidad de vinos reales que son blancos: 1461\n",
            "Cantidad de vinos estimados que son blancos: 1464\n"
          ]
        }
      ]
    },
    {
      "cell_type": "code",
      "source": [
        "print(\"Cantidad de vinos reales que son rojos:\", len(y_test)-y_test.sum())\n",
        "print(\"Cantidad de vinos estimados que son rojos:\",len(y_pred_3)- y_pred_3.sum())"
      ],
      "metadata": {
        "colab": {
          "base_uri": "https://localhost:8080/"
        },
        "id": "oFn3pu1buHPD",
        "outputId": "3ee21a2c-118f-420e-f62f-14b301b6cdfc"
      },
      "execution_count": null,
      "outputs": [
        {
          "output_type": "stream",
          "name": "stdout",
          "text": [
            "Cantidad de vinos reales que son rojos: 489\n",
            "Cantidad de vinos estimados que son rojos: 486\n"
          ]
        }
      ]
    },
    {
      "cell_type": "code",
      "source": [
        "#Evalúe con F1, AUC-ROC y log-loss"
      ],
      "metadata": {
        "id": "gb_DTInaCaR7"
      },
      "execution_count": null,
      "outputs": []
    },
    {
      "cell_type": "code",
      "source": [
        "print(\"Log loss: \", metrics.log_loss(y_test, y_pred_prob_3))\n",
        "print(\"F1: \", metrics.f1_score(y_test, y_pred_3))\n",
        "print(\"AUC-ROC: \", metrics.roc_auc_score(y_test, y_pred_3))"
      ],
      "metadata": {
        "colab": {
          "base_uri": "https://localhost:8080/"
        },
        "id": "W3g591KNE-av",
        "outputId": "865d98e0-b2a2-485c-89c7-8d52bb4f2fa1"
      },
      "execution_count": null,
      "outputs": [
        {
          "output_type": "stream",
          "name": "stdout",
          "text": [
            "Log loss:  0.48354128067064334\n",
            "F1:  0.8403418803418803\n",
            "AUC-ROC:  0.680316028604662\n"
          ]
        }
      ]
    },
    {
      "cell_type": "markdown",
      "source": [
        "¡¡Tenemos un ganador!!\n",
        "\n",
        "Kernel = RBF\n",
        "\n",
        "Métricas:\n",
        "- Log loss:  0.21850691786111306\n",
        "- F1:  0.9567839195979899\n",
        "- AUC-ROC:  0.8905468563006262\n",
        "\n",
        "Es curioso porque si verificamos con el grupo de testeo la cantidad de vinos que están bien clasificados con respecto al grupo real son mucho menos a comparación del kernel SIGMOUND (El cual lo clasifica mejor pero tiene las peores métricas.) Además de ello con un Kernel lineal las estimaciones dan muy aproximidas a las reales, sin embargo, puede ocasionar overfitting."
      ],
      "metadata": {
        "id": "wKVtBgqdHDo9"
      }
    },
    {
      "cell_type": "markdown",
      "metadata": {
        "id": "DHBmMhtYQwH6"
      },
      "source": [
        "# Ejercicio 2.4\n",
        "* Utilizando el mejor SVM del punto anterior encontrar los parámetros que da el mejor rendimiento teniendo en cuenta los siguientes hiperparámetros\n",
        "'C': [0.1, 1, 10, 100, 1000], 'gamma': [0.01, 0.001, 0.0001]\n",
        "* Evalúe cada modelo con F1, AUC-ROC y log-loss\n",
        "\n",
        "Nota: Para los valores de C y gamma, deben realizar todas las posibles combinaciones entre estas dos variables."
      ]
    },
    {
      "cell_type": "code",
      "source": [
        "c_range = [0.1, 1, 10, 100, 1000]\n",
        "gamma_range = [0.01, 0.001, 0.0001]\n",
        "import itertools\n",
        "for combinacion in itertools.product(c_range,gamma_range):\n",
        "    print(combinacion)"
      ],
      "metadata": {
        "colab": {
          "base_uri": "https://localhost:8080/"
        },
        "id": "FyUoCOkhXHix",
        "outputId": "35808bd0-4762-4c34-e2e5-39696e2a46f8"
      },
      "execution_count": null,
      "outputs": [
        {
          "output_type": "stream",
          "name": "stdout",
          "text": [
            "(0.1, 0.01)\n",
            "(0.1, 0.001)\n",
            "(0.1, 0.0001)\n",
            "(1, 0.01)\n",
            "(1, 0.001)\n",
            "(1, 0.0001)\n",
            "(10, 0.01)\n",
            "(10, 0.001)\n",
            "(10, 0.0001)\n",
            "(100, 0.01)\n",
            "(100, 0.001)\n",
            "(100, 0.0001)\n",
            "(1000, 0.01)\n",
            "(1000, 0.001)\n",
            "(1000, 0.0001)\n"
          ]
        }
      ]
    },
    {
      "cell_type": "markdown",
      "source": [
        "Log loss"
      ],
      "metadata": {
        "id": "oTC40zhecXI8"
      }
    },
    {
      "cell_type": "code",
      "source": [
        "log_loss_1 = []\n",
        "c_range = [0.1,0.1,0.1,1,1,1,10,10,10,100,100,100,1000,1000,1000]\n",
        "gamma_range = [0.01, 0.001, 0.0001, 0.01, 0.001, 0.0001, 0.01, 0.001, 0.0001, 0.01, 0.001, 0.0001, 0.01, 0.001, 0.0001]\n",
        "j=0\n",
        "for i in c_range: \n",
        "  modSVC_prueba = SVC(kernel='rbf', C = i, gamma = gamma_range[j], probability = True)\n",
        "  modSVC_prueba.fit(X_train, y_train)\n",
        "  y_pred_prob = modSVC_prueba.predict_proba(X_test)\n",
        "  log_loss_1.append(metrics.log_loss(y_test, y_pred_prob))\n",
        "  j=j+1\n",
        "log_loss_1 "
      ],
      "metadata": {
        "colab": {
          "base_uri": "https://localhost:8080/"
        },
        "id": "pLrf3cwnQZJN",
        "outputId": "dd9acfbb-7066-4a23-93d1-d43f256aa078"
      },
      "execution_count": null,
      "outputs": [
        {
          "output_type": "execute_result",
          "data": {
            "text/plain": [
              "[0.21621739689550856,\n",
              " 0.22308916911502988,\n",
              " 0.229490152029954,\n",
              " 0.16913547879247223,\n",
              " 0.1957960329834863,\n",
              " 0.20829134960043452,\n",
              " 0.08971921735456767,\n",
              " 0.14054064635981567,\n",
              " 0.16490928444752645,\n",
              " 0.06635005743489227,\n",
              " 0.05420879297820602,\n",
              " 0.10436543097545009,\n",
              " 0.06840131904166924,\n",
              " 0.037812464078783865,\n",
              " 0.051596536108423345]"
            ]
          },
          "metadata": {},
          "execution_count": 55
        }
      ]
    },
    {
      "cell_type": "markdown",
      "source": [
        "F1"
      ],
      "metadata": {
        "id": "hsWajSAecYuw"
      }
    },
    {
      "cell_type": "code",
      "source": [
        "F_1 = []\n",
        "j=0\n",
        "for i in c_range: \n",
        "  modSVC_prueba = SVC(kernel='rbf', C = i, gamma = gamma_range[j], probability = True)\n",
        "  modSVC_prueba.fit(X_train, y_train)\n",
        "  y_pred = modSVC_prueba.predict(X_test)\n",
        "  F_1.append(metrics.f1_score(y_test, y_pred))\n",
        "  j=j+1\n",
        "F_1  "
      ],
      "metadata": {
        "colab": {
          "base_uri": "https://localhost:8080/"
        },
        "id": "cElQtVEPbfRD",
        "outputId": "0d5e611f-817b-460d-d897-143ead7a199a"
      },
      "execution_count": null,
      "outputs": [
        {
          "output_type": "execute_result",
          "data": {
            "text/plain": [
              "[0.9589675711449371,\n",
              " 0.9575033200531209,\n",
              " 0.9538971807628523,\n",
              " 0.9664340312396145,\n",
              " 0.9615384615384615,\n",
              " 0.9592039800995025,\n",
              " 0.9828224991579656,\n",
              " 0.9716193656093488,\n",
              " 0.9651510122801196,\n",
              " 0.9868376645291934,\n",
              " 0.9898717083051991,\n",
              " 0.9739478957915831,\n",
              " 0.9877966101694916,\n",
              " 0.99322951929587,\n",
              " 0.9901927629354076]"
            ]
          },
          "metadata": {},
          "execution_count": 56
        }
      ]
    },
    {
      "cell_type": "markdown",
      "source": [
        "AUC - ROC"
      ],
      "metadata": {
        "id": "YG3N5euFc0wy"
      }
    },
    {
      "cell_type": "code",
      "source": [
        "AUC = []\n",
        "j=0\n",
        "for i in c_range: \n",
        "  modSVC_prueba = SVC(kernel='rbf', C = i, gamma = gamma_range[j], probability = True)\n",
        "  modSVC_prueba.fit(X_train, y_train)\n",
        "  y_pred = modSVC_prueba.predict(X_test)\n",
        "  AUC.append(metrics.roc_auc_score(y_test, y_pred))\n",
        "  j=j+1\n",
        "AUC  "
      ],
      "metadata": {
        "colab": {
          "base_uri": "https://localhost:8080/"
        },
        "id": "7eOrHJ0KcttA",
        "outputId": "a00235a5-68a3-4d1c-dcb8-38b116a59c55"
      },
      "execution_count": null,
      "outputs": [
        {
          "output_type": "execute_result",
          "data": {
            "text/plain": [
              "[0.8895538519758721,\n",
              " 0.8903637531249283,\n",
              " 0.8815953189147037,\n",
              " 0.9103131235522122,\n",
              " 0.8973074012063944,\n",
              " 0.892776255131763,\n",
              " 0.9596740900438063,\n",
              " 0.9265412490539208,\n",
              " 0.9060758354166188,\n",
              " 0.9702228733285935,\n",
              " 0.9768726634710213,\n",
              " 0.9317934221692162,\n",
              " 0.9770059746336094,\n",
              " 0.9867448567693402,\n",
              " 0.979374039586248]"
            ]
          },
          "metadata": {},
          "execution_count": 57
        }
      ]
    },
    {
      "cell_type": "markdown",
      "metadata": {
        "id": "XjgVQ_WTQwH9"
      },
      "source": [
        "# Ejercicio 2.5\n",
        "\n",
        "Compare los resultados con todos los anteriores modelos y eliga ¿Cuál algoritmo con cuáles hiperparámetros es el que tiene mejor rendimiento según la puntuación F1, AUC-ROC y log-loss?"
      ]
    },
    {
      "cell_type": "markdown",
      "source": [
        "Tabla con las métricas"
      ],
      "metadata": {
        "id": "ijSePIPddM0k"
      }
    },
    {
      "cell_type": "code",
      "metadata": {
        "id": "3d6wqybPQwH8",
        "colab": {
          "base_uri": "https://localhost:8080/",
          "height": 520
        },
        "outputId": "23194d3e-9a66-4980-b0e7-aa6e91158161"
      },
      "source": [
        "tabla=np.array([log_loss_1,\n",
        "               F_1,\n",
        "               AUC, gamma_range])\n",
        "frame=pd.DataFrame(tabla.T, index=c_range,columns=['Log loss','F_1 Score','AUC - ROC', \"Gamma\"])\n",
        "frame"
      ],
      "execution_count": null,
      "outputs": [
        {
          "output_type": "execute_result",
          "data": {
            "text/plain": [
              "        Log loss  F_1 Score  AUC - ROC   Gamma\n",
              "0.1     0.216217   0.958968   0.889554  0.0100\n",
              "0.1     0.223089   0.957503   0.890364  0.0010\n",
              "0.1     0.229490   0.953897   0.881595  0.0001\n",
              "1.0     0.169135   0.966434   0.910313  0.0100\n",
              "1.0     0.195796   0.961538   0.897307  0.0010\n",
              "1.0     0.208291   0.959204   0.892776  0.0001\n",
              "10.0    0.089719   0.982822   0.959674  0.0100\n",
              "10.0    0.140541   0.971619   0.926541  0.0010\n",
              "10.0    0.164909   0.965151   0.906076  0.0001\n",
              "100.0   0.066350   0.986838   0.970223  0.0100\n",
              "100.0   0.054209   0.989872   0.976873  0.0010\n",
              "100.0   0.104365   0.973948   0.931793  0.0001\n",
              "1000.0  0.068401   0.987797   0.977006  0.0100\n",
              "1000.0  0.037812   0.993230   0.986745  0.0010\n",
              "1000.0  0.051597   0.990193   0.979374  0.0001"
            ],
            "text/html": [
              "\n",
              "  <div id=\"df-1c67189d-b42b-4291-976d-99af28c4abde\">\n",
              "    <div class=\"colab-df-container\">\n",
              "      <div>\n",
              "<style scoped>\n",
              "    .dataframe tbody tr th:only-of-type {\n",
              "        vertical-align: middle;\n",
              "    }\n",
              "\n",
              "    .dataframe tbody tr th {\n",
              "        vertical-align: top;\n",
              "    }\n",
              "\n",
              "    .dataframe thead th {\n",
              "        text-align: right;\n",
              "    }\n",
              "</style>\n",
              "<table border=\"1\" class=\"dataframe\">\n",
              "  <thead>\n",
              "    <tr style=\"text-align: right;\">\n",
              "      <th></th>\n",
              "      <th>Log loss</th>\n",
              "      <th>F_1 Score</th>\n",
              "      <th>AUC - ROC</th>\n",
              "      <th>Gamma</th>\n",
              "    </tr>\n",
              "  </thead>\n",
              "  <tbody>\n",
              "    <tr>\n",
              "      <th>0.1</th>\n",
              "      <td>0.216217</td>\n",
              "      <td>0.958968</td>\n",
              "      <td>0.889554</td>\n",
              "      <td>0.0100</td>\n",
              "    </tr>\n",
              "    <tr>\n",
              "      <th>0.1</th>\n",
              "      <td>0.223089</td>\n",
              "      <td>0.957503</td>\n",
              "      <td>0.890364</td>\n",
              "      <td>0.0010</td>\n",
              "    </tr>\n",
              "    <tr>\n",
              "      <th>0.1</th>\n",
              "      <td>0.229490</td>\n",
              "      <td>0.953897</td>\n",
              "      <td>0.881595</td>\n",
              "      <td>0.0001</td>\n",
              "    </tr>\n",
              "    <tr>\n",
              "      <th>1.0</th>\n",
              "      <td>0.169135</td>\n",
              "      <td>0.966434</td>\n",
              "      <td>0.910313</td>\n",
              "      <td>0.0100</td>\n",
              "    </tr>\n",
              "    <tr>\n",
              "      <th>1.0</th>\n",
              "      <td>0.195796</td>\n",
              "      <td>0.961538</td>\n",
              "      <td>0.897307</td>\n",
              "      <td>0.0010</td>\n",
              "    </tr>\n",
              "    <tr>\n",
              "      <th>1.0</th>\n",
              "      <td>0.208291</td>\n",
              "      <td>0.959204</td>\n",
              "      <td>0.892776</td>\n",
              "      <td>0.0001</td>\n",
              "    </tr>\n",
              "    <tr>\n",
              "      <th>10.0</th>\n",
              "      <td>0.089719</td>\n",
              "      <td>0.982822</td>\n",
              "      <td>0.959674</td>\n",
              "      <td>0.0100</td>\n",
              "    </tr>\n",
              "    <tr>\n",
              "      <th>10.0</th>\n",
              "      <td>0.140541</td>\n",
              "      <td>0.971619</td>\n",
              "      <td>0.926541</td>\n",
              "      <td>0.0010</td>\n",
              "    </tr>\n",
              "    <tr>\n",
              "      <th>10.0</th>\n",
              "      <td>0.164909</td>\n",
              "      <td>0.965151</td>\n",
              "      <td>0.906076</td>\n",
              "      <td>0.0001</td>\n",
              "    </tr>\n",
              "    <tr>\n",
              "      <th>100.0</th>\n",
              "      <td>0.066350</td>\n",
              "      <td>0.986838</td>\n",
              "      <td>0.970223</td>\n",
              "      <td>0.0100</td>\n",
              "    </tr>\n",
              "    <tr>\n",
              "      <th>100.0</th>\n",
              "      <td>0.054209</td>\n",
              "      <td>0.989872</td>\n",
              "      <td>0.976873</td>\n",
              "      <td>0.0010</td>\n",
              "    </tr>\n",
              "    <tr>\n",
              "      <th>100.0</th>\n",
              "      <td>0.104365</td>\n",
              "      <td>0.973948</td>\n",
              "      <td>0.931793</td>\n",
              "      <td>0.0001</td>\n",
              "    </tr>\n",
              "    <tr>\n",
              "      <th>1000.0</th>\n",
              "      <td>0.068401</td>\n",
              "      <td>0.987797</td>\n",
              "      <td>0.977006</td>\n",
              "      <td>0.0100</td>\n",
              "    </tr>\n",
              "    <tr>\n",
              "      <th>1000.0</th>\n",
              "      <td>0.037812</td>\n",
              "      <td>0.993230</td>\n",
              "      <td>0.986745</td>\n",
              "      <td>0.0010</td>\n",
              "    </tr>\n",
              "    <tr>\n",
              "      <th>1000.0</th>\n",
              "      <td>0.051597</td>\n",
              "      <td>0.990193</td>\n",
              "      <td>0.979374</td>\n",
              "      <td>0.0001</td>\n",
              "    </tr>\n",
              "  </tbody>\n",
              "</table>\n",
              "</div>\n",
              "      <button class=\"colab-df-convert\" onclick=\"convertToInteractive('df-1c67189d-b42b-4291-976d-99af28c4abde')\"\n",
              "              title=\"Convert this dataframe to an interactive table.\"\n",
              "              style=\"display:none;\">\n",
              "        \n",
              "  <svg xmlns=\"http://www.w3.org/2000/svg\" height=\"24px\"viewBox=\"0 0 24 24\"\n",
              "       width=\"24px\">\n",
              "    <path d=\"M0 0h24v24H0V0z\" fill=\"none\"/>\n",
              "    <path d=\"M18.56 5.44l.94 2.06.94-2.06 2.06-.94-2.06-.94-.94-2.06-.94 2.06-2.06.94zm-11 1L8.5 8.5l.94-2.06 2.06-.94-2.06-.94L8.5 2.5l-.94 2.06-2.06.94zm10 10l.94 2.06.94-2.06 2.06-.94-2.06-.94-.94-2.06-.94 2.06-2.06.94z\"/><path d=\"M17.41 7.96l-1.37-1.37c-.4-.4-.92-.59-1.43-.59-.52 0-1.04.2-1.43.59L10.3 9.45l-7.72 7.72c-.78.78-.78 2.05 0 2.83L4 21.41c.39.39.9.59 1.41.59.51 0 1.02-.2 1.41-.59l7.78-7.78 2.81-2.81c.8-.78.8-2.07 0-2.86zM5.41 20L4 18.59l7.72-7.72 1.47 1.35L5.41 20z\"/>\n",
              "  </svg>\n",
              "      </button>\n",
              "      \n",
              "  <style>\n",
              "    .colab-df-container {\n",
              "      display:flex;\n",
              "      flex-wrap:wrap;\n",
              "      gap: 12px;\n",
              "    }\n",
              "\n",
              "    .colab-df-convert {\n",
              "      background-color: #E8F0FE;\n",
              "      border: none;\n",
              "      border-radius: 50%;\n",
              "      cursor: pointer;\n",
              "      display: none;\n",
              "      fill: #1967D2;\n",
              "      height: 32px;\n",
              "      padding: 0 0 0 0;\n",
              "      width: 32px;\n",
              "    }\n",
              "\n",
              "    .colab-df-convert:hover {\n",
              "      background-color: #E2EBFA;\n",
              "      box-shadow: 0px 1px 2px rgba(60, 64, 67, 0.3), 0px 1px 3px 1px rgba(60, 64, 67, 0.15);\n",
              "      fill: #174EA6;\n",
              "    }\n",
              "\n",
              "    [theme=dark] .colab-df-convert {\n",
              "      background-color: #3B4455;\n",
              "      fill: #D2E3FC;\n",
              "    }\n",
              "\n",
              "    [theme=dark] .colab-df-convert:hover {\n",
              "      background-color: #434B5C;\n",
              "      box-shadow: 0px 1px 3px 1px rgba(0, 0, 0, 0.15);\n",
              "      filter: drop-shadow(0px 1px 2px rgba(0, 0, 0, 0.3));\n",
              "      fill: #FFFFFF;\n",
              "    }\n",
              "  </style>\n",
              "\n",
              "      <script>\n",
              "        const buttonEl =\n",
              "          document.querySelector('#df-1c67189d-b42b-4291-976d-99af28c4abde button.colab-df-convert');\n",
              "        buttonEl.style.display =\n",
              "          google.colab.kernel.accessAllowed ? 'block' : 'none';\n",
              "\n",
              "        async function convertToInteractive(key) {\n",
              "          const element = document.querySelector('#df-1c67189d-b42b-4291-976d-99af28c4abde');\n",
              "          const dataTable =\n",
              "            await google.colab.kernel.invokeFunction('convertToInteractive',\n",
              "                                                     [key], {});\n",
              "          if (!dataTable) return;\n",
              "\n",
              "          const docLinkHtml = 'Like what you see? Visit the ' +\n",
              "            '<a target=\"_blank\" href=https://colab.research.google.com/notebooks/data_table.ipynb>data table notebook</a>'\n",
              "            + ' to learn more about interactive tables.';\n",
              "          element.innerHTML = '';\n",
              "          dataTable['output_type'] = 'display_data';\n",
              "          await google.colab.output.renderOutput(dataTable, element);\n",
              "          const docLink = document.createElement('div');\n",
              "          docLink.innerHTML = docLinkHtml;\n",
              "          element.appendChild(docLink);\n",
              "        }\n",
              "      </script>\n",
              "    </div>\n",
              "  </div>\n",
              "  "
            ]
          },
          "metadata": {},
          "execution_count": 63
        }
      ]
    },
    {
      "cell_type": "code",
      "source": [
        "frame[\"Log loss\"].min() #Buscamos la pérdida logarítmica más pequeña"
      ],
      "metadata": {
        "colab": {
          "base_uri": "https://localhost:8080/"
        },
        "id": "ukaJ6blUdzeH",
        "outputId": "ba68ec8f-224d-49c0-a319-a9e6a1005bce"
      },
      "execution_count": null,
      "outputs": [
        {
          "output_type": "execute_result",
          "data": {
            "text/plain": [
              "0.037812464078783865"
            ]
          },
          "metadata": {},
          "execution_count": 60
        }
      ]
    },
    {
      "cell_type": "code",
      "source": [
        "frame[\"F_1 Score\"].max() #Buscamos el F1 Score más grande"
      ],
      "metadata": {
        "colab": {
          "base_uri": "https://localhost:8080/"
        },
        "id": "JyBqiEsnd-Bo",
        "outputId": "259bf1c4-df8d-4eef-9d1a-5449eb07a99a"
      },
      "execution_count": null,
      "outputs": [
        {
          "output_type": "execute_result",
          "data": {
            "text/plain": [
              "0.99322951929587"
            ]
          },
          "metadata": {},
          "execution_count": 61
        }
      ]
    },
    {
      "cell_type": "code",
      "source": [
        "frame[\"AUC - ROC\"].max() #Buscamos el AUC - ROC más grande"
      ],
      "metadata": {
        "colab": {
          "base_uri": "https://localhost:8080/"
        },
        "id": "4uywZcl4eJ6y",
        "outputId": "e2c0bc1c-bef2-46a5-ddb9-7703d6b22635"
      },
      "execution_count": null,
      "outputs": [
        {
          "output_type": "execute_result",
          "data": {
            "text/plain": [
              "0.9867448567693402"
            ]
          },
          "metadata": {},
          "execution_count": 62
        }
      ]
    },
    {
      "cell_type": "markdown",
      "source": [
        "De acuerdo a las tres métricas utilizadas (Log Loss, F1 Score y AUC-ROC) el modelo kernel = \"RBF\" que tiene el mejor rendimiento es utilizando los siguientes valores en los hiperparámetros:\n",
        "- C = 1000\n",
        "- Gamma = 0.001"
      ],
      "metadata": {
        "id": "2EMQHHhUyG_-"
      }
    },
    {
      "cell_type": "code",
      "source": [
        "modSVC_prueba = SVC(kernel='rbf', C = 1000, gamma = 0.001, probability = True)\n",
        "modSVC_prueba.fit(X_train, y_train)\n",
        "y_pred_4 = modSVC_prueba.predict(X_test)"
      ],
      "metadata": {
        "id": "t2vrmikeujfw"
      },
      "execution_count": null,
      "outputs": []
    },
    {
      "cell_type": "code",
      "source": [
        "print(\"Cantidad de vinos reales que son blancos:\", y_test.sum())\n",
        "print(\"Cantidad de vinos estimados que son blancos:\", y_pred_4.sum())"
      ],
      "metadata": {
        "colab": {
          "base_uri": "https://localhost:8080/"
        },
        "id": "3hmIhAVku7Ej",
        "outputId": "2cc44186-c8b9-4c67-b82c-5fe924b6ba01"
      },
      "execution_count": null,
      "outputs": [
        {
          "output_type": "stream",
          "name": "stdout",
          "text": [
            "Cantidad de vinos reales que son blancos: 1461\n",
            "Cantidad de vinos estimados que son blancos: 1454\n"
          ]
        }
      ]
    },
    {
      "cell_type": "code",
      "source": [
        "print(\"Cantidad de vinos reales que son rojos:\", len(y_test)-y_test.sum())\n",
        "print(\"Cantidad de vinos estimados que son rojos:\",len(y_pred_4)- y_pred_4.sum())"
      ],
      "metadata": {
        "colab": {
          "base_uri": "https://localhost:8080/"
        },
        "id": "QpsLron2u9Rg",
        "outputId": "d865b9de-48d5-4881-c1d2-c0811aed9bea"
      },
      "execution_count": null,
      "outputs": [
        {
          "output_type": "stream",
          "name": "stdout",
          "text": [
            "Cantidad de vinos reales que son rojos: 489\n",
            "Cantidad de vinos estimados que son rojos: 496\n"
          ]
        }
      ]
    }
  ]
}